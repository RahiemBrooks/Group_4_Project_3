{
 "cells": [
  {
   "cell_type": "code",
   "execution_count": null,
   "id": "initial_id",
   "metadata": {
    "collapsed": true
   },
   "outputs": [],
   "source": []
  },
  {
   "cell_type": "markdown",
   "source": [
    "Clean the data"
   ],
   "metadata": {
    "collapsed": false
   },
   "id": "9d7418da8862a578"
  },
  {
   "cell_type": "code",
   "execution_count": null,
   "outputs": [],
   "source": [
    "import pandas as pd\n",
    "import us\n",
    "\n",
    "\n",
    "def identify_majority_dtype(series):\n",
    "    int_count = 0\n",
    "    float_count = 0\n",
    "    str_count = 0\n",
    "\n",
    "    for item in series:\n",
    "        if isinstance(item, int):\n",
    "            int_count += 1\n",
    "        elif isinstance(item, float):\n",
    "            float_count += 1\n",
    "        elif isinstance(item, str):\n",
    "            str_count += 1\n",
    "\n",
    "    if int_count >= float_count and int_count >= str_count:\n",
    "        return 'int'\n",
    "    elif float_count >= int_count and float_count >= str_count:\n",
    "        return 'float'\n",
    "    else:\n",
    "        return 'str'\n",
    "\n",
    "\n",
    "def clean_data():\n",
    "    df = pd.read_excel('data/data.xlsx')\n",
    "    df.dropna()\n",
    "    for col in df.columns:\n",
    "        dtype = identify_majority_dtype(df[col])\n",
    "        if dtype == 'int' or dtype == 'float':\n",
    "            df[col] = pd.to_numeric(df[col], errors='coerce').fillna(0).astype(float if dtype == 'float' else int)\n",
    "\n",
    "    df = df.drop_duplicates()\n",
    "\n",
    "    df.to_csv('cleaned_data.csv')\n",
    "    return df\n",
    "\n",
    "clean_data()\n",
    "\n",
    "\n"
   ],
   "metadata": {
    "collapsed": false
   },
   "id": "46d0bf2fe65b777a"
  }
 ],
 "metadata": {
  "kernelspec": {
   "display_name": "Python 3",
   "language": "python",
   "name": "python3"
  },
  "language_info": {
   "codemirror_mode": {
    "name": "ipython",
    "version": 2
   },
   "file_extension": ".py",
   "mimetype": "text/x-python",
   "name": "python",
   "nbconvert_exporter": "python",
   "pygments_lexer": "ipython2",
   "version": "2.7.6"
  }
 },
 "nbformat": 4,
 "nbformat_minor": 5
}
