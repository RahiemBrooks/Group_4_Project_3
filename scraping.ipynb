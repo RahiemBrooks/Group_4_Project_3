{
 "cells": [
  {
   "cell_type": "markdown",
   "id": "bb92bbb1718369be",
   "metadata": {
    "collapsed": false,
    "jupyter": {
     "outputs_hidden": false
    }
   },
   "source": [
    "Data Science Career Skills\n",
    "With Python, Pandas, Plotly, Requests, and Beautiful Soup¶"
   ]
  },
  {
   "cell_type": "code",
   "execution_count": 3,
   "id": "initial_id",
   "metadata": {
    "ExecuteTime": {
     "end_time": "2023-10-06T07:37:22.277655300Z",
     "start_time": "2023-10-06T07:37:22.268225100Z"
    },
    "collapsed": true,
    "jupyter": {
     "outputs_hidden": true
    }
   },
   "outputs": [],
   "source": [
    "# Import necessary libraries\n",
    "\n",
    "import re\n",
    "import time\n",
    "\n",
    "import pandas as pd\n",
    "import numpy as np\n",
    "from bs4 import BeautifulSoup as bs\n",
    "import requests\n",
    "import matplotlib.pyplot as plt\n",
    "from selenium import webdriver\n",
    "from selenium.webdriver.common.by import By\n",
    "from selenium.webdriver.support.wait import WebDriverWait\n",
    "from selenium.webdriver.support import expected_conditions as EC"
   ]
  },
  {
   "cell_type": "markdown",
   "id": "4be492834c13ba93",
   "metadata": {
    "collapsed": false,
    "jupyter": {
     "outputs_hidden": false
    }
   },
   "source": [
    "The Plan\n",
    "In this Jupyter notebook I'll show you how to scrape the data for job listings from Monster, SimplyHired, and Indeed."
   ]
  },
  {
   "cell_type": "markdown",
   "id": "6eff42e82999998",
   "metadata": {
    "collapsed": false,
    "jupyter": {
     "outputs_hidden": false
    }
   },
   "source": [
    "Scrape the data for 2023¶"
   ]
  },
  {
   "cell_type": "markdown",
   "id": "35351e8bc96a1262",
   "metadata": {
    "collapsed": false,
    "jupyter": {
     "outputs_hidden": false
    }
   },
   "source": [
    "Add keywords to the search query"
   ]
  },
  {
   "cell_type": "code",
   "execution_count": 4,
   "id": "2605adce2fbda926",
   "metadata": {
    "ExecuteTime": {
     "end_time": "2023-10-06T07:37:24.880610400Z",
     "start_time": "2023-10-06T07:37:24.872630800Z"
    },
    "collapsed": false,
    "jupyter": {
     "outputs_hidden": false
    }
   },
   "outputs": [],
   "source": [
    "search_terms = [\n",
    "    \"\",\n",
    "    \"Python\",\n",
    "    \"SQL\",\n",
    "    \"R\",\n",
    "    \"Spark\",\n",
    "    \"Hadoop\",\n",
    "    \"Java\",\n",
    "    \"Tableau\",\n",
    "    \"AWS\",\n",
    "    \"SAS\",\n",
    "    \"Hive\",\n",
    "    \"Scala\",\n",
    "    \"Excel\",\n",
    "    \"TensorFlow\",\n",
    "    \"C++\",\n",
    "    \"Azure\",\n",
    "    \"NoSQL\",\n",
    "    \"Linux\",\n",
    "    \"C\",\n",
    "    \"Matlab\",\n",
    "    \"Scikit-learn\",\n",
    "    \"Pandas\",\n",
    "    \"Git\",\n",
    "    \"Keras\",\n",
    "    \"Javascript\",\n",
    "    \"Pig\",\n",
    "    \"Hbase\",\n",
    "    \"Google Cloud\",\n",
    "    \"Docker\",\n",
    "    \"NumPy\",\n",
    "    \"PyTorch\",\n",
    "    \"C#\",\n",
    "    \"SPSS\",\n",
    "    \"MySQL\",\n",
    "    \"Perl\",\n",
    "    \"Cassandra\",\n",
    "    \"MongoDB\",\n",
    "    \"GCP\",\n",
    "    \"Kubernetes\",\n",
    "    \"D3\",\n",
    "    \"Databricks\",\n",
    "    \"postgresql\",\n",
    "    \"Caffe\",\n",
    "    \"Airflow\",\n",
    "    \"Alteryx\",\n",
    "    \"BigQuery\",\n",
    "    \"Fastai\",\n",
    "]"
   ]
  },
  {
   "cell_type": "markdown",
   "id": "5b2a70cf017b39f2",
   "metadata": {
    "collapsed": false,
    "jupyter": {
     "outputs_hidden": false
    }
   },
   "source": [
    "Indeed\n",
    "Define a function to scrape the data for job listings from Indeed."
   ]
  },
  {
   "cell_type": "code",
   "execution_count": 5,
   "id": "965589d5c42b7bf1",
   "metadata": {
    "ExecuteTime": {
     "end_time": "2023-10-06T07:37:32.466443800Z",
     "start_time": "2023-10-06T07:37:32.460012Z"
    },
    "collapsed": false,
    "jupyter": {
     "outputs_hidden": false
    }
   },
   "outputs": [],
   "source": [
    "def get_indeed_jobs():\n",
    "    # read search terms from csv into a list\n",
    "    df = pd.DataFrame({\n",
    "        'Name': search_terms,\n",
    "        'Indeed': [0 for i in range(len(search_terms))],\n",
    "        # 'Monster': [0 for i in range(len(search_terms))],\n",
    "        # 'Simply': [0 for i in range(len(search_terms))],\n",
    "\n",
    "    })\n",
    "\n",
    "    indeed_list = []\n",
    "\n",
    "    driver = webdriver.Chrome()\n",
    "\n",
    "    for term in search_terms:\n",
    "        try:\n",
    "            url = f'https://www.indeed.com/jobs?q=%22data+scientist%22+%22{term}%22&l=United+States'\n",
    "            driver.get(url)\n",
    "            jobs_element = driver.find_element(By.XPATH, '//*[@id=\"jobsearch-JapanPage\"]/div/div/div[5]/div[1]/div[4]/div/div/div[2]/span[1]')\n",
    "            jobs = jobs_element.text\n",
    "            job_numbers = jobs.split(' ')[0].replace(',', '')\n",
    "            df.loc[df['Name'] == term, 'Indeed'] = job_numbers\n",
    "            print(df)\n",
    "            df.loc[df['Name'] == '', 'Name'] = \"Data Scientist\"\n",
    "\n",
    "        except:\n",
    "            print(f'error: {term}')\n",
    "    driver.quit()\n",
    "    return df"
   ]
  },
  {
   "cell_type": "markdown",
   "id": "c6b1fe41b83431b3",
   "metadata": {
    "collapsed": false,
    "jupyter": {
     "outputs_hidden": false
    }
   },
   "source": [
    "Simply Hired\n",
    "Define a function to scrape the data for job listings from Simply Hired.\n"
   ]
  },
  {
   "cell_type": "code",
   "execution_count": 6,
   "id": "3f38a8bccbb770c5",
   "metadata": {
    "ExecuteTime": {
     "end_time": "2023-10-06T07:37:35.625296200Z",
     "start_time": "2023-10-06T07:37:35.619224100Z"
    },
    "collapsed": false,
    "jupyter": {
     "outputs_hidden": false
    }
   },
   "outputs": [],
   "source": [
    "def get_simply_hired():\n",
    "    df = pd.DataFrame({\n",
    "        'Name': search_terms,\n",
    "        # 'Indeed': [0 for i in range(len(search_terms))],\n",
    "        # 'Monster': [0 for i in range(len(search_terms))],\n",
    "        'Simply': [0 for i in range(len(search_terms))],\n",
    "\n",
    "    })\n",
    "    simply_list = []\n",
    "    driver = webdriver.Chrome()\n",
    "\n",
    "    for term in search_terms:\n",
    "        url = f'https://www.simplyhired.com/search?q=%22data+scientist%22+%22{term}%22&l=United+States'\n",
    "\n",
    "        try:\n",
    "            driver.get(url)\n",
    "            count = driver.find_element(By.XPATH, '//*[@id=\"__next\"]/div/main/div/div[1]/div[4]/p').text\n",
    "            df.loc[df['Name'] == term, 'Simply'] = count\n",
    "            print(df)\n",
    "            df.loc[df['Name'] == '', 'Name'] = \"Data Scientist\"\n",
    "\n",
    "        except Exception as e:\n",
    "            print(f'error: {e}')\n",
    "    return df"
   ]
  },
  {
   "cell_type": "markdown",
   "id": "98954d128939372b",
   "metadata": {
    "collapsed": false,
    "jupyter": {
     "outputs_hidden": false
    }
   },
   "source": [
    "Run each function"
   ]
  },
  {
   "cell_type": "code",
   "execution_count": 7,
   "id": "e5fc5f48436f4c3e",
   "metadata": {
    "ExecuteTime": {
     "end_time": "2023-10-06T07:41:59.456615300Z",
     "start_time": "2023-10-06T07:37:39.679392400Z"
    },
    "collapsed": false,
    "jupyter": {
     "outputs_hidden": false
    }
   },
   "outputs": [
    {
     "name": "stderr",
     "output_type": "stream",
     "text": [
      "C:\\Users\\Admin\\AppData\\Local\\Temp\\ipykernel_7968\\2328145985.py:22: FutureWarning: Setting an item of incompatible dtype is deprecated and will raise in a future error of pandas. Value '4512' has dtype incompatible with int64, please explicitly cast to a compatible dtype first.\n",
      "  df.loc[df['Name'] == term, 'Indeed'] = job_numbers\n"
     ]
    },
    {
     "name": "stdout",
     "output_type": "stream",
     "text": [
      "            Name Indeed\n",
      "0                  4512\n",
      "1         Python      0\n",
      "2            SQL      0\n",
      "3              R      0\n",
      "4          Spark      0\n",
      "5         Hadoop      0\n",
      "6           Java      0\n",
      "7        Tableau      0\n",
      "8            AWS      0\n",
      "9            SAS      0\n",
      "10          Hive      0\n",
      "11         Scala      0\n",
      "12         Excel      0\n",
      "13    TensorFlow      0\n",
      "14           C++      0\n",
      "15         Azure      0\n",
      "16         NoSQL      0\n",
      "17         Linux      0\n",
      "18             C      0\n",
      "19        Matlab      0\n",
      "20  Scikit-learn      0\n",
      "21        Pandas      0\n",
      "22           Git      0\n",
      "23         Keras      0\n",
      "24    Javascript      0\n",
      "25           Pig      0\n",
      "26         Hbase      0\n",
      "27  Google Cloud      0\n",
      "28        Docker      0\n",
      "29         NumPy      0\n",
      "30       PyTorch      0\n",
      "31            C#      0\n",
      "32          SPSS      0\n",
      "33         MySQL      0\n",
      "34          Perl      0\n",
      "35     Cassandra      0\n",
      "36       MongoDB      0\n",
      "37           GCP      0\n",
      "38    Kubernetes      0\n",
      "39            D3      0\n",
      "40    Databricks      0\n",
      "41    postgresql      0\n",
      "42         Caffe      0\n",
      "43       Airflow      0\n",
      "44       Alteryx      0\n",
      "45      BigQuery      0\n",
      "46        Fastai      0\n",
      "              Name Indeed\n",
      "0   Data Scientist   4512\n",
      "1           Python   3575\n",
      "2              SQL      0\n",
      "3                R      0\n",
      "4            Spark      0\n",
      "5           Hadoop      0\n",
      "6             Java      0\n",
      "7          Tableau      0\n",
      "8              AWS      0\n",
      "9              SAS      0\n",
      "10            Hive      0\n",
      "11           Scala      0\n",
      "12           Excel      0\n",
      "13      TensorFlow      0\n",
      "14             C++      0\n",
      "15           Azure      0\n",
      "16           NoSQL      0\n",
      "17           Linux      0\n",
      "18               C      0\n",
      "19          Matlab      0\n",
      "20    Scikit-learn      0\n",
      "21          Pandas      0\n",
      "22             Git      0\n",
      "23           Keras      0\n",
      "24      Javascript      0\n",
      "25             Pig      0\n",
      "26           Hbase      0\n",
      "27    Google Cloud      0\n",
      "28          Docker      0\n",
      "29           NumPy      0\n",
      "30         PyTorch      0\n",
      "31              C#      0\n",
      "32            SPSS      0\n",
      "33           MySQL      0\n",
      "34            Perl      0\n",
      "35       Cassandra      0\n",
      "36         MongoDB      0\n",
      "37             GCP      0\n",
      "38      Kubernetes      0\n",
      "39              D3      0\n",
      "40      Databricks      0\n",
      "41      postgresql      0\n",
      "42           Caffe      0\n",
      "43         Airflow      0\n",
      "44         Alteryx      0\n",
      "45        BigQuery      0\n",
      "46          Fastai      0\n",
      "              Name Indeed\n",
      "0   Data Scientist   4512\n",
      "1           Python   3575\n",
      "2              SQL   2218\n",
      "3                R      0\n",
      "4            Spark      0\n",
      "5           Hadoop      0\n",
      "6             Java      0\n",
      "7          Tableau      0\n",
      "8              AWS      0\n",
      "9              SAS      0\n",
      "10            Hive      0\n",
      "11           Scala      0\n",
      "12           Excel      0\n",
      "13      TensorFlow      0\n",
      "14             C++      0\n",
      "15           Azure      0\n",
      "16           NoSQL      0\n",
      "17           Linux      0\n",
      "18               C      0\n",
      "19          Matlab      0\n",
      "20    Scikit-learn      0\n",
      "21          Pandas      0\n",
      "22             Git      0\n",
      "23           Keras      0\n",
      "24      Javascript      0\n",
      "25             Pig      0\n",
      "26           Hbase      0\n",
      "27    Google Cloud      0\n",
      "28          Docker      0\n",
      "29           NumPy      0\n",
      "30         PyTorch      0\n",
      "31              C#      0\n",
      "32            SPSS      0\n",
      "33           MySQL      0\n",
      "34            Perl      0\n",
      "35       Cassandra      0\n",
      "36         MongoDB      0\n",
      "37             GCP      0\n",
      "38      Kubernetes      0\n",
      "39              D3      0\n",
      "40      Databricks      0\n",
      "41      postgresql      0\n",
      "42           Caffe      0\n",
      "43         Airflow      0\n",
      "44         Alteryx      0\n",
      "45        BigQuery      0\n",
      "46          Fastai      0\n",
      "              Name Indeed\n",
      "0   Data Scientist   4512\n",
      "1           Python   3575\n",
      "2              SQL   2218\n",
      "3                R   1747\n",
      "4            Spark      0\n",
      "5           Hadoop      0\n",
      "6             Java      0\n",
      "7          Tableau      0\n",
      "8              AWS      0\n",
      "9              SAS      0\n",
      "10            Hive      0\n",
      "11           Scala      0\n",
      "12           Excel      0\n",
      "13      TensorFlow      0\n",
      "14             C++      0\n",
      "15           Azure      0\n",
      "16           NoSQL      0\n",
      "17           Linux      0\n",
      "18               C      0\n",
      "19          Matlab      0\n",
      "20    Scikit-learn      0\n",
      "21          Pandas      0\n",
      "22             Git      0\n",
      "23           Keras      0\n",
      "24      Javascript      0\n",
      "25             Pig      0\n",
      "26           Hbase      0\n",
      "27    Google Cloud      0\n",
      "28          Docker      0\n",
      "29           NumPy      0\n",
      "30         PyTorch      0\n",
      "31              C#      0\n",
      "32            SPSS      0\n",
      "33           MySQL      0\n",
      "34            Perl      0\n",
      "35       Cassandra      0\n",
      "36         MongoDB      0\n",
      "37             GCP      0\n",
      "38      Kubernetes      0\n",
      "39              D3      0\n",
      "40      Databricks      0\n",
      "41      postgresql      0\n",
      "42           Caffe      0\n",
      "43         Airflow      0\n",
      "44         Alteryx      0\n",
      "45        BigQuery      0\n",
      "46          Fastai      0\n",
      "              Name Indeed\n",
      "0   Data Scientist   4512\n",
      "1           Python   3575\n",
      "2              SQL   2218\n",
      "3                R   1747\n",
      "4            Spark    877\n",
      "5           Hadoop      0\n",
      "6             Java      0\n",
      "7          Tableau      0\n",
      "8              AWS      0\n",
      "9              SAS      0\n",
      "10            Hive      0\n",
      "11           Scala      0\n",
      "12           Excel      0\n",
      "13      TensorFlow      0\n",
      "14             C++      0\n",
      "15           Azure      0\n",
      "16           NoSQL      0\n",
      "17           Linux      0\n",
      "18               C      0\n",
      "19          Matlab      0\n",
      "20    Scikit-learn      0\n",
      "21          Pandas      0\n",
      "22             Git      0\n",
      "23           Keras      0\n",
      "24      Javascript      0\n",
      "25             Pig      0\n",
      "26           Hbase      0\n",
      "27    Google Cloud      0\n",
      "28          Docker      0\n",
      "29           NumPy      0\n",
      "30         PyTorch      0\n",
      "31              C#      0\n",
      "32            SPSS      0\n",
      "33           MySQL      0\n",
      "34            Perl      0\n",
      "35       Cassandra      0\n",
      "36         MongoDB      0\n",
      "37             GCP      0\n",
      "38      Kubernetes      0\n",
      "39              D3      0\n",
      "40      Databricks      0\n",
      "41      postgresql      0\n",
      "42           Caffe      0\n",
      "43         Airflow      0\n",
      "44         Alteryx      0\n",
      "45        BigQuery      0\n",
      "46          Fastai      0\n",
      "              Name Indeed\n",
      "0   Data Scientist   4512\n",
      "1           Python   3575\n",
      "2              SQL   2218\n",
      "3                R   1747\n",
      "4            Spark    877\n",
      "5           Hadoop    493\n",
      "6             Java      0\n",
      "7          Tableau      0\n",
      "8              AWS      0\n",
      "9              SAS      0\n",
      "10            Hive      0\n",
      "11           Scala      0\n",
      "12           Excel      0\n",
      "13      TensorFlow      0\n",
      "14             C++      0\n",
      "15           Azure      0\n",
      "16           NoSQL      0\n",
      "17           Linux      0\n",
      "18               C      0\n",
      "19          Matlab      0\n",
      "20    Scikit-learn      0\n",
      "21          Pandas      0\n",
      "22             Git      0\n",
      "23           Keras      0\n",
      "24      Javascript      0\n",
      "25             Pig      0\n",
      "26           Hbase      0\n",
      "27    Google Cloud      0\n",
      "28          Docker      0\n",
      "29           NumPy      0\n",
      "30         PyTorch      0\n",
      "31              C#      0\n",
      "32            SPSS      0\n",
      "33           MySQL      0\n",
      "34            Perl      0\n",
      "35       Cassandra      0\n",
      "36         MongoDB      0\n",
      "37             GCP      0\n",
      "38      Kubernetes      0\n",
      "39              D3      0\n",
      "40      Databricks      0\n",
      "41      postgresql      0\n",
      "42           Caffe      0\n",
      "43         Airflow      0\n",
      "44         Alteryx      0\n",
      "45        BigQuery      0\n",
      "46          Fastai      0\n",
      "              Name Indeed\n",
      "0   Data Scientist   4512\n",
      "1           Python   3575\n",
      "2              SQL   2218\n",
      "3                R   1747\n",
      "4            Spark    877\n",
      "5           Hadoop    493\n",
      "6             Java    608\n",
      "7          Tableau      0\n",
      "8              AWS      0\n",
      "9              SAS      0\n",
      "10            Hive      0\n",
      "11           Scala      0\n",
      "12           Excel      0\n",
      "13      TensorFlow      0\n",
      "14             C++      0\n",
      "15           Azure      0\n",
      "16           NoSQL      0\n",
      "17           Linux      0\n",
      "18               C      0\n",
      "19          Matlab      0\n",
      "20    Scikit-learn      0\n",
      "21          Pandas      0\n",
      "22             Git      0\n",
      "23           Keras      0\n",
      "24      Javascript      0\n",
      "25             Pig      0\n",
      "26           Hbase      0\n",
      "27    Google Cloud      0\n",
      "28          Docker      0\n",
      "29           NumPy      0\n",
      "30         PyTorch      0\n",
      "31              C#      0\n",
      "32            SPSS      0\n",
      "33           MySQL      0\n",
      "34            Perl      0\n",
      "35       Cassandra      0\n",
      "36         MongoDB      0\n",
      "37             GCP      0\n",
      "38      Kubernetes      0\n",
      "39              D3      0\n",
      "40      Databricks      0\n",
      "41      postgresql      0\n",
      "42           Caffe      0\n",
      "43         Airflow      0\n",
      "44         Alteryx      0\n",
      "45        BigQuery      0\n",
      "46          Fastai      0\n",
      "              Name Indeed\n",
      "0   Data Scientist   4512\n",
      "1           Python   3575\n",
      "2              SQL   2218\n",
      "3                R   1747\n",
      "4            Spark    877\n",
      "5           Hadoop    493\n",
      "6             Java    608\n",
      "7          Tableau    821\n",
      "8              AWS      0\n",
      "9              SAS      0\n",
      "10            Hive      0\n",
      "11           Scala      0\n",
      "12           Excel      0\n",
      "13      TensorFlow      0\n",
      "14             C++      0\n",
      "15           Azure      0\n",
      "16           NoSQL      0\n",
      "17           Linux      0\n",
      "18               C      0\n",
      "19          Matlab      0\n",
      "20    Scikit-learn      0\n",
      "21          Pandas      0\n",
      "22             Git      0\n",
      "23           Keras      0\n",
      "24      Javascript      0\n",
      "25             Pig      0\n",
      "26           Hbase      0\n",
      "27    Google Cloud      0\n",
      "28          Docker      0\n",
      "29           NumPy      0\n",
      "30         PyTorch      0\n",
      "31              C#      0\n",
      "32            SPSS      0\n",
      "33           MySQL      0\n",
      "34            Perl      0\n",
      "35       Cassandra      0\n",
      "36         MongoDB      0\n",
      "37             GCP      0\n",
      "38      Kubernetes      0\n",
      "39              D3      0\n",
      "40      Databricks      0\n",
      "41      postgresql      0\n",
      "42           Caffe      0\n",
      "43         Airflow      0\n",
      "44         Alteryx      0\n",
      "45        BigQuery      0\n",
      "46          Fastai      0\n",
      "              Name Indeed\n",
      "0   Data Scientist   4512\n",
      "1           Python   3575\n",
      "2              SQL   2218\n",
      "3                R   1747\n",
      "4            Spark    877\n",
      "5           Hadoop    493\n",
      "6             Java    608\n",
      "7          Tableau    821\n",
      "8              AWS    938\n",
      "9              SAS      0\n",
      "10            Hive      0\n",
      "11           Scala      0\n",
      "12           Excel      0\n",
      "13      TensorFlow      0\n",
      "14             C++      0\n",
      "15           Azure      0\n",
      "16           NoSQL      0\n",
      "17           Linux      0\n",
      "18               C      0\n",
      "19          Matlab      0\n",
      "20    Scikit-learn      0\n",
      "21          Pandas      0\n",
      "22             Git      0\n",
      "23           Keras      0\n",
      "24      Javascript      0\n",
      "25             Pig      0\n",
      "26           Hbase      0\n",
      "27    Google Cloud      0\n",
      "28          Docker      0\n",
      "29           NumPy      0\n",
      "30         PyTorch      0\n",
      "31              C#      0\n",
      "32            SPSS      0\n",
      "33           MySQL      0\n",
      "34            Perl      0\n",
      "35       Cassandra      0\n",
      "36         MongoDB      0\n",
      "37             GCP      0\n",
      "38      Kubernetes      0\n",
      "39              D3      0\n",
      "40      Databricks      0\n",
      "41      postgresql      0\n",
      "42           Caffe      0\n",
      "43         Airflow      0\n",
      "44         Alteryx      0\n",
      "45        BigQuery      0\n",
      "46          Fastai      0\n",
      "              Name Indeed\n",
      "0   Data Scientist   4512\n",
      "1           Python   3575\n",
      "2              SQL   2218\n",
      "3                R   1747\n",
      "4            Spark    877\n",
      "5           Hadoop    493\n",
      "6             Java    608\n",
      "7          Tableau    821\n",
      "8              AWS    938\n",
      "9              SAS    372\n",
      "10            Hive      0\n",
      "11           Scala      0\n",
      "12           Excel      0\n",
      "13      TensorFlow      0\n",
      "14             C++      0\n",
      "15           Azure      0\n",
      "16           NoSQL      0\n",
      "17           Linux      0\n",
      "18               C      0\n",
      "19          Matlab      0\n",
      "20    Scikit-learn      0\n",
      "21          Pandas      0\n",
      "22             Git      0\n",
      "23           Keras      0\n",
      "24      Javascript      0\n",
      "25             Pig      0\n",
      "26           Hbase      0\n",
      "27    Google Cloud      0\n",
      "28          Docker      0\n",
      "29           NumPy      0\n",
      "30         PyTorch      0\n",
      "31              C#      0\n",
      "32            SPSS      0\n",
      "33           MySQL      0\n",
      "34            Perl      0\n",
      "35       Cassandra      0\n",
      "36         MongoDB      0\n",
      "37             GCP      0\n",
      "38      Kubernetes      0\n",
      "39              D3      0\n",
      "40      Databricks      0\n",
      "41      postgresql      0\n",
      "42           Caffe      0\n",
      "43         Airflow      0\n",
      "44         Alteryx      0\n",
      "45        BigQuery      0\n",
      "46          Fastai      0\n",
      "              Name Indeed\n",
      "0   Data Scientist   4512\n",
      "1           Python   3575\n",
      "2              SQL   2218\n",
      "3                R   1747\n",
      "4            Spark    877\n",
      "5           Hadoop    493\n",
      "6             Java    608\n",
      "7          Tableau    821\n",
      "8              AWS    938\n",
      "9              SAS    372\n",
      "10            Hive    251\n",
      "11           Scala      0\n",
      "12           Excel      0\n",
      "13      TensorFlow      0\n",
      "14             C++      0\n",
      "15           Azure      0\n",
      "16           NoSQL      0\n",
      "17           Linux      0\n",
      "18               C      0\n",
      "19          Matlab      0\n",
      "20    Scikit-learn      0\n",
      "21          Pandas      0\n",
      "22             Git      0\n",
      "23           Keras      0\n",
      "24      Javascript      0\n",
      "25             Pig      0\n",
      "26           Hbase      0\n",
      "27    Google Cloud      0\n",
      "28          Docker      0\n",
      "29           NumPy      0\n",
      "30         PyTorch      0\n",
      "31              C#      0\n",
      "32            SPSS      0\n",
      "33           MySQL      0\n",
      "34            Perl      0\n",
      "35       Cassandra      0\n",
      "36         MongoDB      0\n",
      "37             GCP      0\n",
      "38      Kubernetes      0\n",
      "39              D3      0\n",
      "40      Databricks      0\n",
      "41      postgresql      0\n",
      "42           Caffe      0\n",
      "43         Airflow      0\n",
      "44         Alteryx      0\n",
      "45        BigQuery      0\n",
      "46          Fastai      0\n",
      "              Name Indeed\n",
      "0   Data Scientist   4512\n",
      "1           Python   3575\n",
      "2              SQL   2218\n",
      "3                R   1747\n",
      "4            Spark    877\n",
      "5           Hadoop    493\n",
      "6             Java    608\n",
      "7          Tableau    821\n",
      "8              AWS    938\n",
      "9              SAS    372\n",
      "10            Hive    251\n",
      "11           Scala    324\n",
      "12           Excel      0\n",
      "13      TensorFlow      0\n",
      "14             C++      0\n",
      "15           Azure      0\n",
      "16           NoSQL      0\n",
      "17           Linux      0\n",
      "18               C      0\n",
      "19          Matlab      0\n",
      "20    Scikit-learn      0\n",
      "21          Pandas      0\n",
      "22             Git      0\n",
      "23           Keras      0\n",
      "24      Javascript      0\n",
      "25             Pig      0\n",
      "26           Hbase      0\n",
      "27    Google Cloud      0\n",
      "28          Docker      0\n",
      "29           NumPy      0\n",
      "30         PyTorch      0\n",
      "31              C#      0\n",
      "32            SPSS      0\n",
      "33           MySQL      0\n",
      "34            Perl      0\n",
      "35       Cassandra      0\n",
      "36         MongoDB      0\n",
      "37             GCP      0\n",
      "38      Kubernetes      0\n",
      "39              D3      0\n",
      "40      Databricks      0\n",
      "41      postgresql      0\n",
      "42           Caffe      0\n",
      "43         Airflow      0\n",
      "44         Alteryx      0\n",
      "45        BigQuery      0\n",
      "46          Fastai      0\n",
      "              Name Indeed\n",
      "0   Data Scientist   4512\n",
      "1           Python   3575\n",
      "2              SQL   2218\n",
      "3                R   1747\n",
      "4            Spark    877\n",
      "5           Hadoop    493\n",
      "6             Java    608\n",
      "7          Tableau    821\n",
      "8              AWS    938\n",
      "9              SAS    372\n",
      "10            Hive    251\n",
      "11           Scala    324\n",
      "12           Excel    474\n",
      "13      TensorFlow      0\n",
      "14             C++      0\n",
      "15           Azure      0\n",
      "16           NoSQL      0\n",
      "17           Linux      0\n",
      "18               C      0\n",
      "19          Matlab      0\n",
      "20    Scikit-learn      0\n",
      "21          Pandas      0\n",
      "22             Git      0\n",
      "23           Keras      0\n",
      "24      Javascript      0\n",
      "25             Pig      0\n",
      "26           Hbase      0\n",
      "27    Google Cloud      0\n",
      "28          Docker      0\n",
      "29           NumPy      0\n",
      "30         PyTorch      0\n",
      "31              C#      0\n",
      "32            SPSS      0\n",
      "33           MySQL      0\n",
      "34            Perl      0\n",
      "35       Cassandra      0\n",
      "36         MongoDB      0\n",
      "37             GCP      0\n",
      "38      Kubernetes      0\n",
      "39              D3      0\n",
      "40      Databricks      0\n",
      "41      postgresql      0\n",
      "42           Caffe      0\n",
      "43         Airflow      0\n",
      "44         Alteryx      0\n",
      "45        BigQuery      0\n",
      "46          Fastai      0\n",
      "              Name Indeed\n",
      "0   Data Scientist   4512\n",
      "1           Python   3575\n",
      "2              SQL   2218\n",
      "3                R   1747\n",
      "4            Spark    877\n",
      "5           Hadoop    493\n",
      "6             Java    608\n",
      "7          Tableau    821\n",
      "8              AWS    938\n",
      "9              SAS    372\n",
      "10            Hive    251\n",
      "11           Scala    324\n",
      "12           Excel    474\n",
      "13      TensorFlow   1218\n",
      "14             C++      0\n",
      "15           Azure      0\n",
      "16           NoSQL      0\n",
      "17           Linux      0\n",
      "18               C      0\n",
      "19          Matlab      0\n",
      "20    Scikit-learn      0\n",
      "21          Pandas      0\n",
      "22             Git      0\n",
      "23           Keras      0\n",
      "24      Javascript      0\n",
      "25             Pig      0\n",
      "26           Hbase      0\n",
      "27    Google Cloud      0\n",
      "28          Docker      0\n",
      "29           NumPy      0\n",
      "30         PyTorch      0\n",
      "31              C#      0\n",
      "32            SPSS      0\n",
      "33           MySQL      0\n",
      "34            Perl      0\n",
      "35       Cassandra      0\n",
      "36         MongoDB      0\n",
      "37             GCP      0\n",
      "38      Kubernetes      0\n",
      "39              D3      0\n",
      "40      Databricks      0\n",
      "41      postgresql      0\n",
      "42           Caffe      0\n",
      "43         Airflow      0\n",
      "44         Alteryx      0\n",
      "45        BigQuery      0\n",
      "46          Fastai      0\n",
      "              Name Indeed\n",
      "0   Data Scientist   4512\n",
      "1           Python   3575\n",
      "2              SQL   2218\n",
      "3                R   1747\n",
      "4            Spark    877\n",
      "5           Hadoop    493\n",
      "6             Java    608\n",
      "7          Tableau    821\n",
      "8              AWS    938\n",
      "9              SAS    372\n",
      "10            Hive    251\n",
      "11           Scala    324\n",
      "12           Excel    474\n",
      "13      TensorFlow   1218\n",
      "14             C++    278\n",
      "15           Azure      0\n",
      "16           NoSQL      0\n",
      "17           Linux      0\n",
      "18               C      0\n",
      "19          Matlab      0\n",
      "20    Scikit-learn      0\n",
      "21          Pandas      0\n",
      "22             Git      0\n",
      "23           Keras      0\n",
      "24      Javascript      0\n",
      "25             Pig      0\n",
      "26           Hbase      0\n",
      "27    Google Cloud      0\n",
      "28          Docker      0\n",
      "29           NumPy      0\n",
      "30         PyTorch      0\n",
      "31              C#      0\n",
      "32            SPSS      0\n",
      "33           MySQL      0\n",
      "34            Perl      0\n",
      "35       Cassandra      0\n",
      "36         MongoDB      0\n",
      "37             GCP      0\n",
      "38      Kubernetes      0\n",
      "39              D3      0\n",
      "40      Databricks      0\n",
      "41      postgresql      0\n",
      "42           Caffe      0\n",
      "43         Airflow      0\n",
      "44         Alteryx      0\n",
      "45        BigQuery      0\n",
      "46          Fastai      0\n",
      "              Name Indeed\n",
      "0   Data Scientist   4512\n",
      "1           Python   3575\n",
      "2              SQL   2218\n",
      "3                R   1747\n",
      "4            Spark    877\n",
      "5           Hadoop    493\n",
      "6             Java    608\n",
      "7          Tableau    821\n",
      "8              AWS    938\n",
      "9              SAS    372\n",
      "10            Hive    251\n",
      "11           Scala    324\n",
      "12           Excel    474\n",
      "13      TensorFlow   1218\n",
      "14             C++    278\n",
      "15           Azure    668\n",
      "16           NoSQL      0\n",
      "17           Linux      0\n",
      "18               C      0\n",
      "19          Matlab      0\n",
      "20    Scikit-learn      0\n",
      "21          Pandas      0\n",
      "22             Git      0\n",
      "23           Keras      0\n",
      "24      Javascript      0\n",
      "25             Pig      0\n",
      "26           Hbase      0\n",
      "27    Google Cloud      0\n",
      "28          Docker      0\n",
      "29           NumPy      0\n",
      "30         PyTorch      0\n",
      "31              C#      0\n",
      "32            SPSS      0\n",
      "33           MySQL      0\n",
      "34            Perl      0\n",
      "35       Cassandra      0\n",
      "36         MongoDB      0\n",
      "37             GCP      0\n",
      "38      Kubernetes      0\n",
      "39              D3      0\n",
      "40      Databricks      0\n",
      "41      postgresql      0\n",
      "42           Caffe      0\n",
      "43         Airflow      0\n",
      "44         Alteryx      0\n",
      "45        BigQuery      0\n",
      "46          Fastai      0\n",
      "              Name Indeed\n",
      "0   Data Scientist   4512\n",
      "1           Python   3575\n",
      "2              SQL   2218\n",
      "3                R   1747\n",
      "4            Spark    877\n",
      "5           Hadoop    493\n",
      "6             Java    608\n",
      "7          Tableau    821\n",
      "8              AWS    938\n",
      "9              SAS    372\n",
      "10            Hive    251\n",
      "11           Scala    324\n",
      "12           Excel    474\n",
      "13      TensorFlow   1218\n",
      "14             C++    278\n",
      "15           Azure    668\n",
      "16           NoSQL    329\n",
      "17           Linux      0\n",
      "18               C      0\n",
      "19          Matlab      0\n",
      "20    Scikit-learn      0\n",
      "21          Pandas      0\n",
      "22             Git      0\n",
      "23           Keras      0\n",
      "24      Javascript      0\n",
      "25             Pig      0\n",
      "26           Hbase      0\n",
      "27    Google Cloud      0\n",
      "28          Docker      0\n",
      "29           NumPy      0\n",
      "30         PyTorch      0\n",
      "31              C#      0\n",
      "32            SPSS      0\n",
      "33           MySQL      0\n",
      "34            Perl      0\n",
      "35       Cassandra      0\n",
      "36         MongoDB      0\n",
      "37             GCP      0\n",
      "38      Kubernetes      0\n",
      "39              D3      0\n",
      "40      Databricks      0\n",
      "41      postgresql      0\n",
      "42           Caffe      0\n",
      "43         Airflow      0\n",
      "44         Alteryx      0\n",
      "45        BigQuery      0\n",
      "46          Fastai      0\n",
      "              Name Indeed\n",
      "0   Data Scientist   4512\n",
      "1           Python   3575\n",
      "2              SQL   2218\n",
      "3                R   1747\n",
      "4            Spark    877\n",
      "5           Hadoop    493\n",
      "6             Java    608\n",
      "7          Tableau    821\n",
      "8              AWS    938\n",
      "9              SAS    372\n",
      "10            Hive    251\n",
      "11           Scala    324\n",
      "12           Excel    474\n",
      "13      TensorFlow   1218\n",
      "14             C++    278\n",
      "15           Azure    668\n",
      "16           NoSQL    329\n",
      "17           Linux    215\n",
      "18               C      0\n",
      "19          Matlab      0\n",
      "20    Scikit-learn      0\n",
      "21          Pandas      0\n",
      "22             Git      0\n",
      "23           Keras      0\n",
      "24      Javascript      0\n",
      "25             Pig      0\n",
      "26           Hbase      0\n",
      "27    Google Cloud      0\n",
      "28          Docker      0\n",
      "29           NumPy      0\n",
      "30         PyTorch      0\n",
      "31              C#      0\n",
      "32            SPSS      0\n",
      "33           MySQL      0\n",
      "34            Perl      0\n",
      "35       Cassandra      0\n",
      "36         MongoDB      0\n",
      "37             GCP      0\n",
      "38      Kubernetes      0\n",
      "39              D3      0\n",
      "40      Databricks      0\n",
      "41      postgresql      0\n",
      "42           Caffe      0\n",
      "43         Airflow      0\n",
      "44         Alteryx      0\n",
      "45        BigQuery      0\n",
      "46          Fastai      0\n",
      "              Name Indeed\n",
      "0   Data Scientist   4512\n",
      "1           Python   3575\n",
      "2              SQL   2218\n",
      "3                R   1747\n",
      "4            Spark    877\n",
      "5           Hadoop    493\n",
      "6             Java    608\n",
      "7          Tableau    821\n",
      "8              AWS    938\n",
      "9              SAS    372\n",
      "10            Hive    251\n",
      "11           Scala    324\n",
      "12           Excel    474\n",
      "13      TensorFlow   1218\n",
      "14             C++    278\n",
      "15           Azure    668\n",
      "16           NoSQL    329\n",
      "17           Linux    215\n",
      "18               C    278\n",
      "19          Matlab      0\n",
      "20    Scikit-learn      0\n",
      "21          Pandas      0\n",
      "22             Git      0\n",
      "23           Keras      0\n",
      "24      Javascript      0\n",
      "25             Pig      0\n",
      "26           Hbase      0\n",
      "27    Google Cloud      0\n",
      "28          Docker      0\n",
      "29           NumPy      0\n",
      "30         PyTorch      0\n",
      "31              C#      0\n",
      "32            SPSS      0\n",
      "33           MySQL      0\n",
      "34            Perl      0\n",
      "35       Cassandra      0\n",
      "36         MongoDB      0\n",
      "37             GCP      0\n",
      "38      Kubernetes      0\n",
      "39              D3      0\n",
      "40      Databricks      0\n",
      "41      postgresql      0\n",
      "42           Caffe      0\n",
      "43         Airflow      0\n",
      "44         Alteryx      0\n",
      "45        BigQuery      0\n",
      "46          Fastai      0\n",
      "              Name Indeed\n",
      "0   Data Scientist   4512\n",
      "1           Python   3575\n",
      "2              SQL   2218\n",
      "3                R   1747\n",
      "4            Spark    877\n",
      "5           Hadoop    493\n",
      "6             Java    608\n",
      "7          Tableau    821\n",
      "8              AWS    938\n",
      "9              SAS    372\n",
      "10            Hive    251\n",
      "11           Scala    324\n",
      "12           Excel    474\n",
      "13      TensorFlow   1218\n",
      "14             C++    278\n",
      "15           Azure    668\n",
      "16           NoSQL    329\n",
      "17           Linux    215\n",
      "18               C    278\n",
      "19          Matlab    255\n",
      "20    Scikit-learn      0\n",
      "21          Pandas      0\n",
      "22             Git      0\n",
      "23           Keras      0\n",
      "24      Javascript      0\n",
      "25             Pig      0\n",
      "26           Hbase      0\n",
      "27    Google Cloud      0\n",
      "28          Docker      0\n",
      "29           NumPy      0\n",
      "30         PyTorch      0\n",
      "31              C#      0\n",
      "32            SPSS      0\n",
      "33           MySQL      0\n",
      "34            Perl      0\n",
      "35       Cassandra      0\n",
      "36         MongoDB      0\n",
      "37             GCP      0\n",
      "38      Kubernetes      0\n",
      "39              D3      0\n",
      "40      Databricks      0\n",
      "41      postgresql      0\n",
      "42           Caffe      0\n",
      "43         Airflow      0\n",
      "44         Alteryx      0\n",
      "45        BigQuery      0\n",
      "46          Fastai      0\n",
      "              Name Indeed\n",
      "0   Data Scientist   4512\n",
      "1           Python   3575\n",
      "2              SQL   2218\n",
      "3                R   1747\n",
      "4            Spark    877\n",
      "5           Hadoop    493\n",
      "6             Java    608\n",
      "7          Tableau    821\n",
      "8              AWS    938\n",
      "9              SAS    372\n",
      "10            Hive    251\n",
      "11           Scala    324\n",
      "12           Excel    474\n",
      "13      TensorFlow   1218\n",
      "14             C++    278\n",
      "15           Azure    668\n",
      "16           NoSQL    329\n",
      "17           Linux    215\n",
      "18               C    278\n",
      "19          Matlab    255\n",
      "20    Scikit-learn    601\n",
      "21          Pandas      0\n",
      "22             Git      0\n",
      "23           Keras      0\n",
      "24      Javascript      0\n",
      "25             Pig      0\n",
      "26           Hbase      0\n",
      "27    Google Cloud      0\n",
      "28          Docker      0\n",
      "29           NumPy      0\n",
      "30         PyTorch      0\n",
      "31              C#      0\n",
      "32            SPSS      0\n",
      "33           MySQL      0\n",
      "34            Perl      0\n",
      "35       Cassandra      0\n",
      "36         MongoDB      0\n",
      "37             GCP      0\n",
      "38      Kubernetes      0\n",
      "39              D3      0\n",
      "40      Databricks      0\n",
      "41      postgresql      0\n",
      "42           Caffe      0\n",
      "43         Airflow      0\n",
      "44         Alteryx      0\n",
      "45        BigQuery      0\n",
      "46          Fastai      0\n",
      "              Name Indeed\n",
      "0   Data Scientist   4512\n",
      "1           Python   3575\n",
      "2              SQL   2218\n",
      "3                R   1747\n",
      "4            Spark    877\n",
      "5           Hadoop    493\n",
      "6             Java    608\n",
      "7          Tableau    821\n",
      "8              AWS    938\n",
      "9              SAS    372\n",
      "10            Hive    251\n",
      "11           Scala    324\n",
      "12           Excel    474\n",
      "13      TensorFlow   1218\n",
      "14             C++    278\n",
      "15           Azure    668\n",
      "16           NoSQL    329\n",
      "17           Linux    215\n",
      "18               C    278\n",
      "19          Matlab    255\n",
      "20    Scikit-learn    601\n",
      "21          Pandas    521\n",
      "22             Git      0\n",
      "23           Keras      0\n",
      "24      Javascript      0\n",
      "25             Pig      0\n",
      "26           Hbase      0\n",
      "27    Google Cloud      0\n",
      "28          Docker      0\n",
      "29           NumPy      0\n",
      "30         PyTorch      0\n",
      "31              C#      0\n",
      "32            SPSS      0\n",
      "33           MySQL      0\n",
      "34            Perl      0\n",
      "35       Cassandra      0\n",
      "36         MongoDB      0\n",
      "37             GCP      0\n",
      "38      Kubernetes      0\n",
      "39              D3      0\n",
      "40      Databricks      0\n",
      "41      postgresql      0\n",
      "42           Caffe      0\n",
      "43         Airflow      0\n",
      "44         Alteryx      0\n",
      "45        BigQuery      0\n",
      "46          Fastai      0\n",
      "              Name Indeed\n",
      "0   Data Scientist   4512\n",
      "1           Python   3575\n",
      "2              SQL   2218\n",
      "3                R   1747\n",
      "4            Spark    877\n",
      "5           Hadoop    493\n",
      "6             Java    608\n",
      "7          Tableau    821\n",
      "8              AWS    938\n",
      "9              SAS    372\n",
      "10            Hive    251\n",
      "11           Scala    324\n",
      "12           Excel    474\n",
      "13      TensorFlow   1218\n",
      "14             C++    278\n",
      "15           Azure    668\n",
      "16           NoSQL    329\n",
      "17           Linux    215\n",
      "18               C    278\n",
      "19          Matlab    255\n",
      "20    Scikit-learn    601\n",
      "21          Pandas    521\n",
      "22             Git    306\n",
      "23           Keras      0\n",
      "24      Javascript      0\n",
      "25             Pig      0\n",
      "26           Hbase      0\n",
      "27    Google Cloud      0\n",
      "28          Docker      0\n",
      "29           NumPy      0\n",
      "30         PyTorch      0\n",
      "31              C#      0\n",
      "32            SPSS      0\n",
      "33           MySQL      0\n",
      "34            Perl      0\n",
      "35       Cassandra      0\n",
      "36         MongoDB      0\n",
      "37             GCP      0\n",
      "38      Kubernetes      0\n",
      "39              D3      0\n",
      "40      Databricks      0\n",
      "41      postgresql      0\n",
      "42           Caffe      0\n",
      "43         Airflow      0\n",
      "44         Alteryx      0\n",
      "45        BigQuery      0\n",
      "46          Fastai      0\n",
      "              Name Indeed\n",
      "0   Data Scientist   4512\n",
      "1           Python   3575\n",
      "2              SQL   2218\n",
      "3                R   1747\n",
      "4            Spark    877\n",
      "5           Hadoop    493\n",
      "6             Java    608\n",
      "7          Tableau    821\n",
      "8              AWS    938\n",
      "9              SAS    372\n",
      "10            Hive    251\n",
      "11           Scala    324\n",
      "12           Excel    474\n",
      "13      TensorFlow   1218\n",
      "14             C++    278\n",
      "15           Azure    668\n",
      "16           NoSQL    329\n",
      "17           Linux    215\n",
      "18               C    278\n",
      "19          Matlab    255\n",
      "20    Scikit-learn    601\n",
      "21          Pandas    521\n",
      "22             Git    306\n",
      "23           Keras    303\n",
      "24      Javascript      0\n",
      "25             Pig      0\n",
      "26           Hbase      0\n",
      "27    Google Cloud      0\n",
      "28          Docker      0\n",
      "29           NumPy      0\n",
      "30         PyTorch      0\n",
      "31              C#      0\n",
      "32            SPSS      0\n",
      "33           MySQL      0\n",
      "34            Perl      0\n",
      "35       Cassandra      0\n",
      "36         MongoDB      0\n",
      "37             GCP      0\n",
      "38      Kubernetes      0\n",
      "39              D3      0\n",
      "40      Databricks      0\n",
      "41      postgresql      0\n",
      "42           Caffe      0\n",
      "43         Airflow      0\n",
      "44         Alteryx      0\n",
      "45        BigQuery      0\n",
      "46          Fastai      0\n",
      "              Name Indeed\n",
      "0   Data Scientist   4512\n",
      "1           Python   3575\n",
      "2              SQL   2218\n",
      "3                R   1747\n",
      "4            Spark    877\n",
      "5           Hadoop    493\n",
      "6             Java    608\n",
      "7          Tableau    821\n",
      "8              AWS    938\n",
      "9              SAS    372\n",
      "10            Hive    251\n",
      "11           Scala    324\n",
      "12           Excel    474\n",
      "13      TensorFlow   1218\n",
      "14             C++    278\n",
      "15           Azure    668\n",
      "16           NoSQL    329\n",
      "17           Linux    215\n",
      "18               C    278\n",
      "19          Matlab    255\n",
      "20    Scikit-learn    601\n",
      "21          Pandas    521\n",
      "22             Git    306\n",
      "23           Keras    303\n",
      "24      Javascript    238\n",
      "25             Pig      0\n",
      "26           Hbase      0\n",
      "27    Google Cloud      0\n",
      "28          Docker      0\n",
      "29           NumPy      0\n",
      "30         PyTorch      0\n",
      "31              C#      0\n",
      "32            SPSS      0\n",
      "33           MySQL      0\n",
      "34            Perl      0\n",
      "35       Cassandra      0\n",
      "36         MongoDB      0\n",
      "37             GCP      0\n",
      "38      Kubernetes      0\n",
      "39              D3      0\n",
      "40      Databricks      0\n",
      "41      postgresql      0\n",
      "42           Caffe      0\n",
      "43         Airflow      0\n",
      "44         Alteryx      0\n",
      "45        BigQuery      0\n",
      "46          Fastai      0\n",
      "              Name Indeed\n",
      "0   Data Scientist   4512\n",
      "1           Python   3575\n",
      "2              SQL   2218\n",
      "3                R   1747\n",
      "4            Spark    877\n",
      "5           Hadoop    493\n",
      "6             Java    608\n",
      "7          Tableau    821\n",
      "8              AWS    938\n",
      "9              SAS    372\n",
      "10            Hive    251\n",
      "11           Scala    324\n",
      "12           Excel    474\n",
      "13      TensorFlow   1218\n",
      "14             C++    278\n",
      "15           Azure    668\n",
      "16           NoSQL    329\n",
      "17           Linux    215\n",
      "18               C    278\n",
      "19          Matlab    255\n",
      "20    Scikit-learn    601\n",
      "21          Pandas    521\n",
      "22             Git    306\n",
      "23           Keras    303\n",
      "24      Javascript    238\n",
      "25             Pig     79\n",
      "26           Hbase      0\n",
      "27    Google Cloud      0\n",
      "28          Docker      0\n",
      "29           NumPy      0\n",
      "30         PyTorch      0\n",
      "31              C#      0\n",
      "32            SPSS      0\n",
      "33           MySQL      0\n",
      "34            Perl      0\n",
      "35       Cassandra      0\n",
      "36         MongoDB      0\n",
      "37             GCP      0\n",
      "38      Kubernetes      0\n",
      "39              D3      0\n",
      "40      Databricks      0\n",
      "41      postgresql      0\n",
      "42           Caffe      0\n",
      "43         Airflow      0\n",
      "44         Alteryx      0\n",
      "45        BigQuery      0\n",
      "46          Fastai      0\n",
      "              Name Indeed\n",
      "0   Data Scientist   4512\n",
      "1           Python   3575\n",
      "2              SQL   2218\n",
      "3                R   1747\n",
      "4            Spark    877\n",
      "5           Hadoop    493\n",
      "6             Java    608\n",
      "7          Tableau    821\n",
      "8              AWS    938\n",
      "9              SAS    372\n",
      "10            Hive    251\n",
      "11           Scala    324\n",
      "12           Excel    474\n",
      "13      TensorFlow   1218\n",
      "14             C++    278\n",
      "15           Azure    668\n",
      "16           NoSQL    329\n",
      "17           Linux    215\n",
      "18               C    278\n",
      "19          Matlab    255\n",
      "20    Scikit-learn    601\n",
      "21          Pandas    521\n",
      "22             Git    306\n",
      "23           Keras    303\n",
      "24      Javascript    238\n",
      "25             Pig     79\n",
      "26           Hbase     31\n",
      "27    Google Cloud      0\n",
      "28          Docker      0\n",
      "29           NumPy      0\n",
      "30         PyTorch      0\n",
      "31              C#      0\n",
      "32            SPSS      0\n",
      "33           MySQL      0\n",
      "34            Perl      0\n",
      "35       Cassandra      0\n",
      "36         MongoDB      0\n",
      "37             GCP      0\n",
      "38      Kubernetes      0\n",
      "39              D3      0\n",
      "40      Databricks      0\n",
      "41      postgresql      0\n",
      "42           Caffe      0\n",
      "43         Airflow      0\n",
      "44         Alteryx      0\n",
      "45        BigQuery      0\n",
      "46          Fastai      0\n",
      "              Name Indeed\n",
      "0   Data Scientist   4512\n",
      "1           Python   3575\n",
      "2              SQL   2218\n",
      "3                R   1747\n",
      "4            Spark    877\n",
      "5           Hadoop    493\n",
      "6             Java    608\n",
      "7          Tableau    821\n",
      "8              AWS    938\n",
      "9              SAS    372\n",
      "10            Hive    251\n",
      "11           Scala    324\n",
      "12           Excel    474\n",
      "13      TensorFlow   1218\n",
      "14             C++    278\n",
      "15           Azure    668\n",
      "16           NoSQL    329\n",
      "17           Linux    215\n",
      "18               C    278\n",
      "19          Matlab    255\n",
      "20    Scikit-learn    601\n",
      "21          Pandas    521\n",
      "22             Git    306\n",
      "23           Keras    303\n",
      "24      Javascript    238\n",
      "25             Pig     79\n",
      "26           Hbase     31\n",
      "27    Google Cloud    131\n",
      "28          Docker      0\n",
      "29           NumPy      0\n",
      "30         PyTorch      0\n",
      "31              C#      0\n",
      "32            SPSS      0\n",
      "33           MySQL      0\n",
      "34            Perl      0\n",
      "35       Cassandra      0\n",
      "36         MongoDB      0\n",
      "37             GCP      0\n",
      "38      Kubernetes      0\n",
      "39              D3      0\n",
      "40      Databricks      0\n",
      "41      postgresql      0\n",
      "42           Caffe      0\n",
      "43         Airflow      0\n",
      "44         Alteryx      0\n",
      "45        BigQuery      0\n",
      "46          Fastai      0\n",
      "              Name Indeed\n",
      "0   Data Scientist   4512\n",
      "1           Python   3575\n",
      "2              SQL   2218\n",
      "3                R   1747\n",
      "4            Spark    877\n",
      "5           Hadoop    493\n",
      "6             Java    608\n",
      "7          Tableau    821\n",
      "8              AWS    938\n",
      "9              SAS    372\n",
      "10            Hive    251\n",
      "11           Scala    324\n",
      "12           Excel    474\n",
      "13      TensorFlow   1218\n",
      "14             C++    278\n",
      "15           Azure    668\n",
      "16           NoSQL    329\n",
      "17           Linux    215\n",
      "18               C    278\n",
      "19          Matlab    255\n",
      "20    Scikit-learn    601\n",
      "21          Pandas    521\n",
      "22             Git    306\n",
      "23           Keras    303\n",
      "24      Javascript    238\n",
      "25             Pig     79\n",
      "26           Hbase     31\n",
      "27    Google Cloud    131\n",
      "28          Docker    327\n",
      "29           NumPy      0\n",
      "30         PyTorch      0\n",
      "31              C#      0\n",
      "32            SPSS      0\n",
      "33           MySQL      0\n",
      "34            Perl      0\n",
      "35       Cassandra      0\n",
      "36         MongoDB      0\n",
      "37             GCP      0\n",
      "38      Kubernetes      0\n",
      "39              D3      0\n",
      "40      Databricks      0\n",
      "41      postgresql      0\n",
      "42           Caffe      0\n",
      "43         Airflow      0\n",
      "44         Alteryx      0\n",
      "45        BigQuery      0\n",
      "46          Fastai      0\n",
      "              Name Indeed\n",
      "0   Data Scientist   4512\n",
      "1           Python   3575\n",
      "2              SQL   2218\n",
      "3                R   1747\n",
      "4            Spark    877\n",
      "5           Hadoop    493\n",
      "6             Java    608\n",
      "7          Tableau    821\n",
      "8              AWS    938\n",
      "9              SAS    372\n",
      "10            Hive    251\n",
      "11           Scala    324\n",
      "12           Excel    474\n",
      "13      TensorFlow   1218\n",
      "14             C++    278\n",
      "15           Azure    668\n",
      "16           NoSQL    329\n",
      "17           Linux    215\n",
      "18               C    278\n",
      "19          Matlab    255\n",
      "20    Scikit-learn    601\n",
      "21          Pandas    521\n",
      "22             Git    306\n",
      "23           Keras    303\n",
      "24      Javascript    238\n",
      "25             Pig     79\n",
      "26           Hbase     31\n",
      "27    Google Cloud    131\n",
      "28          Docker    327\n",
      "29           NumPy    362\n",
      "30         PyTorch      0\n",
      "31              C#      0\n",
      "32            SPSS      0\n",
      "33           MySQL      0\n",
      "34            Perl      0\n",
      "35       Cassandra      0\n",
      "36         MongoDB      0\n",
      "37             GCP      0\n",
      "38      Kubernetes      0\n",
      "39              D3      0\n",
      "40      Databricks      0\n",
      "41      postgresql      0\n",
      "42           Caffe      0\n",
      "43         Airflow      0\n",
      "44         Alteryx      0\n",
      "45        BigQuery      0\n",
      "46          Fastai      0\n",
      "              Name Indeed\n",
      "0   Data Scientist   4512\n",
      "1           Python   3575\n",
      "2              SQL   2218\n",
      "3                R   1747\n",
      "4            Spark    877\n",
      "5           Hadoop    493\n",
      "6             Java    608\n",
      "7          Tableau    821\n",
      "8              AWS    938\n",
      "9              SAS    372\n",
      "10            Hive    251\n",
      "11           Scala    324\n",
      "12           Excel    474\n",
      "13      TensorFlow   1218\n",
      "14             C++    278\n",
      "15           Azure    668\n",
      "16           NoSQL    329\n",
      "17           Linux    215\n",
      "18               C    278\n",
      "19          Matlab    255\n",
      "20    Scikit-learn    601\n",
      "21          Pandas    521\n",
      "22             Git    306\n",
      "23           Keras    303\n",
      "24      Javascript    238\n",
      "25             Pig     79\n",
      "26           Hbase     31\n",
      "27    Google Cloud    131\n",
      "28          Docker    327\n",
      "29           NumPy    362\n",
      "30         PyTorch   1083\n",
      "31              C#      0\n",
      "32            SPSS      0\n",
      "33           MySQL      0\n",
      "34            Perl      0\n",
      "35       Cassandra      0\n",
      "36         MongoDB      0\n",
      "37             GCP      0\n",
      "38      Kubernetes      0\n",
      "39              D3      0\n",
      "40      Databricks      0\n",
      "41      postgresql      0\n",
      "42           Caffe      0\n",
      "43         Airflow      0\n",
      "44         Alteryx      0\n",
      "45        BigQuery      0\n",
      "46          Fastai      0\n",
      "              Name Indeed\n",
      "0   Data Scientist   4512\n",
      "1           Python   3575\n",
      "2              SQL   2218\n",
      "3                R   1747\n",
      "4            Spark    877\n",
      "5           Hadoop    493\n",
      "6             Java    608\n",
      "7          Tableau    821\n",
      "8              AWS    938\n",
      "9              SAS    372\n",
      "10            Hive    251\n",
      "11           Scala    324\n",
      "12           Excel    474\n",
      "13      TensorFlow   1218\n",
      "14             C++    278\n",
      "15           Azure    668\n",
      "16           NoSQL    329\n",
      "17           Linux    215\n",
      "18               C    278\n",
      "19          Matlab    255\n",
      "20    Scikit-learn    601\n",
      "21          Pandas    521\n",
      "22             Git    306\n",
      "23           Keras    303\n",
      "24      Javascript    238\n",
      "25             Pig     79\n",
      "26           Hbase     31\n",
      "27    Google Cloud    131\n",
      "28          Docker    327\n",
      "29           NumPy    362\n",
      "30         PyTorch   1083\n",
      "31              C#    278\n",
      "32            SPSS      0\n",
      "33           MySQL      0\n",
      "34            Perl      0\n",
      "35       Cassandra      0\n",
      "36         MongoDB      0\n",
      "37             GCP      0\n",
      "38      Kubernetes      0\n",
      "39              D3      0\n",
      "40      Databricks      0\n",
      "41      postgresql      0\n",
      "42           Caffe      0\n",
      "43         Airflow      0\n",
      "44         Alteryx      0\n",
      "45        BigQuery      0\n",
      "46          Fastai      0\n",
      "              Name Indeed\n",
      "0   Data Scientist   4512\n",
      "1           Python   3575\n",
      "2              SQL   2218\n",
      "3                R   1747\n",
      "4            Spark    877\n",
      "5           Hadoop    493\n",
      "6             Java    608\n",
      "7          Tableau    821\n",
      "8              AWS    938\n",
      "9              SAS    372\n",
      "10            Hive    251\n",
      "11           Scala    324\n",
      "12           Excel    474\n",
      "13      TensorFlow   1218\n",
      "14             C++    278\n",
      "15           Azure    668\n",
      "16           NoSQL    329\n",
      "17           Linux    215\n",
      "18               C    278\n",
      "19          Matlab    255\n",
      "20    Scikit-learn    601\n",
      "21          Pandas    521\n",
      "22             Git    306\n",
      "23           Keras    303\n",
      "24      Javascript    238\n",
      "25             Pig     79\n",
      "26           Hbase     31\n",
      "27    Google Cloud    131\n",
      "28          Docker    327\n",
      "29           NumPy    362\n",
      "30         PyTorch   1083\n",
      "31              C#    278\n",
      "32            SPSS     95\n",
      "33           MySQL      0\n",
      "34            Perl      0\n",
      "35       Cassandra      0\n",
      "36         MongoDB      0\n",
      "37             GCP      0\n",
      "38      Kubernetes      0\n",
      "39              D3      0\n",
      "40      Databricks      0\n",
      "41      postgresql      0\n",
      "42           Caffe      0\n",
      "43         Airflow      0\n",
      "44         Alteryx      0\n",
      "45        BigQuery      0\n",
      "46          Fastai      0\n",
      "              Name Indeed\n",
      "0   Data Scientist   4512\n",
      "1           Python   3575\n",
      "2              SQL   2218\n",
      "3                R   1747\n",
      "4            Spark    877\n",
      "5           Hadoop    493\n",
      "6             Java    608\n",
      "7          Tableau    821\n",
      "8              AWS    938\n",
      "9              SAS    372\n",
      "10            Hive    251\n",
      "11           Scala    324\n",
      "12           Excel    474\n",
      "13      TensorFlow   1218\n",
      "14             C++    278\n",
      "15           Azure    668\n",
      "16           NoSQL    329\n",
      "17           Linux    215\n",
      "18               C    278\n",
      "19          Matlab    255\n",
      "20    Scikit-learn    601\n",
      "21          Pandas    521\n",
      "22             Git    306\n",
      "23           Keras    303\n",
      "24      Javascript    238\n",
      "25             Pig     79\n",
      "26           Hbase     31\n",
      "27    Google Cloud    131\n",
      "28          Docker    327\n",
      "29           NumPy    362\n",
      "30         PyTorch   1083\n",
      "31              C#    278\n",
      "32            SPSS     95\n",
      "33           MySQL    126\n",
      "34            Perl      0\n",
      "35       Cassandra      0\n",
      "36         MongoDB      0\n",
      "37             GCP      0\n",
      "38      Kubernetes      0\n",
      "39              D3      0\n",
      "40      Databricks      0\n",
      "41      postgresql      0\n",
      "42           Caffe      0\n",
      "43         Airflow      0\n",
      "44         Alteryx      0\n",
      "45        BigQuery      0\n",
      "46          Fastai      0\n",
      "              Name Indeed\n",
      "0   Data Scientist   4512\n",
      "1           Python   3575\n",
      "2              SQL   2218\n",
      "3                R   1747\n",
      "4            Spark    877\n",
      "5           Hadoop    493\n",
      "6             Java    608\n",
      "7          Tableau    821\n",
      "8              AWS    938\n",
      "9              SAS    372\n",
      "10            Hive    251\n",
      "11           Scala    324\n",
      "12           Excel    474\n",
      "13      TensorFlow   1218\n",
      "14             C++    278\n",
      "15           Azure    668\n",
      "16           NoSQL    329\n",
      "17           Linux    215\n",
      "18               C    278\n",
      "19          Matlab    255\n",
      "20    Scikit-learn    601\n",
      "21          Pandas    521\n",
      "22             Git    306\n",
      "23           Keras    303\n",
      "24      Javascript    238\n",
      "25             Pig     79\n",
      "26           Hbase     31\n",
      "27    Google Cloud    131\n",
      "28          Docker    327\n",
      "29           NumPy    362\n",
      "30         PyTorch   1083\n",
      "31              C#    278\n",
      "32            SPSS     95\n",
      "33           MySQL    126\n",
      "34            Perl     42\n",
      "35       Cassandra      0\n",
      "36         MongoDB      0\n",
      "37             GCP      0\n",
      "38      Kubernetes      0\n",
      "39              D3      0\n",
      "40      Databricks      0\n",
      "41      postgresql      0\n",
      "42           Caffe      0\n",
      "43         Airflow      0\n",
      "44         Alteryx      0\n",
      "45        BigQuery      0\n",
      "46          Fastai      0\n",
      "              Name Indeed\n",
      "0   Data Scientist   4512\n",
      "1           Python   3575\n",
      "2              SQL   2218\n",
      "3                R   1747\n",
      "4            Spark    877\n",
      "5           Hadoop    493\n",
      "6             Java    608\n",
      "7          Tableau    821\n",
      "8              AWS    938\n",
      "9              SAS    372\n",
      "10            Hive    251\n",
      "11           Scala    324\n",
      "12           Excel    474\n",
      "13      TensorFlow   1218\n",
      "14             C++    278\n",
      "15           Azure    668\n",
      "16           NoSQL    329\n",
      "17           Linux    215\n",
      "18               C    278\n",
      "19          Matlab    255\n",
      "20    Scikit-learn    601\n",
      "21          Pandas    521\n",
      "22             Git    306\n",
      "23           Keras    303\n",
      "24      Javascript    238\n",
      "25             Pig     79\n",
      "26           Hbase     31\n",
      "27    Google Cloud    131\n",
      "28          Docker    327\n",
      "29           NumPy    362\n",
      "30         PyTorch   1083\n",
      "31              C#    278\n",
      "32            SPSS     95\n",
      "33           MySQL    126\n",
      "34            Perl     42\n",
      "35       Cassandra     52\n",
      "36         MongoDB      0\n",
      "37             GCP      0\n",
      "38      Kubernetes      0\n",
      "39              D3      0\n",
      "40      Databricks      0\n",
      "41      postgresql      0\n",
      "42           Caffe      0\n",
      "43         Airflow      0\n",
      "44         Alteryx      0\n",
      "45        BigQuery      0\n",
      "46          Fastai      0\n",
      "              Name Indeed\n",
      "0   Data Scientist   4512\n",
      "1           Python   3575\n",
      "2              SQL   2218\n",
      "3                R   1747\n",
      "4            Spark    877\n",
      "5           Hadoop    493\n",
      "6             Java    608\n",
      "7          Tableau    821\n",
      "8              AWS    938\n",
      "9              SAS    372\n",
      "10            Hive    251\n",
      "11           Scala    324\n",
      "12           Excel    474\n",
      "13      TensorFlow   1218\n",
      "14             C++    278\n",
      "15           Azure    668\n",
      "16           NoSQL    329\n",
      "17           Linux    215\n",
      "18               C    278\n",
      "19          Matlab    255\n",
      "20    Scikit-learn    601\n",
      "21          Pandas    521\n",
      "22             Git    306\n",
      "23           Keras    303\n",
      "24      Javascript    238\n",
      "25             Pig     79\n",
      "26           Hbase     31\n",
      "27    Google Cloud    131\n",
      "28          Docker    327\n",
      "29           NumPy    362\n",
      "30         PyTorch   1083\n",
      "31              C#    278\n",
      "32            SPSS     95\n",
      "33           MySQL    126\n",
      "34            Perl     42\n",
      "35       Cassandra     52\n",
      "36         MongoDB     79\n",
      "37             GCP      0\n",
      "38      Kubernetes      0\n",
      "39              D3      0\n",
      "40      Databricks      0\n",
      "41      postgresql      0\n",
      "42           Caffe      0\n",
      "43         Airflow      0\n",
      "44         Alteryx      0\n",
      "45        BigQuery      0\n",
      "46          Fastai      0\n",
      "              Name Indeed\n",
      "0   Data Scientist   4512\n",
      "1           Python   3575\n",
      "2              SQL   2218\n",
      "3                R   1747\n",
      "4            Spark    877\n",
      "5           Hadoop    493\n",
      "6             Java    608\n",
      "7          Tableau    821\n",
      "8              AWS    938\n",
      "9              SAS    372\n",
      "10            Hive    251\n",
      "11           Scala    324\n",
      "12           Excel    474\n",
      "13      TensorFlow   1218\n",
      "14             C++    278\n",
      "15           Azure    668\n",
      "16           NoSQL    329\n",
      "17           Linux    215\n",
      "18               C    278\n",
      "19          Matlab    255\n",
      "20    Scikit-learn    601\n",
      "21          Pandas    521\n",
      "22             Git    306\n",
      "23           Keras    303\n",
      "24      Javascript    238\n",
      "25             Pig     79\n",
      "26           Hbase     31\n",
      "27    Google Cloud    131\n",
      "28          Docker    327\n",
      "29           NumPy    362\n",
      "30         PyTorch   1083\n",
      "31              C#    278\n",
      "32            SPSS     95\n",
      "33           MySQL    126\n",
      "34            Perl     42\n",
      "35       Cassandra     52\n",
      "36         MongoDB     79\n",
      "37             GCP    357\n",
      "38      Kubernetes      0\n",
      "39              D3      0\n",
      "40      Databricks      0\n",
      "41      postgresql      0\n",
      "42           Caffe      0\n",
      "43         Airflow      0\n",
      "44         Alteryx      0\n",
      "45        BigQuery      0\n",
      "46          Fastai      0\n",
      "              Name Indeed\n",
      "0   Data Scientist   4512\n",
      "1           Python   3575\n",
      "2              SQL   2218\n",
      "3                R   1747\n",
      "4            Spark    877\n",
      "5           Hadoop    493\n",
      "6             Java    608\n",
      "7          Tableau    821\n",
      "8              AWS    938\n",
      "9              SAS    372\n",
      "10            Hive    251\n",
      "11           Scala    324\n",
      "12           Excel    474\n",
      "13      TensorFlow   1218\n",
      "14             C++    278\n",
      "15           Azure    668\n",
      "16           NoSQL    329\n",
      "17           Linux    215\n",
      "18               C    278\n",
      "19          Matlab    255\n",
      "20    Scikit-learn    601\n",
      "21          Pandas    521\n",
      "22             Git    306\n",
      "23           Keras    303\n",
      "24      Javascript    238\n",
      "25             Pig     79\n",
      "26           Hbase     31\n",
      "27    Google Cloud    131\n",
      "28          Docker    327\n",
      "29           NumPy    362\n",
      "30         PyTorch   1083\n",
      "31              C#    278\n",
      "32            SPSS     95\n",
      "33           MySQL    126\n",
      "34            Perl     42\n",
      "35       Cassandra     52\n",
      "36         MongoDB     79\n",
      "37             GCP    357\n",
      "38      Kubernetes    285\n",
      "39              D3      0\n",
      "40      Databricks      0\n",
      "41      postgresql      0\n",
      "42           Caffe      0\n",
      "43         Airflow      0\n",
      "44         Alteryx      0\n",
      "45        BigQuery      0\n",
      "46          Fastai      0\n",
      "              Name Indeed\n",
      "0   Data Scientist   4512\n",
      "1           Python   3575\n",
      "2              SQL   2218\n",
      "3                R   1747\n",
      "4            Spark    877\n",
      "5           Hadoop    493\n",
      "6             Java    608\n",
      "7          Tableau    821\n",
      "8              AWS    938\n",
      "9              SAS    372\n",
      "10            Hive    251\n",
      "11           Scala    324\n",
      "12           Excel    474\n",
      "13      TensorFlow   1218\n",
      "14             C++    278\n",
      "15           Azure    668\n",
      "16           NoSQL    329\n",
      "17           Linux    215\n",
      "18               C    278\n",
      "19          Matlab    255\n",
      "20    Scikit-learn    601\n",
      "21          Pandas    521\n",
      "22             Git    306\n",
      "23           Keras    303\n",
      "24      Javascript    238\n",
      "25             Pig     79\n",
      "26           Hbase     31\n",
      "27    Google Cloud    131\n",
      "28          Docker    327\n",
      "29           NumPy    362\n",
      "30         PyTorch   1083\n",
      "31              C#    278\n",
      "32            SPSS     95\n",
      "33           MySQL    126\n",
      "34            Perl     42\n",
      "35       Cassandra     52\n",
      "36         MongoDB     79\n",
      "37             GCP    357\n",
      "38      Kubernetes    285\n",
      "39              D3     83\n",
      "40      Databricks      0\n",
      "41      postgresql      0\n",
      "42           Caffe      0\n",
      "43         Airflow      0\n",
      "44         Alteryx      0\n",
      "45        BigQuery      0\n",
      "46          Fastai      0\n",
      "              Name Indeed\n",
      "0   Data Scientist   4512\n",
      "1           Python   3575\n",
      "2              SQL   2218\n",
      "3                R   1747\n",
      "4            Spark    877\n",
      "5           Hadoop    493\n",
      "6             Java    608\n",
      "7          Tableau    821\n",
      "8              AWS    938\n",
      "9              SAS    372\n",
      "10            Hive    251\n",
      "11           Scala    324\n",
      "12           Excel    474\n",
      "13      TensorFlow   1218\n",
      "14             C++    278\n",
      "15           Azure    668\n",
      "16           NoSQL    329\n",
      "17           Linux    215\n",
      "18               C    278\n",
      "19          Matlab    255\n",
      "20    Scikit-learn    601\n",
      "21          Pandas    521\n",
      "22             Git    306\n",
      "23           Keras    303\n",
      "24      Javascript    238\n",
      "25             Pig     79\n",
      "26           Hbase     31\n",
      "27    Google Cloud    131\n",
      "28          Docker    327\n",
      "29           NumPy    362\n",
      "30         PyTorch   1083\n",
      "31              C#    278\n",
      "32            SPSS     95\n",
      "33           MySQL    126\n",
      "34            Perl     42\n",
      "35       Cassandra     52\n",
      "36         MongoDB     79\n",
      "37             GCP    357\n",
      "38      Kubernetes    285\n",
      "39              D3     83\n",
      "40      Databricks    245\n",
      "41      postgresql      0\n",
      "42           Caffe      0\n",
      "43         Airflow      0\n",
      "44         Alteryx      0\n",
      "45        BigQuery      0\n",
      "46          Fastai      0\n",
      "error: postgresql\n",
      "              Name Indeed\n",
      "0   Data Scientist   4512\n",
      "1           Python   3575\n",
      "2              SQL   2218\n",
      "3                R   1747\n",
      "4            Spark    877\n",
      "5           Hadoop    493\n",
      "6             Java    608\n",
      "7          Tableau    821\n",
      "8              AWS    938\n",
      "9              SAS    372\n",
      "10            Hive    251\n",
      "11           Scala    324\n",
      "12           Excel    474\n",
      "13      TensorFlow   1218\n",
      "14             C++    278\n",
      "15           Azure    668\n",
      "16           NoSQL    329\n",
      "17           Linux    215\n",
      "18               C    278\n",
      "19          Matlab    255\n",
      "20    Scikit-learn    601\n",
      "21          Pandas    521\n",
      "22             Git    306\n",
      "23           Keras    303\n",
      "24      Javascript    238\n",
      "25             Pig     79\n",
      "26           Hbase     31\n",
      "27    Google Cloud    131\n",
      "28          Docker    327\n",
      "29           NumPy    362\n",
      "30         PyTorch   1083\n",
      "31              C#    278\n",
      "32            SPSS     95\n",
      "33           MySQL    126\n",
      "34            Perl     42\n",
      "35       Cassandra     52\n",
      "36         MongoDB     79\n",
      "37             GCP    357\n",
      "38      Kubernetes    285\n",
      "39              D3     83\n",
      "40      Databricks    245\n",
      "41      postgresql      0\n",
      "42           Caffe     32\n",
      "43         Airflow      0\n",
      "44         Alteryx      0\n",
      "45        BigQuery      0\n",
      "46          Fastai      0\n",
      "              Name Indeed\n",
      "0   Data Scientist   4512\n",
      "1           Python   3575\n",
      "2              SQL   2218\n",
      "3                R   1747\n",
      "4            Spark    877\n",
      "5           Hadoop    493\n",
      "6             Java    608\n",
      "7          Tableau    821\n",
      "8              AWS    938\n",
      "9              SAS    372\n",
      "10            Hive    251\n",
      "11           Scala    324\n",
      "12           Excel    474\n",
      "13      TensorFlow   1218\n",
      "14             C++    278\n",
      "15           Azure    668\n",
      "16           NoSQL    329\n",
      "17           Linux    215\n",
      "18               C    278\n",
      "19          Matlab    255\n",
      "20    Scikit-learn    601\n",
      "21          Pandas    521\n",
      "22             Git    306\n",
      "23           Keras    303\n",
      "24      Javascript    238\n",
      "25             Pig     79\n",
      "26           Hbase     31\n",
      "27    Google Cloud    131\n",
      "28          Docker    327\n",
      "29           NumPy    362\n",
      "30         PyTorch   1083\n",
      "31              C#    278\n",
      "32            SPSS     95\n",
      "33           MySQL    126\n",
      "34            Perl     42\n",
      "35       Cassandra     52\n",
      "36         MongoDB     79\n",
      "37             GCP    357\n",
      "38      Kubernetes    285\n",
      "39              D3     83\n",
      "40      Databricks    245\n",
      "41      postgresql      0\n",
      "42           Caffe     32\n",
      "43         Airflow    108\n",
      "44         Alteryx      0\n",
      "45        BigQuery      0\n",
      "46          Fastai      0\n",
      "              Name Indeed\n",
      "0   Data Scientist   4512\n",
      "1           Python   3575\n",
      "2              SQL   2218\n",
      "3                R   1747\n",
      "4            Spark    877\n",
      "5           Hadoop    493\n",
      "6             Java    608\n",
      "7          Tableau    821\n",
      "8              AWS    938\n",
      "9              SAS    372\n",
      "10            Hive    251\n",
      "11           Scala    324\n",
      "12           Excel    474\n",
      "13      TensorFlow   1218\n",
      "14             C++    278\n",
      "15           Azure    668\n",
      "16           NoSQL    329\n",
      "17           Linux    215\n",
      "18               C    278\n",
      "19          Matlab    255\n",
      "20    Scikit-learn    601\n",
      "21          Pandas    521\n",
      "22             Git    306\n",
      "23           Keras    303\n",
      "24      Javascript    238\n",
      "25             Pig     79\n",
      "26           Hbase     31\n",
      "27    Google Cloud    131\n",
      "28          Docker    327\n",
      "29           NumPy    362\n",
      "30         PyTorch   1083\n",
      "31              C#    278\n",
      "32            SPSS     95\n",
      "33           MySQL    126\n",
      "34            Perl     42\n",
      "35       Cassandra     52\n",
      "36         MongoDB     79\n",
      "37             GCP    357\n",
      "38      Kubernetes    285\n",
      "39              D3     83\n",
      "40      Databricks    245\n",
      "41      postgresql      0\n",
      "42           Caffe     32\n",
      "43         Airflow    108\n",
      "44         Alteryx     31\n",
      "45        BigQuery      0\n",
      "46          Fastai      0\n",
      "              Name Indeed\n",
      "0   Data Scientist   4512\n",
      "1           Python   3575\n",
      "2              SQL   2218\n",
      "3                R   1747\n",
      "4            Spark    877\n",
      "5           Hadoop    493\n",
      "6             Java    608\n",
      "7          Tableau    821\n",
      "8              AWS    938\n",
      "9              SAS    372\n",
      "10            Hive    251\n",
      "11           Scala    324\n",
      "12           Excel    474\n",
      "13      TensorFlow   1218\n",
      "14             C++    278\n",
      "15           Azure    668\n",
      "16           NoSQL    329\n",
      "17           Linux    215\n",
      "18               C    278\n",
      "19          Matlab    255\n",
      "20    Scikit-learn    601\n",
      "21          Pandas    521\n",
      "22             Git    306\n",
      "23           Keras    303\n",
      "24      Javascript    238\n",
      "25             Pig     79\n",
      "26           Hbase     31\n",
      "27    Google Cloud    131\n",
      "28          Docker    327\n",
      "29           NumPy    362\n",
      "30         PyTorch   1083\n",
      "31              C#    278\n",
      "32            SPSS     95\n",
      "33           MySQL    126\n",
      "34            Perl     42\n",
      "35       Cassandra     52\n",
      "36         MongoDB     79\n",
      "37             GCP    357\n",
      "38      Kubernetes    285\n",
      "39              D3     83\n",
      "40      Databricks    245\n",
      "41      postgresql      0\n",
      "42           Caffe     32\n",
      "43         Airflow    108\n",
      "44         Alteryx     31\n",
      "45        BigQuery    147\n",
      "46          Fastai      0\n",
      "error: Fastai\n"
     ]
    },
    {
     "name": "stderr",
     "output_type": "stream",
     "text": [
      "C:\\Users\\Admin\\AppData\\Local\\Temp\\ipykernel_7968\\2163568430.py:18: FutureWarning: Setting an item of incompatible dtype is deprecated and will raise in a future error of pandas. Value '2891' has dtype incompatible with int64, please explicitly cast to a compatible dtype first.\n",
      "  df.loc[df['Name'] == term, 'Simply'] = count\n"
     ]
    },
    {
     "name": "stdout",
     "output_type": "stream",
     "text": [
      "            Name Simply\n",
      "0                  2891\n",
      "1         Python      0\n",
      "2            SQL      0\n",
      "3              R      0\n",
      "4          Spark      0\n",
      "5         Hadoop      0\n",
      "6           Java      0\n",
      "7        Tableau      0\n",
      "8            AWS      0\n",
      "9            SAS      0\n",
      "10          Hive      0\n",
      "11         Scala      0\n",
      "12         Excel      0\n",
      "13    TensorFlow      0\n",
      "14           C++      0\n",
      "15         Azure      0\n",
      "16         NoSQL      0\n",
      "17         Linux      0\n",
      "18             C      0\n",
      "19        Matlab      0\n",
      "20  Scikit-learn      0\n",
      "21        Pandas      0\n",
      "22           Git      0\n",
      "23         Keras      0\n",
      "24    Javascript      0\n",
      "25           Pig      0\n",
      "26         Hbase      0\n",
      "27  Google Cloud      0\n",
      "28        Docker      0\n",
      "29         NumPy      0\n",
      "30       PyTorch      0\n",
      "31            C#      0\n",
      "32          SPSS      0\n",
      "33         MySQL      0\n",
      "34          Perl      0\n",
      "35     Cassandra      0\n",
      "36       MongoDB      0\n",
      "37           GCP      0\n",
      "38    Kubernetes      0\n",
      "39            D3      0\n",
      "40    Databricks      0\n",
      "41    postgresql      0\n",
      "42         Caffe      0\n",
      "43       Airflow      0\n",
      "44       Alteryx      0\n",
      "45      BigQuery      0\n",
      "46        Fastai      0\n",
      "              Name Simply\n",
      "0   Data Scientist   2891\n",
      "1           Python   2213\n",
      "2              SQL      0\n",
      "3                R      0\n",
      "4            Spark      0\n",
      "5           Hadoop      0\n",
      "6             Java      0\n",
      "7          Tableau      0\n",
      "8              AWS      0\n",
      "9              SAS      0\n",
      "10            Hive      0\n",
      "11           Scala      0\n",
      "12           Excel      0\n",
      "13      TensorFlow      0\n",
      "14             C++      0\n",
      "15           Azure      0\n",
      "16           NoSQL      0\n",
      "17           Linux      0\n",
      "18               C      0\n",
      "19          Matlab      0\n",
      "20    Scikit-learn      0\n",
      "21          Pandas      0\n",
      "22             Git      0\n",
      "23           Keras      0\n",
      "24      Javascript      0\n",
      "25             Pig      0\n",
      "26           Hbase      0\n",
      "27    Google Cloud      0\n",
      "28          Docker      0\n",
      "29           NumPy      0\n",
      "30         PyTorch      0\n",
      "31              C#      0\n",
      "32            SPSS      0\n",
      "33           MySQL      0\n",
      "34            Perl      0\n",
      "35       Cassandra      0\n",
      "36         MongoDB      0\n",
      "37             GCP      0\n",
      "38      Kubernetes      0\n",
      "39              D3      0\n",
      "40      Databricks      0\n",
      "41      postgresql      0\n",
      "42           Caffe      0\n",
      "43         Airflow      0\n",
      "44         Alteryx      0\n",
      "45        BigQuery      0\n",
      "46          Fastai      0\n",
      "              Name Simply\n",
      "0   Data Scientist   2891\n",
      "1           Python   2213\n",
      "2              SQL   1614\n",
      "3                R      0\n",
      "4            Spark      0\n",
      "5           Hadoop      0\n",
      "6             Java      0\n",
      "7          Tableau      0\n",
      "8              AWS      0\n",
      "9              SAS      0\n",
      "10            Hive      0\n",
      "11           Scala      0\n",
      "12           Excel      0\n",
      "13      TensorFlow      0\n",
      "14             C++      0\n",
      "15           Azure      0\n",
      "16           NoSQL      0\n",
      "17           Linux      0\n",
      "18               C      0\n",
      "19          Matlab      0\n",
      "20    Scikit-learn      0\n",
      "21          Pandas      0\n",
      "22             Git      0\n",
      "23           Keras      0\n",
      "24      Javascript      0\n",
      "25             Pig      0\n",
      "26           Hbase      0\n",
      "27    Google Cloud      0\n",
      "28          Docker      0\n",
      "29           NumPy      0\n",
      "30         PyTorch      0\n",
      "31              C#      0\n",
      "32            SPSS      0\n",
      "33           MySQL      0\n",
      "34            Perl      0\n",
      "35       Cassandra      0\n",
      "36         MongoDB      0\n",
      "37             GCP      0\n",
      "38      Kubernetes      0\n",
      "39              D3      0\n",
      "40      Databricks      0\n",
      "41      postgresql      0\n",
      "42           Caffe      0\n",
      "43         Airflow      0\n",
      "44         Alteryx      0\n",
      "45        BigQuery      0\n",
      "46          Fastai      0\n",
      "              Name Simply\n",
      "0   Data Scientist   2891\n",
      "1           Python   2213\n",
      "2              SQL   1614\n",
      "3                R   1268\n",
      "4            Spark      0\n",
      "5           Hadoop      0\n",
      "6             Java      0\n",
      "7          Tableau      0\n",
      "8              AWS      0\n",
      "9              SAS      0\n",
      "10            Hive      0\n",
      "11           Scala      0\n",
      "12           Excel      0\n",
      "13      TensorFlow      0\n",
      "14             C++      0\n",
      "15           Azure      0\n",
      "16           NoSQL      0\n",
      "17           Linux      0\n",
      "18               C      0\n",
      "19          Matlab      0\n",
      "20    Scikit-learn      0\n",
      "21          Pandas      0\n",
      "22             Git      0\n",
      "23           Keras      0\n",
      "24      Javascript      0\n",
      "25             Pig      0\n",
      "26           Hbase      0\n",
      "27    Google Cloud      0\n",
      "28          Docker      0\n",
      "29           NumPy      0\n",
      "30         PyTorch      0\n",
      "31              C#      0\n",
      "32            SPSS      0\n",
      "33           MySQL      0\n",
      "34            Perl      0\n",
      "35       Cassandra      0\n",
      "36         MongoDB      0\n",
      "37             GCP      0\n",
      "38      Kubernetes      0\n",
      "39              D3      0\n",
      "40      Databricks      0\n",
      "41      postgresql      0\n",
      "42           Caffe      0\n",
      "43         Airflow      0\n",
      "44         Alteryx      0\n",
      "45        BigQuery      0\n",
      "46          Fastai      0\n",
      "              Name Simply\n",
      "0   Data Scientist   2891\n",
      "1           Python   2213\n",
      "2              SQL   1614\n",
      "3                R   1268\n",
      "4            Spark    572\n",
      "5           Hadoop      0\n",
      "6             Java      0\n",
      "7          Tableau      0\n",
      "8              AWS      0\n",
      "9              SAS      0\n",
      "10            Hive      0\n",
      "11           Scala      0\n",
      "12           Excel      0\n",
      "13      TensorFlow      0\n",
      "14             C++      0\n",
      "15           Azure      0\n",
      "16           NoSQL      0\n",
      "17           Linux      0\n",
      "18               C      0\n",
      "19          Matlab      0\n",
      "20    Scikit-learn      0\n",
      "21          Pandas      0\n",
      "22             Git      0\n",
      "23           Keras      0\n",
      "24      Javascript      0\n",
      "25             Pig      0\n",
      "26           Hbase      0\n",
      "27    Google Cloud      0\n",
      "28          Docker      0\n",
      "29           NumPy      0\n",
      "30         PyTorch      0\n",
      "31              C#      0\n",
      "32            SPSS      0\n",
      "33           MySQL      0\n",
      "34            Perl      0\n",
      "35       Cassandra      0\n",
      "36         MongoDB      0\n",
      "37             GCP      0\n",
      "38      Kubernetes      0\n",
      "39              D3      0\n",
      "40      Databricks      0\n",
      "41      postgresql      0\n",
      "42           Caffe      0\n",
      "43         Airflow      0\n",
      "44         Alteryx      0\n",
      "45        BigQuery      0\n",
      "46          Fastai      0\n",
      "              Name Simply\n",
      "0   Data Scientist   2891\n",
      "1           Python   2213\n",
      "2              SQL   1614\n",
      "3                R   1268\n",
      "4            Spark    572\n",
      "5           Hadoop    352\n",
      "6             Java      0\n",
      "7          Tableau      0\n",
      "8              AWS      0\n",
      "9              SAS      0\n",
      "10            Hive      0\n",
      "11           Scala      0\n",
      "12           Excel      0\n",
      "13      TensorFlow      0\n",
      "14             C++      0\n",
      "15           Azure      0\n",
      "16           NoSQL      0\n",
      "17           Linux      0\n",
      "18               C      0\n",
      "19          Matlab      0\n",
      "20    Scikit-learn      0\n",
      "21          Pandas      0\n",
      "22             Git      0\n",
      "23           Keras      0\n",
      "24      Javascript      0\n",
      "25             Pig      0\n",
      "26           Hbase      0\n",
      "27    Google Cloud      0\n",
      "28          Docker      0\n",
      "29           NumPy      0\n",
      "30         PyTorch      0\n",
      "31              C#      0\n",
      "32            SPSS      0\n",
      "33           MySQL      0\n",
      "34            Perl      0\n",
      "35       Cassandra      0\n",
      "36         MongoDB      0\n",
      "37             GCP      0\n",
      "38      Kubernetes      0\n",
      "39              D3      0\n",
      "40      Databricks      0\n",
      "41      postgresql      0\n",
      "42           Caffe      0\n",
      "43         Airflow      0\n",
      "44         Alteryx      0\n",
      "45        BigQuery      0\n",
      "46          Fastai      0\n",
      "              Name Simply\n",
      "0   Data Scientist   2891\n",
      "1           Python   2213\n",
      "2              SQL   1614\n",
      "3                R   1268\n",
      "4            Spark    572\n",
      "5           Hadoop    352\n",
      "6             Java    423\n",
      "7          Tableau      0\n",
      "8              AWS      0\n",
      "9              SAS      0\n",
      "10            Hive      0\n",
      "11           Scala      0\n",
      "12           Excel      0\n",
      "13      TensorFlow      0\n",
      "14             C++      0\n",
      "15           Azure      0\n",
      "16           NoSQL      0\n",
      "17           Linux      0\n",
      "18               C      0\n",
      "19          Matlab      0\n",
      "20    Scikit-learn      0\n",
      "21          Pandas      0\n",
      "22             Git      0\n",
      "23           Keras      0\n",
      "24      Javascript      0\n",
      "25             Pig      0\n",
      "26           Hbase      0\n",
      "27    Google Cloud      0\n",
      "28          Docker      0\n",
      "29           NumPy      0\n",
      "30         PyTorch      0\n",
      "31              C#      0\n",
      "32            SPSS      0\n",
      "33           MySQL      0\n",
      "34            Perl      0\n",
      "35       Cassandra      0\n",
      "36         MongoDB      0\n",
      "37             GCP      0\n",
      "38      Kubernetes      0\n",
      "39              D3      0\n",
      "40      Databricks      0\n",
      "41      postgresql      0\n",
      "42           Caffe      0\n",
      "43         Airflow      0\n",
      "44         Alteryx      0\n",
      "45        BigQuery      0\n",
      "46          Fastai      0\n",
      "              Name Simply\n",
      "0   Data Scientist   2891\n",
      "1           Python   2213\n",
      "2              SQL   1614\n",
      "3                R   1268\n",
      "4            Spark    572\n",
      "5           Hadoop    352\n",
      "6             Java    423\n",
      "7          Tableau    623\n",
      "8              AWS      0\n",
      "9              SAS      0\n",
      "10            Hive      0\n",
      "11           Scala      0\n",
      "12           Excel      0\n",
      "13      TensorFlow      0\n",
      "14             C++      0\n",
      "15           Azure      0\n",
      "16           NoSQL      0\n",
      "17           Linux      0\n",
      "18               C      0\n",
      "19          Matlab      0\n",
      "20    Scikit-learn      0\n",
      "21          Pandas      0\n",
      "22             Git      0\n",
      "23           Keras      0\n",
      "24      Javascript      0\n",
      "25             Pig      0\n",
      "26           Hbase      0\n",
      "27    Google Cloud      0\n",
      "28          Docker      0\n",
      "29           NumPy      0\n",
      "30         PyTorch      0\n",
      "31              C#      0\n",
      "32            SPSS      0\n",
      "33           MySQL      0\n",
      "34            Perl      0\n",
      "35       Cassandra      0\n",
      "36         MongoDB      0\n",
      "37             GCP      0\n",
      "38      Kubernetes      0\n",
      "39              D3      0\n",
      "40      Databricks      0\n",
      "41      postgresql      0\n",
      "42           Caffe      0\n",
      "43         Airflow      0\n",
      "44         Alteryx      0\n",
      "45        BigQuery      0\n",
      "46          Fastai      0\n",
      "              Name Simply\n",
      "0   Data Scientist   2891\n",
      "1           Python   2213\n",
      "2              SQL   1614\n",
      "3                R   1268\n",
      "4            Spark    572\n",
      "5           Hadoop    352\n",
      "6             Java    423\n",
      "7          Tableau    623\n",
      "8              AWS    618\n",
      "9              SAS      0\n",
      "10            Hive      0\n",
      "11           Scala      0\n",
      "12           Excel      0\n",
      "13      TensorFlow      0\n",
      "14             C++      0\n",
      "15           Azure      0\n",
      "16           NoSQL      0\n",
      "17           Linux      0\n",
      "18               C      0\n",
      "19          Matlab      0\n",
      "20    Scikit-learn      0\n",
      "21          Pandas      0\n",
      "22             Git      0\n",
      "23           Keras      0\n",
      "24      Javascript      0\n",
      "25             Pig      0\n",
      "26           Hbase      0\n",
      "27    Google Cloud      0\n",
      "28          Docker      0\n",
      "29           NumPy      0\n",
      "30         PyTorch      0\n",
      "31              C#      0\n",
      "32            SPSS      0\n",
      "33           MySQL      0\n",
      "34            Perl      0\n",
      "35       Cassandra      0\n",
      "36         MongoDB      0\n",
      "37             GCP      0\n",
      "38      Kubernetes      0\n",
      "39              D3      0\n",
      "40      Databricks      0\n",
      "41      postgresql      0\n",
      "42           Caffe      0\n",
      "43         Airflow      0\n",
      "44         Alteryx      0\n",
      "45        BigQuery      0\n",
      "46          Fastai      0\n",
      "              Name Simply\n",
      "0   Data Scientist   2891\n",
      "1           Python   2213\n",
      "2              SQL   1614\n",
      "3                R   1268\n",
      "4            Spark    572\n",
      "5           Hadoop    352\n",
      "6             Java    423\n",
      "7          Tableau    623\n",
      "8              AWS    618\n",
      "9              SAS    308\n",
      "10            Hive      0\n",
      "11           Scala      0\n",
      "12           Excel      0\n",
      "13      TensorFlow      0\n",
      "14             C++      0\n",
      "15           Azure      0\n",
      "16           NoSQL      0\n",
      "17           Linux      0\n",
      "18               C      0\n",
      "19          Matlab      0\n",
      "20    Scikit-learn      0\n",
      "21          Pandas      0\n",
      "22             Git      0\n",
      "23           Keras      0\n",
      "24      Javascript      0\n",
      "25             Pig      0\n",
      "26           Hbase      0\n",
      "27    Google Cloud      0\n",
      "28          Docker      0\n",
      "29           NumPy      0\n",
      "30         PyTorch      0\n",
      "31              C#      0\n",
      "32            SPSS      0\n",
      "33           MySQL      0\n",
      "34            Perl      0\n",
      "35       Cassandra      0\n",
      "36         MongoDB      0\n",
      "37             GCP      0\n",
      "38      Kubernetes      0\n",
      "39              D3      0\n",
      "40      Databricks      0\n",
      "41      postgresql      0\n",
      "42           Caffe      0\n",
      "43         Airflow      0\n",
      "44         Alteryx      0\n",
      "45        BigQuery      0\n",
      "46          Fastai      0\n",
      "              Name Simply\n",
      "0   Data Scientist   2891\n",
      "1           Python   2213\n",
      "2              SQL   1614\n",
      "3                R   1268\n",
      "4            Spark    572\n",
      "5           Hadoop    352\n",
      "6             Java    423\n",
      "7          Tableau    623\n",
      "8              AWS    618\n",
      "9              SAS    308\n",
      "10            Hive    196\n",
      "11           Scala      0\n",
      "12           Excel      0\n",
      "13      TensorFlow      0\n",
      "14             C++      0\n",
      "15           Azure      0\n",
      "16           NoSQL      0\n",
      "17           Linux      0\n",
      "18               C      0\n",
      "19          Matlab      0\n",
      "20    Scikit-learn      0\n",
      "21          Pandas      0\n",
      "22             Git      0\n",
      "23           Keras      0\n",
      "24      Javascript      0\n",
      "25             Pig      0\n",
      "26           Hbase      0\n",
      "27    Google Cloud      0\n",
      "28          Docker      0\n",
      "29           NumPy      0\n",
      "30         PyTorch      0\n",
      "31              C#      0\n",
      "32            SPSS      0\n",
      "33           MySQL      0\n",
      "34            Perl      0\n",
      "35       Cassandra      0\n",
      "36         MongoDB      0\n",
      "37             GCP      0\n",
      "38      Kubernetes      0\n",
      "39              D3      0\n",
      "40      Databricks      0\n",
      "41      postgresql      0\n",
      "42           Caffe      0\n",
      "43         Airflow      0\n",
      "44         Alteryx      0\n",
      "45        BigQuery      0\n",
      "46          Fastai      0\n",
      "              Name Simply\n",
      "0   Data Scientist   2891\n",
      "1           Python   2213\n",
      "2              SQL   1614\n",
      "3                R   1268\n",
      "4            Spark    572\n",
      "5           Hadoop    352\n",
      "6             Java    423\n",
      "7          Tableau    623\n",
      "8              AWS    618\n",
      "9              SAS    308\n",
      "10            Hive    196\n",
      "11           Scala    236\n",
      "12           Excel      0\n",
      "13      TensorFlow      0\n",
      "14             C++      0\n",
      "15           Azure      0\n",
      "16           NoSQL      0\n",
      "17           Linux      0\n",
      "18               C      0\n",
      "19          Matlab      0\n",
      "20    Scikit-learn      0\n",
      "21          Pandas      0\n",
      "22             Git      0\n",
      "23           Keras      0\n",
      "24      Javascript      0\n",
      "25             Pig      0\n",
      "26           Hbase      0\n",
      "27    Google Cloud      0\n",
      "28          Docker      0\n",
      "29           NumPy      0\n",
      "30         PyTorch      0\n",
      "31              C#      0\n",
      "32            SPSS      0\n",
      "33           MySQL      0\n",
      "34            Perl      0\n",
      "35       Cassandra      0\n",
      "36         MongoDB      0\n",
      "37             GCP      0\n",
      "38      Kubernetes      0\n",
      "39              D3      0\n",
      "40      Databricks      0\n",
      "41      postgresql      0\n",
      "42           Caffe      0\n",
      "43         Airflow      0\n",
      "44         Alteryx      0\n",
      "45        BigQuery      0\n",
      "46          Fastai      0\n",
      "              Name Simply\n",
      "0   Data Scientist   2891\n",
      "1           Python   2213\n",
      "2              SQL   1614\n",
      "3                R   1268\n",
      "4            Spark    572\n",
      "5           Hadoop    352\n",
      "6             Java    423\n",
      "7          Tableau    623\n",
      "8              AWS    618\n",
      "9              SAS    308\n",
      "10            Hive    196\n",
      "11           Scala    236\n",
      "12           Excel    369\n",
      "13      TensorFlow      0\n",
      "14             C++      0\n",
      "15           Azure      0\n",
      "16           NoSQL      0\n",
      "17           Linux      0\n",
      "18               C      0\n",
      "19          Matlab      0\n",
      "20    Scikit-learn      0\n",
      "21          Pandas      0\n",
      "22             Git      0\n",
      "23           Keras      0\n",
      "24      Javascript      0\n",
      "25             Pig      0\n",
      "26           Hbase      0\n",
      "27    Google Cloud      0\n",
      "28          Docker      0\n",
      "29           NumPy      0\n",
      "30         PyTorch      0\n",
      "31              C#      0\n",
      "32            SPSS      0\n",
      "33           MySQL      0\n",
      "34            Perl      0\n",
      "35       Cassandra      0\n",
      "36         MongoDB      0\n",
      "37             GCP      0\n",
      "38      Kubernetes      0\n",
      "39              D3      0\n",
      "40      Databricks      0\n",
      "41      postgresql      0\n",
      "42           Caffe      0\n",
      "43         Airflow      0\n",
      "44         Alteryx      0\n",
      "45        BigQuery      0\n",
      "46          Fastai      0\n",
      "              Name Simply\n",
      "0   Data Scientist   2891\n",
      "1           Python   2213\n",
      "2              SQL   1614\n",
      "3                R   1268\n",
      "4            Spark    572\n",
      "5           Hadoop    352\n",
      "6             Java    423\n",
      "7          Tableau    623\n",
      "8              AWS    618\n",
      "9              SAS    308\n",
      "10            Hive    196\n",
      "11           Scala    236\n",
      "12           Excel    369\n",
      "13      TensorFlow    451\n",
      "14             C++      0\n",
      "15           Azure      0\n",
      "16           NoSQL      0\n",
      "17           Linux      0\n",
      "18               C      0\n",
      "19          Matlab      0\n",
      "20    Scikit-learn      0\n",
      "21          Pandas      0\n",
      "22             Git      0\n",
      "23           Keras      0\n",
      "24      Javascript      0\n",
      "25             Pig      0\n",
      "26           Hbase      0\n",
      "27    Google Cloud      0\n",
      "28          Docker      0\n",
      "29           NumPy      0\n",
      "30         PyTorch      0\n",
      "31              C#      0\n",
      "32            SPSS      0\n",
      "33           MySQL      0\n",
      "34            Perl      0\n",
      "35       Cassandra      0\n",
      "36         MongoDB      0\n",
      "37             GCP      0\n",
      "38      Kubernetes      0\n",
      "39              D3      0\n",
      "40      Databricks      0\n",
      "41      postgresql      0\n",
      "42           Caffe      0\n",
      "43         Airflow      0\n",
      "44         Alteryx      0\n",
      "45        BigQuery      0\n",
      "46          Fastai      0\n",
      "              Name Simply\n",
      "0   Data Scientist   2891\n",
      "1           Python   2213\n",
      "2              SQL   1614\n",
      "3                R   1268\n",
      "4            Spark    572\n",
      "5           Hadoop    352\n",
      "6             Java    423\n",
      "7          Tableau    623\n",
      "8              AWS    618\n",
      "9              SAS    308\n",
      "10            Hive    196\n",
      "11           Scala    236\n",
      "12           Excel    369\n",
      "13      TensorFlow    451\n",
      "14             C++    226\n",
      "15           Azure      0\n",
      "16           NoSQL      0\n",
      "17           Linux      0\n",
      "18               C      0\n",
      "19          Matlab      0\n",
      "20    Scikit-learn      0\n",
      "21          Pandas      0\n",
      "22             Git      0\n",
      "23           Keras      0\n",
      "24      Javascript      0\n",
      "25             Pig      0\n",
      "26           Hbase      0\n",
      "27    Google Cloud      0\n",
      "28          Docker      0\n",
      "29           NumPy      0\n",
      "30         PyTorch      0\n",
      "31              C#      0\n",
      "32            SPSS      0\n",
      "33           MySQL      0\n",
      "34            Perl      0\n",
      "35       Cassandra      0\n",
      "36         MongoDB      0\n",
      "37             GCP      0\n",
      "38      Kubernetes      0\n",
      "39              D3      0\n",
      "40      Databricks      0\n",
      "41      postgresql      0\n",
      "42           Caffe      0\n",
      "43         Airflow      0\n",
      "44         Alteryx      0\n",
      "45        BigQuery      0\n",
      "46          Fastai      0\n",
      "              Name Simply\n",
      "0   Data Scientist   2891\n",
      "1           Python   2213\n",
      "2              SQL   1614\n",
      "3                R   1268\n",
      "4            Spark    572\n",
      "5           Hadoop    352\n",
      "6             Java    423\n",
      "7          Tableau    623\n",
      "8              AWS    618\n",
      "9              SAS    308\n",
      "10            Hive    196\n",
      "11           Scala    236\n",
      "12           Excel    369\n",
      "13      TensorFlow    451\n",
      "14             C++    226\n",
      "15           Azure    419\n",
      "16           NoSQL      0\n",
      "17           Linux      0\n",
      "18               C      0\n",
      "19          Matlab      0\n",
      "20    Scikit-learn      0\n",
      "21          Pandas      0\n",
      "22             Git      0\n",
      "23           Keras      0\n",
      "24      Javascript      0\n",
      "25             Pig      0\n",
      "26           Hbase      0\n",
      "27    Google Cloud      0\n",
      "28          Docker      0\n",
      "29           NumPy      0\n",
      "30         PyTorch      0\n",
      "31              C#      0\n",
      "32            SPSS      0\n",
      "33           MySQL      0\n",
      "34            Perl      0\n",
      "35       Cassandra      0\n",
      "36         MongoDB      0\n",
      "37             GCP      0\n",
      "38      Kubernetes      0\n",
      "39              D3      0\n",
      "40      Databricks      0\n",
      "41      postgresql      0\n",
      "42           Caffe      0\n",
      "43         Airflow      0\n",
      "44         Alteryx      0\n",
      "45        BigQuery      0\n",
      "46          Fastai      0\n",
      "              Name Simply\n",
      "0   Data Scientist   2891\n",
      "1           Python   2213\n",
      "2              SQL   1614\n",
      "3                R   1268\n",
      "4            Spark    572\n",
      "5           Hadoop    352\n",
      "6             Java    423\n",
      "7          Tableau    623\n",
      "8              AWS    618\n",
      "9              SAS    308\n",
      "10            Hive    196\n",
      "11           Scala    236\n",
      "12           Excel    369\n",
      "13      TensorFlow    451\n",
      "14             C++    226\n",
      "15           Azure    419\n",
      "16           NoSQL    184\n",
      "17           Linux      0\n",
      "18               C      0\n",
      "19          Matlab      0\n",
      "20    Scikit-learn      0\n",
      "21          Pandas      0\n",
      "22             Git      0\n",
      "23           Keras      0\n",
      "24      Javascript      0\n",
      "25             Pig      0\n",
      "26           Hbase      0\n",
      "27    Google Cloud      0\n",
      "28          Docker      0\n",
      "29           NumPy      0\n",
      "30         PyTorch      0\n",
      "31              C#      0\n",
      "32            SPSS      0\n",
      "33           MySQL      0\n",
      "34            Perl      0\n",
      "35       Cassandra      0\n",
      "36         MongoDB      0\n",
      "37             GCP      0\n",
      "38      Kubernetes      0\n",
      "39              D3      0\n",
      "40      Databricks      0\n",
      "41      postgresql      0\n",
      "42           Caffe      0\n",
      "43         Airflow      0\n",
      "44         Alteryx      0\n",
      "45        BigQuery      0\n",
      "46          Fastai      0\n",
      "              Name Simply\n",
      "0   Data Scientist   2891\n",
      "1           Python   2213\n",
      "2              SQL   1614\n",
      "3                R   1268\n",
      "4            Spark    572\n",
      "5           Hadoop    352\n",
      "6             Java    423\n",
      "7          Tableau    623\n",
      "8              AWS    618\n",
      "9              SAS    308\n",
      "10            Hive    196\n",
      "11           Scala    236\n",
      "12           Excel    369\n",
      "13      TensorFlow    451\n",
      "14             C++    226\n",
      "15           Azure    419\n",
      "16           NoSQL    184\n",
      "17           Linux    161\n",
      "18               C      0\n",
      "19          Matlab      0\n",
      "20    Scikit-learn      0\n",
      "21          Pandas      0\n",
      "22             Git      0\n",
      "23           Keras      0\n",
      "24      Javascript      0\n",
      "25             Pig      0\n",
      "26           Hbase      0\n",
      "27    Google Cloud      0\n",
      "28          Docker      0\n",
      "29           NumPy      0\n",
      "30         PyTorch      0\n",
      "31              C#      0\n",
      "32            SPSS      0\n",
      "33           MySQL      0\n",
      "34            Perl      0\n",
      "35       Cassandra      0\n",
      "36         MongoDB      0\n",
      "37             GCP      0\n",
      "38      Kubernetes      0\n",
      "39              D3      0\n",
      "40      Databricks      0\n",
      "41      postgresql      0\n",
      "42           Caffe      0\n",
      "43         Airflow      0\n",
      "44         Alteryx      0\n",
      "45        BigQuery      0\n",
      "46          Fastai      0\n",
      "              Name Simply\n",
      "0   Data Scientist   2891\n",
      "1           Python   2213\n",
      "2              SQL   1614\n",
      "3                R   1268\n",
      "4            Spark    572\n",
      "5           Hadoop    352\n",
      "6             Java    423\n",
      "7          Tableau    623\n",
      "8              AWS    618\n",
      "9              SAS    308\n",
      "10            Hive    196\n",
      "11           Scala    236\n",
      "12           Excel    369\n",
      "13      TensorFlow    451\n",
      "14             C++    226\n",
      "15           Azure    419\n",
      "16           NoSQL    184\n",
      "17           Linux    161\n",
      "18               C    226\n",
      "19          Matlab      0\n",
      "20    Scikit-learn      0\n",
      "21          Pandas      0\n",
      "22             Git      0\n",
      "23           Keras      0\n",
      "24      Javascript      0\n",
      "25             Pig      0\n",
      "26           Hbase      0\n",
      "27    Google Cloud      0\n",
      "28          Docker      0\n",
      "29           NumPy      0\n",
      "30         PyTorch      0\n",
      "31              C#      0\n",
      "32            SPSS      0\n",
      "33           MySQL      0\n",
      "34            Perl      0\n",
      "35       Cassandra      0\n",
      "36         MongoDB      0\n",
      "37             GCP      0\n",
      "38      Kubernetes      0\n",
      "39              D3      0\n",
      "40      Databricks      0\n",
      "41      postgresql      0\n",
      "42           Caffe      0\n",
      "43         Airflow      0\n",
      "44         Alteryx      0\n",
      "45        BigQuery      0\n",
      "46          Fastai      0\n",
      "              Name Simply\n",
      "0   Data Scientist   2891\n",
      "1           Python   2213\n",
      "2              SQL   1614\n",
      "3                R   1268\n",
      "4            Spark    572\n",
      "5           Hadoop    352\n",
      "6             Java    423\n",
      "7          Tableau    623\n",
      "8              AWS    618\n",
      "9              SAS    308\n",
      "10            Hive    196\n",
      "11           Scala    236\n",
      "12           Excel    369\n",
      "13      TensorFlow    451\n",
      "14             C++    226\n",
      "15           Azure    419\n",
      "16           NoSQL    184\n",
      "17           Linux    161\n",
      "18               C    226\n",
      "19          Matlab    199\n",
      "20    Scikit-learn      0\n",
      "21          Pandas      0\n",
      "22             Git      0\n",
      "23           Keras      0\n",
      "24      Javascript      0\n",
      "25             Pig      0\n",
      "26           Hbase      0\n",
      "27    Google Cloud      0\n",
      "28          Docker      0\n",
      "29           NumPy      0\n",
      "30         PyTorch      0\n",
      "31              C#      0\n",
      "32            SPSS      0\n",
      "33           MySQL      0\n",
      "34            Perl      0\n",
      "35       Cassandra      0\n",
      "36         MongoDB      0\n",
      "37             GCP      0\n",
      "38      Kubernetes      0\n",
      "39              D3      0\n",
      "40      Databricks      0\n",
      "41      postgresql      0\n",
      "42           Caffe      0\n",
      "43         Airflow      0\n",
      "44         Alteryx      0\n",
      "45        BigQuery      0\n",
      "46          Fastai      0\n",
      "              Name Simply\n",
      "0   Data Scientist   2891\n",
      "1           Python   2213\n",
      "2              SQL   1614\n",
      "3                R   1268\n",
      "4            Spark    572\n",
      "5           Hadoop    352\n",
      "6             Java    423\n",
      "7          Tableau    623\n",
      "8              AWS    618\n",
      "9              SAS    308\n",
      "10            Hive    196\n",
      "11           Scala    236\n",
      "12           Excel    369\n",
      "13      TensorFlow    451\n",
      "14             C++    226\n",
      "15           Azure    419\n",
      "16           NoSQL    184\n",
      "17           Linux    161\n",
      "18               C    226\n",
      "19          Matlab    199\n",
      "20    Scikit-learn    319\n",
      "21          Pandas      0\n",
      "22             Git      0\n",
      "23           Keras      0\n",
      "24      Javascript      0\n",
      "25             Pig      0\n",
      "26           Hbase      0\n",
      "27    Google Cloud      0\n",
      "28          Docker      0\n",
      "29           NumPy      0\n",
      "30         PyTorch      0\n",
      "31              C#      0\n",
      "32            SPSS      0\n",
      "33           MySQL      0\n",
      "34            Perl      0\n",
      "35       Cassandra      0\n",
      "36         MongoDB      0\n",
      "37             GCP      0\n",
      "38      Kubernetes      0\n",
      "39              D3      0\n",
      "40      Databricks      0\n",
      "41      postgresql      0\n",
      "42           Caffe      0\n",
      "43         Airflow      0\n",
      "44         Alteryx      0\n",
      "45        BigQuery      0\n",
      "46          Fastai      0\n",
      "              Name Simply\n",
      "0   Data Scientist   2891\n",
      "1           Python   2213\n",
      "2              SQL   1614\n",
      "3                R   1268\n",
      "4            Spark    572\n",
      "5           Hadoop    352\n",
      "6             Java    423\n",
      "7          Tableau    623\n",
      "8              AWS    618\n",
      "9              SAS    308\n",
      "10            Hive    196\n",
      "11           Scala    236\n",
      "12           Excel    369\n",
      "13      TensorFlow    451\n",
      "14             C++    226\n",
      "15           Azure    419\n",
      "16           NoSQL    184\n",
      "17           Linux    161\n",
      "18               C    226\n",
      "19          Matlab    199\n",
      "20    Scikit-learn    319\n",
      "21          Pandas    311\n",
      "22             Git      0\n",
      "23           Keras      0\n",
      "24      Javascript      0\n",
      "25             Pig      0\n",
      "26           Hbase      0\n",
      "27    Google Cloud      0\n",
      "28          Docker      0\n",
      "29           NumPy      0\n",
      "30         PyTorch      0\n",
      "31              C#      0\n",
      "32            SPSS      0\n",
      "33           MySQL      0\n",
      "34            Perl      0\n",
      "35       Cassandra      0\n",
      "36         MongoDB      0\n",
      "37             GCP      0\n",
      "38      Kubernetes      0\n",
      "39              D3      0\n",
      "40      Databricks      0\n",
      "41      postgresql      0\n",
      "42           Caffe      0\n",
      "43         Airflow      0\n",
      "44         Alteryx      0\n",
      "45        BigQuery      0\n",
      "46          Fastai      0\n",
      "              Name Simply\n",
      "0   Data Scientist   2891\n",
      "1           Python   2213\n",
      "2              SQL   1614\n",
      "3                R   1268\n",
      "4            Spark    572\n",
      "5           Hadoop    352\n",
      "6             Java    423\n",
      "7          Tableau    623\n",
      "8              AWS    618\n",
      "9              SAS    308\n",
      "10            Hive    196\n",
      "11           Scala    236\n",
      "12           Excel    369\n",
      "13      TensorFlow    451\n",
      "14             C++    226\n",
      "15           Azure    419\n",
      "16           NoSQL    184\n",
      "17           Linux    161\n",
      "18               C    226\n",
      "19          Matlab    199\n",
      "20    Scikit-learn    319\n",
      "21          Pandas    311\n",
      "22             Git    241\n",
      "23           Keras      0\n",
      "24      Javascript      0\n",
      "25             Pig      0\n",
      "26           Hbase      0\n",
      "27    Google Cloud      0\n",
      "28          Docker      0\n",
      "29           NumPy      0\n",
      "30         PyTorch      0\n",
      "31              C#      0\n",
      "32            SPSS      0\n",
      "33           MySQL      0\n",
      "34            Perl      0\n",
      "35       Cassandra      0\n",
      "36         MongoDB      0\n",
      "37             GCP      0\n",
      "38      Kubernetes      0\n",
      "39              D3      0\n",
      "40      Databricks      0\n",
      "41      postgresql      0\n",
      "42           Caffe      0\n",
      "43         Airflow      0\n",
      "44         Alteryx      0\n",
      "45        BigQuery      0\n",
      "46          Fastai      0\n",
      "              Name Simply\n",
      "0   Data Scientist   2891\n",
      "1           Python   2213\n",
      "2              SQL   1614\n",
      "3                R   1268\n",
      "4            Spark    572\n",
      "5           Hadoop    352\n",
      "6             Java    423\n",
      "7          Tableau    623\n",
      "8              AWS    618\n",
      "9              SAS    308\n",
      "10            Hive    196\n",
      "11           Scala    236\n",
      "12           Excel    369\n",
      "13      TensorFlow    451\n",
      "14             C++    226\n",
      "15           Azure    419\n",
      "16           NoSQL    184\n",
      "17           Linux    161\n",
      "18               C    226\n",
      "19          Matlab    199\n",
      "20    Scikit-learn    319\n",
      "21          Pandas    311\n",
      "22             Git    241\n",
      "23           Keras    150\n",
      "24      Javascript      0\n",
      "25             Pig      0\n",
      "26           Hbase      0\n",
      "27    Google Cloud      0\n",
      "28          Docker      0\n",
      "29           NumPy      0\n",
      "30         PyTorch      0\n",
      "31              C#      0\n",
      "32            SPSS      0\n",
      "33           MySQL      0\n",
      "34            Perl      0\n",
      "35       Cassandra      0\n",
      "36         MongoDB      0\n",
      "37             GCP      0\n",
      "38      Kubernetes      0\n",
      "39              D3      0\n",
      "40      Databricks      0\n",
      "41      postgresql      0\n",
      "42           Caffe      0\n",
      "43         Airflow      0\n",
      "44         Alteryx      0\n",
      "45        BigQuery      0\n",
      "46          Fastai      0\n",
      "              Name Simply\n",
      "0   Data Scientist   2891\n",
      "1           Python   2213\n",
      "2              SQL   1614\n",
      "3                R   1268\n",
      "4            Spark    572\n",
      "5           Hadoop    352\n",
      "6             Java    423\n",
      "7          Tableau    623\n",
      "8              AWS    618\n",
      "9              SAS    308\n",
      "10            Hive    196\n",
      "11           Scala    236\n",
      "12           Excel    369\n",
      "13      TensorFlow    451\n",
      "14             C++    226\n",
      "15           Azure    419\n",
      "16           NoSQL    184\n",
      "17           Linux    161\n",
      "18               C    226\n",
      "19          Matlab    199\n",
      "20    Scikit-learn    319\n",
      "21          Pandas    311\n",
      "22             Git    241\n",
      "23           Keras    150\n",
      "24      Javascript    149\n",
      "25             Pig      0\n",
      "26           Hbase      0\n",
      "27    Google Cloud      0\n",
      "28          Docker      0\n",
      "29           NumPy      0\n",
      "30         PyTorch      0\n",
      "31              C#      0\n",
      "32            SPSS      0\n",
      "33           MySQL      0\n",
      "34            Perl      0\n",
      "35       Cassandra      0\n",
      "36         MongoDB      0\n",
      "37             GCP      0\n",
      "38      Kubernetes      0\n",
      "39              D3      0\n",
      "40      Databricks      0\n",
      "41      postgresql      0\n",
      "42           Caffe      0\n",
      "43         Airflow      0\n",
      "44         Alteryx      0\n",
      "45        BigQuery      0\n",
      "46          Fastai      0\n",
      "              Name Simply\n",
      "0   Data Scientist   2891\n",
      "1           Python   2213\n",
      "2              SQL   1614\n",
      "3                R   1268\n",
      "4            Spark    572\n",
      "5           Hadoop    352\n",
      "6             Java    423\n",
      "7          Tableau    623\n",
      "8              AWS    618\n",
      "9              SAS    308\n",
      "10            Hive    196\n",
      "11           Scala    236\n",
      "12           Excel    369\n",
      "13      TensorFlow    451\n",
      "14             C++    226\n",
      "15           Azure    419\n",
      "16           NoSQL    184\n",
      "17           Linux    161\n",
      "18               C    226\n",
      "19          Matlab    199\n",
      "20    Scikit-learn    319\n",
      "21          Pandas    311\n",
      "22             Git    241\n",
      "23           Keras    150\n",
      "24      Javascript    149\n",
      "25             Pig     66\n",
      "26           Hbase      0\n",
      "27    Google Cloud      0\n",
      "28          Docker      0\n",
      "29           NumPy      0\n",
      "30         PyTorch      0\n",
      "31              C#      0\n",
      "32            SPSS      0\n",
      "33           MySQL      0\n",
      "34            Perl      0\n",
      "35       Cassandra      0\n",
      "36         MongoDB      0\n",
      "37             GCP      0\n",
      "38      Kubernetes      0\n",
      "39              D3      0\n",
      "40      Databricks      0\n",
      "41      postgresql      0\n",
      "42           Caffe      0\n",
      "43         Airflow      0\n",
      "44         Alteryx      0\n",
      "45        BigQuery      0\n",
      "46          Fastai      0\n",
      "              Name Simply\n",
      "0   Data Scientist   2891\n",
      "1           Python   2213\n",
      "2              SQL   1614\n",
      "3                R   1268\n",
      "4            Spark    572\n",
      "5           Hadoop    352\n",
      "6             Java    423\n",
      "7          Tableau    623\n",
      "8              AWS    618\n",
      "9              SAS    308\n",
      "10            Hive    196\n",
      "11           Scala    236\n",
      "12           Excel    369\n",
      "13      TensorFlow    451\n",
      "14             C++    226\n",
      "15           Azure    419\n",
      "16           NoSQL    184\n",
      "17           Linux    161\n",
      "18               C    226\n",
      "19          Matlab    199\n",
      "20    Scikit-learn    319\n",
      "21          Pandas    311\n",
      "22             Git    241\n",
      "23           Keras    150\n",
      "24      Javascript    149\n",
      "25             Pig     66\n",
      "26           Hbase     27\n",
      "27    Google Cloud      0\n",
      "28          Docker      0\n",
      "29           NumPy      0\n",
      "30         PyTorch      0\n",
      "31              C#      0\n",
      "32            SPSS      0\n",
      "33           MySQL      0\n",
      "34            Perl      0\n",
      "35       Cassandra      0\n",
      "36         MongoDB      0\n",
      "37             GCP      0\n",
      "38      Kubernetes      0\n",
      "39              D3      0\n",
      "40      Databricks      0\n",
      "41      postgresql      0\n",
      "42           Caffe      0\n",
      "43         Airflow      0\n",
      "44         Alteryx      0\n",
      "45        BigQuery      0\n",
      "46          Fastai      0\n",
      "              Name Simply\n",
      "0   Data Scientist   2891\n",
      "1           Python   2213\n",
      "2              SQL   1614\n",
      "3                R   1268\n",
      "4            Spark    572\n",
      "5           Hadoop    352\n",
      "6             Java    423\n",
      "7          Tableau    623\n",
      "8              AWS    618\n",
      "9              SAS    308\n",
      "10            Hive    196\n",
      "11           Scala    236\n",
      "12           Excel    369\n",
      "13      TensorFlow    451\n",
      "14             C++    226\n",
      "15           Azure    419\n",
      "16           NoSQL    184\n",
      "17           Linux    161\n",
      "18               C    226\n",
      "19          Matlab    199\n",
      "20    Scikit-learn    319\n",
      "21          Pandas    311\n",
      "22             Git    241\n",
      "23           Keras    150\n",
      "24      Javascript    149\n",
      "25             Pig     66\n",
      "26           Hbase     27\n",
      "27    Google Cloud    101\n",
      "28          Docker      0\n",
      "29           NumPy      0\n",
      "30         PyTorch      0\n",
      "31              C#      0\n",
      "32            SPSS      0\n",
      "33           MySQL      0\n",
      "34            Perl      0\n",
      "35       Cassandra      0\n",
      "36         MongoDB      0\n",
      "37             GCP      0\n",
      "38      Kubernetes      0\n",
      "39              D3      0\n",
      "40      Databricks      0\n",
      "41      postgresql      0\n",
      "42           Caffe      0\n",
      "43         Airflow      0\n",
      "44         Alteryx      0\n",
      "45        BigQuery      0\n",
      "46          Fastai      0\n",
      "              Name Simply\n",
      "0   Data Scientist   2891\n",
      "1           Python   2213\n",
      "2              SQL   1614\n",
      "3                R   1268\n",
      "4            Spark    572\n",
      "5           Hadoop    352\n",
      "6             Java    423\n",
      "7          Tableau    623\n",
      "8              AWS    618\n",
      "9              SAS    308\n",
      "10            Hive    196\n",
      "11           Scala    236\n",
      "12           Excel    369\n",
      "13      TensorFlow    451\n",
      "14             C++    226\n",
      "15           Azure    419\n",
      "16           NoSQL    184\n",
      "17           Linux    161\n",
      "18               C    226\n",
      "19          Matlab    199\n",
      "20    Scikit-learn    319\n",
      "21          Pandas    311\n",
      "22             Git    241\n",
      "23           Keras    150\n",
      "24      Javascript    149\n",
      "25             Pig     66\n",
      "26           Hbase     27\n",
      "27    Google Cloud    101\n",
      "28          Docker    157\n",
      "29           NumPy      0\n",
      "30         PyTorch      0\n",
      "31              C#      0\n",
      "32            SPSS      0\n",
      "33           MySQL      0\n",
      "34            Perl      0\n",
      "35       Cassandra      0\n",
      "36         MongoDB      0\n",
      "37             GCP      0\n",
      "38      Kubernetes      0\n",
      "39              D3      0\n",
      "40      Databricks      0\n",
      "41      postgresql      0\n",
      "42           Caffe      0\n",
      "43         Airflow      0\n",
      "44         Alteryx      0\n",
      "45        BigQuery      0\n",
      "46          Fastai      0\n",
      "              Name Simply\n",
      "0   Data Scientist   2891\n",
      "1           Python   2213\n",
      "2              SQL   1614\n",
      "3                R   1268\n",
      "4            Spark    572\n",
      "5           Hadoop    352\n",
      "6             Java    423\n",
      "7          Tableau    623\n",
      "8              AWS    618\n",
      "9              SAS    308\n",
      "10            Hive    196\n",
      "11           Scala    236\n",
      "12           Excel    369\n",
      "13      TensorFlow    451\n",
      "14             C++    226\n",
      "15           Azure    419\n",
      "16           NoSQL    184\n",
      "17           Linux    161\n",
      "18               C    226\n",
      "19          Matlab    199\n",
      "20    Scikit-learn    319\n",
      "21          Pandas    311\n",
      "22             Git    241\n",
      "23           Keras    150\n",
      "24      Javascript    149\n",
      "25             Pig     66\n",
      "26           Hbase     27\n",
      "27    Google Cloud    101\n",
      "28          Docker    157\n",
      "29           NumPy    212\n",
      "30         PyTorch      0\n",
      "31              C#      0\n",
      "32            SPSS      0\n",
      "33           MySQL      0\n",
      "34            Perl      0\n",
      "35       Cassandra      0\n",
      "36         MongoDB      0\n",
      "37             GCP      0\n",
      "38      Kubernetes      0\n",
      "39              D3      0\n",
      "40      Databricks      0\n",
      "41      postgresql      0\n",
      "42           Caffe      0\n",
      "43         Airflow      0\n",
      "44         Alteryx      0\n",
      "45        BigQuery      0\n",
      "46          Fastai      0\n",
      "              Name Simply\n",
      "0   Data Scientist   2891\n",
      "1           Python   2213\n",
      "2              SQL   1614\n",
      "3                R   1268\n",
      "4            Spark    572\n",
      "5           Hadoop    352\n",
      "6             Java    423\n",
      "7          Tableau    623\n",
      "8              AWS    618\n",
      "9              SAS    308\n",
      "10            Hive    196\n",
      "11           Scala    236\n",
      "12           Excel    369\n",
      "13      TensorFlow    451\n",
      "14             C++    226\n",
      "15           Azure    419\n",
      "16           NoSQL    184\n",
      "17           Linux    161\n",
      "18               C    226\n",
      "19          Matlab    199\n",
      "20    Scikit-learn    319\n",
      "21          Pandas    311\n",
      "22             Git    241\n",
      "23           Keras    150\n",
      "24      Javascript    149\n",
      "25             Pig     66\n",
      "26           Hbase     27\n",
      "27    Google Cloud    101\n",
      "28          Docker    157\n",
      "29           NumPy    212\n",
      "30         PyTorch    386\n",
      "31              C#      0\n",
      "32            SPSS      0\n",
      "33           MySQL      0\n",
      "34            Perl      0\n",
      "35       Cassandra      0\n",
      "36         MongoDB      0\n",
      "37             GCP      0\n",
      "38      Kubernetes      0\n",
      "39              D3      0\n",
      "40      Databricks      0\n",
      "41      postgresql      0\n",
      "42           Caffe      0\n",
      "43         Airflow      0\n",
      "44         Alteryx      0\n",
      "45        BigQuery      0\n",
      "46          Fastai      0\n",
      "              Name Simply\n",
      "0   Data Scientist   2891\n",
      "1           Python   2213\n",
      "2              SQL   1614\n",
      "3                R   1268\n",
      "4            Spark    572\n",
      "5           Hadoop    352\n",
      "6             Java    423\n",
      "7          Tableau    623\n",
      "8              AWS    618\n",
      "9              SAS    308\n",
      "10            Hive    196\n",
      "11           Scala    236\n",
      "12           Excel    369\n",
      "13      TensorFlow    451\n",
      "14             C++    226\n",
      "15           Azure    419\n",
      "16           NoSQL    184\n",
      "17           Linux    161\n",
      "18               C    226\n",
      "19          Matlab    199\n",
      "20    Scikit-learn    319\n",
      "21          Pandas    311\n",
      "22             Git    241\n",
      "23           Keras    150\n",
      "24      Javascript    149\n",
      "25             Pig     66\n",
      "26           Hbase     27\n",
      "27    Google Cloud    101\n",
      "28          Docker    157\n",
      "29           NumPy    212\n",
      "30         PyTorch    386\n",
      "31              C#    226\n",
      "32            SPSS      0\n",
      "33           MySQL      0\n",
      "34            Perl      0\n",
      "35       Cassandra      0\n",
      "36         MongoDB      0\n",
      "37             GCP      0\n",
      "38      Kubernetes      0\n",
      "39              D3      0\n",
      "40      Databricks      0\n",
      "41      postgresql      0\n",
      "42           Caffe      0\n",
      "43         Airflow      0\n",
      "44         Alteryx      0\n",
      "45        BigQuery      0\n",
      "46          Fastai      0\n",
      "              Name Simply\n",
      "0   Data Scientist   2891\n",
      "1           Python   2213\n",
      "2              SQL   1614\n",
      "3                R   1268\n",
      "4            Spark    572\n",
      "5           Hadoop    352\n",
      "6             Java    423\n",
      "7          Tableau    623\n",
      "8              AWS    618\n",
      "9              SAS    308\n",
      "10            Hive    196\n",
      "11           Scala    236\n",
      "12           Excel    369\n",
      "13      TensorFlow    451\n",
      "14             C++    226\n",
      "15           Azure    419\n",
      "16           NoSQL    184\n",
      "17           Linux    161\n",
      "18               C    226\n",
      "19          Matlab    199\n",
      "20    Scikit-learn    319\n",
      "21          Pandas    311\n",
      "22             Git    241\n",
      "23           Keras    150\n",
      "24      Javascript    149\n",
      "25             Pig     66\n",
      "26           Hbase     27\n",
      "27    Google Cloud    101\n",
      "28          Docker    157\n",
      "29           NumPy    212\n",
      "30         PyTorch    386\n",
      "31              C#    226\n",
      "32            SPSS     76\n",
      "33           MySQL      0\n",
      "34            Perl      0\n",
      "35       Cassandra      0\n",
      "36         MongoDB      0\n",
      "37             GCP      0\n",
      "38      Kubernetes      0\n",
      "39              D3      0\n",
      "40      Databricks      0\n",
      "41      postgresql      0\n",
      "42           Caffe      0\n",
      "43         Airflow      0\n",
      "44         Alteryx      0\n",
      "45        BigQuery      0\n",
      "46          Fastai      0\n",
      "              Name Simply\n",
      "0   Data Scientist   2891\n",
      "1           Python   2213\n",
      "2              SQL   1614\n",
      "3                R   1268\n",
      "4            Spark    572\n",
      "5           Hadoop    352\n",
      "6             Java    423\n",
      "7          Tableau    623\n",
      "8              AWS    618\n",
      "9              SAS    308\n",
      "10            Hive    196\n",
      "11           Scala    236\n",
      "12           Excel    369\n",
      "13      TensorFlow    451\n",
      "14             C++    226\n",
      "15           Azure    419\n",
      "16           NoSQL    184\n",
      "17           Linux    161\n",
      "18               C    226\n",
      "19          Matlab    199\n",
      "20    Scikit-learn    319\n",
      "21          Pandas    311\n",
      "22             Git    241\n",
      "23           Keras    150\n",
      "24      Javascript    149\n",
      "25             Pig     66\n",
      "26           Hbase     27\n",
      "27    Google Cloud    101\n",
      "28          Docker    157\n",
      "29           NumPy    212\n",
      "30         PyTorch    386\n",
      "31              C#    226\n",
      "32            SPSS     76\n",
      "33           MySQL    105\n",
      "34            Perl      0\n",
      "35       Cassandra      0\n",
      "36         MongoDB      0\n",
      "37             GCP      0\n",
      "38      Kubernetes      0\n",
      "39              D3      0\n",
      "40      Databricks      0\n",
      "41      postgresql      0\n",
      "42           Caffe      0\n",
      "43         Airflow      0\n",
      "44         Alteryx      0\n",
      "45        BigQuery      0\n",
      "46          Fastai      0\n",
      "              Name Simply\n",
      "0   Data Scientist   2891\n",
      "1           Python   2213\n",
      "2              SQL   1614\n",
      "3                R   1268\n",
      "4            Spark    572\n",
      "5           Hadoop    352\n",
      "6             Java    423\n",
      "7          Tableau    623\n",
      "8              AWS    618\n",
      "9              SAS    308\n",
      "10            Hive    196\n",
      "11           Scala    236\n",
      "12           Excel    369\n",
      "13      TensorFlow    451\n",
      "14             C++    226\n",
      "15           Azure    419\n",
      "16           NoSQL    184\n",
      "17           Linux    161\n",
      "18               C    226\n",
      "19          Matlab    199\n",
      "20    Scikit-learn    319\n",
      "21          Pandas    311\n",
      "22             Git    241\n",
      "23           Keras    150\n",
      "24      Javascript    149\n",
      "25             Pig     66\n",
      "26           Hbase     27\n",
      "27    Google Cloud    101\n",
      "28          Docker    157\n",
      "29           NumPy    212\n",
      "30         PyTorch    386\n",
      "31              C#    226\n",
      "32            SPSS     76\n",
      "33           MySQL    105\n",
      "34            Perl     38\n",
      "35       Cassandra      0\n",
      "36         MongoDB      0\n",
      "37             GCP      0\n",
      "38      Kubernetes      0\n",
      "39              D3      0\n",
      "40      Databricks      0\n",
      "41      postgresql      0\n",
      "42           Caffe      0\n",
      "43         Airflow      0\n",
      "44         Alteryx      0\n",
      "45        BigQuery      0\n",
      "46          Fastai      0\n",
      "              Name Simply\n",
      "0   Data Scientist   2891\n",
      "1           Python   2213\n",
      "2              SQL   1614\n",
      "3                R   1268\n",
      "4            Spark    572\n",
      "5           Hadoop    352\n",
      "6             Java    423\n",
      "7          Tableau    623\n",
      "8              AWS    618\n",
      "9              SAS    308\n",
      "10            Hive    196\n",
      "11           Scala    236\n",
      "12           Excel    369\n",
      "13      TensorFlow    451\n",
      "14             C++    226\n",
      "15           Azure    419\n",
      "16           NoSQL    184\n",
      "17           Linux    161\n",
      "18               C    226\n",
      "19          Matlab    199\n",
      "20    Scikit-learn    319\n",
      "21          Pandas    311\n",
      "22             Git    241\n",
      "23           Keras    150\n",
      "24      Javascript    149\n",
      "25             Pig     66\n",
      "26           Hbase     27\n",
      "27    Google Cloud    101\n",
      "28          Docker    157\n",
      "29           NumPy    212\n",
      "30         PyTorch    386\n",
      "31              C#    226\n",
      "32            SPSS     76\n",
      "33           MySQL    105\n",
      "34            Perl     38\n",
      "35       Cassandra     33\n",
      "36         MongoDB      0\n",
      "37             GCP      0\n",
      "38      Kubernetes      0\n",
      "39              D3      0\n",
      "40      Databricks      0\n",
      "41      postgresql      0\n",
      "42           Caffe      0\n",
      "43         Airflow      0\n",
      "44         Alteryx      0\n",
      "45        BigQuery      0\n",
      "46          Fastai      0\n",
      "              Name Simply\n",
      "0   Data Scientist   2891\n",
      "1           Python   2213\n",
      "2              SQL   1614\n",
      "3                R   1268\n",
      "4            Spark    572\n",
      "5           Hadoop    352\n",
      "6             Java    423\n",
      "7          Tableau    623\n",
      "8              AWS    618\n",
      "9              SAS    308\n",
      "10            Hive    196\n",
      "11           Scala    236\n",
      "12           Excel    369\n",
      "13      TensorFlow    451\n",
      "14             C++    226\n",
      "15           Azure    419\n",
      "16           NoSQL    184\n",
      "17           Linux    161\n",
      "18               C    226\n",
      "19          Matlab    199\n",
      "20    Scikit-learn    319\n",
      "21          Pandas    311\n",
      "22             Git    241\n",
      "23           Keras    150\n",
      "24      Javascript    149\n",
      "25             Pig     66\n",
      "26           Hbase     27\n",
      "27    Google Cloud    101\n",
      "28          Docker    157\n",
      "29           NumPy    212\n",
      "30         PyTorch    386\n",
      "31              C#    226\n",
      "32            SPSS     76\n",
      "33           MySQL    105\n",
      "34            Perl     38\n",
      "35       Cassandra     33\n",
      "36         MongoDB     51\n",
      "37             GCP      0\n",
      "38      Kubernetes      0\n",
      "39              D3      0\n",
      "40      Databricks      0\n",
      "41      postgresql      0\n",
      "42           Caffe      0\n",
      "43         Airflow      0\n",
      "44         Alteryx      0\n",
      "45        BigQuery      0\n",
      "46          Fastai      0\n",
      "              Name Simply\n",
      "0   Data Scientist   2891\n",
      "1           Python   2213\n",
      "2              SQL   1614\n",
      "3                R   1268\n",
      "4            Spark    572\n",
      "5           Hadoop    352\n",
      "6             Java    423\n",
      "7          Tableau    623\n",
      "8              AWS    618\n",
      "9              SAS    308\n",
      "10            Hive    196\n",
      "11           Scala    236\n",
      "12           Excel    369\n",
      "13      TensorFlow    451\n",
      "14             C++    226\n",
      "15           Azure    419\n",
      "16           NoSQL    184\n",
      "17           Linux    161\n",
      "18               C    226\n",
      "19          Matlab    199\n",
      "20    Scikit-learn    319\n",
      "21          Pandas    311\n",
      "22             Git    241\n",
      "23           Keras    150\n",
      "24      Javascript    149\n",
      "25             Pig     66\n",
      "26           Hbase     27\n",
      "27    Google Cloud    101\n",
      "28          Docker    157\n",
      "29           NumPy    212\n",
      "30         PyTorch    386\n",
      "31              C#    226\n",
      "32            SPSS     76\n",
      "33           MySQL    105\n",
      "34            Perl     38\n",
      "35       Cassandra     33\n",
      "36         MongoDB     51\n",
      "37             GCP    177\n",
      "38      Kubernetes      0\n",
      "39              D3      0\n",
      "40      Databricks      0\n",
      "41      postgresql      0\n",
      "42           Caffe      0\n",
      "43         Airflow      0\n",
      "44         Alteryx      0\n",
      "45        BigQuery      0\n",
      "46          Fastai      0\n",
      "              Name Simply\n",
      "0   Data Scientist   2891\n",
      "1           Python   2213\n",
      "2              SQL   1614\n",
      "3                R   1268\n",
      "4            Spark    572\n",
      "5           Hadoop    352\n",
      "6             Java    423\n",
      "7          Tableau    623\n",
      "8              AWS    618\n",
      "9              SAS    308\n",
      "10            Hive    196\n",
      "11           Scala    236\n",
      "12           Excel    369\n",
      "13      TensorFlow    451\n",
      "14             C++    226\n",
      "15           Azure    419\n",
      "16           NoSQL    184\n",
      "17           Linux    161\n",
      "18               C    226\n",
      "19          Matlab    199\n",
      "20    Scikit-learn    319\n",
      "21          Pandas    311\n",
      "22             Git    241\n",
      "23           Keras    150\n",
      "24      Javascript    149\n",
      "25             Pig     66\n",
      "26           Hbase     27\n",
      "27    Google Cloud    101\n",
      "28          Docker    157\n",
      "29           NumPy    212\n",
      "30         PyTorch    386\n",
      "31              C#    226\n",
      "32            SPSS     76\n",
      "33           MySQL    105\n",
      "34            Perl     38\n",
      "35       Cassandra     33\n",
      "36         MongoDB     51\n",
      "37             GCP    177\n",
      "38      Kubernetes    119\n",
      "39              D3      0\n",
      "40      Databricks      0\n",
      "41      postgresql      0\n",
      "42           Caffe      0\n",
      "43         Airflow      0\n",
      "44         Alteryx      0\n",
      "45        BigQuery      0\n",
      "46          Fastai      0\n",
      "              Name Simply\n",
      "0   Data Scientist   2891\n",
      "1           Python   2213\n",
      "2              SQL   1614\n",
      "3                R   1268\n",
      "4            Spark    572\n",
      "5           Hadoop    352\n",
      "6             Java    423\n",
      "7          Tableau    623\n",
      "8              AWS    618\n",
      "9              SAS    308\n",
      "10            Hive    196\n",
      "11           Scala    236\n",
      "12           Excel    369\n",
      "13      TensorFlow    451\n",
      "14             C++    226\n",
      "15           Azure    419\n",
      "16           NoSQL    184\n",
      "17           Linux    161\n",
      "18               C    226\n",
      "19          Matlab    199\n",
      "20    Scikit-learn    319\n",
      "21          Pandas    311\n",
      "22             Git    241\n",
      "23           Keras    150\n",
      "24      Javascript    149\n",
      "25             Pig     66\n",
      "26           Hbase     27\n",
      "27    Google Cloud    101\n",
      "28          Docker    157\n",
      "29           NumPy    212\n",
      "30         PyTorch    386\n",
      "31              C#    226\n",
      "32            SPSS     76\n",
      "33           MySQL    105\n",
      "34            Perl     38\n",
      "35       Cassandra     33\n",
      "36         MongoDB     51\n",
      "37             GCP    177\n",
      "38      Kubernetes    119\n",
      "39              D3     20\n",
      "40      Databricks      0\n",
      "41      postgresql      0\n",
      "42           Caffe      0\n",
      "43         Airflow      0\n",
      "44         Alteryx      0\n",
      "45        BigQuery      0\n",
      "46          Fastai      0\n",
      "              Name Simply\n",
      "0   Data Scientist   2891\n",
      "1           Python   2213\n",
      "2              SQL   1614\n",
      "3                R   1268\n",
      "4            Spark    572\n",
      "5           Hadoop    352\n",
      "6             Java    423\n",
      "7          Tableau    623\n",
      "8              AWS    618\n",
      "9              SAS    308\n",
      "10            Hive    196\n",
      "11           Scala    236\n",
      "12           Excel    369\n",
      "13      TensorFlow    451\n",
      "14             C++    226\n",
      "15           Azure    419\n",
      "16           NoSQL    184\n",
      "17           Linux    161\n",
      "18               C    226\n",
      "19          Matlab    199\n",
      "20    Scikit-learn    319\n",
      "21          Pandas    311\n",
      "22             Git    241\n",
      "23           Keras    150\n",
      "24      Javascript    149\n",
      "25             Pig     66\n",
      "26           Hbase     27\n",
      "27    Google Cloud    101\n",
      "28          Docker    157\n",
      "29           NumPy    212\n",
      "30         PyTorch    386\n",
      "31              C#    226\n",
      "32            SPSS     76\n",
      "33           MySQL    105\n",
      "34            Perl     38\n",
      "35       Cassandra     33\n",
      "36         MongoDB     51\n",
      "37             GCP    177\n",
      "38      Kubernetes    119\n",
      "39              D3     20\n",
      "40      Databricks    206\n",
      "41      postgresql      0\n",
      "42           Caffe      0\n",
      "43         Airflow      0\n",
      "44         Alteryx      0\n",
      "45        BigQuery      0\n",
      "46          Fastai      0\n",
      "              Name Simply\n",
      "0   Data Scientist   2891\n",
      "1           Python   2213\n",
      "2              SQL   1614\n",
      "3                R   1268\n",
      "4            Spark    572\n",
      "5           Hadoop    352\n",
      "6             Java    423\n",
      "7          Tableau    623\n",
      "8              AWS    618\n",
      "9              SAS    308\n",
      "10            Hive    196\n",
      "11           Scala    236\n",
      "12           Excel    369\n",
      "13      TensorFlow    451\n",
      "14             C++    226\n",
      "15           Azure    419\n",
      "16           NoSQL    184\n",
      "17           Linux    161\n",
      "18               C    226\n",
      "19          Matlab    199\n",
      "20    Scikit-learn    319\n",
      "21          Pandas    311\n",
      "22             Git    241\n",
      "23           Keras    150\n",
      "24      Javascript    149\n",
      "25             Pig     66\n",
      "26           Hbase     27\n",
      "27    Google Cloud    101\n",
      "28          Docker    157\n",
      "29           NumPy    212\n",
      "30         PyTorch    386\n",
      "31              C#    226\n",
      "32            SPSS     76\n",
      "33           MySQL    105\n",
      "34            Perl     38\n",
      "35       Cassandra     33\n",
      "36         MongoDB     51\n",
      "37             GCP    177\n",
      "38      Kubernetes    119\n",
      "39              D3     20\n",
      "40      Databricks    206\n",
      "41      postgresql     61\n",
      "42           Caffe      0\n",
      "43         Airflow      0\n",
      "44         Alteryx      0\n",
      "45        BigQuery      0\n",
      "46          Fastai      0\n",
      "              Name Simply\n",
      "0   Data Scientist   2891\n",
      "1           Python   2213\n",
      "2              SQL   1614\n",
      "3                R   1268\n",
      "4            Spark    572\n",
      "5           Hadoop    352\n",
      "6             Java    423\n",
      "7          Tableau    623\n",
      "8              AWS    618\n",
      "9              SAS    308\n",
      "10            Hive    196\n",
      "11           Scala    236\n",
      "12           Excel    369\n",
      "13      TensorFlow    451\n",
      "14             C++    226\n",
      "15           Azure    419\n",
      "16           NoSQL    184\n",
      "17           Linux    161\n",
      "18               C    226\n",
      "19          Matlab    199\n",
      "20    Scikit-learn    319\n",
      "21          Pandas    311\n",
      "22             Git    241\n",
      "23           Keras    150\n",
      "24      Javascript    149\n",
      "25             Pig     66\n",
      "26           Hbase     27\n",
      "27    Google Cloud    101\n",
      "28          Docker    157\n",
      "29           NumPy    212\n",
      "30         PyTorch    386\n",
      "31              C#    226\n",
      "32            SPSS     76\n",
      "33           MySQL    105\n",
      "34            Perl     38\n",
      "35       Cassandra     33\n",
      "36         MongoDB     51\n",
      "37             GCP    177\n",
      "38      Kubernetes    119\n",
      "39              D3     20\n",
      "40      Databricks    206\n",
      "41      postgresql     61\n",
      "42           Caffe     21\n",
      "43         Airflow      0\n",
      "44         Alteryx      0\n",
      "45        BigQuery      0\n",
      "46          Fastai      0\n",
      "              Name Simply\n",
      "0   Data Scientist   2891\n",
      "1           Python   2213\n",
      "2              SQL   1614\n",
      "3                R   1268\n",
      "4            Spark    572\n",
      "5           Hadoop    352\n",
      "6             Java    423\n",
      "7          Tableau    623\n",
      "8              AWS    618\n",
      "9              SAS    308\n",
      "10            Hive    196\n",
      "11           Scala    236\n",
      "12           Excel    369\n",
      "13      TensorFlow    451\n",
      "14             C++    226\n",
      "15           Azure    419\n",
      "16           NoSQL    184\n",
      "17           Linux    161\n",
      "18               C    226\n",
      "19          Matlab    199\n",
      "20    Scikit-learn    319\n",
      "21          Pandas    311\n",
      "22             Git    241\n",
      "23           Keras    150\n",
      "24      Javascript    149\n",
      "25             Pig     66\n",
      "26           Hbase     27\n",
      "27    Google Cloud    101\n",
      "28          Docker    157\n",
      "29           NumPy    212\n",
      "30         PyTorch    386\n",
      "31              C#    226\n",
      "32            SPSS     76\n",
      "33           MySQL    105\n",
      "34            Perl     38\n",
      "35       Cassandra     33\n",
      "36         MongoDB     51\n",
      "37             GCP    177\n",
      "38      Kubernetes    119\n",
      "39              D3     20\n",
      "40      Databricks    206\n",
      "41      postgresql     61\n",
      "42           Caffe     21\n",
      "43         Airflow     96\n",
      "44         Alteryx      0\n",
      "45        BigQuery      0\n",
      "46          Fastai      0\n",
      "              Name Simply\n",
      "0   Data Scientist   2891\n",
      "1           Python   2213\n",
      "2              SQL   1614\n",
      "3                R   1268\n",
      "4            Spark    572\n",
      "5           Hadoop    352\n",
      "6             Java    423\n",
      "7          Tableau    623\n",
      "8              AWS    618\n",
      "9              SAS    308\n",
      "10            Hive    196\n",
      "11           Scala    236\n",
      "12           Excel    369\n",
      "13      TensorFlow    451\n",
      "14             C++    226\n",
      "15           Azure    419\n",
      "16           NoSQL    184\n",
      "17           Linux    161\n",
      "18               C    226\n",
      "19          Matlab    199\n",
      "20    Scikit-learn    319\n",
      "21          Pandas    311\n",
      "22             Git    241\n",
      "23           Keras    150\n",
      "24      Javascript    149\n",
      "25             Pig     66\n",
      "26           Hbase     27\n",
      "27    Google Cloud    101\n",
      "28          Docker    157\n",
      "29           NumPy    212\n",
      "30         PyTorch    386\n",
      "31              C#    226\n",
      "32            SPSS     76\n",
      "33           MySQL    105\n",
      "34            Perl     38\n",
      "35       Cassandra     33\n",
      "36         MongoDB     51\n",
      "37             GCP    177\n",
      "38      Kubernetes    119\n",
      "39              D3     20\n",
      "40      Databricks    206\n",
      "41      postgresql     61\n",
      "42           Caffe     21\n",
      "43         Airflow     96\n",
      "44         Alteryx     29\n",
      "45        BigQuery      0\n",
      "46          Fastai      0\n",
      "              Name Simply\n",
      "0   Data Scientist   2891\n",
      "1           Python   2213\n",
      "2              SQL   1614\n",
      "3                R   1268\n",
      "4            Spark    572\n",
      "5           Hadoop    352\n",
      "6             Java    423\n",
      "7          Tableau    623\n",
      "8              AWS    618\n",
      "9              SAS    308\n",
      "10            Hive    196\n",
      "11           Scala    236\n",
      "12           Excel    369\n",
      "13      TensorFlow    451\n",
      "14             C++    226\n",
      "15           Azure    419\n",
      "16           NoSQL    184\n",
      "17           Linux    161\n",
      "18               C    226\n",
      "19          Matlab    199\n",
      "20    Scikit-learn    319\n",
      "21          Pandas    311\n",
      "22             Git    241\n",
      "23           Keras    150\n",
      "24      Javascript    149\n",
      "25             Pig     66\n",
      "26           Hbase     27\n",
      "27    Google Cloud    101\n",
      "28          Docker    157\n",
      "29           NumPy    212\n",
      "30         PyTorch    386\n",
      "31              C#    226\n",
      "32            SPSS     76\n",
      "33           MySQL    105\n",
      "34            Perl     38\n",
      "35       Cassandra     33\n",
      "36         MongoDB     51\n",
      "37             GCP    177\n",
      "38      Kubernetes    119\n",
      "39              D3     20\n",
      "40      Databricks    206\n",
      "41      postgresql     61\n",
      "42           Caffe     21\n",
      "43         Airflow     96\n",
      "44         Alteryx     29\n",
      "45        BigQuery     78\n",
      "46          Fastai      0\n",
      "error: Message: no such element: Unable to locate element: {\"method\":\"xpath\",\"selector\":\"//*[@id=\"__next\"]/div/main/div/div[1]/div[4]/p\"}\n",
      "  (Session info: chrome=117.0.5938.150); For documentation on this error, please visit: https://www.selenium.dev/documentation/webdriver/troubleshooting/errors#no-such-element-exception\n",
      "Stacktrace:\n",
      "\tGetHandleVerifier [0x00007FF70F177D12+55474]\n",
      "\t(No symbol) [0x00007FF70F0E77C2]\n",
      "\t(No symbol) [0x00007FF70EF9E0EB]\n",
      "\t(No symbol) [0x00007FF70EFDEBAC]\n",
      "\t(No symbol) [0x00007FF70EFDED2C]\n",
      "\t(No symbol) [0x00007FF70F019F77]\n",
      "\t(No symbol) [0x00007FF70EFFF19F]\n",
      "\t(No symbol) [0x00007FF70F017EF2]\n",
      "\t(No symbol) [0x00007FF70EFFEF33]\n",
      "\t(No symbol) [0x00007FF70EFD3D41]\n",
      "\t(No symbol) [0x00007FF70EFD4F84]\n",
      "\tGetHandleVerifier [0x00007FF70F4DB762+3609346]\n",
      "\tGetHandleVerifier [0x00007FF70F531A80+3962400]\n",
      "\tGetHandleVerifier [0x00007FF70F529F0F+3930799]\n",
      "\tGetHandleVerifier [0x00007FF70F213CA6+694342]\n",
      "\t(No symbol) [0x00007FF70F0F2218]\n",
      "\t(No symbol) [0x00007FF70F0EE484]\n",
      "\t(No symbol) [0x00007FF70F0EE5B2]\n",
      "\t(No symbol) [0x00007FF70F0DEE13]\n",
      "\tBaseThreadInitThunk [0x00007FFB1E2B257D+29]\n",
      "\tRtlUserThreadStart [0x00007FFB1EF4AA78+40]\n"
     ]
    },
    {
     "data": {
      "text/html": [
       "<div>\n",
       "<style scoped>\n",
       "    .dataframe tbody tr th:only-of-type {\n",
       "        vertical-align: middle;\n",
       "    }\n",
       "\n",
       "    .dataframe tbody tr th {\n",
       "        vertical-align: top;\n",
       "    }\n",
       "\n",
       "    .dataframe thead th {\n",
       "        text-align: right;\n",
       "    }\n",
       "</style>\n",
       "<table border=\"1\" class=\"dataframe\">\n",
       "  <thead>\n",
       "    <tr style=\"text-align: right;\">\n",
       "      <th></th>\n",
       "      <th>Name</th>\n",
       "      <th>Simply</th>\n",
       "    </tr>\n",
       "  </thead>\n",
       "  <tbody>\n",
       "    <tr>\n",
       "      <th>0</th>\n",
       "      <td>Data Scientist</td>\n",
       "      <td>2891</td>\n",
       "    </tr>\n",
       "    <tr>\n",
       "      <th>1</th>\n",
       "      <td>Python</td>\n",
       "      <td>2213</td>\n",
       "    </tr>\n",
       "    <tr>\n",
       "      <th>2</th>\n",
       "      <td>SQL</td>\n",
       "      <td>1614</td>\n",
       "    </tr>\n",
       "    <tr>\n",
       "      <th>3</th>\n",
       "      <td>R</td>\n",
       "      <td>1268</td>\n",
       "    </tr>\n",
       "    <tr>\n",
       "      <th>4</th>\n",
       "      <td>Spark</td>\n",
       "      <td>572</td>\n",
       "    </tr>\n",
       "    <tr>\n",
       "      <th>5</th>\n",
       "      <td>Hadoop</td>\n",
       "      <td>352</td>\n",
       "    </tr>\n",
       "    <tr>\n",
       "      <th>6</th>\n",
       "      <td>Java</td>\n",
       "      <td>423</td>\n",
       "    </tr>\n",
       "    <tr>\n",
       "      <th>7</th>\n",
       "      <td>Tableau</td>\n",
       "      <td>623</td>\n",
       "    </tr>\n",
       "    <tr>\n",
       "      <th>8</th>\n",
       "      <td>AWS</td>\n",
       "      <td>618</td>\n",
       "    </tr>\n",
       "    <tr>\n",
       "      <th>9</th>\n",
       "      <td>SAS</td>\n",
       "      <td>308</td>\n",
       "    </tr>\n",
       "    <tr>\n",
       "      <th>10</th>\n",
       "      <td>Hive</td>\n",
       "      <td>196</td>\n",
       "    </tr>\n",
       "    <tr>\n",
       "      <th>11</th>\n",
       "      <td>Scala</td>\n",
       "      <td>236</td>\n",
       "    </tr>\n",
       "    <tr>\n",
       "      <th>12</th>\n",
       "      <td>Excel</td>\n",
       "      <td>369</td>\n",
       "    </tr>\n",
       "    <tr>\n",
       "      <th>13</th>\n",
       "      <td>TensorFlow</td>\n",
       "      <td>451</td>\n",
       "    </tr>\n",
       "    <tr>\n",
       "      <th>14</th>\n",
       "      <td>C++</td>\n",
       "      <td>226</td>\n",
       "    </tr>\n",
       "    <tr>\n",
       "      <th>15</th>\n",
       "      <td>Azure</td>\n",
       "      <td>419</td>\n",
       "    </tr>\n",
       "    <tr>\n",
       "      <th>16</th>\n",
       "      <td>NoSQL</td>\n",
       "      <td>184</td>\n",
       "    </tr>\n",
       "    <tr>\n",
       "      <th>17</th>\n",
       "      <td>Linux</td>\n",
       "      <td>161</td>\n",
       "    </tr>\n",
       "    <tr>\n",
       "      <th>18</th>\n",
       "      <td>C</td>\n",
       "      <td>226</td>\n",
       "    </tr>\n",
       "    <tr>\n",
       "      <th>19</th>\n",
       "      <td>Matlab</td>\n",
       "      <td>199</td>\n",
       "    </tr>\n",
       "    <tr>\n",
       "      <th>20</th>\n",
       "      <td>Scikit-learn</td>\n",
       "      <td>319</td>\n",
       "    </tr>\n",
       "    <tr>\n",
       "      <th>21</th>\n",
       "      <td>Pandas</td>\n",
       "      <td>311</td>\n",
       "    </tr>\n",
       "    <tr>\n",
       "      <th>22</th>\n",
       "      <td>Git</td>\n",
       "      <td>241</td>\n",
       "    </tr>\n",
       "    <tr>\n",
       "      <th>23</th>\n",
       "      <td>Keras</td>\n",
       "      <td>150</td>\n",
       "    </tr>\n",
       "    <tr>\n",
       "      <th>24</th>\n",
       "      <td>Javascript</td>\n",
       "      <td>149</td>\n",
       "    </tr>\n",
       "    <tr>\n",
       "      <th>25</th>\n",
       "      <td>Pig</td>\n",
       "      <td>66</td>\n",
       "    </tr>\n",
       "    <tr>\n",
       "      <th>26</th>\n",
       "      <td>Hbase</td>\n",
       "      <td>27</td>\n",
       "    </tr>\n",
       "    <tr>\n",
       "      <th>27</th>\n",
       "      <td>Google Cloud</td>\n",
       "      <td>101</td>\n",
       "    </tr>\n",
       "    <tr>\n",
       "      <th>28</th>\n",
       "      <td>Docker</td>\n",
       "      <td>157</td>\n",
       "    </tr>\n",
       "    <tr>\n",
       "      <th>29</th>\n",
       "      <td>NumPy</td>\n",
       "      <td>212</td>\n",
       "    </tr>\n",
       "    <tr>\n",
       "      <th>30</th>\n",
       "      <td>PyTorch</td>\n",
       "      <td>386</td>\n",
       "    </tr>\n",
       "    <tr>\n",
       "      <th>31</th>\n",
       "      <td>C#</td>\n",
       "      <td>226</td>\n",
       "    </tr>\n",
       "    <tr>\n",
       "      <th>32</th>\n",
       "      <td>SPSS</td>\n",
       "      <td>76</td>\n",
       "    </tr>\n",
       "    <tr>\n",
       "      <th>33</th>\n",
       "      <td>MySQL</td>\n",
       "      <td>105</td>\n",
       "    </tr>\n",
       "    <tr>\n",
       "      <th>34</th>\n",
       "      <td>Perl</td>\n",
       "      <td>38</td>\n",
       "    </tr>\n",
       "    <tr>\n",
       "      <th>35</th>\n",
       "      <td>Cassandra</td>\n",
       "      <td>33</td>\n",
       "    </tr>\n",
       "    <tr>\n",
       "      <th>36</th>\n",
       "      <td>MongoDB</td>\n",
       "      <td>51</td>\n",
       "    </tr>\n",
       "    <tr>\n",
       "      <th>37</th>\n",
       "      <td>GCP</td>\n",
       "      <td>177</td>\n",
       "    </tr>\n",
       "    <tr>\n",
       "      <th>38</th>\n",
       "      <td>Kubernetes</td>\n",
       "      <td>119</td>\n",
       "    </tr>\n",
       "    <tr>\n",
       "      <th>39</th>\n",
       "      <td>D3</td>\n",
       "      <td>20</td>\n",
       "    </tr>\n",
       "    <tr>\n",
       "      <th>40</th>\n",
       "      <td>Databricks</td>\n",
       "      <td>206</td>\n",
       "    </tr>\n",
       "    <tr>\n",
       "      <th>41</th>\n",
       "      <td>postgresql</td>\n",
       "      <td>61</td>\n",
       "    </tr>\n",
       "    <tr>\n",
       "      <th>42</th>\n",
       "      <td>Caffe</td>\n",
       "      <td>21</td>\n",
       "    </tr>\n",
       "    <tr>\n",
       "      <th>43</th>\n",
       "      <td>Airflow</td>\n",
       "      <td>96</td>\n",
       "    </tr>\n",
       "    <tr>\n",
       "      <th>44</th>\n",
       "      <td>Alteryx</td>\n",
       "      <td>29</td>\n",
       "    </tr>\n",
       "    <tr>\n",
       "      <th>45</th>\n",
       "      <td>BigQuery</td>\n",
       "      <td>78</td>\n",
       "    </tr>\n",
       "    <tr>\n",
       "      <th>46</th>\n",
       "      <td>Fastai</td>\n",
       "      <td>0</td>\n",
       "    </tr>\n",
       "  </tbody>\n",
       "</table>\n",
       "</div>"
      ],
      "text/plain": [
       "              Name Simply\n",
       "0   Data Scientist   2891\n",
       "1           Python   2213\n",
       "2              SQL   1614\n",
       "3                R   1268\n",
       "4            Spark    572\n",
       "5           Hadoop    352\n",
       "6             Java    423\n",
       "7          Tableau    623\n",
       "8              AWS    618\n",
       "9              SAS    308\n",
       "10            Hive    196\n",
       "11           Scala    236\n",
       "12           Excel    369\n",
       "13      TensorFlow    451\n",
       "14             C++    226\n",
       "15           Azure    419\n",
       "16           NoSQL    184\n",
       "17           Linux    161\n",
       "18               C    226\n",
       "19          Matlab    199\n",
       "20    Scikit-learn    319\n",
       "21          Pandas    311\n",
       "22             Git    241\n",
       "23           Keras    150\n",
       "24      Javascript    149\n",
       "25             Pig     66\n",
       "26           Hbase     27\n",
       "27    Google Cloud    101\n",
       "28          Docker    157\n",
       "29           NumPy    212\n",
       "30         PyTorch    386\n",
       "31              C#    226\n",
       "32            SPSS     76\n",
       "33           MySQL    105\n",
       "34            Perl     38\n",
       "35       Cassandra     33\n",
       "36         MongoDB     51\n",
       "37             GCP    177\n",
       "38      Kubernetes    119\n",
       "39              D3     20\n",
       "40      Databricks    206\n",
       "41      postgresql     61\n",
       "42           Caffe     21\n",
       "43         Airflow     96\n",
       "44         Alteryx     29\n",
       "45        BigQuery     78\n",
       "46          Fastai      0"
      ]
     },
     "execution_count": 7,
     "metadata": {},
     "output_type": "execute_result"
    }
   ],
   "source": [
    "df_indeed = get_indeed_jobs()\n",
    "df_simply = get_simply_hired()\n",
    "\n",
    "df_indeed\n",
    "df_simply\n"
   ]
  },
  {
   "cell_type": "markdown",
   "id": "39c24ba03d6f39bc",
   "metadata": {
    "collapsed": false,
    "jupyter": {
     "outputs_hidden": false
    }
   },
   "source": [
    "Combine dataframes to a single dataframe for analysis"
   ]
  },
  {
   "cell_type": "code",
   "execution_count": 8,
   "id": "6ab9908d4190ab19",
   "metadata": {
    "ExecuteTime": {
     "end_time": "2023-10-06T07:43:32.776160200Z",
     "start_time": "2023-10-06T07:43:32.723235500Z"
    },
    "collapsed": false,
    "jupyter": {
     "outputs_hidden": false
    }
   },
   "outputs": [
    {
     "name": "stdout",
     "output_type": "stream",
     "text": [
      "<class 'pandas.core.frame.DataFrame'>\n",
      "Index: 47 entries, Data Scientist to Fastai\n",
      "Data columns (total 2 columns):\n",
      " #   Column  Non-Null Count  Dtype  \n",
      "---  ------  --------------  -----  \n",
      " 0   Indeed  47 non-null     float64\n",
      " 1   Simply  47 non-null     float64\n",
      "dtypes: float64(2)\n",
      "memory usage: 1.1+ KB\n"
     ]
    },
    {
     "data": {
      "text/html": [
       "<div>\n",
       "<style scoped>\n",
       "    .dataframe tbody tr th:only-of-type {\n",
       "        vertical-align: middle;\n",
       "    }\n",
       "\n",
       "    .dataframe tbody tr th {\n",
       "        vertical-align: top;\n",
       "    }\n",
       "\n",
       "    .dataframe thead th {\n",
       "        text-align: right;\n",
       "    }\n",
       "</style>\n",
       "<table border=\"1\" class=\"dataframe\">\n",
       "  <thead>\n",
       "    <tr style=\"text-align: right;\">\n",
       "      <th></th>\n",
       "      <th>Indeed</th>\n",
       "      <th>Simply</th>\n",
       "    </tr>\n",
       "    <tr>\n",
       "      <th>Name</th>\n",
       "      <th></th>\n",
       "      <th></th>\n",
       "    </tr>\n",
       "  </thead>\n",
       "  <tbody>\n",
       "    <tr>\n",
       "      <th>Data Scientist</th>\n",
       "      <td>4512.0</td>\n",
       "      <td>2891.0</td>\n",
       "    </tr>\n",
       "    <tr>\n",
       "      <th>Python</th>\n",
       "      <td>3575.0</td>\n",
       "      <td>2213.0</td>\n",
       "    </tr>\n",
       "    <tr>\n",
       "      <th>SQL</th>\n",
       "      <td>2218.0</td>\n",
       "      <td>1614.0</td>\n",
       "    </tr>\n",
       "    <tr>\n",
       "      <th>R</th>\n",
       "      <td>1747.0</td>\n",
       "      <td>1268.0</td>\n",
       "    </tr>\n",
       "    <tr>\n",
       "      <th>Spark</th>\n",
       "      <td>877.0</td>\n",
       "      <td>572.0</td>\n",
       "    </tr>\n",
       "    <tr>\n",
       "      <th>Hadoop</th>\n",
       "      <td>493.0</td>\n",
       "      <td>352.0</td>\n",
       "    </tr>\n",
       "    <tr>\n",
       "      <th>Java</th>\n",
       "      <td>608.0</td>\n",
       "      <td>423.0</td>\n",
       "    </tr>\n",
       "    <tr>\n",
       "      <th>Tableau</th>\n",
       "      <td>821.0</td>\n",
       "      <td>623.0</td>\n",
       "    </tr>\n",
       "    <tr>\n",
       "      <th>AWS</th>\n",
       "      <td>938.0</td>\n",
       "      <td>618.0</td>\n",
       "    </tr>\n",
       "    <tr>\n",
       "      <th>SAS</th>\n",
       "      <td>372.0</td>\n",
       "      <td>308.0</td>\n",
       "    </tr>\n",
       "    <tr>\n",
       "      <th>Hive</th>\n",
       "      <td>251.0</td>\n",
       "      <td>196.0</td>\n",
       "    </tr>\n",
       "    <tr>\n",
       "      <th>Scala</th>\n",
       "      <td>324.0</td>\n",
       "      <td>236.0</td>\n",
       "    </tr>\n",
       "    <tr>\n",
       "      <th>Excel</th>\n",
       "      <td>474.0</td>\n",
       "      <td>369.0</td>\n",
       "    </tr>\n",
       "    <tr>\n",
       "      <th>TensorFlow</th>\n",
       "      <td>1218.0</td>\n",
       "      <td>451.0</td>\n",
       "    </tr>\n",
       "    <tr>\n",
       "      <th>C++</th>\n",
       "      <td>278.0</td>\n",
       "      <td>226.0</td>\n",
       "    </tr>\n",
       "    <tr>\n",
       "      <th>Azure</th>\n",
       "      <td>668.0</td>\n",
       "      <td>419.0</td>\n",
       "    </tr>\n",
       "    <tr>\n",
       "      <th>NoSQL</th>\n",
       "      <td>329.0</td>\n",
       "      <td>184.0</td>\n",
       "    </tr>\n",
       "    <tr>\n",
       "      <th>Linux</th>\n",
       "      <td>215.0</td>\n",
       "      <td>161.0</td>\n",
       "    </tr>\n",
       "    <tr>\n",
       "      <th>C</th>\n",
       "      <td>278.0</td>\n",
       "      <td>226.0</td>\n",
       "    </tr>\n",
       "    <tr>\n",
       "      <th>Matlab</th>\n",
       "      <td>255.0</td>\n",
       "      <td>199.0</td>\n",
       "    </tr>\n",
       "    <tr>\n",
       "      <th>Scikit-learn</th>\n",
       "      <td>601.0</td>\n",
       "      <td>319.0</td>\n",
       "    </tr>\n",
       "    <tr>\n",
       "      <th>Pandas</th>\n",
       "      <td>521.0</td>\n",
       "      <td>311.0</td>\n",
       "    </tr>\n",
       "    <tr>\n",
       "      <th>Git</th>\n",
       "      <td>306.0</td>\n",
       "      <td>241.0</td>\n",
       "    </tr>\n",
       "    <tr>\n",
       "      <th>Keras</th>\n",
       "      <td>303.0</td>\n",
       "      <td>150.0</td>\n",
       "    </tr>\n",
       "    <tr>\n",
       "      <th>Javascript</th>\n",
       "      <td>238.0</td>\n",
       "      <td>149.0</td>\n",
       "    </tr>\n",
       "    <tr>\n",
       "      <th>Pig</th>\n",
       "      <td>79.0</td>\n",
       "      <td>66.0</td>\n",
       "    </tr>\n",
       "    <tr>\n",
       "      <th>Hbase</th>\n",
       "      <td>31.0</td>\n",
       "      <td>27.0</td>\n",
       "    </tr>\n",
       "    <tr>\n",
       "      <th>Google Cloud</th>\n",
       "      <td>131.0</td>\n",
       "      <td>101.0</td>\n",
       "    </tr>\n",
       "    <tr>\n",
       "      <th>Docker</th>\n",
       "      <td>327.0</td>\n",
       "      <td>157.0</td>\n",
       "    </tr>\n",
       "    <tr>\n",
       "      <th>NumPy</th>\n",
       "      <td>362.0</td>\n",
       "      <td>212.0</td>\n",
       "    </tr>\n",
       "    <tr>\n",
       "      <th>PyTorch</th>\n",
       "      <td>1083.0</td>\n",
       "      <td>386.0</td>\n",
       "    </tr>\n",
       "    <tr>\n",
       "      <th>C#</th>\n",
       "      <td>278.0</td>\n",
       "      <td>226.0</td>\n",
       "    </tr>\n",
       "    <tr>\n",
       "      <th>SPSS</th>\n",
       "      <td>95.0</td>\n",
       "      <td>76.0</td>\n",
       "    </tr>\n",
       "    <tr>\n",
       "      <th>MySQL</th>\n",
       "      <td>126.0</td>\n",
       "      <td>105.0</td>\n",
       "    </tr>\n",
       "    <tr>\n",
       "      <th>Perl</th>\n",
       "      <td>42.0</td>\n",
       "      <td>38.0</td>\n",
       "    </tr>\n",
       "    <tr>\n",
       "      <th>Cassandra</th>\n",
       "      <td>52.0</td>\n",
       "      <td>33.0</td>\n",
       "    </tr>\n",
       "    <tr>\n",
       "      <th>MongoDB</th>\n",
       "      <td>79.0</td>\n",
       "      <td>51.0</td>\n",
       "    </tr>\n",
       "    <tr>\n",
       "      <th>GCP</th>\n",
       "      <td>357.0</td>\n",
       "      <td>177.0</td>\n",
       "    </tr>\n",
       "    <tr>\n",
       "      <th>Kubernetes</th>\n",
       "      <td>285.0</td>\n",
       "      <td>119.0</td>\n",
       "    </tr>\n",
       "    <tr>\n",
       "      <th>D3</th>\n",
       "      <td>83.0</td>\n",
       "      <td>20.0</td>\n",
       "    </tr>\n",
       "    <tr>\n",
       "      <th>Databricks</th>\n",
       "      <td>245.0</td>\n",
       "      <td>206.0</td>\n",
       "    </tr>\n",
       "    <tr>\n",
       "      <th>postgresql</th>\n",
       "      <td>0.0</td>\n",
       "      <td>61.0</td>\n",
       "    </tr>\n",
       "    <tr>\n",
       "      <th>Caffe</th>\n",
       "      <td>32.0</td>\n",
       "      <td>21.0</td>\n",
       "    </tr>\n",
       "    <tr>\n",
       "      <th>Airflow</th>\n",
       "      <td>108.0</td>\n",
       "      <td>96.0</td>\n",
       "    </tr>\n",
       "    <tr>\n",
       "      <th>Alteryx</th>\n",
       "      <td>31.0</td>\n",
       "      <td>29.0</td>\n",
       "    </tr>\n",
       "    <tr>\n",
       "      <th>BigQuery</th>\n",
       "      <td>147.0</td>\n",
       "      <td>78.0</td>\n",
       "    </tr>\n",
       "    <tr>\n",
       "      <th>Fastai</th>\n",
       "      <td>0.0</td>\n",
       "      <td>0.0</td>\n",
       "    </tr>\n",
       "  </tbody>\n",
       "</table>\n",
       "</div>"
      ],
      "text/plain": [
       "                Indeed  Simply\n",
       "Name                          \n",
       "Data Scientist  4512.0  2891.0\n",
       "Python          3575.0  2213.0\n",
       "SQL             2218.0  1614.0\n",
       "R               1747.0  1268.0\n",
       "Spark            877.0   572.0\n",
       "Hadoop           493.0   352.0\n",
       "Java             608.0   423.0\n",
       "Tableau          821.0   623.0\n",
       "AWS              938.0   618.0\n",
       "SAS              372.0   308.0\n",
       "Hive             251.0   196.0\n",
       "Scala            324.0   236.0\n",
       "Excel            474.0   369.0\n",
       "TensorFlow      1218.0   451.0\n",
       "C++              278.0   226.0\n",
       "Azure            668.0   419.0\n",
       "NoSQL            329.0   184.0\n",
       "Linux            215.0   161.0\n",
       "C                278.0   226.0\n",
       "Matlab           255.0   199.0\n",
       "Scikit-learn     601.0   319.0\n",
       "Pandas           521.0   311.0\n",
       "Git              306.0   241.0\n",
       "Keras            303.0   150.0\n",
       "Javascript       238.0   149.0\n",
       "Pig               79.0    66.0\n",
       "Hbase             31.0    27.0\n",
       "Google Cloud     131.0   101.0\n",
       "Docker           327.0   157.0\n",
       "NumPy            362.0   212.0\n",
       "PyTorch         1083.0   386.0\n",
       "C#               278.0   226.0\n",
       "SPSS              95.0    76.0\n",
       "MySQL            126.0   105.0\n",
       "Perl              42.0    38.0\n",
       "Cassandra         52.0    33.0\n",
       "MongoDB           79.0    51.0\n",
       "GCP              357.0   177.0\n",
       "Kubernetes       285.0   119.0\n",
       "D3                83.0    20.0\n",
       "Databricks       245.0   206.0\n",
       "postgresql         0.0    61.0\n",
       "Caffe             32.0    21.0\n",
       "Airflow          108.0    96.0\n",
       "Alteryx           31.0    29.0\n",
       "BigQuery         147.0    78.0\n",
       "Fastai             0.0     0.0"
      ]
     },
     "execution_count": 8,
     "metadata": {},
     "output_type": "execute_result"
    }
   ],
   "source": [
    "df = df_indeed.merge(df_simply, on='Name', how='outer')\n",
    "df.set_index('Name', inplace=True)\n",
    "\n",
    "for col in df.columns:\n",
    "    df[col] = df[col].astype(float)\n",
    "\n",
    "df.info()\n",
    "\n",
    "df"
   ]
  },
  {
   "cell_type": "markdown",
   "id": "a7552c574280b741",
   "metadata": {
    "collapsed": false,
    "jupyter": {
     "outputs_hidden": false
    }
   },
   "source": [
    "Analysis"
   ]
  },
  {
   "cell_type": "code",
   "execution_count": 10,
   "id": "dfebc5d9bbb12a73",
   "metadata": {
    "ExecuteTime": {
     "end_time": "2023-10-06T07:45:55.477261100Z",
     "start_time": "2023-10-06T07:45:54.957747900Z"
    },
    "collapsed": false,
    "jupyter": {
     "outputs_hidden": false
    }
   },
   "outputs": [
    {
     "name": "stderr",
     "output_type": "stream",
     "text": [
      "C:\\Users\\Admin\\AppData\\Local\\Temp\\ipykernel_7968\\1016329995.py:5: DeprecationWarning:\n",
      "\n",
      "Importing display from IPython.core.display is deprecated since IPython 7.14, please import from IPython display\n",
      "\n"
     ]
    },
    {
     "data": {
      "text/html": [
       "        <script type=\"text/javascript\">\n",
       "        window.PlotlyConfig = {MathJaxConfig: 'local'};\n",
       "        if (window.MathJax && window.MathJax.Hub && window.MathJax.Hub.Config) {window.MathJax.Hub.Config({SVG: {font: \"STIX-Web\"}});}\n",
       "        if (typeof require !== 'undefined') {\n",
       "        require.undef(\"plotly\");\n",
       "        requirejs.config({\n",
       "            paths: {\n",
       "                'plotly': ['https://cdn.plot.ly/plotly-2.26.0.min']\n",
       "            }\n",
       "        });\n",
       "        require(['plotly'], function(Plotly) {\n",
       "            window._Plotly = Plotly;\n",
       "        });\n",
       "        }\n",
       "        </script>\n",
       "        "
      ]
     },
     "metadata": {},
     "output_type": "display_data"
    }
   ],
   "source": [
    "import matplotlib.pyplot as plt\n",
    "import seaborn as sns\n",
    "import collections\n",
    "\n",
    "from IPython.core.display import display, HTML\n",
    "from sklearn.preprocessing import MinMaxScaler\n",
    "    \n",
    "# import plotly \n",
    "import plotly\n",
    "import plotly.figure_factory as ff\n",
    "import plotly.graph_objs as go\n",
    "import plotly.offline as py\n",
    "import plotly.tools as tls\n",
    "\n",
    "# for color scales in plotly\n",
    "import colorlover as cl \n",
    "\n",
    "\n",
    "pd.options.display.float_format = '{:,.2f}'.format  \n",
    "pd.options.display.max_columns = 999\n",
    "\n",
    "py.init_notebook_mode(connected=True)\n",
    "\n",
    "%load_ext autoreload\n",
    "%autoreload 2\n",
    "%matplotlib inline"
   ]
  },
  {
   "cell_type": "markdown",
   "id": "e3fc1ebbe9f7910",
   "metadata": {
    "collapsed": false,
    "jupyter": {
     "outputs_hidden": false
    }
   },
   "source": [
    "Total listings with 'Data Scientist' for Indeed, and SimplyHired\n",
    "\n"
   ]
  },
  {
   "cell_type": "code",
   "execution_count": 11,
   "id": "1f2eeb32bd923d3e",
   "metadata": {
    "ExecuteTime": {
     "end_time": "2023-10-06T07:46:38.652608700Z",
     "start_time": "2023-10-06T07:46:38.542286Z"
    },
    "collapsed": false,
    "jupyter": {
     "outputs_hidden": false
    }
   },
   "outputs": [
    {
     "data": {
      "text/plain": [
       "[4512.0, 2891.0]"
      ]
     },
     "execution_count": 11,
     "metadata": {},
     "output_type": "execute_result"
    }
   ],
   "source": [
    "total_ds_jobs = list(df.iloc[0])\n",
    "total_ds_jobs"
   ]
  },
  {
   "cell_type": "markdown",
   "id": "eb3f1fb8603daf11",
   "metadata": {
    "collapsed": false,
    "jupyter": {
     "outputs_hidden": false
    }
   },
   "source": [
    "These are the totals for 2023 for \"Data Scientist\" alone:\n",
    "Therefore delete them"
   ]
  },
  {
   "cell_type": "code",
   "execution_count": 12,
   "id": "3ab0447355ada02d",
   "metadata": {
    "ExecuteTime": {
     "end_time": "2023-10-06T07:47:22.357868700Z",
     "start_time": "2023-10-06T07:47:22.245866200Z"
    },
    "collapsed": false,
    "jupyter": {
     "outputs_hidden": false
    }
   },
   "outputs": [
    {
     "data": {
      "text/html": [
       "<div>\n",
       "<style scoped>\n",
       "    .dataframe tbody tr th:only-of-type {\n",
       "        vertical-align: middle;\n",
       "    }\n",
       "\n",
       "    .dataframe tbody tr th {\n",
       "        vertical-align: top;\n",
       "    }\n",
       "\n",
       "    .dataframe thead th {\n",
       "        text-align: right;\n",
       "    }\n",
       "</style>\n",
       "<table border=\"1\" class=\"dataframe\">\n",
       "  <thead>\n",
       "    <tr style=\"text-align: right;\">\n",
       "      <th></th>\n",
       "      <th>Indeed</th>\n",
       "      <th>Simply</th>\n",
       "    </tr>\n",
       "    <tr>\n",
       "      <th>Name</th>\n",
       "      <th></th>\n",
       "      <th></th>\n",
       "    </tr>\n",
       "  </thead>\n",
       "  <tbody>\n",
       "    <tr>\n",
       "      <th>Python</th>\n",
       "      <td>3,575.00</td>\n",
       "      <td>2,213.00</td>\n",
       "    </tr>\n",
       "    <tr>\n",
       "      <th>SQL</th>\n",
       "      <td>2,218.00</td>\n",
       "      <td>1,614.00</td>\n",
       "    </tr>\n",
       "    <tr>\n",
       "      <th>R</th>\n",
       "      <td>1,747.00</td>\n",
       "      <td>1,268.00</td>\n",
       "    </tr>\n",
       "    <tr>\n",
       "      <th>Spark</th>\n",
       "      <td>877.00</td>\n",
       "      <td>572.00</td>\n",
       "    </tr>\n",
       "    <tr>\n",
       "      <th>Hadoop</th>\n",
       "      <td>493.00</td>\n",
       "      <td>352.00</td>\n",
       "    </tr>\n",
       "    <tr>\n",
       "      <th>Java</th>\n",
       "      <td>608.00</td>\n",
       "      <td>423.00</td>\n",
       "    </tr>\n",
       "    <tr>\n",
       "      <th>Tableau</th>\n",
       "      <td>821.00</td>\n",
       "      <td>623.00</td>\n",
       "    </tr>\n",
       "    <tr>\n",
       "      <th>AWS</th>\n",
       "      <td>938.00</td>\n",
       "      <td>618.00</td>\n",
       "    </tr>\n",
       "    <tr>\n",
       "      <th>SAS</th>\n",
       "      <td>372.00</td>\n",
       "      <td>308.00</td>\n",
       "    </tr>\n",
       "    <tr>\n",
       "      <th>Hive</th>\n",
       "      <td>251.00</td>\n",
       "      <td>196.00</td>\n",
       "    </tr>\n",
       "    <tr>\n",
       "      <th>Scala</th>\n",
       "      <td>324.00</td>\n",
       "      <td>236.00</td>\n",
       "    </tr>\n",
       "    <tr>\n",
       "      <th>Excel</th>\n",
       "      <td>474.00</td>\n",
       "      <td>369.00</td>\n",
       "    </tr>\n",
       "    <tr>\n",
       "      <th>TensorFlow</th>\n",
       "      <td>1,218.00</td>\n",
       "      <td>451.00</td>\n",
       "    </tr>\n",
       "    <tr>\n",
       "      <th>C++</th>\n",
       "      <td>278.00</td>\n",
       "      <td>226.00</td>\n",
       "    </tr>\n",
       "    <tr>\n",
       "      <th>Azure</th>\n",
       "      <td>668.00</td>\n",
       "      <td>419.00</td>\n",
       "    </tr>\n",
       "    <tr>\n",
       "      <th>NoSQL</th>\n",
       "      <td>329.00</td>\n",
       "      <td>184.00</td>\n",
       "    </tr>\n",
       "    <tr>\n",
       "      <th>Linux</th>\n",
       "      <td>215.00</td>\n",
       "      <td>161.00</td>\n",
       "    </tr>\n",
       "    <tr>\n",
       "      <th>C</th>\n",
       "      <td>278.00</td>\n",
       "      <td>226.00</td>\n",
       "    </tr>\n",
       "    <tr>\n",
       "      <th>Matlab</th>\n",
       "      <td>255.00</td>\n",
       "      <td>199.00</td>\n",
       "    </tr>\n",
       "    <tr>\n",
       "      <th>Scikit-learn</th>\n",
       "      <td>601.00</td>\n",
       "      <td>319.00</td>\n",
       "    </tr>\n",
       "    <tr>\n",
       "      <th>Pandas</th>\n",
       "      <td>521.00</td>\n",
       "      <td>311.00</td>\n",
       "    </tr>\n",
       "    <tr>\n",
       "      <th>Git</th>\n",
       "      <td>306.00</td>\n",
       "      <td>241.00</td>\n",
       "    </tr>\n",
       "    <tr>\n",
       "      <th>Keras</th>\n",
       "      <td>303.00</td>\n",
       "      <td>150.00</td>\n",
       "    </tr>\n",
       "    <tr>\n",
       "      <th>Javascript</th>\n",
       "      <td>238.00</td>\n",
       "      <td>149.00</td>\n",
       "    </tr>\n",
       "    <tr>\n",
       "      <th>Pig</th>\n",
       "      <td>79.00</td>\n",
       "      <td>66.00</td>\n",
       "    </tr>\n",
       "    <tr>\n",
       "      <th>Hbase</th>\n",
       "      <td>31.00</td>\n",
       "      <td>27.00</td>\n",
       "    </tr>\n",
       "    <tr>\n",
       "      <th>Google Cloud</th>\n",
       "      <td>131.00</td>\n",
       "      <td>101.00</td>\n",
       "    </tr>\n",
       "    <tr>\n",
       "      <th>Docker</th>\n",
       "      <td>327.00</td>\n",
       "      <td>157.00</td>\n",
       "    </tr>\n",
       "    <tr>\n",
       "      <th>NumPy</th>\n",
       "      <td>362.00</td>\n",
       "      <td>212.00</td>\n",
       "    </tr>\n",
       "    <tr>\n",
       "      <th>PyTorch</th>\n",
       "      <td>1,083.00</td>\n",
       "      <td>386.00</td>\n",
       "    </tr>\n",
       "    <tr>\n",
       "      <th>C#</th>\n",
       "      <td>278.00</td>\n",
       "      <td>226.00</td>\n",
       "    </tr>\n",
       "    <tr>\n",
       "      <th>SPSS</th>\n",
       "      <td>95.00</td>\n",
       "      <td>76.00</td>\n",
       "    </tr>\n",
       "    <tr>\n",
       "      <th>MySQL</th>\n",
       "      <td>126.00</td>\n",
       "      <td>105.00</td>\n",
       "    </tr>\n",
       "    <tr>\n",
       "      <th>Perl</th>\n",
       "      <td>42.00</td>\n",
       "      <td>38.00</td>\n",
       "    </tr>\n",
       "    <tr>\n",
       "      <th>Cassandra</th>\n",
       "      <td>52.00</td>\n",
       "      <td>33.00</td>\n",
       "    </tr>\n",
       "    <tr>\n",
       "      <th>MongoDB</th>\n",
       "      <td>79.00</td>\n",
       "      <td>51.00</td>\n",
       "    </tr>\n",
       "    <tr>\n",
       "      <th>GCP</th>\n",
       "      <td>357.00</td>\n",
       "      <td>177.00</td>\n",
       "    </tr>\n",
       "    <tr>\n",
       "      <th>Kubernetes</th>\n",
       "      <td>285.00</td>\n",
       "      <td>119.00</td>\n",
       "    </tr>\n",
       "    <tr>\n",
       "      <th>D3</th>\n",
       "      <td>83.00</td>\n",
       "      <td>20.00</td>\n",
       "    </tr>\n",
       "    <tr>\n",
       "      <th>Databricks</th>\n",
       "      <td>245.00</td>\n",
       "      <td>206.00</td>\n",
       "    </tr>\n",
       "    <tr>\n",
       "      <th>postgresql</th>\n",
       "      <td>0.00</td>\n",
       "      <td>61.00</td>\n",
       "    </tr>\n",
       "    <tr>\n",
       "      <th>Caffe</th>\n",
       "      <td>32.00</td>\n",
       "      <td>21.00</td>\n",
       "    </tr>\n",
       "    <tr>\n",
       "      <th>Airflow</th>\n",
       "      <td>108.00</td>\n",
       "      <td>96.00</td>\n",
       "    </tr>\n",
       "    <tr>\n",
       "      <th>Alteryx</th>\n",
       "      <td>31.00</td>\n",
       "      <td>29.00</td>\n",
       "    </tr>\n",
       "    <tr>\n",
       "      <th>BigQuery</th>\n",
       "      <td>147.00</td>\n",
       "      <td>78.00</td>\n",
       "    </tr>\n",
       "    <tr>\n",
       "      <th>Fastai</th>\n",
       "      <td>0.00</td>\n",
       "      <td>0.00</td>\n",
       "    </tr>\n",
       "  </tbody>\n",
       "</table>\n",
       "</div>"
      ],
      "text/plain": [
       "               Indeed   Simply\n",
       "Name                          \n",
       "Python       3,575.00 2,213.00\n",
       "SQL          2,218.00 1,614.00\n",
       "R            1,747.00 1,268.00\n",
       "Spark          877.00   572.00\n",
       "Hadoop         493.00   352.00\n",
       "Java           608.00   423.00\n",
       "Tableau        821.00   623.00\n",
       "AWS            938.00   618.00\n",
       "SAS            372.00   308.00\n",
       "Hive           251.00   196.00\n",
       "Scala          324.00   236.00\n",
       "Excel          474.00   369.00\n",
       "TensorFlow   1,218.00   451.00\n",
       "C++            278.00   226.00\n",
       "Azure          668.00   419.00\n",
       "NoSQL          329.00   184.00\n",
       "Linux          215.00   161.00\n",
       "C              278.00   226.00\n",
       "Matlab         255.00   199.00\n",
       "Scikit-learn   601.00   319.00\n",
       "Pandas         521.00   311.00\n",
       "Git            306.00   241.00\n",
       "Keras          303.00   150.00\n",
       "Javascript     238.00   149.00\n",
       "Pig             79.00    66.00\n",
       "Hbase           31.00    27.00\n",
       "Google Cloud   131.00   101.00\n",
       "Docker         327.00   157.00\n",
       "NumPy          362.00   212.00\n",
       "PyTorch      1,083.00   386.00\n",
       "C#             278.00   226.00\n",
       "SPSS            95.00    76.00\n",
       "MySQL          126.00   105.00\n",
       "Perl            42.00    38.00\n",
       "Cassandra       52.00    33.00\n",
       "MongoDB         79.00    51.00\n",
       "GCP            357.00   177.00\n",
       "Kubernetes     285.00   119.00\n",
       "D3              83.00    20.00\n",
       "Databricks     245.00   206.00\n",
       "postgresql       0.00    61.00\n",
       "Caffe           32.00    21.00\n",
       "Airflow        108.00    96.00\n",
       "Alteryx         31.00    29.00\n",
       "BigQuery       147.00    78.00\n",
       "Fastai           0.00     0.00"
      ]
     },
     "execution_count": 12,
     "metadata": {},
     "output_type": "execute_result"
    }
   ],
   "source": [
    "df = df.drop('Data Scientist')\n",
    "df"
   ]
  },
  {
   "cell_type": "markdown",
   "id": "f492944c1abeedf4",
   "metadata": {
    "collapsed": false,
    "jupyter": {
     "outputs_hidden": false
    }
   },
   "source": [
    "Fill NA"
   ]
  },
  {
   "cell_type": "code",
   "execution_count": 14,
   "id": "f0381a1cef3f303e",
   "metadata": {
    "ExecuteTime": {
     "end_time": "2023-10-06T07:47:53.414310Z",
     "start_time": "2023-10-06T07:47:53.184193600Z"
    },
    "collapsed": false,
    "jupyter": {
     "outputs_hidden": false
    }
   },
   "outputs": [
    {
     "data": {
      "text/html": [
       "<div>\n",
       "<style scoped>\n",
       "    .dataframe tbody tr th:only-of-type {\n",
       "        vertical-align: middle;\n",
       "    }\n",
       "\n",
       "    .dataframe tbody tr th {\n",
       "        vertical-align: top;\n",
       "    }\n",
       "\n",
       "    .dataframe thead th {\n",
       "        text-align: right;\n",
       "    }\n",
       "</style>\n",
       "<table border=\"1\" class=\"dataframe\">\n",
       "  <thead>\n",
       "    <tr style=\"text-align: right;\">\n",
       "      <th></th>\n",
       "      <th>Indeed</th>\n",
       "      <th>Simply</th>\n",
       "    </tr>\n",
       "    <tr>\n",
       "      <th>Name</th>\n",
       "      <th></th>\n",
       "      <th></th>\n",
       "    </tr>\n",
       "  </thead>\n",
       "  <tbody>\n",
       "    <tr>\n",
       "      <th>Python</th>\n",
       "      <td>3,575.00</td>\n",
       "      <td>2,213.00</td>\n",
       "    </tr>\n",
       "    <tr>\n",
       "      <th>SQL</th>\n",
       "      <td>2,218.00</td>\n",
       "      <td>1,614.00</td>\n",
       "    </tr>\n",
       "    <tr>\n",
       "      <th>R</th>\n",
       "      <td>1,747.00</td>\n",
       "      <td>1,268.00</td>\n",
       "    </tr>\n",
       "    <tr>\n",
       "      <th>Spark</th>\n",
       "      <td>877.00</td>\n",
       "      <td>572.00</td>\n",
       "    </tr>\n",
       "    <tr>\n",
       "      <th>Hadoop</th>\n",
       "      <td>493.00</td>\n",
       "      <td>352.00</td>\n",
       "    </tr>\n",
       "    <tr>\n",
       "      <th>Java</th>\n",
       "      <td>608.00</td>\n",
       "      <td>423.00</td>\n",
       "    </tr>\n",
       "    <tr>\n",
       "      <th>Tableau</th>\n",
       "      <td>821.00</td>\n",
       "      <td>623.00</td>\n",
       "    </tr>\n",
       "    <tr>\n",
       "      <th>AWS</th>\n",
       "      <td>938.00</td>\n",
       "      <td>618.00</td>\n",
       "    </tr>\n",
       "    <tr>\n",
       "      <th>SAS</th>\n",
       "      <td>372.00</td>\n",
       "      <td>308.00</td>\n",
       "    </tr>\n",
       "    <tr>\n",
       "      <th>Hive</th>\n",
       "      <td>251.00</td>\n",
       "      <td>196.00</td>\n",
       "    </tr>\n",
       "    <tr>\n",
       "      <th>Scala</th>\n",
       "      <td>324.00</td>\n",
       "      <td>236.00</td>\n",
       "    </tr>\n",
       "    <tr>\n",
       "      <th>Excel</th>\n",
       "      <td>474.00</td>\n",
       "      <td>369.00</td>\n",
       "    </tr>\n",
       "    <tr>\n",
       "      <th>TensorFlow</th>\n",
       "      <td>1,218.00</td>\n",
       "      <td>451.00</td>\n",
       "    </tr>\n",
       "    <tr>\n",
       "      <th>C++</th>\n",
       "      <td>278.00</td>\n",
       "      <td>226.00</td>\n",
       "    </tr>\n",
       "    <tr>\n",
       "      <th>Azure</th>\n",
       "      <td>668.00</td>\n",
       "      <td>419.00</td>\n",
       "    </tr>\n",
       "    <tr>\n",
       "      <th>NoSQL</th>\n",
       "      <td>329.00</td>\n",
       "      <td>184.00</td>\n",
       "    </tr>\n",
       "    <tr>\n",
       "      <th>Linux</th>\n",
       "      <td>215.00</td>\n",
       "      <td>161.00</td>\n",
       "    </tr>\n",
       "    <tr>\n",
       "      <th>C</th>\n",
       "      <td>278.00</td>\n",
       "      <td>226.00</td>\n",
       "    </tr>\n",
       "    <tr>\n",
       "      <th>Matlab</th>\n",
       "      <td>255.00</td>\n",
       "      <td>199.00</td>\n",
       "    </tr>\n",
       "    <tr>\n",
       "      <th>Scikit-learn</th>\n",
       "      <td>601.00</td>\n",
       "      <td>319.00</td>\n",
       "    </tr>\n",
       "    <tr>\n",
       "      <th>Pandas</th>\n",
       "      <td>521.00</td>\n",
       "      <td>311.00</td>\n",
       "    </tr>\n",
       "    <tr>\n",
       "      <th>Git</th>\n",
       "      <td>306.00</td>\n",
       "      <td>241.00</td>\n",
       "    </tr>\n",
       "    <tr>\n",
       "      <th>Keras</th>\n",
       "      <td>303.00</td>\n",
       "      <td>150.00</td>\n",
       "    </tr>\n",
       "    <tr>\n",
       "      <th>Javascript</th>\n",
       "      <td>238.00</td>\n",
       "      <td>149.00</td>\n",
       "    </tr>\n",
       "    <tr>\n",
       "      <th>Pig</th>\n",
       "      <td>79.00</td>\n",
       "      <td>66.00</td>\n",
       "    </tr>\n",
       "    <tr>\n",
       "      <th>Hbase</th>\n",
       "      <td>31.00</td>\n",
       "      <td>27.00</td>\n",
       "    </tr>\n",
       "    <tr>\n",
       "      <th>Google Cloud</th>\n",
       "      <td>131.00</td>\n",
       "      <td>101.00</td>\n",
       "    </tr>\n",
       "    <tr>\n",
       "      <th>Docker</th>\n",
       "      <td>327.00</td>\n",
       "      <td>157.00</td>\n",
       "    </tr>\n",
       "    <tr>\n",
       "      <th>NumPy</th>\n",
       "      <td>362.00</td>\n",
       "      <td>212.00</td>\n",
       "    </tr>\n",
       "    <tr>\n",
       "      <th>PyTorch</th>\n",
       "      <td>1,083.00</td>\n",
       "      <td>386.00</td>\n",
       "    </tr>\n",
       "    <tr>\n",
       "      <th>C#</th>\n",
       "      <td>278.00</td>\n",
       "      <td>226.00</td>\n",
       "    </tr>\n",
       "    <tr>\n",
       "      <th>SPSS</th>\n",
       "      <td>95.00</td>\n",
       "      <td>76.00</td>\n",
       "    </tr>\n",
       "    <tr>\n",
       "      <th>MySQL</th>\n",
       "      <td>126.00</td>\n",
       "      <td>105.00</td>\n",
       "    </tr>\n",
       "    <tr>\n",
       "      <th>Perl</th>\n",
       "      <td>42.00</td>\n",
       "      <td>38.00</td>\n",
       "    </tr>\n",
       "    <tr>\n",
       "      <th>Cassandra</th>\n",
       "      <td>52.00</td>\n",
       "      <td>33.00</td>\n",
       "    </tr>\n",
       "    <tr>\n",
       "      <th>MongoDB</th>\n",
       "      <td>79.00</td>\n",
       "      <td>51.00</td>\n",
       "    </tr>\n",
       "    <tr>\n",
       "      <th>GCP</th>\n",
       "      <td>357.00</td>\n",
       "      <td>177.00</td>\n",
       "    </tr>\n",
       "    <tr>\n",
       "      <th>Kubernetes</th>\n",
       "      <td>285.00</td>\n",
       "      <td>119.00</td>\n",
       "    </tr>\n",
       "    <tr>\n",
       "      <th>D3</th>\n",
       "      <td>83.00</td>\n",
       "      <td>20.00</td>\n",
       "    </tr>\n",
       "    <tr>\n",
       "      <th>Databricks</th>\n",
       "      <td>245.00</td>\n",
       "      <td>206.00</td>\n",
       "    </tr>\n",
       "    <tr>\n",
       "      <th>postgresql</th>\n",
       "      <td>0.00</td>\n",
       "      <td>61.00</td>\n",
       "    </tr>\n",
       "    <tr>\n",
       "      <th>Caffe</th>\n",
       "      <td>32.00</td>\n",
       "      <td>21.00</td>\n",
       "    </tr>\n",
       "    <tr>\n",
       "      <th>Airflow</th>\n",
       "      <td>108.00</td>\n",
       "      <td>96.00</td>\n",
       "    </tr>\n",
       "    <tr>\n",
       "      <th>Alteryx</th>\n",
       "      <td>31.00</td>\n",
       "      <td>29.00</td>\n",
       "    </tr>\n",
       "    <tr>\n",
       "      <th>BigQuery</th>\n",
       "      <td>147.00</td>\n",
       "      <td>78.00</td>\n",
       "    </tr>\n",
       "    <tr>\n",
       "      <th>Fastai</th>\n",
       "      <td>0.00</td>\n",
       "      <td>0.00</td>\n",
       "    </tr>\n",
       "  </tbody>\n",
       "</table>\n",
       "</div>"
      ],
      "text/plain": [
       "               Indeed   Simply\n",
       "Name                          \n",
       "Python       3,575.00 2,213.00\n",
       "SQL          2,218.00 1,614.00\n",
       "R            1,747.00 1,268.00\n",
       "Spark          877.00   572.00\n",
       "Hadoop         493.00   352.00\n",
       "Java           608.00   423.00\n",
       "Tableau        821.00   623.00\n",
       "AWS            938.00   618.00\n",
       "SAS            372.00   308.00\n",
       "Hive           251.00   196.00\n",
       "Scala          324.00   236.00\n",
       "Excel          474.00   369.00\n",
       "TensorFlow   1,218.00   451.00\n",
       "C++            278.00   226.00\n",
       "Azure          668.00   419.00\n",
       "NoSQL          329.00   184.00\n",
       "Linux          215.00   161.00\n",
       "C              278.00   226.00\n",
       "Matlab         255.00   199.00\n",
       "Scikit-learn   601.00   319.00\n",
       "Pandas         521.00   311.00\n",
       "Git            306.00   241.00\n",
       "Keras          303.00   150.00\n",
       "Javascript     238.00   149.00\n",
       "Pig             79.00    66.00\n",
       "Hbase           31.00    27.00\n",
       "Google Cloud   131.00   101.00\n",
       "Docker         327.00   157.00\n",
       "NumPy          362.00   212.00\n",
       "PyTorch      1,083.00   386.00\n",
       "C#             278.00   226.00\n",
       "SPSS            95.00    76.00\n",
       "MySQL          126.00   105.00\n",
       "Perl            42.00    38.00\n",
       "Cassandra       52.00    33.00\n",
       "MongoDB         79.00    51.00\n",
       "GCP            357.00   177.00\n",
       "Kubernetes     285.00   119.00\n",
       "D3              83.00    20.00\n",
       "Databricks     245.00   206.00\n",
       "postgresql       0.00    61.00\n",
       "Caffe           32.00    21.00\n",
       "Airflow        108.00    96.00\n",
       "Alteryx         31.00    29.00\n",
       "BigQuery       147.00    78.00\n",
       "Fastai           0.00     0.00"
      ]
     },
     "execution_count": 14,
     "metadata": {},
     "output_type": "execute_result"
    }
   ],
   "source": [
    "df = df.fillna(0)\n",
    "df"
   ]
  },
  {
   "cell_type": "markdown",
   "id": "1d00dcad521c2174",
   "metadata": {
    "collapsed": false,
    "jupyter": {
     "outputs_hidden": false
    }
   },
   "source": [
    "Write out file\n",
    "Get today's date."
   ]
  },
  {
   "cell_type": "code",
   "execution_count": 15,
   "id": "ec6722dd1cc54a17",
   "metadata": {
    "ExecuteTime": {
     "end_time": "2023-10-06T07:48:48.341237Z",
     "start_time": "2023-10-06T07:48:48.247557200Z"
    },
    "collapsed": false,
    "jupyter": {
     "outputs_hidden": false
    }
   },
   "outputs": [
    {
     "data": {
      "text/html": [
       "<div>\n",
       "<style scoped>\n",
       "    .dataframe tbody tr th:only-of-type {\n",
       "        vertical-align: middle;\n",
       "    }\n",
       "\n",
       "    .dataframe tbody tr th {\n",
       "        vertical-align: top;\n",
       "    }\n",
       "\n",
       "    .dataframe thead th {\n",
       "        text-align: right;\n",
       "    }\n",
       "</style>\n",
       "<table border=\"1\" class=\"dataframe\">\n",
       "  <thead>\n",
       "    <tr style=\"text-align: right;\">\n",
       "      <th></th>\n",
       "      <th>Indeed</th>\n",
       "      <th>Simply</th>\n",
       "    </tr>\n",
       "    <tr>\n",
       "      <th>Name</th>\n",
       "      <th></th>\n",
       "      <th></th>\n",
       "    </tr>\n",
       "  </thead>\n",
       "  <tbody>\n",
       "    <tr>\n",
       "      <th>Python</th>\n",
       "      <td>0.79</td>\n",
       "      <td>0.77</td>\n",
       "    </tr>\n",
       "    <tr>\n",
       "      <th>SQL</th>\n",
       "      <td>0.49</td>\n",
       "      <td>0.56</td>\n",
       "    </tr>\n",
       "    <tr>\n",
       "      <th>R</th>\n",
       "      <td>0.39</td>\n",
       "      <td>0.44</td>\n",
       "    </tr>\n",
       "    <tr>\n",
       "      <th>Spark</th>\n",
       "      <td>0.19</td>\n",
       "      <td>0.20</td>\n",
       "    </tr>\n",
       "    <tr>\n",
       "      <th>Hadoop</th>\n",
       "      <td>0.11</td>\n",
       "      <td>0.12</td>\n",
       "    </tr>\n",
       "    <tr>\n",
       "      <th>Java</th>\n",
       "      <td>0.13</td>\n",
       "      <td>0.15</td>\n",
       "    </tr>\n",
       "    <tr>\n",
       "      <th>Tableau</th>\n",
       "      <td>0.18</td>\n",
       "      <td>0.22</td>\n",
       "    </tr>\n",
       "    <tr>\n",
       "      <th>AWS</th>\n",
       "      <td>0.21</td>\n",
       "      <td>0.21</td>\n",
       "    </tr>\n",
       "    <tr>\n",
       "      <th>SAS</th>\n",
       "      <td>0.08</td>\n",
       "      <td>0.11</td>\n",
       "    </tr>\n",
       "    <tr>\n",
       "      <th>Hive</th>\n",
       "      <td>0.06</td>\n",
       "      <td>0.07</td>\n",
       "    </tr>\n",
       "    <tr>\n",
       "      <th>Scala</th>\n",
       "      <td>0.07</td>\n",
       "      <td>0.08</td>\n",
       "    </tr>\n",
       "    <tr>\n",
       "      <th>Excel</th>\n",
       "      <td>0.11</td>\n",
       "      <td>0.13</td>\n",
       "    </tr>\n",
       "    <tr>\n",
       "      <th>TensorFlow</th>\n",
       "      <td>0.27</td>\n",
       "      <td>0.16</td>\n",
       "    </tr>\n",
       "    <tr>\n",
       "      <th>C++</th>\n",
       "      <td>0.06</td>\n",
       "      <td>0.08</td>\n",
       "    </tr>\n",
       "    <tr>\n",
       "      <th>Azure</th>\n",
       "      <td>0.15</td>\n",
       "      <td>0.14</td>\n",
       "    </tr>\n",
       "    <tr>\n",
       "      <th>NoSQL</th>\n",
       "      <td>0.07</td>\n",
       "      <td>0.06</td>\n",
       "    </tr>\n",
       "    <tr>\n",
       "      <th>Linux</th>\n",
       "      <td>0.05</td>\n",
       "      <td>0.06</td>\n",
       "    </tr>\n",
       "    <tr>\n",
       "      <th>C</th>\n",
       "      <td>0.06</td>\n",
       "      <td>0.08</td>\n",
       "    </tr>\n",
       "    <tr>\n",
       "      <th>Matlab</th>\n",
       "      <td>0.06</td>\n",
       "      <td>0.07</td>\n",
       "    </tr>\n",
       "    <tr>\n",
       "      <th>Scikit-learn</th>\n",
       "      <td>0.13</td>\n",
       "      <td>0.11</td>\n",
       "    </tr>\n",
       "    <tr>\n",
       "      <th>Pandas</th>\n",
       "      <td>0.12</td>\n",
       "      <td>0.11</td>\n",
       "    </tr>\n",
       "    <tr>\n",
       "      <th>Git</th>\n",
       "      <td>0.07</td>\n",
       "      <td>0.08</td>\n",
       "    </tr>\n",
       "    <tr>\n",
       "      <th>Keras</th>\n",
       "      <td>0.07</td>\n",
       "      <td>0.05</td>\n",
       "    </tr>\n",
       "    <tr>\n",
       "      <th>Javascript</th>\n",
       "      <td>0.05</td>\n",
       "      <td>0.05</td>\n",
       "    </tr>\n",
       "    <tr>\n",
       "      <th>Pig</th>\n",
       "      <td>0.02</td>\n",
       "      <td>0.02</td>\n",
       "    </tr>\n",
       "    <tr>\n",
       "      <th>Hbase</th>\n",
       "      <td>0.01</td>\n",
       "      <td>0.01</td>\n",
       "    </tr>\n",
       "    <tr>\n",
       "      <th>Google Cloud</th>\n",
       "      <td>0.03</td>\n",
       "      <td>0.03</td>\n",
       "    </tr>\n",
       "    <tr>\n",
       "      <th>Docker</th>\n",
       "      <td>0.07</td>\n",
       "      <td>0.05</td>\n",
       "    </tr>\n",
       "    <tr>\n",
       "      <th>NumPy</th>\n",
       "      <td>0.08</td>\n",
       "      <td>0.07</td>\n",
       "    </tr>\n",
       "    <tr>\n",
       "      <th>PyTorch</th>\n",
       "      <td>0.24</td>\n",
       "      <td>0.13</td>\n",
       "    </tr>\n",
       "    <tr>\n",
       "      <th>C#</th>\n",
       "      <td>0.06</td>\n",
       "      <td>0.08</td>\n",
       "    </tr>\n",
       "    <tr>\n",
       "      <th>SPSS</th>\n",
       "      <td>0.02</td>\n",
       "      <td>0.03</td>\n",
       "    </tr>\n",
       "    <tr>\n",
       "      <th>MySQL</th>\n",
       "      <td>0.03</td>\n",
       "      <td>0.04</td>\n",
       "    </tr>\n",
       "    <tr>\n",
       "      <th>Perl</th>\n",
       "      <td>0.01</td>\n",
       "      <td>0.01</td>\n",
       "    </tr>\n",
       "    <tr>\n",
       "      <th>Cassandra</th>\n",
       "      <td>0.01</td>\n",
       "      <td>0.01</td>\n",
       "    </tr>\n",
       "    <tr>\n",
       "      <th>MongoDB</th>\n",
       "      <td>0.02</td>\n",
       "      <td>0.02</td>\n",
       "    </tr>\n",
       "    <tr>\n",
       "      <th>GCP</th>\n",
       "      <td>0.08</td>\n",
       "      <td>0.06</td>\n",
       "    </tr>\n",
       "    <tr>\n",
       "      <th>Kubernetes</th>\n",
       "      <td>0.06</td>\n",
       "      <td>0.04</td>\n",
       "    </tr>\n",
       "    <tr>\n",
       "      <th>D3</th>\n",
       "      <td>0.02</td>\n",
       "      <td>0.01</td>\n",
       "    </tr>\n",
       "    <tr>\n",
       "      <th>Databricks</th>\n",
       "      <td>0.05</td>\n",
       "      <td>0.07</td>\n",
       "    </tr>\n",
       "    <tr>\n",
       "      <th>postgresql</th>\n",
       "      <td>0.00</td>\n",
       "      <td>0.02</td>\n",
       "    </tr>\n",
       "    <tr>\n",
       "      <th>Caffe</th>\n",
       "      <td>0.01</td>\n",
       "      <td>0.01</td>\n",
       "    </tr>\n",
       "    <tr>\n",
       "      <th>Airflow</th>\n",
       "      <td>0.02</td>\n",
       "      <td>0.03</td>\n",
       "    </tr>\n",
       "    <tr>\n",
       "      <th>Alteryx</th>\n",
       "      <td>0.01</td>\n",
       "      <td>0.01</td>\n",
       "    </tr>\n",
       "    <tr>\n",
       "      <th>BigQuery</th>\n",
       "      <td>0.03</td>\n",
       "      <td>0.03</td>\n",
       "    </tr>\n",
       "    <tr>\n",
       "      <th>Fastai</th>\n",
       "      <td>0.00</td>\n",
       "      <td>0.00</td>\n",
       "    </tr>\n",
       "  </tbody>\n",
       "</table>\n",
       "</div>"
      ],
      "text/plain": [
       "              Indeed  Simply\n",
       "Name                        \n",
       "Python          0.79    0.77\n",
       "SQL             0.49    0.56\n",
       "R               0.39    0.44\n",
       "Spark           0.19    0.20\n",
       "Hadoop          0.11    0.12\n",
       "Java            0.13    0.15\n",
       "Tableau         0.18    0.22\n",
       "AWS             0.21    0.21\n",
       "SAS             0.08    0.11\n",
       "Hive            0.06    0.07\n",
       "Scala           0.07    0.08\n",
       "Excel           0.11    0.13\n",
       "TensorFlow      0.27    0.16\n",
       "C++             0.06    0.08\n",
       "Azure           0.15    0.14\n",
       "NoSQL           0.07    0.06\n",
       "Linux           0.05    0.06\n",
       "C               0.06    0.08\n",
       "Matlab          0.06    0.07\n",
       "Scikit-learn    0.13    0.11\n",
       "Pandas          0.12    0.11\n",
       "Git             0.07    0.08\n",
       "Keras           0.07    0.05\n",
       "Javascript      0.05    0.05\n",
       "Pig             0.02    0.02\n",
       "Hbase           0.01    0.01\n",
       "Google Cloud    0.03    0.03\n",
       "Docker          0.07    0.05\n",
       "NumPy           0.08    0.07\n",
       "PyTorch         0.24    0.13\n",
       "C#              0.06    0.08\n",
       "SPSS            0.02    0.03\n",
       "MySQL           0.03    0.04\n",
       "Perl            0.01    0.01\n",
       "Cassandra       0.01    0.01\n",
       "MongoDB         0.02    0.02\n",
       "GCP             0.08    0.06\n",
       "Kubernetes      0.06    0.04\n",
       "D3              0.02    0.01\n",
       "Databricks      0.05    0.07\n",
       "postgresql      0.00    0.02\n",
       "Caffe           0.01    0.01\n",
       "Airflow         0.02    0.03\n",
       "Alteryx         0.01    0.01\n",
       "BigQuery        0.03    0.03\n",
       "Fastai          0.00    0.00"
      ]
     },
     "execution_count": 15,
     "metadata": {},
     "output_type": "execute_result"
    }
   ],
   "source": [
    "import datetime\n",
    "today = datetime.date.today()\n",
    "df.to_csv(f'tech_skills_{today}.csv')\n",
    "percent_df = df/total_ds_jobs\n",
    "percent_df\n"
   ]
  },
  {
   "cell_type": "code",
   "execution_count": 16,
   "id": "fa6332fb6bb63e42",
   "metadata": {
    "ExecuteTime": {
     "end_time": "2023-10-06T07:49:09.039366800Z",
     "start_time": "2023-10-06T07:49:08.917348500Z"
    },
    "collapsed": false,
    "jupyter": {
     "outputs_hidden": false
    }
   },
   "outputs": [
    {
     "data": {
      "text/html": [
       "<div>\n",
       "<style scoped>\n",
       "    .dataframe tbody tr th:only-of-type {\n",
       "        vertical-align: middle;\n",
       "    }\n",
       "\n",
       "    .dataframe tbody tr th {\n",
       "        vertical-align: top;\n",
       "    }\n",
       "\n",
       "    .dataframe thead th {\n",
       "        text-align: right;\n",
       "    }\n",
       "</style>\n",
       "<table border=\"1\" class=\"dataframe\">\n",
       "  <thead>\n",
       "    <tr style=\"text-align: right;\">\n",
       "      <th></th>\n",
       "      <th>Indeed</th>\n",
       "      <th>Simply</th>\n",
       "      <th>avg</th>\n",
       "    </tr>\n",
       "    <tr>\n",
       "      <th>Name</th>\n",
       "      <th></th>\n",
       "      <th></th>\n",
       "      <th></th>\n",
       "    </tr>\n",
       "  </thead>\n",
       "  <tbody>\n",
       "    <tr>\n",
       "      <th>Python</th>\n",
       "      <td>0.79</td>\n",
       "      <td>0.77</td>\n",
       "      <td>0.78</td>\n",
       "    </tr>\n",
       "    <tr>\n",
       "      <th>SQL</th>\n",
       "      <td>0.49</td>\n",
       "      <td>0.56</td>\n",
       "      <td>0.52</td>\n",
       "    </tr>\n",
       "    <tr>\n",
       "      <th>R</th>\n",
       "      <td>0.39</td>\n",
       "      <td>0.44</td>\n",
       "      <td>0.41</td>\n",
       "    </tr>\n",
       "    <tr>\n",
       "      <th>Spark</th>\n",
       "      <td>0.19</td>\n",
       "      <td>0.20</td>\n",
       "      <td>0.20</td>\n",
       "    </tr>\n",
       "    <tr>\n",
       "      <th>Hadoop</th>\n",
       "      <td>0.11</td>\n",
       "      <td>0.12</td>\n",
       "      <td>0.12</td>\n",
       "    </tr>\n",
       "    <tr>\n",
       "      <th>Java</th>\n",
       "      <td>0.13</td>\n",
       "      <td>0.15</td>\n",
       "      <td>0.14</td>\n",
       "    </tr>\n",
       "    <tr>\n",
       "      <th>Tableau</th>\n",
       "      <td>0.18</td>\n",
       "      <td>0.22</td>\n",
       "      <td>0.20</td>\n",
       "    </tr>\n",
       "    <tr>\n",
       "      <th>AWS</th>\n",
       "      <td>0.21</td>\n",
       "      <td>0.21</td>\n",
       "      <td>0.21</td>\n",
       "    </tr>\n",
       "    <tr>\n",
       "      <th>SAS</th>\n",
       "      <td>0.08</td>\n",
       "      <td>0.11</td>\n",
       "      <td>0.09</td>\n",
       "    </tr>\n",
       "    <tr>\n",
       "      <th>Hive</th>\n",
       "      <td>0.06</td>\n",
       "      <td>0.07</td>\n",
       "      <td>0.06</td>\n",
       "    </tr>\n",
       "    <tr>\n",
       "      <th>Scala</th>\n",
       "      <td>0.07</td>\n",
       "      <td>0.08</td>\n",
       "      <td>0.08</td>\n",
       "    </tr>\n",
       "    <tr>\n",
       "      <th>Excel</th>\n",
       "      <td>0.11</td>\n",
       "      <td>0.13</td>\n",
       "      <td>0.12</td>\n",
       "    </tr>\n",
       "    <tr>\n",
       "      <th>TensorFlow</th>\n",
       "      <td>0.27</td>\n",
       "      <td>0.16</td>\n",
       "      <td>0.21</td>\n",
       "    </tr>\n",
       "    <tr>\n",
       "      <th>C++</th>\n",
       "      <td>0.06</td>\n",
       "      <td>0.08</td>\n",
       "      <td>0.07</td>\n",
       "    </tr>\n",
       "    <tr>\n",
       "      <th>Azure</th>\n",
       "      <td>0.15</td>\n",
       "      <td>0.14</td>\n",
       "      <td>0.15</td>\n",
       "    </tr>\n",
       "    <tr>\n",
       "      <th>NoSQL</th>\n",
       "      <td>0.07</td>\n",
       "      <td>0.06</td>\n",
       "      <td>0.07</td>\n",
       "    </tr>\n",
       "    <tr>\n",
       "      <th>Linux</th>\n",
       "      <td>0.05</td>\n",
       "      <td>0.06</td>\n",
       "      <td>0.05</td>\n",
       "    </tr>\n",
       "    <tr>\n",
       "      <th>C</th>\n",
       "      <td>0.06</td>\n",
       "      <td>0.08</td>\n",
       "      <td>0.07</td>\n",
       "    </tr>\n",
       "    <tr>\n",
       "      <th>Matlab</th>\n",
       "      <td>0.06</td>\n",
       "      <td>0.07</td>\n",
       "      <td>0.06</td>\n",
       "    </tr>\n",
       "    <tr>\n",
       "      <th>Scikit-learn</th>\n",
       "      <td>0.13</td>\n",
       "      <td>0.11</td>\n",
       "      <td>0.12</td>\n",
       "    </tr>\n",
       "    <tr>\n",
       "      <th>Pandas</th>\n",
       "      <td>0.12</td>\n",
       "      <td>0.11</td>\n",
       "      <td>0.11</td>\n",
       "    </tr>\n",
       "    <tr>\n",
       "      <th>Git</th>\n",
       "      <td>0.07</td>\n",
       "      <td>0.08</td>\n",
       "      <td>0.08</td>\n",
       "    </tr>\n",
       "    <tr>\n",
       "      <th>Keras</th>\n",
       "      <td>0.07</td>\n",
       "      <td>0.05</td>\n",
       "      <td>0.06</td>\n",
       "    </tr>\n",
       "    <tr>\n",
       "      <th>Javascript</th>\n",
       "      <td>0.05</td>\n",
       "      <td>0.05</td>\n",
       "      <td>0.05</td>\n",
       "    </tr>\n",
       "    <tr>\n",
       "      <th>Pig</th>\n",
       "      <td>0.02</td>\n",
       "      <td>0.02</td>\n",
       "      <td>0.02</td>\n",
       "    </tr>\n",
       "    <tr>\n",
       "      <th>Hbase</th>\n",
       "      <td>0.01</td>\n",
       "      <td>0.01</td>\n",
       "      <td>0.01</td>\n",
       "    </tr>\n",
       "    <tr>\n",
       "      <th>Google Cloud</th>\n",
       "      <td>0.03</td>\n",
       "      <td>0.03</td>\n",
       "      <td>0.03</td>\n",
       "    </tr>\n",
       "    <tr>\n",
       "      <th>Docker</th>\n",
       "      <td>0.07</td>\n",
       "      <td>0.05</td>\n",
       "      <td>0.06</td>\n",
       "    </tr>\n",
       "    <tr>\n",
       "      <th>NumPy</th>\n",
       "      <td>0.08</td>\n",
       "      <td>0.07</td>\n",
       "      <td>0.08</td>\n",
       "    </tr>\n",
       "    <tr>\n",
       "      <th>PyTorch</th>\n",
       "      <td>0.24</td>\n",
       "      <td>0.13</td>\n",
       "      <td>0.19</td>\n",
       "    </tr>\n",
       "    <tr>\n",
       "      <th>C#</th>\n",
       "      <td>0.06</td>\n",
       "      <td>0.08</td>\n",
       "      <td>0.07</td>\n",
       "    </tr>\n",
       "    <tr>\n",
       "      <th>SPSS</th>\n",
       "      <td>0.02</td>\n",
       "      <td>0.03</td>\n",
       "      <td>0.02</td>\n",
       "    </tr>\n",
       "    <tr>\n",
       "      <th>MySQL</th>\n",
       "      <td>0.03</td>\n",
       "      <td>0.04</td>\n",
       "      <td>0.03</td>\n",
       "    </tr>\n",
       "    <tr>\n",
       "      <th>Perl</th>\n",
       "      <td>0.01</td>\n",
       "      <td>0.01</td>\n",
       "      <td>0.01</td>\n",
       "    </tr>\n",
       "    <tr>\n",
       "      <th>Cassandra</th>\n",
       "      <td>0.01</td>\n",
       "      <td>0.01</td>\n",
       "      <td>0.01</td>\n",
       "    </tr>\n",
       "    <tr>\n",
       "      <th>MongoDB</th>\n",
       "      <td>0.02</td>\n",
       "      <td>0.02</td>\n",
       "      <td>0.02</td>\n",
       "    </tr>\n",
       "    <tr>\n",
       "      <th>GCP</th>\n",
       "      <td>0.08</td>\n",
       "      <td>0.06</td>\n",
       "      <td>0.07</td>\n",
       "    </tr>\n",
       "    <tr>\n",
       "      <th>Kubernetes</th>\n",
       "      <td>0.06</td>\n",
       "      <td>0.04</td>\n",
       "      <td>0.05</td>\n",
       "    </tr>\n",
       "    <tr>\n",
       "      <th>D3</th>\n",
       "      <td>0.02</td>\n",
       "      <td>0.01</td>\n",
       "      <td>0.01</td>\n",
       "    </tr>\n",
       "    <tr>\n",
       "      <th>Databricks</th>\n",
       "      <td>0.05</td>\n",
       "      <td>0.07</td>\n",
       "      <td>0.06</td>\n",
       "    </tr>\n",
       "    <tr>\n",
       "      <th>postgresql</th>\n",
       "      <td>0.00</td>\n",
       "      <td>0.02</td>\n",
       "      <td>0.01</td>\n",
       "    </tr>\n",
       "    <tr>\n",
       "      <th>Caffe</th>\n",
       "      <td>0.01</td>\n",
       "      <td>0.01</td>\n",
       "      <td>0.01</td>\n",
       "    </tr>\n",
       "    <tr>\n",
       "      <th>Airflow</th>\n",
       "      <td>0.02</td>\n",
       "      <td>0.03</td>\n",
       "      <td>0.03</td>\n",
       "    </tr>\n",
       "    <tr>\n",
       "      <th>Alteryx</th>\n",
       "      <td>0.01</td>\n",
       "      <td>0.01</td>\n",
       "      <td>0.01</td>\n",
       "    </tr>\n",
       "    <tr>\n",
       "      <th>BigQuery</th>\n",
       "      <td>0.03</td>\n",
       "      <td>0.03</td>\n",
       "      <td>0.03</td>\n",
       "    </tr>\n",
       "    <tr>\n",
       "      <th>Fastai</th>\n",
       "      <td>0.00</td>\n",
       "      <td>0.00</td>\n",
       "      <td>0.00</td>\n",
       "    </tr>\n",
       "  </tbody>\n",
       "</table>\n",
       "</div>"
      ],
      "text/plain": [
       "              Indeed  Simply  avg\n",
       "Name                             \n",
       "Python          0.79    0.77 0.78\n",
       "SQL             0.49    0.56 0.52\n",
       "R               0.39    0.44 0.41\n",
       "Spark           0.19    0.20 0.20\n",
       "Hadoop          0.11    0.12 0.12\n",
       "Java            0.13    0.15 0.14\n",
       "Tableau         0.18    0.22 0.20\n",
       "AWS             0.21    0.21 0.21\n",
       "SAS             0.08    0.11 0.09\n",
       "Hive            0.06    0.07 0.06\n",
       "Scala           0.07    0.08 0.08\n",
       "Excel           0.11    0.13 0.12\n",
       "TensorFlow      0.27    0.16 0.21\n",
       "C++             0.06    0.08 0.07\n",
       "Azure           0.15    0.14 0.15\n",
       "NoSQL           0.07    0.06 0.07\n",
       "Linux           0.05    0.06 0.05\n",
       "C               0.06    0.08 0.07\n",
       "Matlab          0.06    0.07 0.06\n",
       "Scikit-learn    0.13    0.11 0.12\n",
       "Pandas          0.12    0.11 0.11\n",
       "Git             0.07    0.08 0.08\n",
       "Keras           0.07    0.05 0.06\n",
       "Javascript      0.05    0.05 0.05\n",
       "Pig             0.02    0.02 0.02\n",
       "Hbase           0.01    0.01 0.01\n",
       "Google Cloud    0.03    0.03 0.03\n",
       "Docker          0.07    0.05 0.06\n",
       "NumPy           0.08    0.07 0.08\n",
       "PyTorch         0.24    0.13 0.19\n",
       "C#              0.06    0.08 0.07\n",
       "SPSS            0.02    0.03 0.02\n",
       "MySQL           0.03    0.04 0.03\n",
       "Perl            0.01    0.01 0.01\n",
       "Cassandra       0.01    0.01 0.01\n",
       "MongoDB         0.02    0.02 0.02\n",
       "GCP             0.08    0.06 0.07\n",
       "Kubernetes      0.06    0.04 0.05\n",
       "D3              0.02    0.01 0.01\n",
       "Databricks      0.05    0.07 0.06\n",
       "postgresql      0.00    0.02 0.01\n",
       "Caffe           0.01    0.01 0.01\n",
       "Airflow         0.02    0.03 0.03\n",
       "Alteryx         0.01    0.01 0.01\n",
       "BigQuery        0.03    0.03 0.03\n",
       "Fastai          0.00    0.00 0.00"
      ]
     },
     "execution_count": 16,
     "metadata": {},
     "output_type": "execute_result"
    }
   ],
   "source": [
    "percent_df['avg'] = percent_df.mean(axis=1)\n",
    "percent_df"
   ]
  },
  {
   "cell_type": "markdown",
   "id": "456f4e36686ba697",
   "metadata": {
    "collapsed": false,
    "jupyter": {
     "outputs_hidden": false
    }
   },
   "source": [
    "Read 2019 data"
   ]
  },
  {
   "cell_type": "code",
   "execution_count": 59,
   "id": "945c5ec520fa55c6",
   "metadata": {
    "ExecuteTime": {
     "end_time": "2023-10-06T08:13:55.330590900Z",
     "start_time": "2023-10-06T08:13:55.231859300Z"
    },
    "collapsed": false,
    "jupyter": {
     "outputs_hidden": false
    }
   },
   "outputs": [
    {
     "data": {
      "text/html": [
       "<div>\n",
       "<style scoped>\n",
       "    .dataframe tbody tr th:only-of-type {\n",
       "        vertical-align: middle;\n",
       "    }\n",
       "\n",
       "    .dataframe tbody tr th {\n",
       "        vertical-align: top;\n",
       "    }\n",
       "\n",
       "    .dataframe thead th {\n",
       "        text-align: right;\n",
       "    }\n",
       "</style>\n",
       "<table border=\"1\" class=\"dataframe\">\n",
       "  <thead>\n",
       "    <tr style=\"text-align: right;\">\n",
       "      <th></th>\n",
       "      <th>Keyword</th>\n",
       "      <th>Indeed</th>\n",
       "      <th>Simply</th>\n",
       "    </tr>\n",
       "    <tr>\n",
       "      <th>Keyword</th>\n",
       "      <th></th>\n",
       "      <th></th>\n",
       "      <th></th>\n",
       "    </tr>\n",
       "  </thead>\n",
       "  <tbody>\n",
       "    <tr>\n",
       "      <th>Python</th>\n",
       "      <td>Python</td>\n",
       "      <td>4305</td>\n",
       "      <td>3141</td>\n",
       "    </tr>\n",
       "    <tr>\n",
       "      <th>SQL</th>\n",
       "      <td>SQL</td>\n",
       "      <td>3163</td>\n",
       "      <td>2249</td>\n",
       "    </tr>\n",
       "    <tr>\n",
       "      <th>R</th>\n",
       "      <td>R</td>\n",
       "      <td>3105</td>\n",
       "      <td>2344</td>\n",
       "    </tr>\n",
       "    <tr>\n",
       "      <th>Spark</th>\n",
       "      <td>Spark</td>\n",
       "      <td>1691</td>\n",
       "      <td>1147</td>\n",
       "    </tr>\n",
       "    <tr>\n",
       "      <th>Hadoop</th>\n",
       "      <td>Hadoop</td>\n",
       "      <td>1574</td>\n",
       "      <td>1070</td>\n",
       "    </tr>\n",
       "    <tr>\n",
       "      <th>Java</th>\n",
       "      <td>Java</td>\n",
       "      <td>1457</td>\n",
       "      <td>1008</td>\n",
       "    </tr>\n",
       "    <tr>\n",
       "      <th>Tableau</th>\n",
       "      <td>Tableau</td>\n",
       "      <td>1147</td>\n",
       "      <td>883</td>\n",
       "    </tr>\n",
       "    <tr>\n",
       "      <th>AWS</th>\n",
       "      <td>AWS</td>\n",
       "      <td>1235</td>\n",
       "      <td>788</td>\n",
       "    </tr>\n",
       "    <tr>\n",
       "      <th>SAS</th>\n",
       "      <td>SAS</td>\n",
       "      <td>965</td>\n",
       "      <td>736</td>\n",
       "    </tr>\n",
       "    <tr>\n",
       "      <th>Hive</th>\n",
       "      <td>Hive</td>\n",
       "      <td>852</td>\n",
       "      <td>561</td>\n",
       "    </tr>\n",
       "    <tr>\n",
       "      <th>Scala</th>\n",
       "      <td>Scala</td>\n",
       "      <td>772</td>\n",
       "      <td>592</td>\n",
       "    </tr>\n",
       "    <tr>\n",
       "      <th>Excel</th>\n",
       "      <td>Excel</td>\n",
       "      <td>606</td>\n",
       "      <td>485</td>\n",
       "    </tr>\n",
       "    <tr>\n",
       "      <th>TensorFlow</th>\n",
       "      <td>TensorFlow</td>\n",
       "      <td>873</td>\n",
       "      <td>586</td>\n",
       "    </tr>\n",
       "    <tr>\n",
       "      <th>C++</th>\n",
       "      <td>C++</td>\n",
       "      <td>798</td>\n",
       "      <td>582</td>\n",
       "    </tr>\n",
       "    <tr>\n",
       "      <th>Azure</th>\n",
       "      <td>Azure</td>\n",
       "      <td>626</td>\n",
       "      <td>399</td>\n",
       "    </tr>\n",
       "    <tr>\n",
       "      <th>NoSQL</th>\n",
       "      <td>NoSQL</td>\n",
       "      <td>597</td>\n",
       "      <td>366</td>\n",
       "    </tr>\n",
       "    <tr>\n",
       "      <th>Linux</th>\n",
       "      <td>Linux</td>\n",
       "      <td>547</td>\n",
       "      <td>376</td>\n",
       "    </tr>\n",
       "    <tr>\n",
       "      <th>C</th>\n",
       "      <td>C</td>\n",
       "      <td>520</td>\n",
       "      <td>380</td>\n",
       "    </tr>\n",
       "    <tr>\n",
       "      <th>Matlab</th>\n",
       "      <td>Matlab</td>\n",
       "      <td>567</td>\n",
       "      <td>458</td>\n",
       "    </tr>\n",
       "    <tr>\n",
       "      <th>Scikit-learn</th>\n",
       "      <td>Scikit-learn</td>\n",
       "      <td>526</td>\n",
       "      <td>383</td>\n",
       "    </tr>\n",
       "    <tr>\n",
       "      <th>Pandas</th>\n",
       "      <td>Pandas</td>\n",
       "      <td>360</td>\n",
       "      <td>317</td>\n",
       "    </tr>\n",
       "    <tr>\n",
       "      <th>Git</th>\n",
       "      <td>Git</td>\n",
       "      <td>347</td>\n",
       "      <td>267</td>\n",
       "    </tr>\n",
       "    <tr>\n",
       "      <th>Keras</th>\n",
       "      <td>Keras</td>\n",
       "      <td>401</td>\n",
       "      <td>263</td>\n",
       "    </tr>\n",
       "    <tr>\n",
       "      <th>Javascript</th>\n",
       "      <td>Javascript</td>\n",
       "      <td>283</td>\n",
       "      <td>245</td>\n",
       "    </tr>\n",
       "    <tr>\n",
       "      <th>Pig</th>\n",
       "      <td>Pig</td>\n",
       "      <td>318</td>\n",
       "      <td>198</td>\n",
       "    </tr>\n",
       "    <tr>\n",
       "      <th>Hbase</th>\n",
       "      <td>Hbase</td>\n",
       "      <td>318</td>\n",
       "      <td>163</td>\n",
       "    </tr>\n",
       "    <tr>\n",
       "      <th>Google Cloud</th>\n",
       "      <td>Google Cloud</td>\n",
       "      <td>181</td>\n",
       "      <td>138</td>\n",
       "    </tr>\n",
       "    <tr>\n",
       "      <th>Docker</th>\n",
       "      <td>Docker</td>\n",
       "      <td>373</td>\n",
       "      <td>189</td>\n",
       "    </tr>\n",
       "    <tr>\n",
       "      <th>NumPy</th>\n",
       "      <td>NumPy</td>\n",
       "      <td>285</td>\n",
       "      <td>253</td>\n",
       "    </tr>\n",
       "    <tr>\n",
       "      <th>PyTorch</th>\n",
       "      <td>PyTorch</td>\n",
       "      <td>323</td>\n",
       "      <td>258</td>\n",
       "    </tr>\n",
       "    <tr>\n",
       "      <th>C#</th>\n",
       "      <td>C#</td>\n",
       "      <td>335</td>\n",
       "      <td>176</td>\n",
       "    </tr>\n",
       "    <tr>\n",
       "      <th>SPSS</th>\n",
       "      <td>SPSS</td>\n",
       "      <td>248</td>\n",
       "      <td>213</td>\n",
       "    </tr>\n",
       "    <tr>\n",
       "      <th>MySQL</th>\n",
       "      <td>MySQL</td>\n",
       "      <td>237</td>\n",
       "      <td>203</td>\n",
       "    </tr>\n",
       "    <tr>\n",
       "      <th>Perl</th>\n",
       "      <td>Perl</td>\n",
       "      <td>336</td>\n",
       "      <td>169</td>\n",
       "    </tr>\n",
       "    <tr>\n",
       "      <th>Cassandra</th>\n",
       "      <td>Cassandra</td>\n",
       "      <td>271</td>\n",
       "      <td>132</td>\n",
       "    </tr>\n",
       "    <tr>\n",
       "      <th>MongoDB</th>\n",
       "      <td>MongoDB</td>\n",
       "      <td>234</td>\n",
       "      <td>146</td>\n",
       "    </tr>\n",
       "    <tr>\n",
       "      <th>GCP</th>\n",
       "      <td>GCP</td>\n",
       "      <td>232</td>\n",
       "      <td>116</td>\n",
       "    </tr>\n",
       "    <tr>\n",
       "      <th>Kubernetes</th>\n",
       "      <td>Kubernetes</td>\n",
       "      <td>261</td>\n",
       "      <td>105</td>\n",
       "    </tr>\n",
       "    <tr>\n",
       "      <th>D3</th>\n",
       "      <td>D3</td>\n",
       "      <td>131</td>\n",
       "      <td>105</td>\n",
       "    </tr>\n",
       "    <tr>\n",
       "      <th>Databricks</th>\n",
       "      <td>Databricks</td>\n",
       "      <td>139</td>\n",
       "      <td>90</td>\n",
       "    </tr>\n",
       "    <tr>\n",
       "      <th>postgresql</th>\n",
       "      <td>postgresql</td>\n",
       "      <td>104</td>\n",
       "      <td>94</td>\n",
       "    </tr>\n",
       "    <tr>\n",
       "      <th>Caffe</th>\n",
       "      <td>Caffe</td>\n",
       "      <td>171</td>\n",
       "      <td>77</td>\n",
       "    </tr>\n",
       "    <tr>\n",
       "      <th>Airflow</th>\n",
       "      <td>Airflow</td>\n",
       "      <td>95</td>\n",
       "      <td>77</td>\n",
       "    </tr>\n",
       "    <tr>\n",
       "      <th>Alteryx</th>\n",
       "      <td>Alteryx</td>\n",
       "      <td>84</td>\n",
       "      <td>72</td>\n",
       "    </tr>\n",
       "    <tr>\n",
       "      <th>BigQuery</th>\n",
       "      <td>BigQuery</td>\n",
       "      <td>133</td>\n",
       "      <td>56</td>\n",
       "    </tr>\n",
       "    <tr>\n",
       "      <th>Fastai</th>\n",
       "      <td>Fastai</td>\n",
       "      <td>1</td>\n",
       "      <td>1</td>\n",
       "    </tr>\n",
       "  </tbody>\n",
       "</table>\n",
       "</div>"
      ],
      "text/plain": [
       "                   Keyword  Indeed  Simply\n",
       "Keyword                                   \n",
       "Python              Python    4305    3141\n",
       "SQL                    SQL    3163    2249\n",
       "R                        R    3105    2344\n",
       "Spark                Spark    1691    1147\n",
       "Hadoop              Hadoop    1574    1070\n",
       "Java                  Java    1457    1008\n",
       "Tableau            Tableau    1147     883\n",
       "AWS                    AWS    1235     788\n",
       "SAS                    SAS     965     736\n",
       "Hive                  Hive     852     561\n",
       "Scala                Scala     772     592\n",
       "Excel                Excel     606     485\n",
       "TensorFlow      TensorFlow     873     586\n",
       "C++                    C++     798     582\n",
       "Azure                Azure     626     399\n",
       "NoSQL                NoSQL     597     366\n",
       "Linux                Linux     547     376\n",
       "C                        C     520     380\n",
       "Matlab              Matlab     567     458\n",
       "Scikit-learn  Scikit-learn     526     383\n",
       "Pandas              Pandas     360     317\n",
       "Git                    Git     347     267\n",
       "Keras                Keras     401     263\n",
       "Javascript      Javascript     283     245\n",
       "Pig                    Pig     318     198\n",
       "Hbase                Hbase     318     163\n",
       "Google Cloud  Google Cloud     181     138\n",
       "Docker              Docker     373     189\n",
       "NumPy                NumPy     285     253\n",
       "PyTorch            PyTorch     323     258\n",
       "C#                      C#     335     176\n",
       "SPSS                  SPSS     248     213\n",
       "MySQL                MySQL     237     203\n",
       "Perl                  Perl     336     169\n",
       "Cassandra        Cassandra     271     132\n",
       "MongoDB            MongoDB     234     146\n",
       "GCP                    GCP     232     116\n",
       "Kubernetes      Kubernetes     261     105\n",
       "D3                      D3     131     105\n",
       "Databricks      Databricks     139      90\n",
       "postgresql      postgresql     104      94\n",
       "Caffe                Caffe     171      77\n",
       "Airflow            Airflow      95      77\n",
       "Alteryx            Alteryx      84      72\n",
       "BigQuery          BigQuery     133      56\n",
       "Fastai              Fastai       1       1"
      ]
     },
     "execution_count": 59,
     "metadata": {},
     "output_type": "execute_result"
    }
   ],
   "source": [
    "total_2019 = {\n",
    "    'Indeed': 32127,\n",
    "    'Simply': 22657,\n",
    "}\n",
    "\n",
    "df_2019 = pd.read_csv('2019.csv')\n",
    "df_2019.index = df_2019['Keyword']\n",
    "df_2019"
   ]
  },
  {
   "cell_type": "markdown",
   "id": "c04e064b24e32584",
   "metadata": {
    "collapsed": false,
    "jupyter": {
     "outputs_hidden": false
    }
   },
   "source": [
    "Parse into floats"
   ]
  },
  {
   "cell_type": "code",
   "execution_count": 60,
   "id": "cfba068c25e20899",
   "metadata": {
    "ExecuteTime": {
     "end_time": "2023-10-06T08:13:57.188394500Z",
     "start_time": "2023-10-06T08:13:56.993138400Z"
    },
    "collapsed": false,
    "jupyter": {
     "outputs_hidden": false
    }
   },
   "outputs": [
    {
     "data": {
      "text/html": [
       "<div>\n",
       "<style scoped>\n",
       "    .dataframe tbody tr th:only-of-type {\n",
       "        vertical-align: middle;\n",
       "    }\n",
       "\n",
       "    .dataframe tbody tr th {\n",
       "        vertical-align: top;\n",
       "    }\n",
       "\n",
       "    .dataframe thead th {\n",
       "        text-align: right;\n",
       "    }\n",
       "</style>\n",
       "<table border=\"1\" class=\"dataframe\">\n",
       "  <thead>\n",
       "    <tr style=\"text-align: right;\">\n",
       "      <th></th>\n",
       "      <th>Indeed</th>\n",
       "      <th>Simply</th>\n",
       "    </tr>\n",
       "    <tr>\n",
       "      <th>Keyword</th>\n",
       "      <th></th>\n",
       "      <th></th>\n",
       "    </tr>\n",
       "  </thead>\n",
       "  <tbody>\n",
       "    <tr>\n",
       "      <th>Python</th>\n",
       "      <td>4305</td>\n",
       "      <td>3141</td>\n",
       "    </tr>\n",
       "    <tr>\n",
       "      <th>SQL</th>\n",
       "      <td>3163</td>\n",
       "      <td>2249</td>\n",
       "    </tr>\n",
       "    <tr>\n",
       "      <th>R</th>\n",
       "      <td>3105</td>\n",
       "      <td>2344</td>\n",
       "    </tr>\n",
       "    <tr>\n",
       "      <th>Spark</th>\n",
       "      <td>1691</td>\n",
       "      <td>1147</td>\n",
       "    </tr>\n",
       "    <tr>\n",
       "      <th>Hadoop</th>\n",
       "      <td>1574</td>\n",
       "      <td>1070</td>\n",
       "    </tr>\n",
       "    <tr>\n",
       "      <th>Java</th>\n",
       "      <td>1457</td>\n",
       "      <td>1008</td>\n",
       "    </tr>\n",
       "    <tr>\n",
       "      <th>Tableau</th>\n",
       "      <td>1147</td>\n",
       "      <td>883</td>\n",
       "    </tr>\n",
       "    <tr>\n",
       "      <th>AWS</th>\n",
       "      <td>1235</td>\n",
       "      <td>788</td>\n",
       "    </tr>\n",
       "    <tr>\n",
       "      <th>SAS</th>\n",
       "      <td>965</td>\n",
       "      <td>736</td>\n",
       "    </tr>\n",
       "    <tr>\n",
       "      <th>Hive</th>\n",
       "      <td>852</td>\n",
       "      <td>561</td>\n",
       "    </tr>\n",
       "    <tr>\n",
       "      <th>Scala</th>\n",
       "      <td>772</td>\n",
       "      <td>592</td>\n",
       "    </tr>\n",
       "    <tr>\n",
       "      <th>Excel</th>\n",
       "      <td>606</td>\n",
       "      <td>485</td>\n",
       "    </tr>\n",
       "    <tr>\n",
       "      <th>TensorFlow</th>\n",
       "      <td>873</td>\n",
       "      <td>586</td>\n",
       "    </tr>\n",
       "    <tr>\n",
       "      <th>C++</th>\n",
       "      <td>798</td>\n",
       "      <td>582</td>\n",
       "    </tr>\n",
       "    <tr>\n",
       "      <th>Azure</th>\n",
       "      <td>626</td>\n",
       "      <td>399</td>\n",
       "    </tr>\n",
       "    <tr>\n",
       "      <th>NoSQL</th>\n",
       "      <td>597</td>\n",
       "      <td>366</td>\n",
       "    </tr>\n",
       "    <tr>\n",
       "      <th>Linux</th>\n",
       "      <td>547</td>\n",
       "      <td>376</td>\n",
       "    </tr>\n",
       "    <tr>\n",
       "      <th>C</th>\n",
       "      <td>520</td>\n",
       "      <td>380</td>\n",
       "    </tr>\n",
       "    <tr>\n",
       "      <th>Matlab</th>\n",
       "      <td>567</td>\n",
       "      <td>458</td>\n",
       "    </tr>\n",
       "    <tr>\n",
       "      <th>Scikit-learn</th>\n",
       "      <td>526</td>\n",
       "      <td>383</td>\n",
       "    </tr>\n",
       "    <tr>\n",
       "      <th>Pandas</th>\n",
       "      <td>360</td>\n",
       "      <td>317</td>\n",
       "    </tr>\n",
       "    <tr>\n",
       "      <th>Git</th>\n",
       "      <td>347</td>\n",
       "      <td>267</td>\n",
       "    </tr>\n",
       "    <tr>\n",
       "      <th>Keras</th>\n",
       "      <td>401</td>\n",
       "      <td>263</td>\n",
       "    </tr>\n",
       "    <tr>\n",
       "      <th>Javascript</th>\n",
       "      <td>283</td>\n",
       "      <td>245</td>\n",
       "    </tr>\n",
       "    <tr>\n",
       "      <th>Pig</th>\n",
       "      <td>318</td>\n",
       "      <td>198</td>\n",
       "    </tr>\n",
       "    <tr>\n",
       "      <th>Hbase</th>\n",
       "      <td>318</td>\n",
       "      <td>163</td>\n",
       "    </tr>\n",
       "    <tr>\n",
       "      <th>Google Cloud</th>\n",
       "      <td>181</td>\n",
       "      <td>138</td>\n",
       "    </tr>\n",
       "    <tr>\n",
       "      <th>Docker</th>\n",
       "      <td>373</td>\n",
       "      <td>189</td>\n",
       "    </tr>\n",
       "    <tr>\n",
       "      <th>NumPy</th>\n",
       "      <td>285</td>\n",
       "      <td>253</td>\n",
       "    </tr>\n",
       "    <tr>\n",
       "      <th>PyTorch</th>\n",
       "      <td>323</td>\n",
       "      <td>258</td>\n",
       "    </tr>\n",
       "    <tr>\n",
       "      <th>C#</th>\n",
       "      <td>335</td>\n",
       "      <td>176</td>\n",
       "    </tr>\n",
       "    <tr>\n",
       "      <th>SPSS</th>\n",
       "      <td>248</td>\n",
       "      <td>213</td>\n",
       "    </tr>\n",
       "    <tr>\n",
       "      <th>MySQL</th>\n",
       "      <td>237</td>\n",
       "      <td>203</td>\n",
       "    </tr>\n",
       "    <tr>\n",
       "      <th>Perl</th>\n",
       "      <td>336</td>\n",
       "      <td>169</td>\n",
       "    </tr>\n",
       "    <tr>\n",
       "      <th>Cassandra</th>\n",
       "      <td>271</td>\n",
       "      <td>132</td>\n",
       "    </tr>\n",
       "    <tr>\n",
       "      <th>MongoDB</th>\n",
       "      <td>234</td>\n",
       "      <td>146</td>\n",
       "    </tr>\n",
       "    <tr>\n",
       "      <th>GCP</th>\n",
       "      <td>232</td>\n",
       "      <td>116</td>\n",
       "    </tr>\n",
       "    <tr>\n",
       "      <th>Kubernetes</th>\n",
       "      <td>261</td>\n",
       "      <td>105</td>\n",
       "    </tr>\n",
       "    <tr>\n",
       "      <th>D3</th>\n",
       "      <td>131</td>\n",
       "      <td>105</td>\n",
       "    </tr>\n",
       "    <tr>\n",
       "      <th>Databricks</th>\n",
       "      <td>139</td>\n",
       "      <td>90</td>\n",
       "    </tr>\n",
       "    <tr>\n",
       "      <th>postgresql</th>\n",
       "      <td>104</td>\n",
       "      <td>94</td>\n",
       "    </tr>\n",
       "    <tr>\n",
       "      <th>Caffe</th>\n",
       "      <td>171</td>\n",
       "      <td>77</td>\n",
       "    </tr>\n",
       "    <tr>\n",
       "      <th>Airflow</th>\n",
       "      <td>95</td>\n",
       "      <td>77</td>\n",
       "    </tr>\n",
       "    <tr>\n",
       "      <th>Alteryx</th>\n",
       "      <td>84</td>\n",
       "      <td>72</td>\n",
       "    </tr>\n",
       "    <tr>\n",
       "      <th>BigQuery</th>\n",
       "      <td>133</td>\n",
       "      <td>56</td>\n",
       "    </tr>\n",
       "    <tr>\n",
       "      <th>Fastai</th>\n",
       "      <td>1</td>\n",
       "      <td>1</td>\n",
       "    </tr>\n",
       "  </tbody>\n",
       "</table>\n",
       "</div>"
      ],
      "text/plain": [
       "              Indeed  Simply\n",
       "Keyword                     \n",
       "Python          4305    3141\n",
       "SQL             3163    2249\n",
       "R               3105    2344\n",
       "Spark           1691    1147\n",
       "Hadoop          1574    1070\n",
       "Java            1457    1008\n",
       "Tableau         1147     883\n",
       "AWS             1235     788\n",
       "SAS              965     736\n",
       "Hive             852     561\n",
       "Scala            772     592\n",
       "Excel            606     485\n",
       "TensorFlow       873     586\n",
       "C++              798     582\n",
       "Azure            626     399\n",
       "NoSQL            597     366\n",
       "Linux            547     376\n",
       "C                520     380\n",
       "Matlab           567     458\n",
       "Scikit-learn     526     383\n",
       "Pandas           360     317\n",
       "Git              347     267\n",
       "Keras            401     263\n",
       "Javascript       283     245\n",
       "Pig              318     198\n",
       "Hbase            318     163\n",
       "Google Cloud     181     138\n",
       "Docker           373     189\n",
       "NumPy            285     253\n",
       "PyTorch          323     258\n",
       "C#               335     176\n",
       "SPSS             248     213\n",
       "MySQL            237     203\n",
       "Perl             336     169\n",
       "Cassandra        271     132\n",
       "MongoDB          234     146\n",
       "GCP              232     116\n",
       "Kubernetes       261     105\n",
       "D3               131     105\n",
       "Databricks       139      90\n",
       "postgresql       104      94\n",
       "Caffe            171      77\n",
       "Airflow           95      77\n",
       "Alteryx           84      72\n",
       "BigQuery         133      56\n",
       "Fastai             1       1"
      ]
     },
     "execution_count": 60,
     "metadata": {},
     "output_type": "execute_result"
    }
   ],
   "source": [
    "a = 0\n",
    "for col in df_2019.columns:\n",
    "    if a == 0:\n",
    "        continue\n",
    "    df_2019[col] = df_2019[col].astype(float)\n",
    "    a+=1\n",
    "    \n",
    "\n",
    "first_column = df_2019.columns[0]\n",
    "df_2019.drop(first_column, axis=1, inplace=True)\n",
    "\n",
    "df_2019\n",
    "\n"
   ]
  },
  {
   "cell_type": "markdown",
   "id": "e7d3a5634aaafa82",
   "metadata": {
    "collapsed": false,
    "jupyter": {
     "outputs_hidden": false
    }
   },
   "source": [
    "Convert to percentages"
   ]
  },
  {
   "cell_type": "code",
   "execution_count": 61,
   "id": "d17203ba403266bb",
   "metadata": {
    "ExecuteTime": {
     "end_time": "2023-10-06T08:13:59.582510900Z",
     "start_time": "2023-10-06T08:13:59.462099400Z"
    },
    "collapsed": false,
    "jupyter": {
     "outputs_hidden": false
    }
   },
   "outputs": [
    {
     "data": {
      "text/html": [
       "<div>\n",
       "<style scoped>\n",
       "    .dataframe tbody tr th:only-of-type {\n",
       "        vertical-align: middle;\n",
       "    }\n",
       "\n",
       "    .dataframe tbody tr th {\n",
       "        vertical-align: top;\n",
       "    }\n",
       "\n",
       "    .dataframe thead th {\n",
       "        text-align: right;\n",
       "    }\n",
       "</style>\n",
       "<table border=\"1\" class=\"dataframe\">\n",
       "  <thead>\n",
       "    <tr style=\"text-align: right;\">\n",
       "      <th></th>\n",
       "      <th>Indeed</th>\n",
       "      <th>Simply</th>\n",
       "    </tr>\n",
       "    <tr>\n",
       "      <th>Keyword</th>\n",
       "      <th></th>\n",
       "      <th></th>\n",
       "    </tr>\n",
       "  </thead>\n",
       "  <tbody>\n",
       "    <tr>\n",
       "      <th>Python</th>\n",
       "      <td>0.13</td>\n",
       "      <td>0.14</td>\n",
       "    </tr>\n",
       "    <tr>\n",
       "      <th>SQL</th>\n",
       "      <td>0.10</td>\n",
       "      <td>0.10</td>\n",
       "    </tr>\n",
       "    <tr>\n",
       "      <th>R</th>\n",
       "      <td>0.10</td>\n",
       "      <td>0.10</td>\n",
       "    </tr>\n",
       "    <tr>\n",
       "      <th>Spark</th>\n",
       "      <td>0.05</td>\n",
       "      <td>0.05</td>\n",
       "    </tr>\n",
       "    <tr>\n",
       "      <th>Hadoop</th>\n",
       "      <td>0.05</td>\n",
       "      <td>0.05</td>\n",
       "    </tr>\n",
       "    <tr>\n",
       "      <th>Java</th>\n",
       "      <td>0.05</td>\n",
       "      <td>0.04</td>\n",
       "    </tr>\n",
       "    <tr>\n",
       "      <th>Tableau</th>\n",
       "      <td>0.04</td>\n",
       "      <td>0.04</td>\n",
       "    </tr>\n",
       "    <tr>\n",
       "      <th>AWS</th>\n",
       "      <td>0.04</td>\n",
       "      <td>0.03</td>\n",
       "    </tr>\n",
       "    <tr>\n",
       "      <th>SAS</th>\n",
       "      <td>0.03</td>\n",
       "      <td>0.03</td>\n",
       "    </tr>\n",
       "    <tr>\n",
       "      <th>Hive</th>\n",
       "      <td>0.03</td>\n",
       "      <td>0.02</td>\n",
       "    </tr>\n",
       "    <tr>\n",
       "      <th>Scala</th>\n",
       "      <td>0.02</td>\n",
       "      <td>0.03</td>\n",
       "    </tr>\n",
       "    <tr>\n",
       "      <th>Excel</th>\n",
       "      <td>0.02</td>\n",
       "      <td>0.02</td>\n",
       "    </tr>\n",
       "    <tr>\n",
       "      <th>TensorFlow</th>\n",
       "      <td>0.03</td>\n",
       "      <td>0.03</td>\n",
       "    </tr>\n",
       "    <tr>\n",
       "      <th>C++</th>\n",
       "      <td>0.02</td>\n",
       "      <td>0.03</td>\n",
       "    </tr>\n",
       "    <tr>\n",
       "      <th>Azure</th>\n",
       "      <td>0.02</td>\n",
       "      <td>0.02</td>\n",
       "    </tr>\n",
       "    <tr>\n",
       "      <th>NoSQL</th>\n",
       "      <td>0.02</td>\n",
       "      <td>0.02</td>\n",
       "    </tr>\n",
       "    <tr>\n",
       "      <th>Linux</th>\n",
       "      <td>0.02</td>\n",
       "      <td>0.02</td>\n",
       "    </tr>\n",
       "    <tr>\n",
       "      <th>C</th>\n",
       "      <td>0.02</td>\n",
       "      <td>0.02</td>\n",
       "    </tr>\n",
       "    <tr>\n",
       "      <th>Matlab</th>\n",
       "      <td>0.02</td>\n",
       "      <td>0.02</td>\n",
       "    </tr>\n",
       "    <tr>\n",
       "      <th>Scikit-learn</th>\n",
       "      <td>0.02</td>\n",
       "      <td>0.02</td>\n",
       "    </tr>\n",
       "    <tr>\n",
       "      <th>Pandas</th>\n",
       "      <td>0.01</td>\n",
       "      <td>0.01</td>\n",
       "    </tr>\n",
       "    <tr>\n",
       "      <th>Git</th>\n",
       "      <td>0.01</td>\n",
       "      <td>0.01</td>\n",
       "    </tr>\n",
       "    <tr>\n",
       "      <th>Keras</th>\n",
       "      <td>0.01</td>\n",
       "      <td>0.01</td>\n",
       "    </tr>\n",
       "    <tr>\n",
       "      <th>Javascript</th>\n",
       "      <td>0.01</td>\n",
       "      <td>0.01</td>\n",
       "    </tr>\n",
       "    <tr>\n",
       "      <th>Pig</th>\n",
       "      <td>0.01</td>\n",
       "      <td>0.01</td>\n",
       "    </tr>\n",
       "    <tr>\n",
       "      <th>Hbase</th>\n",
       "      <td>0.01</td>\n",
       "      <td>0.01</td>\n",
       "    </tr>\n",
       "    <tr>\n",
       "      <th>Google Cloud</th>\n",
       "      <td>0.01</td>\n",
       "      <td>0.01</td>\n",
       "    </tr>\n",
       "    <tr>\n",
       "      <th>Docker</th>\n",
       "      <td>0.01</td>\n",
       "      <td>0.01</td>\n",
       "    </tr>\n",
       "    <tr>\n",
       "      <th>NumPy</th>\n",
       "      <td>0.01</td>\n",
       "      <td>0.01</td>\n",
       "    </tr>\n",
       "    <tr>\n",
       "      <th>PyTorch</th>\n",
       "      <td>0.01</td>\n",
       "      <td>0.01</td>\n",
       "    </tr>\n",
       "    <tr>\n",
       "      <th>C#</th>\n",
       "      <td>0.01</td>\n",
       "      <td>0.01</td>\n",
       "    </tr>\n",
       "    <tr>\n",
       "      <th>SPSS</th>\n",
       "      <td>0.01</td>\n",
       "      <td>0.01</td>\n",
       "    </tr>\n",
       "    <tr>\n",
       "      <th>MySQL</th>\n",
       "      <td>0.01</td>\n",
       "      <td>0.01</td>\n",
       "    </tr>\n",
       "    <tr>\n",
       "      <th>Perl</th>\n",
       "      <td>0.01</td>\n",
       "      <td>0.01</td>\n",
       "    </tr>\n",
       "    <tr>\n",
       "      <th>Cassandra</th>\n",
       "      <td>0.01</td>\n",
       "      <td>0.01</td>\n",
       "    </tr>\n",
       "    <tr>\n",
       "      <th>MongoDB</th>\n",
       "      <td>0.01</td>\n",
       "      <td>0.01</td>\n",
       "    </tr>\n",
       "    <tr>\n",
       "      <th>GCP</th>\n",
       "      <td>0.01</td>\n",
       "      <td>0.01</td>\n",
       "    </tr>\n",
       "    <tr>\n",
       "      <th>Kubernetes</th>\n",
       "      <td>0.01</td>\n",
       "      <td>0.00</td>\n",
       "    </tr>\n",
       "    <tr>\n",
       "      <th>D3</th>\n",
       "      <td>0.00</td>\n",
       "      <td>0.00</td>\n",
       "    </tr>\n",
       "    <tr>\n",
       "      <th>Databricks</th>\n",
       "      <td>0.00</td>\n",
       "      <td>0.00</td>\n",
       "    </tr>\n",
       "    <tr>\n",
       "      <th>postgresql</th>\n",
       "      <td>0.00</td>\n",
       "      <td>0.00</td>\n",
       "    </tr>\n",
       "    <tr>\n",
       "      <th>Caffe</th>\n",
       "      <td>0.01</td>\n",
       "      <td>0.00</td>\n",
       "    </tr>\n",
       "    <tr>\n",
       "      <th>Airflow</th>\n",
       "      <td>0.00</td>\n",
       "      <td>0.00</td>\n",
       "    </tr>\n",
       "    <tr>\n",
       "      <th>Alteryx</th>\n",
       "      <td>0.00</td>\n",
       "      <td>0.00</td>\n",
       "    </tr>\n",
       "    <tr>\n",
       "      <th>BigQuery</th>\n",
       "      <td>0.00</td>\n",
       "      <td>0.00</td>\n",
       "    </tr>\n",
       "    <tr>\n",
       "      <th>Fastai</th>\n",
       "      <td>0.00</td>\n",
       "      <td>0.00</td>\n",
       "    </tr>\n",
       "  </tbody>\n",
       "</table>\n",
       "</div>"
      ],
      "text/plain": [
       "              Indeed  Simply\n",
       "Keyword                     \n",
       "Python          0.13    0.14\n",
       "SQL             0.10    0.10\n",
       "R               0.10    0.10\n",
       "Spark           0.05    0.05\n",
       "Hadoop          0.05    0.05\n",
       "Java            0.05    0.04\n",
       "Tableau         0.04    0.04\n",
       "AWS             0.04    0.03\n",
       "SAS             0.03    0.03\n",
       "Hive            0.03    0.02\n",
       "Scala           0.02    0.03\n",
       "Excel           0.02    0.02\n",
       "TensorFlow      0.03    0.03\n",
       "C++             0.02    0.03\n",
       "Azure           0.02    0.02\n",
       "NoSQL           0.02    0.02\n",
       "Linux           0.02    0.02\n",
       "C               0.02    0.02\n",
       "Matlab          0.02    0.02\n",
       "Scikit-learn    0.02    0.02\n",
       "Pandas          0.01    0.01\n",
       "Git             0.01    0.01\n",
       "Keras           0.01    0.01\n",
       "Javascript      0.01    0.01\n",
       "Pig             0.01    0.01\n",
       "Hbase           0.01    0.01\n",
       "Google Cloud    0.01    0.01\n",
       "Docker          0.01    0.01\n",
       "NumPy           0.01    0.01\n",
       "PyTorch         0.01    0.01\n",
       "C#              0.01    0.01\n",
       "SPSS            0.01    0.01\n",
       "MySQL           0.01    0.01\n",
       "Perl            0.01    0.01\n",
       "Cassandra       0.01    0.01\n",
       "MongoDB         0.01    0.01\n",
       "GCP             0.01    0.01\n",
       "Kubernetes      0.01    0.00\n",
       "D3              0.00    0.00\n",
       "Databricks      0.00    0.00\n",
       "postgresql      0.00    0.00\n",
       "Caffe           0.01    0.00\n",
       "Airflow         0.00    0.00\n",
       "Alteryx         0.00    0.00\n",
       "BigQuery        0.00    0.00\n",
       "Fastai          0.00    0.00"
      ]
     },
     "execution_count": 61,
     "metadata": {},
     "output_type": "execute_result"
    }
   ],
   "source": [
    "df_2019_percent = df_2019/total_2019\n",
    "df_2019_percent\n"
   ]
  },
  {
   "cell_type": "markdown",
   "id": "e3aa6ffaf3f73d1f",
   "metadata": {
    "collapsed": false,
    "jupyter": {
     "outputs_hidden": false
    }
   },
   "source": [
    "Make the average for 2019.\n"
   ]
  },
  {
   "cell_type": "code",
   "execution_count": 62,
   "id": "923e887c1549e882",
   "metadata": {
    "ExecuteTime": {
     "end_time": "2023-10-06T08:14:06.434700500Z",
     "start_time": "2023-10-06T08:14:06.342655300Z"
    },
    "collapsed": false,
    "jupyter": {
     "outputs_hidden": false
    }
   },
   "outputs": [
    {
     "data": {
      "text/html": [
       "<div>\n",
       "<style scoped>\n",
       "    .dataframe tbody tr th:only-of-type {\n",
       "        vertical-align: middle;\n",
       "    }\n",
       "\n",
       "    .dataframe tbody tr th {\n",
       "        vertical-align: top;\n",
       "    }\n",
       "\n",
       "    .dataframe thead th {\n",
       "        text-align: right;\n",
       "    }\n",
       "</style>\n",
       "<table border=\"1\" class=\"dataframe\">\n",
       "  <thead>\n",
       "    <tr style=\"text-align: right;\">\n",
       "      <th></th>\n",
       "      <th>Indeed</th>\n",
       "      <th>Simply</th>\n",
       "      <th>avg</th>\n",
       "    </tr>\n",
       "    <tr>\n",
       "      <th>Keyword</th>\n",
       "      <th></th>\n",
       "      <th></th>\n",
       "      <th></th>\n",
       "    </tr>\n",
       "  </thead>\n",
       "  <tbody>\n",
       "    <tr>\n",
       "      <th>Python</th>\n",
       "      <td>0.13</td>\n",
       "      <td>0.14</td>\n",
       "      <td>0.14</td>\n",
       "    </tr>\n",
       "    <tr>\n",
       "      <th>SQL</th>\n",
       "      <td>0.10</td>\n",
       "      <td>0.10</td>\n",
       "      <td>0.10</td>\n",
       "    </tr>\n",
       "    <tr>\n",
       "      <th>R</th>\n",
       "      <td>0.10</td>\n",
       "      <td>0.10</td>\n",
       "      <td>0.10</td>\n",
       "    </tr>\n",
       "    <tr>\n",
       "      <th>Spark</th>\n",
       "      <td>0.05</td>\n",
       "      <td>0.05</td>\n",
       "      <td>0.05</td>\n",
       "    </tr>\n",
       "    <tr>\n",
       "      <th>Hadoop</th>\n",
       "      <td>0.05</td>\n",
       "      <td>0.05</td>\n",
       "      <td>0.05</td>\n",
       "    </tr>\n",
       "    <tr>\n",
       "      <th>Java</th>\n",
       "      <td>0.05</td>\n",
       "      <td>0.04</td>\n",
       "      <td>0.04</td>\n",
       "    </tr>\n",
       "    <tr>\n",
       "      <th>Tableau</th>\n",
       "      <td>0.04</td>\n",
       "      <td>0.04</td>\n",
       "      <td>0.04</td>\n",
       "    </tr>\n",
       "    <tr>\n",
       "      <th>AWS</th>\n",
       "      <td>0.04</td>\n",
       "      <td>0.03</td>\n",
       "      <td>0.04</td>\n",
       "    </tr>\n",
       "    <tr>\n",
       "      <th>SAS</th>\n",
       "      <td>0.03</td>\n",
       "      <td>0.03</td>\n",
       "      <td>0.03</td>\n",
       "    </tr>\n",
       "    <tr>\n",
       "      <th>Hive</th>\n",
       "      <td>0.03</td>\n",
       "      <td>0.02</td>\n",
       "      <td>0.03</td>\n",
       "    </tr>\n",
       "    <tr>\n",
       "      <th>Scala</th>\n",
       "      <td>0.02</td>\n",
       "      <td>0.03</td>\n",
       "      <td>0.03</td>\n",
       "    </tr>\n",
       "    <tr>\n",
       "      <th>Excel</th>\n",
       "      <td>0.02</td>\n",
       "      <td>0.02</td>\n",
       "      <td>0.02</td>\n",
       "    </tr>\n",
       "    <tr>\n",
       "      <th>TensorFlow</th>\n",
       "      <td>0.03</td>\n",
       "      <td>0.03</td>\n",
       "      <td>0.03</td>\n",
       "    </tr>\n",
       "    <tr>\n",
       "      <th>C++</th>\n",
       "      <td>0.02</td>\n",
       "      <td>0.03</td>\n",
       "      <td>0.03</td>\n",
       "    </tr>\n",
       "    <tr>\n",
       "      <th>Azure</th>\n",
       "      <td>0.02</td>\n",
       "      <td>0.02</td>\n",
       "      <td>0.02</td>\n",
       "    </tr>\n",
       "    <tr>\n",
       "      <th>NoSQL</th>\n",
       "      <td>0.02</td>\n",
       "      <td>0.02</td>\n",
       "      <td>0.02</td>\n",
       "    </tr>\n",
       "    <tr>\n",
       "      <th>Linux</th>\n",
       "      <td>0.02</td>\n",
       "      <td>0.02</td>\n",
       "      <td>0.02</td>\n",
       "    </tr>\n",
       "    <tr>\n",
       "      <th>C</th>\n",
       "      <td>0.02</td>\n",
       "      <td>0.02</td>\n",
       "      <td>0.02</td>\n",
       "    </tr>\n",
       "    <tr>\n",
       "      <th>Matlab</th>\n",
       "      <td>0.02</td>\n",
       "      <td>0.02</td>\n",
       "      <td>0.02</td>\n",
       "    </tr>\n",
       "    <tr>\n",
       "      <th>Scikit-learn</th>\n",
       "      <td>0.02</td>\n",
       "      <td>0.02</td>\n",
       "      <td>0.02</td>\n",
       "    </tr>\n",
       "    <tr>\n",
       "      <th>Pandas</th>\n",
       "      <td>0.01</td>\n",
       "      <td>0.01</td>\n",
       "      <td>0.01</td>\n",
       "    </tr>\n",
       "    <tr>\n",
       "      <th>Git</th>\n",
       "      <td>0.01</td>\n",
       "      <td>0.01</td>\n",
       "      <td>0.01</td>\n",
       "    </tr>\n",
       "    <tr>\n",
       "      <th>Keras</th>\n",
       "      <td>0.01</td>\n",
       "      <td>0.01</td>\n",
       "      <td>0.01</td>\n",
       "    </tr>\n",
       "    <tr>\n",
       "      <th>Javascript</th>\n",
       "      <td>0.01</td>\n",
       "      <td>0.01</td>\n",
       "      <td>0.01</td>\n",
       "    </tr>\n",
       "    <tr>\n",
       "      <th>Pig</th>\n",
       "      <td>0.01</td>\n",
       "      <td>0.01</td>\n",
       "      <td>0.01</td>\n",
       "    </tr>\n",
       "    <tr>\n",
       "      <th>Hbase</th>\n",
       "      <td>0.01</td>\n",
       "      <td>0.01</td>\n",
       "      <td>0.01</td>\n",
       "    </tr>\n",
       "    <tr>\n",
       "      <th>Google Cloud</th>\n",
       "      <td>0.01</td>\n",
       "      <td>0.01</td>\n",
       "      <td>0.01</td>\n",
       "    </tr>\n",
       "    <tr>\n",
       "      <th>Docker</th>\n",
       "      <td>0.01</td>\n",
       "      <td>0.01</td>\n",
       "      <td>0.01</td>\n",
       "    </tr>\n",
       "    <tr>\n",
       "      <th>NumPy</th>\n",
       "      <td>0.01</td>\n",
       "      <td>0.01</td>\n",
       "      <td>0.01</td>\n",
       "    </tr>\n",
       "    <tr>\n",
       "      <th>PyTorch</th>\n",
       "      <td>0.01</td>\n",
       "      <td>0.01</td>\n",
       "      <td>0.01</td>\n",
       "    </tr>\n",
       "    <tr>\n",
       "      <th>C#</th>\n",
       "      <td>0.01</td>\n",
       "      <td>0.01</td>\n",
       "      <td>0.01</td>\n",
       "    </tr>\n",
       "    <tr>\n",
       "      <th>SPSS</th>\n",
       "      <td>0.01</td>\n",
       "      <td>0.01</td>\n",
       "      <td>0.01</td>\n",
       "    </tr>\n",
       "    <tr>\n",
       "      <th>MySQL</th>\n",
       "      <td>0.01</td>\n",
       "      <td>0.01</td>\n",
       "      <td>0.01</td>\n",
       "    </tr>\n",
       "    <tr>\n",
       "      <th>Perl</th>\n",
       "      <td>0.01</td>\n",
       "      <td>0.01</td>\n",
       "      <td>0.01</td>\n",
       "    </tr>\n",
       "    <tr>\n",
       "      <th>Cassandra</th>\n",
       "      <td>0.01</td>\n",
       "      <td>0.01</td>\n",
       "      <td>0.01</td>\n",
       "    </tr>\n",
       "    <tr>\n",
       "      <th>MongoDB</th>\n",
       "      <td>0.01</td>\n",
       "      <td>0.01</td>\n",
       "      <td>0.01</td>\n",
       "    </tr>\n",
       "    <tr>\n",
       "      <th>GCP</th>\n",
       "      <td>0.01</td>\n",
       "      <td>0.01</td>\n",
       "      <td>0.01</td>\n",
       "    </tr>\n",
       "    <tr>\n",
       "      <th>Kubernetes</th>\n",
       "      <td>0.01</td>\n",
       "      <td>0.00</td>\n",
       "      <td>0.01</td>\n",
       "    </tr>\n",
       "    <tr>\n",
       "      <th>D3</th>\n",
       "      <td>0.00</td>\n",
       "      <td>0.00</td>\n",
       "      <td>0.00</td>\n",
       "    </tr>\n",
       "    <tr>\n",
       "      <th>Databricks</th>\n",
       "      <td>0.00</td>\n",
       "      <td>0.00</td>\n",
       "      <td>0.00</td>\n",
       "    </tr>\n",
       "    <tr>\n",
       "      <th>postgresql</th>\n",
       "      <td>0.00</td>\n",
       "      <td>0.00</td>\n",
       "      <td>0.00</td>\n",
       "    </tr>\n",
       "    <tr>\n",
       "      <th>Caffe</th>\n",
       "      <td>0.01</td>\n",
       "      <td>0.00</td>\n",
       "      <td>0.00</td>\n",
       "    </tr>\n",
       "    <tr>\n",
       "      <th>Airflow</th>\n",
       "      <td>0.00</td>\n",
       "      <td>0.00</td>\n",
       "      <td>0.00</td>\n",
       "    </tr>\n",
       "    <tr>\n",
       "      <th>Alteryx</th>\n",
       "      <td>0.00</td>\n",
       "      <td>0.00</td>\n",
       "      <td>0.00</td>\n",
       "    </tr>\n",
       "    <tr>\n",
       "      <th>BigQuery</th>\n",
       "      <td>0.00</td>\n",
       "      <td>0.00</td>\n",
       "      <td>0.00</td>\n",
       "    </tr>\n",
       "    <tr>\n",
       "      <th>Fastai</th>\n",
       "      <td>0.00</td>\n",
       "      <td>0.00</td>\n",
       "      <td>0.00</td>\n",
       "    </tr>\n",
       "  </tbody>\n",
       "</table>\n",
       "</div>"
      ],
      "text/plain": [
       "              Indeed  Simply  avg\n",
       "Keyword                          \n",
       "Python          0.13    0.14 0.14\n",
       "SQL             0.10    0.10 0.10\n",
       "R               0.10    0.10 0.10\n",
       "Spark           0.05    0.05 0.05\n",
       "Hadoop          0.05    0.05 0.05\n",
       "Java            0.05    0.04 0.04\n",
       "Tableau         0.04    0.04 0.04\n",
       "AWS             0.04    0.03 0.04\n",
       "SAS             0.03    0.03 0.03\n",
       "Hive            0.03    0.02 0.03\n",
       "Scala           0.02    0.03 0.03\n",
       "Excel           0.02    0.02 0.02\n",
       "TensorFlow      0.03    0.03 0.03\n",
       "C++             0.02    0.03 0.03\n",
       "Azure           0.02    0.02 0.02\n",
       "NoSQL           0.02    0.02 0.02\n",
       "Linux           0.02    0.02 0.02\n",
       "C               0.02    0.02 0.02\n",
       "Matlab          0.02    0.02 0.02\n",
       "Scikit-learn    0.02    0.02 0.02\n",
       "Pandas          0.01    0.01 0.01\n",
       "Git             0.01    0.01 0.01\n",
       "Keras           0.01    0.01 0.01\n",
       "Javascript      0.01    0.01 0.01\n",
       "Pig             0.01    0.01 0.01\n",
       "Hbase           0.01    0.01 0.01\n",
       "Google Cloud    0.01    0.01 0.01\n",
       "Docker          0.01    0.01 0.01\n",
       "NumPy           0.01    0.01 0.01\n",
       "PyTorch         0.01    0.01 0.01\n",
       "C#              0.01    0.01 0.01\n",
       "SPSS            0.01    0.01 0.01\n",
       "MySQL           0.01    0.01 0.01\n",
       "Perl            0.01    0.01 0.01\n",
       "Cassandra       0.01    0.01 0.01\n",
       "MongoDB         0.01    0.01 0.01\n",
       "GCP             0.01    0.01 0.01\n",
       "Kubernetes      0.01    0.00 0.01\n",
       "D3              0.00    0.00 0.00\n",
       "Databricks      0.00    0.00 0.00\n",
       "postgresql      0.00    0.00 0.00\n",
       "Caffe           0.01    0.00 0.00\n",
       "Airflow         0.00    0.00 0.00\n",
       "Alteryx         0.00    0.00 0.00\n",
       "BigQuery        0.00    0.00 0.00\n",
       "Fastai          0.00    0.00 0.00"
      ]
     },
     "execution_count": 62,
     "metadata": {},
     "output_type": "execute_result"
    }
   ],
   "source": [
    "df_2019_percent['avg'] = df_2019_percent.mean(axis=1)\n",
    "df_2019_percent"
   ]
  },
  {
   "cell_type": "markdown",
   "id": "9cb370ce58b27135",
   "metadata": {
    "collapsed": false,
    "jupyter": {
     "outputs_hidden": false
    }
   },
   "source": [
    "Merge 2019 and 2023"
   ]
  },
  {
   "cell_type": "code",
   "execution_count": 63,
   "id": "3e84774594b28cf6",
   "metadata": {
    "ExecuteTime": {
     "end_time": "2023-10-06T08:14:10.444079900Z",
     "start_time": "2023-10-06T08:14:10.355457700Z"
    },
    "collapsed": false,
    "jupyter": {
     "outputs_hidden": false
    }
   },
   "outputs": [
    {
     "data": {
      "text/html": [
       "<div>\n",
       "<style scoped>\n",
       "    .dataframe tbody tr th:only-of-type {\n",
       "        vertical-align: middle;\n",
       "    }\n",
       "\n",
       "    .dataframe tbody tr th {\n",
       "        vertical-align: top;\n",
       "    }\n",
       "\n",
       "    .dataframe thead th {\n",
       "        text-align: right;\n",
       "    }\n",
       "</style>\n",
       "<table border=\"1\" class=\"dataframe\">\n",
       "  <thead>\n",
       "    <tr style=\"text-align: right;\">\n",
       "      <th></th>\n",
       "      <th>Indeed_x</th>\n",
       "      <th>Simply_x</th>\n",
       "      <th>avg_x</th>\n",
       "      <th>Indeed_y</th>\n",
       "      <th>Simply_y</th>\n",
       "      <th>avg_y</th>\n",
       "    </tr>\n",
       "  </thead>\n",
       "  <tbody>\n",
       "    <tr>\n",
       "      <th>Python</th>\n",
       "      <td>0.13</td>\n",
       "      <td>0.14</td>\n",
       "      <td>0.14</td>\n",
       "      <td>0.79</td>\n",
       "      <td>0.77</td>\n",
       "      <td>0.78</td>\n",
       "    </tr>\n",
       "    <tr>\n",
       "      <th>SQL</th>\n",
       "      <td>0.10</td>\n",
       "      <td>0.10</td>\n",
       "      <td>0.10</td>\n",
       "      <td>0.49</td>\n",
       "      <td>0.56</td>\n",
       "      <td>0.52</td>\n",
       "    </tr>\n",
       "    <tr>\n",
       "      <th>R</th>\n",
       "      <td>0.10</td>\n",
       "      <td>0.10</td>\n",
       "      <td>0.10</td>\n",
       "      <td>0.39</td>\n",
       "      <td>0.44</td>\n",
       "      <td>0.41</td>\n",
       "    </tr>\n",
       "    <tr>\n",
       "      <th>Spark</th>\n",
       "      <td>0.05</td>\n",
       "      <td>0.05</td>\n",
       "      <td>0.05</td>\n",
       "      <td>0.19</td>\n",
       "      <td>0.20</td>\n",
       "      <td>0.20</td>\n",
       "    </tr>\n",
       "    <tr>\n",
       "      <th>Hadoop</th>\n",
       "      <td>0.05</td>\n",
       "      <td>0.05</td>\n",
       "      <td>0.05</td>\n",
       "      <td>0.11</td>\n",
       "      <td>0.12</td>\n",
       "      <td>0.12</td>\n",
       "    </tr>\n",
       "    <tr>\n",
       "      <th>Java</th>\n",
       "      <td>0.05</td>\n",
       "      <td>0.04</td>\n",
       "      <td>0.04</td>\n",
       "      <td>0.13</td>\n",
       "      <td>0.15</td>\n",
       "      <td>0.14</td>\n",
       "    </tr>\n",
       "    <tr>\n",
       "      <th>Tableau</th>\n",
       "      <td>0.04</td>\n",
       "      <td>0.04</td>\n",
       "      <td>0.04</td>\n",
       "      <td>0.18</td>\n",
       "      <td>0.22</td>\n",
       "      <td>0.20</td>\n",
       "    </tr>\n",
       "    <tr>\n",
       "      <th>AWS</th>\n",
       "      <td>0.04</td>\n",
       "      <td>0.03</td>\n",
       "      <td>0.04</td>\n",
       "      <td>0.21</td>\n",
       "      <td>0.21</td>\n",
       "      <td>0.21</td>\n",
       "    </tr>\n",
       "    <tr>\n",
       "      <th>SAS</th>\n",
       "      <td>0.03</td>\n",
       "      <td>0.03</td>\n",
       "      <td>0.03</td>\n",
       "      <td>0.08</td>\n",
       "      <td>0.11</td>\n",
       "      <td>0.09</td>\n",
       "    </tr>\n",
       "    <tr>\n",
       "      <th>Hive</th>\n",
       "      <td>0.03</td>\n",
       "      <td>0.02</td>\n",
       "      <td>0.03</td>\n",
       "      <td>0.06</td>\n",
       "      <td>0.07</td>\n",
       "      <td>0.06</td>\n",
       "    </tr>\n",
       "    <tr>\n",
       "      <th>Scala</th>\n",
       "      <td>0.02</td>\n",
       "      <td>0.03</td>\n",
       "      <td>0.03</td>\n",
       "      <td>0.07</td>\n",
       "      <td>0.08</td>\n",
       "      <td>0.08</td>\n",
       "    </tr>\n",
       "    <tr>\n",
       "      <th>Excel</th>\n",
       "      <td>0.02</td>\n",
       "      <td>0.02</td>\n",
       "      <td>0.02</td>\n",
       "      <td>0.11</td>\n",
       "      <td>0.13</td>\n",
       "      <td>0.12</td>\n",
       "    </tr>\n",
       "    <tr>\n",
       "      <th>TensorFlow</th>\n",
       "      <td>0.03</td>\n",
       "      <td>0.03</td>\n",
       "      <td>0.03</td>\n",
       "      <td>0.27</td>\n",
       "      <td>0.16</td>\n",
       "      <td>0.21</td>\n",
       "    </tr>\n",
       "    <tr>\n",
       "      <th>C++</th>\n",
       "      <td>0.02</td>\n",
       "      <td>0.03</td>\n",
       "      <td>0.03</td>\n",
       "      <td>0.06</td>\n",
       "      <td>0.08</td>\n",
       "      <td>0.07</td>\n",
       "    </tr>\n",
       "    <tr>\n",
       "      <th>Azure</th>\n",
       "      <td>0.02</td>\n",
       "      <td>0.02</td>\n",
       "      <td>0.02</td>\n",
       "      <td>0.15</td>\n",
       "      <td>0.14</td>\n",
       "      <td>0.15</td>\n",
       "    </tr>\n",
       "    <tr>\n",
       "      <th>NoSQL</th>\n",
       "      <td>0.02</td>\n",
       "      <td>0.02</td>\n",
       "      <td>0.02</td>\n",
       "      <td>0.07</td>\n",
       "      <td>0.06</td>\n",
       "      <td>0.07</td>\n",
       "    </tr>\n",
       "    <tr>\n",
       "      <th>Linux</th>\n",
       "      <td>0.02</td>\n",
       "      <td>0.02</td>\n",
       "      <td>0.02</td>\n",
       "      <td>0.05</td>\n",
       "      <td>0.06</td>\n",
       "      <td>0.05</td>\n",
       "    </tr>\n",
       "    <tr>\n",
       "      <th>C</th>\n",
       "      <td>0.02</td>\n",
       "      <td>0.02</td>\n",
       "      <td>0.02</td>\n",
       "      <td>0.06</td>\n",
       "      <td>0.08</td>\n",
       "      <td>0.07</td>\n",
       "    </tr>\n",
       "    <tr>\n",
       "      <th>Matlab</th>\n",
       "      <td>0.02</td>\n",
       "      <td>0.02</td>\n",
       "      <td>0.02</td>\n",
       "      <td>0.06</td>\n",
       "      <td>0.07</td>\n",
       "      <td>0.06</td>\n",
       "    </tr>\n",
       "    <tr>\n",
       "      <th>Scikit-learn</th>\n",
       "      <td>0.02</td>\n",
       "      <td>0.02</td>\n",
       "      <td>0.02</td>\n",
       "      <td>0.13</td>\n",
       "      <td>0.11</td>\n",
       "      <td>0.12</td>\n",
       "    </tr>\n",
       "    <tr>\n",
       "      <th>Pandas</th>\n",
       "      <td>0.01</td>\n",
       "      <td>0.01</td>\n",
       "      <td>0.01</td>\n",
       "      <td>0.12</td>\n",
       "      <td>0.11</td>\n",
       "      <td>0.11</td>\n",
       "    </tr>\n",
       "    <tr>\n",
       "      <th>Git</th>\n",
       "      <td>0.01</td>\n",
       "      <td>0.01</td>\n",
       "      <td>0.01</td>\n",
       "      <td>0.07</td>\n",
       "      <td>0.08</td>\n",
       "      <td>0.08</td>\n",
       "    </tr>\n",
       "    <tr>\n",
       "      <th>Keras</th>\n",
       "      <td>0.01</td>\n",
       "      <td>0.01</td>\n",
       "      <td>0.01</td>\n",
       "      <td>0.07</td>\n",
       "      <td>0.05</td>\n",
       "      <td>0.06</td>\n",
       "    </tr>\n",
       "    <tr>\n",
       "      <th>Javascript</th>\n",
       "      <td>0.01</td>\n",
       "      <td>0.01</td>\n",
       "      <td>0.01</td>\n",
       "      <td>0.05</td>\n",
       "      <td>0.05</td>\n",
       "      <td>0.05</td>\n",
       "    </tr>\n",
       "    <tr>\n",
       "      <th>Pig</th>\n",
       "      <td>0.01</td>\n",
       "      <td>0.01</td>\n",
       "      <td>0.01</td>\n",
       "      <td>0.02</td>\n",
       "      <td>0.02</td>\n",
       "      <td>0.02</td>\n",
       "    </tr>\n",
       "    <tr>\n",
       "      <th>Hbase</th>\n",
       "      <td>0.01</td>\n",
       "      <td>0.01</td>\n",
       "      <td>0.01</td>\n",
       "      <td>0.01</td>\n",
       "      <td>0.01</td>\n",
       "      <td>0.01</td>\n",
       "    </tr>\n",
       "    <tr>\n",
       "      <th>Google Cloud</th>\n",
       "      <td>0.01</td>\n",
       "      <td>0.01</td>\n",
       "      <td>0.01</td>\n",
       "      <td>0.03</td>\n",
       "      <td>0.03</td>\n",
       "      <td>0.03</td>\n",
       "    </tr>\n",
       "    <tr>\n",
       "      <th>Docker</th>\n",
       "      <td>0.01</td>\n",
       "      <td>0.01</td>\n",
       "      <td>0.01</td>\n",
       "      <td>0.07</td>\n",
       "      <td>0.05</td>\n",
       "      <td>0.06</td>\n",
       "    </tr>\n",
       "    <tr>\n",
       "      <th>NumPy</th>\n",
       "      <td>0.01</td>\n",
       "      <td>0.01</td>\n",
       "      <td>0.01</td>\n",
       "      <td>0.08</td>\n",
       "      <td>0.07</td>\n",
       "      <td>0.08</td>\n",
       "    </tr>\n",
       "    <tr>\n",
       "      <th>PyTorch</th>\n",
       "      <td>0.01</td>\n",
       "      <td>0.01</td>\n",
       "      <td>0.01</td>\n",
       "      <td>0.24</td>\n",
       "      <td>0.13</td>\n",
       "      <td>0.19</td>\n",
       "    </tr>\n",
       "    <tr>\n",
       "      <th>C#</th>\n",
       "      <td>0.01</td>\n",
       "      <td>0.01</td>\n",
       "      <td>0.01</td>\n",
       "      <td>0.06</td>\n",
       "      <td>0.08</td>\n",
       "      <td>0.07</td>\n",
       "    </tr>\n",
       "    <tr>\n",
       "      <th>SPSS</th>\n",
       "      <td>0.01</td>\n",
       "      <td>0.01</td>\n",
       "      <td>0.01</td>\n",
       "      <td>0.02</td>\n",
       "      <td>0.03</td>\n",
       "      <td>0.02</td>\n",
       "    </tr>\n",
       "    <tr>\n",
       "      <th>MySQL</th>\n",
       "      <td>0.01</td>\n",
       "      <td>0.01</td>\n",
       "      <td>0.01</td>\n",
       "      <td>0.03</td>\n",
       "      <td>0.04</td>\n",
       "      <td>0.03</td>\n",
       "    </tr>\n",
       "    <tr>\n",
       "      <th>Perl</th>\n",
       "      <td>0.01</td>\n",
       "      <td>0.01</td>\n",
       "      <td>0.01</td>\n",
       "      <td>0.01</td>\n",
       "      <td>0.01</td>\n",
       "      <td>0.01</td>\n",
       "    </tr>\n",
       "    <tr>\n",
       "      <th>Cassandra</th>\n",
       "      <td>0.01</td>\n",
       "      <td>0.01</td>\n",
       "      <td>0.01</td>\n",
       "      <td>0.01</td>\n",
       "      <td>0.01</td>\n",
       "      <td>0.01</td>\n",
       "    </tr>\n",
       "    <tr>\n",
       "      <th>MongoDB</th>\n",
       "      <td>0.01</td>\n",
       "      <td>0.01</td>\n",
       "      <td>0.01</td>\n",
       "      <td>0.02</td>\n",
       "      <td>0.02</td>\n",
       "      <td>0.02</td>\n",
       "    </tr>\n",
       "    <tr>\n",
       "      <th>GCP</th>\n",
       "      <td>0.01</td>\n",
       "      <td>0.01</td>\n",
       "      <td>0.01</td>\n",
       "      <td>0.08</td>\n",
       "      <td>0.06</td>\n",
       "      <td>0.07</td>\n",
       "    </tr>\n",
       "    <tr>\n",
       "      <th>Kubernetes</th>\n",
       "      <td>0.01</td>\n",
       "      <td>0.00</td>\n",
       "      <td>0.01</td>\n",
       "      <td>0.06</td>\n",
       "      <td>0.04</td>\n",
       "      <td>0.05</td>\n",
       "    </tr>\n",
       "    <tr>\n",
       "      <th>D3</th>\n",
       "      <td>0.00</td>\n",
       "      <td>0.00</td>\n",
       "      <td>0.00</td>\n",
       "      <td>0.02</td>\n",
       "      <td>0.01</td>\n",
       "      <td>0.01</td>\n",
       "    </tr>\n",
       "    <tr>\n",
       "      <th>Databricks</th>\n",
       "      <td>0.00</td>\n",
       "      <td>0.00</td>\n",
       "      <td>0.00</td>\n",
       "      <td>0.05</td>\n",
       "      <td>0.07</td>\n",
       "      <td>0.06</td>\n",
       "    </tr>\n",
       "    <tr>\n",
       "      <th>postgresql</th>\n",
       "      <td>0.00</td>\n",
       "      <td>0.00</td>\n",
       "      <td>0.00</td>\n",
       "      <td>0.00</td>\n",
       "      <td>0.02</td>\n",
       "      <td>0.01</td>\n",
       "    </tr>\n",
       "    <tr>\n",
       "      <th>Caffe</th>\n",
       "      <td>0.01</td>\n",
       "      <td>0.00</td>\n",
       "      <td>0.00</td>\n",
       "      <td>0.01</td>\n",
       "      <td>0.01</td>\n",
       "      <td>0.01</td>\n",
       "    </tr>\n",
       "    <tr>\n",
       "      <th>Airflow</th>\n",
       "      <td>0.00</td>\n",
       "      <td>0.00</td>\n",
       "      <td>0.00</td>\n",
       "      <td>0.02</td>\n",
       "      <td>0.03</td>\n",
       "      <td>0.03</td>\n",
       "    </tr>\n",
       "    <tr>\n",
       "      <th>Alteryx</th>\n",
       "      <td>0.00</td>\n",
       "      <td>0.00</td>\n",
       "      <td>0.00</td>\n",
       "      <td>0.01</td>\n",
       "      <td>0.01</td>\n",
       "      <td>0.01</td>\n",
       "    </tr>\n",
       "    <tr>\n",
       "      <th>BigQuery</th>\n",
       "      <td>0.00</td>\n",
       "      <td>0.00</td>\n",
       "      <td>0.00</td>\n",
       "      <td>0.03</td>\n",
       "      <td>0.03</td>\n",
       "      <td>0.03</td>\n",
       "    </tr>\n",
       "    <tr>\n",
       "      <th>Fastai</th>\n",
       "      <td>0.00</td>\n",
       "      <td>0.00</td>\n",
       "      <td>0.00</td>\n",
       "      <td>0.00</td>\n",
       "      <td>0.00</td>\n",
       "      <td>0.00</td>\n",
       "    </tr>\n",
       "  </tbody>\n",
       "</table>\n",
       "</div>"
      ],
      "text/plain": [
       "              Indeed_x  Simply_x  avg_x  Indeed_y  Simply_y  avg_y\n",
       "Python            0.13      0.14   0.14      0.79      0.77   0.78\n",
       "SQL               0.10      0.10   0.10      0.49      0.56   0.52\n",
       "R                 0.10      0.10   0.10      0.39      0.44   0.41\n",
       "Spark             0.05      0.05   0.05      0.19      0.20   0.20\n",
       "Hadoop            0.05      0.05   0.05      0.11      0.12   0.12\n",
       "Java              0.05      0.04   0.04      0.13      0.15   0.14\n",
       "Tableau           0.04      0.04   0.04      0.18      0.22   0.20\n",
       "AWS               0.04      0.03   0.04      0.21      0.21   0.21\n",
       "SAS               0.03      0.03   0.03      0.08      0.11   0.09\n",
       "Hive              0.03      0.02   0.03      0.06      0.07   0.06\n",
       "Scala             0.02      0.03   0.03      0.07      0.08   0.08\n",
       "Excel             0.02      0.02   0.02      0.11      0.13   0.12\n",
       "TensorFlow        0.03      0.03   0.03      0.27      0.16   0.21\n",
       "C++               0.02      0.03   0.03      0.06      0.08   0.07\n",
       "Azure             0.02      0.02   0.02      0.15      0.14   0.15\n",
       "NoSQL             0.02      0.02   0.02      0.07      0.06   0.07\n",
       "Linux             0.02      0.02   0.02      0.05      0.06   0.05\n",
       "C                 0.02      0.02   0.02      0.06      0.08   0.07\n",
       "Matlab            0.02      0.02   0.02      0.06      0.07   0.06\n",
       "Scikit-learn      0.02      0.02   0.02      0.13      0.11   0.12\n",
       "Pandas            0.01      0.01   0.01      0.12      0.11   0.11\n",
       "Git               0.01      0.01   0.01      0.07      0.08   0.08\n",
       "Keras             0.01      0.01   0.01      0.07      0.05   0.06\n",
       "Javascript        0.01      0.01   0.01      0.05      0.05   0.05\n",
       "Pig               0.01      0.01   0.01      0.02      0.02   0.02\n",
       "Hbase             0.01      0.01   0.01      0.01      0.01   0.01\n",
       "Google Cloud      0.01      0.01   0.01      0.03      0.03   0.03\n",
       "Docker            0.01      0.01   0.01      0.07      0.05   0.06\n",
       "NumPy             0.01      0.01   0.01      0.08      0.07   0.08\n",
       "PyTorch           0.01      0.01   0.01      0.24      0.13   0.19\n",
       "C#                0.01      0.01   0.01      0.06      0.08   0.07\n",
       "SPSS              0.01      0.01   0.01      0.02      0.03   0.02\n",
       "MySQL             0.01      0.01   0.01      0.03      0.04   0.03\n",
       "Perl              0.01      0.01   0.01      0.01      0.01   0.01\n",
       "Cassandra         0.01      0.01   0.01      0.01      0.01   0.01\n",
       "MongoDB           0.01      0.01   0.01      0.02      0.02   0.02\n",
       "GCP               0.01      0.01   0.01      0.08      0.06   0.07\n",
       "Kubernetes        0.01      0.00   0.01      0.06      0.04   0.05\n",
       "D3                0.00      0.00   0.00      0.02      0.01   0.01\n",
       "Databricks        0.00      0.00   0.00      0.05      0.07   0.06\n",
       "postgresql        0.00      0.00   0.00      0.00      0.02   0.01\n",
       "Caffe             0.01      0.00   0.00      0.01      0.01   0.01\n",
       "Airflow           0.00      0.00   0.00      0.02      0.03   0.03\n",
       "Alteryx           0.00      0.00   0.00      0.01      0.01   0.01\n",
       "BigQuery          0.00      0.00   0.00      0.03      0.03   0.03\n",
       "Fastai            0.00      0.00   0.00      0.00      0.00   0.00"
      ]
     },
     "execution_count": 63,
     "metadata": {},
     "output_type": "execute_result"
    }
   ],
   "source": [
    "df_combo = df_2019_percent.merge(percent_df, left_index=True, right_index=True, how='outer')\n",
    "df_combo"
   ]
  },
  {
   "cell_type": "code",
   "execution_count": 64,
   "id": "be75dd0be3be73f0",
   "metadata": {
    "ExecuteTime": {
     "end_time": "2023-10-06T08:15:03.986339900Z",
     "start_time": "2023-10-06T08:15:03.893590100Z"
    },
    "collapsed": false,
    "jupyter": {
     "outputs_hidden": false
    }
   },
   "outputs": [
    {
     "data": {
      "text/html": [
       "<div>\n",
       "<style scoped>\n",
       "    .dataframe tbody tr th:only-of-type {\n",
       "        vertical-align: middle;\n",
       "    }\n",
       "\n",
       "    .dataframe tbody tr th {\n",
       "        vertical-align: top;\n",
       "    }\n",
       "\n",
       "    .dataframe thead th {\n",
       "        text-align: right;\n",
       "    }\n",
       "</style>\n",
       "<table border=\"1\" class=\"dataframe\">\n",
       "  <thead>\n",
       "    <tr style=\"text-align: right;\">\n",
       "      <th></th>\n",
       "      <th>2019</th>\n",
       "      <th>2023</th>\n",
       "    </tr>\n",
       "  </thead>\n",
       "  <tbody>\n",
       "    <tr>\n",
       "      <th>Python</th>\n",
       "      <td>0.14</td>\n",
       "      <td>0.78</td>\n",
       "    </tr>\n",
       "    <tr>\n",
       "      <th>SQL</th>\n",
       "      <td>0.10</td>\n",
       "      <td>0.52</td>\n",
       "    </tr>\n",
       "    <tr>\n",
       "      <th>R</th>\n",
       "      <td>0.10</td>\n",
       "      <td>0.41</td>\n",
       "    </tr>\n",
       "    <tr>\n",
       "      <th>TensorFlow</th>\n",
       "      <td>0.03</td>\n",
       "      <td>0.21</td>\n",
       "    </tr>\n",
       "    <tr>\n",
       "      <th>AWS</th>\n",
       "      <td>0.04</td>\n",
       "      <td>0.21</td>\n",
       "    </tr>\n",
       "    <tr>\n",
       "      <th>Tableau</th>\n",
       "      <td>0.04</td>\n",
       "      <td>0.20</td>\n",
       "    </tr>\n",
       "    <tr>\n",
       "      <th>Spark</th>\n",
       "      <td>0.05</td>\n",
       "      <td>0.20</td>\n",
       "    </tr>\n",
       "    <tr>\n",
       "      <th>PyTorch</th>\n",
       "      <td>0.01</td>\n",
       "      <td>0.19</td>\n",
       "    </tr>\n",
       "    <tr>\n",
       "      <th>Azure</th>\n",
       "      <td>0.02</td>\n",
       "      <td>0.15</td>\n",
       "    </tr>\n",
       "    <tr>\n",
       "      <th>Java</th>\n",
       "      <td>0.04</td>\n",
       "      <td>0.14</td>\n",
       "    </tr>\n",
       "    <tr>\n",
       "      <th>Scikit-learn</th>\n",
       "      <td>0.02</td>\n",
       "      <td>0.12</td>\n",
       "    </tr>\n",
       "    <tr>\n",
       "      <th>Excel</th>\n",
       "      <td>0.02</td>\n",
       "      <td>0.12</td>\n",
       "    </tr>\n",
       "    <tr>\n",
       "      <th>Hadoop</th>\n",
       "      <td>0.05</td>\n",
       "      <td>0.12</td>\n",
       "    </tr>\n",
       "    <tr>\n",
       "      <th>Pandas</th>\n",
       "      <td>0.01</td>\n",
       "      <td>0.11</td>\n",
       "    </tr>\n",
       "    <tr>\n",
       "      <th>SAS</th>\n",
       "      <td>0.03</td>\n",
       "      <td>0.09</td>\n",
       "    </tr>\n",
       "    <tr>\n",
       "      <th>NumPy</th>\n",
       "      <td>0.01</td>\n",
       "      <td>0.08</td>\n",
       "    </tr>\n",
       "    <tr>\n",
       "      <th>Scala</th>\n",
       "      <td>0.03</td>\n",
       "      <td>0.08</td>\n",
       "    </tr>\n",
       "    <tr>\n",
       "      <th>Git</th>\n",
       "      <td>0.01</td>\n",
       "      <td>0.08</td>\n",
       "    </tr>\n",
       "    <tr>\n",
       "      <th>GCP</th>\n",
       "      <td>0.01</td>\n",
       "      <td>0.07</td>\n",
       "    </tr>\n",
       "    <tr>\n",
       "      <th>C</th>\n",
       "      <td>0.02</td>\n",
       "      <td>0.07</td>\n",
       "    </tr>\n",
       "    <tr>\n",
       "      <th>C++</th>\n",
       "      <td>0.03</td>\n",
       "      <td>0.07</td>\n",
       "    </tr>\n",
       "    <tr>\n",
       "      <th>C#</th>\n",
       "      <td>0.01</td>\n",
       "      <td>0.07</td>\n",
       "    </tr>\n",
       "    <tr>\n",
       "      <th>NoSQL</th>\n",
       "      <td>0.02</td>\n",
       "      <td>0.07</td>\n",
       "    </tr>\n",
       "    <tr>\n",
       "      <th>Docker</th>\n",
       "      <td>0.01</td>\n",
       "      <td>0.06</td>\n",
       "    </tr>\n",
       "    <tr>\n",
       "      <th>Databricks</th>\n",
       "      <td>0.00</td>\n",
       "      <td>0.06</td>\n",
       "    </tr>\n",
       "    <tr>\n",
       "      <th>Matlab</th>\n",
       "      <td>0.02</td>\n",
       "      <td>0.06</td>\n",
       "    </tr>\n",
       "    <tr>\n",
       "      <th>Hive</th>\n",
       "      <td>0.03</td>\n",
       "      <td>0.06</td>\n",
       "    </tr>\n",
       "    <tr>\n",
       "      <th>Keras</th>\n",
       "      <td>0.01</td>\n",
       "      <td>0.06</td>\n",
       "    </tr>\n",
       "    <tr>\n",
       "      <th>Kubernetes</th>\n",
       "      <td>0.01</td>\n",
       "      <td>0.05</td>\n",
       "    </tr>\n",
       "    <tr>\n",
       "      <th>Javascript</th>\n",
       "      <td>0.01</td>\n",
       "      <td>0.05</td>\n",
       "    </tr>\n",
       "    <tr>\n",
       "      <th>Linux</th>\n",
       "      <td>0.02</td>\n",
       "      <td>0.05</td>\n",
       "    </tr>\n",
       "    <tr>\n",
       "      <th>MySQL</th>\n",
       "      <td>0.01</td>\n",
       "      <td>0.03</td>\n",
       "    </tr>\n",
       "    <tr>\n",
       "      <th>Google Cloud</th>\n",
       "      <td>0.01</td>\n",
       "      <td>0.03</td>\n",
       "    </tr>\n",
       "    <tr>\n",
       "      <th>BigQuery</th>\n",
       "      <td>0.00</td>\n",
       "      <td>0.03</td>\n",
       "    </tr>\n",
       "    <tr>\n",
       "      <th>Airflow</th>\n",
       "      <td>0.00</td>\n",
       "      <td>0.03</td>\n",
       "    </tr>\n",
       "    <tr>\n",
       "      <th>SPSS</th>\n",
       "      <td>0.01</td>\n",
       "      <td>0.02</td>\n",
       "    </tr>\n",
       "    <tr>\n",
       "      <th>Pig</th>\n",
       "      <td>0.01</td>\n",
       "      <td>0.02</td>\n",
       "    </tr>\n",
       "    <tr>\n",
       "      <th>MongoDB</th>\n",
       "      <td>0.01</td>\n",
       "      <td>0.02</td>\n",
       "    </tr>\n",
       "    <tr>\n",
       "      <th>D3</th>\n",
       "      <td>0.00</td>\n",
       "      <td>0.01</td>\n",
       "    </tr>\n",
       "    <tr>\n",
       "      <th>Cassandra</th>\n",
       "      <td>0.01</td>\n",
       "      <td>0.01</td>\n",
       "    </tr>\n",
       "    <tr>\n",
       "      <th>Perl</th>\n",
       "      <td>0.01</td>\n",
       "      <td>0.01</td>\n",
       "    </tr>\n",
       "    <tr>\n",
       "      <th>postgresql</th>\n",
       "      <td>0.00</td>\n",
       "      <td>0.01</td>\n",
       "    </tr>\n",
       "    <tr>\n",
       "      <th>Alteryx</th>\n",
       "      <td>0.00</td>\n",
       "      <td>0.01</td>\n",
       "    </tr>\n",
       "    <tr>\n",
       "      <th>Hbase</th>\n",
       "      <td>0.01</td>\n",
       "      <td>0.01</td>\n",
       "    </tr>\n",
       "    <tr>\n",
       "      <th>Caffe</th>\n",
       "      <td>0.00</td>\n",
       "      <td>0.01</td>\n",
       "    </tr>\n",
       "    <tr>\n",
       "      <th>Fastai</th>\n",
       "      <td>0.00</td>\n",
       "      <td>0.00</td>\n",
       "    </tr>\n",
       "  </tbody>\n",
       "</table>\n",
       "</div>"
      ],
      "text/plain": [
       "              2019  2023\n",
       "Python        0.14  0.78\n",
       "SQL           0.10  0.52\n",
       "R             0.10  0.41\n",
       "TensorFlow    0.03  0.21\n",
       "AWS           0.04  0.21\n",
       "Tableau       0.04  0.20\n",
       "Spark         0.05  0.20\n",
       "PyTorch       0.01  0.19\n",
       "Azure         0.02  0.15\n",
       "Java          0.04  0.14\n",
       "Scikit-learn  0.02  0.12\n",
       "Excel         0.02  0.12\n",
       "Hadoop        0.05  0.12\n",
       "Pandas        0.01  0.11\n",
       "SAS           0.03  0.09\n",
       "NumPy         0.01  0.08\n",
       "Scala         0.03  0.08\n",
       "Git           0.01  0.08\n",
       "GCP           0.01  0.07\n",
       "C             0.02  0.07\n",
       "C++           0.03  0.07\n",
       "C#            0.01  0.07\n",
       "NoSQL         0.02  0.07\n",
       "Docker        0.01  0.06\n",
       "Databricks    0.00  0.06\n",
       "Matlab        0.02  0.06\n",
       "Hive          0.03  0.06\n",
       "Keras         0.01  0.06\n",
       "Kubernetes    0.01  0.05\n",
       "Javascript    0.01  0.05\n",
       "Linux         0.02  0.05\n",
       "MySQL         0.01  0.03\n",
       "Google Cloud  0.01  0.03\n",
       "BigQuery      0.00  0.03\n",
       "Airflow       0.00  0.03\n",
       "SPSS          0.01  0.02\n",
       "Pig           0.01  0.02\n",
       "MongoDB       0.01  0.02\n",
       "D3            0.00  0.01\n",
       "Cassandra     0.01  0.01\n",
       "Perl          0.01  0.01\n",
       "postgresql    0.00  0.01\n",
       "Alteryx       0.00  0.01\n",
       "Hbase         0.01  0.01\n",
       "Caffe         0.00  0.01\n",
       "Fastai        0.00  0.00"
      ]
     },
     "execution_count": 64,
     "metadata": {},
     "output_type": "execute_result"
    }
   ],
   "source": [
    "df_combo = df_combo.loc[:, ['avg_x', 'avg_y']]\n",
    "df_combo.columns=['2019', '2023']\n",
    "df_combo = df_combo.sort_values(by='2023', ascending=False)\n",
    "df_combo"
   ]
  },
  {
   "cell_type": "markdown",
   "id": "3289e271061d56c2",
   "metadata": {
    "collapsed": false,
    "jupyter": {
     "outputs_hidden": false
    }
   },
   "source": [
    "Top 20\n"
   ]
  },
  {
   "cell_type": "code",
   "execution_count": 66,
   "id": "5ecb5c10a2d75ddc",
   "metadata": {
    "ExecuteTime": {
     "end_time": "2023-10-06T08:15:52.849869400Z",
     "start_time": "2023-10-06T08:15:52.749635600Z"
    },
    "collapsed": false,
    "jupyter": {
     "outputs_hidden": false
    }
   },
   "outputs": [
    {
     "data": {
      "text/html": [
       "<div>\n",
       "<style scoped>\n",
       "    .dataframe tbody tr th:only-of-type {\n",
       "        vertical-align: middle;\n",
       "    }\n",
       "\n",
       "    .dataframe tbody tr th {\n",
       "        vertical-align: top;\n",
       "    }\n",
       "\n",
       "    .dataframe thead th {\n",
       "        text-align: right;\n",
       "    }\n",
       "</style>\n",
       "<table border=\"1\" class=\"dataframe\">\n",
       "  <thead>\n",
       "    <tr style=\"text-align: right;\">\n",
       "      <th></th>\n",
       "      <th>2019</th>\n",
       "      <th>2023</th>\n",
       "    </tr>\n",
       "  </thead>\n",
       "  <tbody>\n",
       "    <tr>\n",
       "      <th>Python</th>\n",
       "      <td>0.14</td>\n",
       "      <td>0.78</td>\n",
       "    </tr>\n",
       "    <tr>\n",
       "      <th>SQL</th>\n",
       "      <td>0.10</td>\n",
       "      <td>0.52</td>\n",
       "    </tr>\n",
       "    <tr>\n",
       "      <th>R</th>\n",
       "      <td>0.10</td>\n",
       "      <td>0.41</td>\n",
       "    </tr>\n",
       "    <tr>\n",
       "      <th>TensorFlow</th>\n",
       "      <td>0.03</td>\n",
       "      <td>0.21</td>\n",
       "    </tr>\n",
       "    <tr>\n",
       "      <th>AWS</th>\n",
       "      <td>0.04</td>\n",
       "      <td>0.21</td>\n",
       "    </tr>\n",
       "    <tr>\n",
       "      <th>Tableau</th>\n",
       "      <td>0.04</td>\n",
       "      <td>0.20</td>\n",
       "    </tr>\n",
       "    <tr>\n",
       "      <th>Spark</th>\n",
       "      <td>0.05</td>\n",
       "      <td>0.20</td>\n",
       "    </tr>\n",
       "    <tr>\n",
       "      <th>PyTorch</th>\n",
       "      <td>0.01</td>\n",
       "      <td>0.19</td>\n",
       "    </tr>\n",
       "    <tr>\n",
       "      <th>Azure</th>\n",
       "      <td>0.02</td>\n",
       "      <td>0.15</td>\n",
       "    </tr>\n",
       "    <tr>\n",
       "      <th>Java</th>\n",
       "      <td>0.04</td>\n",
       "      <td>0.14</td>\n",
       "    </tr>\n",
       "    <tr>\n",
       "      <th>Scikit-learn</th>\n",
       "      <td>0.02</td>\n",
       "      <td>0.12</td>\n",
       "    </tr>\n",
       "    <tr>\n",
       "      <th>Excel</th>\n",
       "      <td>0.02</td>\n",
       "      <td>0.12</td>\n",
       "    </tr>\n",
       "    <tr>\n",
       "      <th>Hadoop</th>\n",
       "      <td>0.05</td>\n",
       "      <td>0.12</td>\n",
       "    </tr>\n",
       "    <tr>\n",
       "      <th>Pandas</th>\n",
       "      <td>0.01</td>\n",
       "      <td>0.11</td>\n",
       "    </tr>\n",
       "    <tr>\n",
       "      <th>SAS</th>\n",
       "      <td>0.03</td>\n",
       "      <td>0.09</td>\n",
       "    </tr>\n",
       "    <tr>\n",
       "      <th>NumPy</th>\n",
       "      <td>0.01</td>\n",
       "      <td>0.08</td>\n",
       "    </tr>\n",
       "    <tr>\n",
       "      <th>Scala</th>\n",
       "      <td>0.03</td>\n",
       "      <td>0.08</td>\n",
       "    </tr>\n",
       "    <tr>\n",
       "      <th>Git</th>\n",
       "      <td>0.01</td>\n",
       "      <td>0.08</td>\n",
       "    </tr>\n",
       "    <tr>\n",
       "      <th>GCP</th>\n",
       "      <td>0.01</td>\n",
       "      <td>0.07</td>\n",
       "    </tr>\n",
       "    <tr>\n",
       "      <th>C</th>\n",
       "      <td>0.02</td>\n",
       "      <td>0.07</td>\n",
       "    </tr>\n",
       "  </tbody>\n",
       "</table>\n",
       "</div>"
      ],
      "text/plain": [
       "              2019  2023\n",
       "Python        0.14  0.78\n",
       "SQL           0.10  0.52\n",
       "R             0.10  0.41\n",
       "TensorFlow    0.03  0.21\n",
       "AWS           0.04  0.21\n",
       "Tableau       0.04  0.20\n",
       "Spark         0.05  0.20\n",
       "PyTorch       0.01  0.19\n",
       "Azure         0.02  0.15\n",
       "Java          0.04  0.14\n",
       "Scikit-learn  0.02  0.12\n",
       "Excel         0.02  0.12\n",
       "Hadoop        0.05  0.12\n",
       "Pandas        0.01  0.11\n",
       "SAS           0.03  0.09\n",
       "NumPy         0.01  0.08\n",
       "Scala         0.03  0.08\n",
       "Git           0.01  0.08\n",
       "GCP           0.01  0.07\n",
       "C             0.02  0.07"
      ]
     },
     "execution_count": 66,
     "metadata": {},
     "output_type": "execute_result"
    }
   ],
   "source": [
    "df_23 = df_combo.iloc[:20]\n",
    "df_23"
   ]
  },
  {
   "cell_type": "markdown",
   "id": "a65cad61881077ee",
   "metadata": {
    "collapsed": false,
    "jupyter": {
     "outputs_hidden": false
    }
   },
   "source": [
    "TOP 20 Bar Chart"
   ]
  },
  {
   "cell_type": "code",
   "execution_count": 67,
   "id": "74c172ca03401977",
   "metadata": {
    "ExecuteTime": {
     "end_time": "2023-10-06T08:16:25.963957600Z",
     "start_time": "2023-10-06T08:16:25.369136800Z"
    },
    "collapsed": false,
    "jupyter": {
     "outputs_hidden": false
    }
   },
   "outputs": [
    {
     "data": {
      "text/plain": [
       "<Axes: >"
      ]
     },
     "execution_count": 67,
     "metadata": {},
     "output_type": "execute_result"
    },
    {
     "data": {
      "image/png": "[encoded data removed]",
      "text/plain": [
       "<Figure size 640x480 with 1 Axes>"
      ]
     },
     "metadata": {},
     "output_type": "display_data"
    }
   ],
   "source": [
    "df_23.plot(kind='bar')"
   ]
  },
  {
   "cell_type": "markdown",
   "id": "f45a3f5e2f059d3c",
   "metadata": {
    "collapsed": false,
    "jupyter": {
     "outputs_hidden": false
    }
   },
   "source": [
    "2023 bar chart"
   ]
  },
  {
   "cell_type": "code",
   "execution_count": 68,
   "id": "1f7a859b018c33d3",
   "metadata": {
    "ExecuteTime": {
     "end_time": "2023-10-06T08:17:13.011791400Z",
     "start_time": "2023-10-06T08:17:12.657836600Z"
    },
    "collapsed": false,
    "jupyter": {
     "outputs_hidden": false
    }
   },
   "outputs": [
    {
     "data": {
      "text/plain": [
       "<Axes: >"
      ]
     },
     "execution_count": 68,
     "metadata": {},
     "output_type": "execute_result"
    },
    {
     "data": {
      "image/png": "[encoded data removed]",
      "text/plain": [
       "<Figure size 640x480 with 1 Axes>"
      ]
     },
     "metadata": {},
     "output_type": "display_data"
    }
   ],
   "source": [
    "df_2023 = df_23['2023']\n",
    "df_2023.plot(kind='bar')"
   ]
  },
  {
   "cell_type": "markdown",
   "id": "4fb985f8ad0876a4",
   "metadata": {
    "collapsed": false,
    "jupyter": {
     "outputs_hidden": false
    }
   },
   "source": [
    "2019 bar chart"
   ]
  },
  {
   "cell_type": "code",
   "execution_count": 74,
   "id": "170a8a610c7aa64b",
   "metadata": {
    "ExecuteTime": {
     "end_time": "2023-10-06T08:20:28.264229300Z",
     "start_time": "2023-10-06T08:20:27.902001200Z"
    },
    "collapsed": false,
    "jupyter": {
     "outputs_hidden": false
    }
   },
   "outputs": [
    {
     "data": {
      "text/plain": [
       "<Axes: >"
      ]
     },
     "execution_count": 74,
     "metadata": {},
     "output_type": "execute_result"
    },
    {
     "data": {
      "image/png": "[encoded data removed]",
      "text/plain": [
       "<Figure size 640x480 with 1 Axes>"
      ]
     },
     "metadata": {},
     "output_type": "display_data"
    }
   ],
   "source": [
    "df_2019 = df_23['2019']\n",
    "df_2019.plot(kind='bar')"
   ]
  },
  {
   "cell_type": "markdown",
   "id": "41b612d81c41ca5",
   "metadata": {
    "collapsed": false,
    "jupyter": {
     "outputs_hidden": false
    }
   },
   "source": [
    "Let's make pretty, interactive charts in Plotly!\n"
   ]
  },
  {
   "cell_type": "code",
   "execution_count": 73,
   "id": "e63c251b91e9b5f3",
   "metadata": {
    "ExecuteTime": {
     "end_time": "2023-10-06T08:20:05.427239500Z",
     "start_time": "2023-10-06T08:20:05.240160700Z"
    },
    "collapsed": false,
    "jupyter": {
     "outputs_hidden": false
    }
   },
   "outputs": [
    {
     "data": {
      "application/vnd.plotly.v1+json": {
       "config": {
        "linkText": "Export to plot.ly",
        "plotlyServerURL": "https://plot.ly",
        "showLink": false
       },
       "data": [
        {
         "marker": {
          "color": [
           50,
           57.89473684210526,
           65.78947368421052,
           73.68421052631578,
           81.57894736842105,
           89.47368421052632,
           97.36842105263158,
           105.26315789473685,
           113.15789473684211,
           121.05263157894737,
           128.94736842105263,
           136.8421052631579,
           144.73684210526315,
           152.6315789473684,
           160.5263157894737,
           168.42105263157896,
           176.31578947368422,
           184.21052631578948,
           192.10526315789474,
           200
          ],
          "colorscale": [
           [
            0,
            "rgb(0,0,131)"
           ],
           [
            0.2,
            "rgb(0,60,170)"
           ],
           [
            0.4,
            "rgb(5,255,255)"
           ],
           [
            0.6,
            "rgb(255,255,0)"
           ],
           [
            0.8,
            "rgb(250,0,0)"
           ],
           [
            1,
            "rgb(128,0,0)"
           ]
          ]
         },
         "type": "bar",
         "x": [
          "Python",
          "SQL",
          "R",
          "TensorFlow",
          "AWS",
          "Tableau",
          "Spark",
          "PyTorch",
          "Azure",
          "Java",
          "Scikit-learn",
          "Excel",
          "Hadoop",
          "Pandas",
          "SAS",
          "NumPy",
          "Scala",
          "Git",
          "GCP",
          "C"
         ],
         "y": [
          77.89053166344071,
          52.49311724329111,
          41.28961379899959,
          21.297409605746374,
          21.082846679963005,
          19.872779394844848,
          19.611299036383397,
          18.677220482495198,
          14.649109734048688,
          14.053396331486073,
          12.177139833574973,
          11.634534358279915,
          11.55106809222066,
          11.152254581962609,
          9.449216938849107,
          7.678076189004271,
          7.672058184976119,
          7.559065367943066,
          7.017341511072514,
          6.989355875779809
         ]
        }
       ],
       "layout": {
        "height": 500,
        "template": {
         "data": {
          "bar": [
           {
            "error_x": {
             "color": "#2a3f5f"
            },
            "error_y": {
             "color": "#2a3f5f"
            },
            "marker": {
             "line": {
              "color": "#E5ECF6",
              "width": 0.5
             },
             "pattern": {
              "fillmode": "overlay",
              "size": 10,
              "solidity": 0.2
             }
            },
            "type": "bar"
           }
          ],
          "barpolar": [
           {
            "marker": {
             "line": {
              "color": "#E5ECF6",
              "width": 0.5
             },
             "pattern": {
              "fillmode": "overlay",
              "size": 10,
              "solidity": 0.2
             }
            },
            "type": "barpolar"
           }
          ],
          "carpet": [
           {
            "aaxis": {
             "endlinecolor": "#2a3f5f",
             "gridcolor": "white",
             "linecolor": "white",
             "minorgridcolor": "white",
             "startlinecolor": "#2a3f5f"
            },
            "baxis": {
             "endlinecolor": "#2a3f5f",
             "gridcolor": "white",
             "linecolor": "white",
             "minorgridcolor": "white",
             "startlinecolor": "#2a3f5f"
            },
            "type": "carpet"
           }
          ],
          "choropleth": [
           {
            "colorbar": {
             "outlinewidth": 0,
             "ticks": ""
            },
            "type": "choropleth"
           }
          ],
          "contour": [
           {
            "colorbar": {
             "outlinewidth": 0,
             "ticks": ""
            },
            "colorscale": [
             [
              0,
              "#0d0887"
             ],
             [
              0.1111111111111111,
              "#46039f"
             ],
             [
              0.2222222222222222,
              "#7201a8"
             ],
             [
              0.3333333333333333,
              "#9c179e"
             ],
             [
              0.4444444444444444,
              "#bd3786"
             ],
             [
              0.5555555555555556,
              "#d8576b"
             ],
             [
              0.6666666666666666,
              "#ed7953"
             ],
             [
              0.7777777777777778,
              "#fb9f3a"
             ],
             [
              0.8888888888888888,
              "#fdca26"
             ],
             [
              1,
              "#f0f921"
             ]
            ],
            "type": "contour"
           }
          ],
          "contourcarpet": [
           {
            "colorbar": {
             "outlinewidth": 0,
             "ticks": ""
            },
            "type": "contourcarpet"
           }
          ],
          "heatmap": [
           {
            "colorbar": {
             "outlinewidth": 0,
             "ticks": ""
            },
            "colorscale": [
             [
              0,
              "#0d0887"
             ],
             [
              0.1111111111111111,
              "#46039f"
             ],
             [
              0.2222222222222222,
              "#7201a8"
             ],
             [
              0.3333333333333333,
              "#9c179e"
             ],
             [
              0.4444444444444444,
              "#bd3786"
             ],
             [
              0.5555555555555556,
              "#d8576b"
             ],
             [
              0.6666666666666666,
              "#ed7953"
             ],
             [
              0.7777777777777778,
              "#fb9f3a"
             ],
             [
              0.8888888888888888,
              "#fdca26"
             ],
             [
              1,
              "#f0f921"
             ]
            ],
            "type": "heatmap"
           }
          ],
          "heatmapgl": [
           {
            "colorbar": {
             "outlinewidth": 0,
             "ticks": ""
            },
            "colorscale": [
             [
              0,
              "#0d0887"
             ],
             [
              0.1111111111111111,
              "#46039f"
             ],
             [
              0.2222222222222222,
              "#7201a8"
             ],
             [
              0.3333333333333333,
              "#9c179e"
             ],
             [
              0.4444444444444444,
              "#bd3786"
             ],
             [
              0.5555555555555556,
              "#d8576b"
             ],
             [
              0.6666666666666666,
              "#ed7953"
             ],
             [
              0.7777777777777778,
              "#fb9f3a"
             ],
             [
              0.8888888888888888,
              "#fdca26"
             ],
             [
              1,
              "#f0f921"
             ]
            ],
            "type": "heatmapgl"
           }
          ],
          "histogram": [
           {
            "marker": {
             "pattern": {
              "fillmode": "overlay",
              "size": 10,
              "solidity": 0.2
             }
            },
            "type": "histogram"
           }
          ],
          "histogram2d": [
           {
            "colorbar": {
             "outlinewidth": 0,
             "ticks": ""
            },
            "colorscale": [
             [
              0,
              "#0d0887"
             ],
             [
              0.1111111111111111,
              "#46039f"
             ],
             [
              0.2222222222222222,
              "#7201a8"
             ],
             [
              0.3333333333333333,
              "#9c179e"
             ],
             [
              0.4444444444444444,
              "#bd3786"
             ],
             [
              0.5555555555555556,
              "#d8576b"
             ],
             [
              0.6666666666666666,
              "#ed7953"
             ],
             [
              0.7777777777777778,
              "#fb9f3a"
             ],
             [
              0.8888888888888888,
              "#fdca26"
             ],
             [
              1,
              "#f0f921"
             ]
            ],
            "type": "histogram2d"
           }
          ],
          "histogram2dcontour": [
           {
            "colorbar": {
             "outlinewidth": 0,
             "ticks": ""
            },
            "colorscale": [
             [
              0,
              "#0d0887"
             ],
             [
              0.1111111111111111,
              "#46039f"
             ],
             [
              0.2222222222222222,
              "#7201a8"
             ],
             [
              0.3333333333333333,
              "#9c179e"
             ],
             [
              0.4444444444444444,
              "#bd3786"
             ],
             [
              0.5555555555555556,
              "#d8576b"
             ],
             [
              0.6666666666666666,
              "#ed7953"
             ],
             [
              0.7777777777777778,
              "#fb9f3a"
             ],
             [
              0.8888888888888888,
              "#fdca26"
             ],
             [
              1,
              "#f0f921"
             ]
            ],
            "type": "histogram2dcontour"
           }
          ],
          "mesh3d": [
           {
            "colorbar": {
             "outlinewidth": 0,
             "ticks": ""
            },
            "type": "mesh3d"
           }
          ],
          "parcoords": [
           {
            "line": {
             "colorbar": {
              "outlinewidth": 0,
              "ticks": ""
             }
            },
            "type": "parcoords"
           }
          ],
          "pie": [
           {
            "automargin": true,
            "type": "pie"
           }
          ],
          "scatter": [
           {
            "fillpattern": {
             "fillmode": "overlay",
             "size": 10,
             "solidity": 0.2
            },
            "type": "scatter"
           }
          ],
          "scatter3d": [
           {
            "line": {
             "colorbar": {
              "outlinewidth": 0,
              "ticks": ""
             }
            },
            "marker": {
             "colorbar": {
              "outlinewidth": 0,
              "ticks": ""
             }
            },
            "type": "scatter3d"
           }
          ],
          "scattercarpet": [
           {
            "marker": {
             "colorbar": {
              "outlinewidth": 0,
              "ticks": ""
             }
            },
            "type": "scattercarpet"
           }
          ],
          "scattergeo": [
           {
            "marker": {
             "colorbar": {
              "outlinewidth": 0,
              "ticks": ""
             }
            },
            "type": "scattergeo"
           }
          ],
          "scattergl": [
           {
            "marker": {
             "colorbar": {
              "outlinewidth": 0,
              "ticks": ""
             }
            },
            "type": "scattergl"
           }
          ],
          "scattermapbox": [
           {
            "marker": {
             "colorbar": {
              "outlinewidth": 0,
              "ticks": ""
             }
            },
            "type": "scattermapbox"
           }
          ],
          "scatterpolar": [
           {
            "marker": {
             "colorbar": {
              "outlinewidth": 0,
              "ticks": ""
             }
            },
            "type": "scatterpolar"
           }
          ],
          "scatterpolargl": [
           {
            "marker": {
             "colorbar": {
              "outlinewidth": 0,
              "ticks": ""
             }
            },
            "type": "scatterpolargl"
           }
          ],
          "scatterternary": [
           {
            "marker": {
             "colorbar": {
              "outlinewidth": 0,
              "ticks": ""
             }
            },
            "type": "scatterternary"
           }
          ],
          "surface": [
           {
            "colorbar": {
             "outlinewidth": 0,
             "ticks": ""
            },
            "colorscale": [
             [
              0,
              "#0d0887"
             ],
             [
              0.1111111111111111,
              "#46039f"
             ],
             [
              0.2222222222222222,
              "#7201a8"
             ],
             [
              0.3333333333333333,
              "#9c179e"
             ],
             [
              0.4444444444444444,
              "#bd3786"
             ],
             [
              0.5555555555555556,
              "#d8576b"
             ],
             [
              0.6666666666666666,
              "#ed7953"
             ],
             [
              0.7777777777777778,
              "#fb9f3a"
             ],
             [
              0.8888888888888888,
              "#fdca26"
             ],
             [
              1,
              "#f0f921"
             ]
            ],
            "type": "surface"
           }
          ],
          "table": [
           {
            "cells": {
             "fill": {
              "color": "#EBF0F8"
             },
             "line": {
              "color": "white"
             }
            },
            "header": {
             "fill": {
              "color": "#C8D4E3"
             },
             "line": {
              "color": "white"
             }
            },
            "type": "table"
           }
          ]
         },
         "layout": {
          "annotationdefaults": {
           "arrowcolor": "#2a3f5f",
           "arrowhead": 0,
           "arrowwidth": 1
          },
          "autotypenumbers": "strict",
          "coloraxis": {
           "colorbar": {
            "outlinewidth": 0,
            "ticks": ""
           }
          },
          "colorscale": {
           "diverging": [
            [
             0,
             "#8e0152"
            ],
            [
             0.1,
             "#c51b7d"
            ],
            [
             0.2,
             "#de77ae"
            ],
            [
             0.3,
             "#f1b6da"
            ],
            [
             0.4,
             "#fde0ef"
            ],
            [
             0.5,
             "#f7f7f7"
            ],
            [
             0.6,
             "#e6f5d0"
            ],
            [
             0.7,
             "#b8e186"
            ],
            [
             0.8,
             "#7fbc41"
            ],
            [
             0.9,
             "#4d9221"
            ],
            [
             1,
             "#276419"
            ]
           ],
           "sequential": [
            [
             0,
             "#0d0887"
            ],
            [
             0.1111111111111111,
             "#46039f"
            ],
            [
             0.2222222222222222,
             "#7201a8"
            ],
            [
             0.3333333333333333,
             "#9c179e"
            ],
            [
             0.4444444444444444,
             "#bd3786"
            ],
            [
             0.5555555555555556,
             "#d8576b"
            ],
            [
             0.6666666666666666,
             "#ed7953"
            ],
            [
             0.7777777777777778,
             "#fb9f3a"
            ],
            [
             0.8888888888888888,
             "#fdca26"
            ],
            [
             1,
             "#f0f921"
            ]
           ],
           "sequentialminus": [
            [
             0,
             "#0d0887"
            ],
            [
             0.1111111111111111,
             "#46039f"
            ],
            [
             0.2222222222222222,
             "#7201a8"
            ],
            [
             0.3333333333333333,
             "#9c179e"
            ],
            [
             0.4444444444444444,
             "#bd3786"
            ],
            [
             0.5555555555555556,
             "#d8576b"
            ],
            [
             0.6666666666666666,
             "#ed7953"
            ],
            [
             0.7777777777777778,
             "#fb9f3a"
            ],
            [
             0.8888888888888888,
             "#fdca26"
            ],
            [
             1,
             "#f0f921"
            ]
           ]
          },
          "colorway": [
           "#636efa",
           "#EF553B",
           "#00cc96",
           "#ab63fa",
           "#FFA15A",
           "#19d3f3",
           "#FF6692",
           "#B6E880",
           "#FF97FF",
           "#FECB52"
          ],
          "font": {
           "color": "#2a3f5f"
          },
          "geo": {
           "bgcolor": "white",
           "lakecolor": "white",
           "landcolor": "#E5ECF6",
           "showlakes": true,
           "showland": true,
           "subunitcolor": "white"
          },
          "hoverlabel": {
           "align": "left"
          },
          "hovermode": "closest",
          "mapbox": {
           "style": "light"
          },
          "paper_bgcolor": "white",
          "plot_bgcolor": "#E5ECF6",
          "polar": {
           "angularaxis": {
            "gridcolor": "white",
            "linecolor": "white",
            "ticks": ""
           },
           "bgcolor": "#E5ECF6",
           "radialaxis": {
            "gridcolor": "white",
            "linecolor": "white",
            "ticks": ""
           }
          },
          "scene": {
           "xaxis": {
            "backgroundcolor": "#E5ECF6",
            "gridcolor": "white",
            "gridwidth": 2,
            "linecolor": "white",
            "showbackground": true,
            "ticks": "",
            "zerolinecolor": "white"
           },
           "yaxis": {
            "backgroundcolor": "#E5ECF6",
            "gridcolor": "white",
            "gridwidth": 2,
            "linecolor": "white",
            "showbackground": true,
            "ticks": "",
            "zerolinecolor": "white"
           },
           "zaxis": {
            "backgroundcolor": "#E5ECF6",
            "gridcolor": "white",
            "gridwidth": 2,
            "linecolor": "white",
            "showbackground": true,
            "ticks": "",
            "zerolinecolor": "white"
           }
          },
          "shapedefaults": {
           "line": {
            "color": "#2a3f5f"
           }
          },
          "ternary": {
           "aaxis": {
            "gridcolor": "white",
            "linecolor": "white",
            "ticks": ""
           },
           "baxis": {
            "gridcolor": "white",
            "linecolor": "white",
            "ticks": ""
           },
           "bgcolor": "#E5ECF6",
           "caxis": {
            "gridcolor": "white",
            "linecolor": "white",
            "ticks": ""
           }
          },
          "title": {
           "x": 0.05
          },
          "xaxis": {
           "automargin": true,
           "gridcolor": "white",
           "linecolor": "white",
           "ticks": "",
           "title": {
            "standoff": 15
           },
           "zerolinecolor": "white",
           "zerolinewidth": 2
          },
          "yaxis": {
           "automargin": true,
           "gridcolor": "white",
           "linecolor": "white",
           "ticks": "",
           "title": {
            "standoff": 15
           },
           "zerolinecolor": "white",
           "zerolinewidth": 2
          }
         }
        },
        "title": {
         "text": "Technologies in Data Scientist Job Listings 2023",
         "x": 0.5
        },
        "xaxis": {
         "tickmode": "linear",
         "title": {
          "text": "Technology"
         }
        },
        "yaxis": {
         "title": {
          "text": "Avg % of Listings"
         }
        }
       }
      },
      "text/html": [
       "<div>                            <div id=\"135c3320-d10b-46ec-a0f2-faa121fc2740\" class=\"plotly-graph-div\" style=\"height:500px; width:100%;\"></div>            <script type=\"text/javascript\">                require([\"plotly\"], function(Plotly) {                    window.PLOTLYENV=window.PLOTLYENV || {};                                    if (document.getElementById(\"135c3320-d10b-46ec-a0f2-faa121fc2740\")) {                    Plotly.newPlot(                        \"135c3320-d10b-46ec-a0f2-faa121fc2740\",                        [{\"marker\":{\"color\":[50.0,57.89473684210526,65.78947368421052,73.68421052631578,81.57894736842105,89.47368421052632,97.36842105263158,105.26315789473685,113.15789473684211,121.05263157894737,128.94736842105263,136.8421052631579,144.73684210526315,152.6315789473684,160.5263157894737,168.42105263157896,176.31578947368422,184.21052631578948,192.10526315789474,200.0],\"colorscale\":[[0.0,\"rgb(0,0,131)\"],[0.2,\"rgb(0,60,170)\"],[0.4,\"rgb(5,255,255)\"],[0.6,\"rgb(255,255,0)\"],[0.8,\"rgb(250,0,0)\"],[1.0,\"rgb(128,0,0)\"]]},\"x\":[\"Python\",\"SQL\",\"R\",\"TensorFlow\",\"AWS\",\"Tableau\",\"Spark\",\"PyTorch\",\"Azure\",\"Java\",\"Scikit-learn\",\"Excel\",\"Hadoop\",\"Pandas\",\"SAS\",\"NumPy\",\"Scala\",\"Git\",\"GCP\",\"C\"],\"y\":[77.89053166344071,52.49311724329111,41.28961379899959,21.297409605746374,21.082846679963005,19.872779394844848,19.611299036383397,18.677220482495198,14.649109734048688,14.053396331486073,12.177139833574973,11.634534358279915,11.55106809222066,11.152254581962609,9.449216938849107,7.678076189004271,7.672058184976119,7.559065367943066,7.017341511072514,6.989355875779809],\"type\":\"bar\"}],                        {\"height\":500,\"template\":{\"data\":{\"barpolar\":[{\"marker\":{\"line\":{\"color\":\"#E5ECF6\",\"width\":0.5},\"pattern\":{\"fillmode\":\"overlay\",\"size\":10,\"solidity\":0.2}},\"type\":\"barpolar\"}],\"bar\":[{\"error_x\":{\"color\":\"#2a3f5f\"},\"error_y\":{\"color\":\"#2a3f5f\"},\"marker\":{\"line\":{\"color\":\"#E5ECF6\",\"width\":0.5},\"pattern\":{\"fillmode\":\"overlay\",\"size\":10,\"solidity\":0.2}},\"type\":\"bar\"}],\"carpet\":[{\"aaxis\":{\"endlinecolor\":\"#2a3f5f\",\"gridcolor\":\"white\",\"linecolor\":\"white\",\"minorgridcolor\":\"white\",\"startlinecolor\":\"#2a3f5f\"},\"baxis\":{\"endlinecolor\":\"#2a3f5f\",\"gridcolor\":\"white\",\"linecolor\":\"white\",\"minorgridcolor\":\"white\",\"startlinecolor\":\"#2a3f5f\"},\"type\":\"carpet\"}],\"choropleth\":[{\"colorbar\":{\"outlinewidth\":0,\"ticks\":\"\"},\"type\":\"choropleth\"}],\"contourcarpet\":[{\"colorbar\":{\"outlinewidth\":0,\"ticks\":\"\"},\"type\":\"contourcarpet\"}],\"contour\":[{\"colorbar\":{\"outlinewidth\":0,\"ticks\":\"\"},\"colorscale\":[[0.0,\"#0d0887\"],[0.1111111111111111,\"#46039f\"],[0.2222222222222222,\"#7201a8\"],[0.3333333333333333,\"#9c179e\"],[0.4444444444444444,\"#bd3786\"],[0.5555555555555556,\"#d8576b\"],[0.6666666666666666,\"#ed7953\"],[0.7777777777777778,\"#fb9f3a\"],[0.8888888888888888,\"#fdca26\"],[1.0,\"#f0f921\"]],\"type\":\"contour\"}],\"heatmapgl\":[{\"colorbar\":{\"outlinewidth\":0,\"ticks\":\"\"},\"colorscale\":[[0.0,\"#0d0887\"],[0.1111111111111111,\"#46039f\"],[0.2222222222222222,\"#7201a8\"],[0.3333333333333333,\"#9c179e\"],[0.4444444444444444,\"#bd3786\"],[0.5555555555555556,\"#d8576b\"],[0.6666666666666666,\"#ed7953\"],[0.7777777777777778,\"#fb9f3a\"],[0.8888888888888888,\"#fdca26\"],[1.0,\"#f0f921\"]],\"type\":\"heatmapgl\"}],\"heatmap\":[{\"colorbar\":{\"outlinewidth\":0,\"ticks\":\"\"},\"colorscale\":[[0.0,\"#0d0887\"],[0.1111111111111111,\"#46039f\"],[0.2222222222222222,\"#7201a8\"],[0.3333333333333333,\"#9c179e\"],[0.4444444444444444,\"#bd3786\"],[0.5555555555555556,\"#d8576b\"],[0.6666666666666666,\"#ed7953\"],[0.7777777777777778,\"#fb9f3a\"],[0.8888888888888888,\"#fdca26\"],[1.0,\"#f0f921\"]],\"type\":\"heatmap\"}],\"histogram2dcontour\":[{\"colorbar\":{\"outlinewidth\":0,\"ticks\":\"\"},\"colorscale\":[[0.0,\"#0d0887\"],[0.1111111111111111,\"#46039f\"],[0.2222222222222222,\"#7201a8\"],[0.3333333333333333,\"#9c179e\"],[0.4444444444444444,\"#bd3786\"],[0.5555555555555556,\"#d8576b\"],[0.6666666666666666,\"#ed7953\"],[0.7777777777777778,\"#fb9f3a\"],[0.8888888888888888,\"#fdca26\"],[1.0,\"#f0f921\"]],\"type\":\"histogram2dcontour\"}],\"histogram2d\":[{\"colorbar\":{\"outlinewidth\":0,\"ticks\":\"\"},\"colorscale\":[[0.0,\"#0d0887\"],[0.1111111111111111,\"#46039f\"],[0.2222222222222222,\"#7201a8\"],[0.3333333333333333,\"#9c179e\"],[0.4444444444444444,\"#bd3786\"],[0.5555555555555556,\"#d8576b\"],[0.6666666666666666,\"#ed7953\"],[0.7777777777777778,\"#fb9f3a\"],[0.8888888888888888,\"#fdca26\"],[1.0,\"#f0f921\"]],\"type\":\"histogram2d\"}],\"histogram\":[{\"marker\":{\"pattern\":{\"fillmode\":\"overlay\",\"size\":10,\"solidity\":0.2}},\"type\":\"histogram\"}],\"mesh3d\":[{\"colorbar\":{\"outlinewidth\":0,\"ticks\":\"\"},\"type\":\"mesh3d\"}],\"parcoords\":[{\"line\":{\"colorbar\":{\"outlinewidth\":0,\"ticks\":\"\"}},\"type\":\"parcoords\"}],\"pie\":[{\"automargin\":true,\"type\":\"pie\"}],\"scatter3d\":[{\"line\":{\"colorbar\":{\"outlinewidth\":0,\"ticks\":\"\"}},\"marker\":{\"colorbar\":{\"outlinewidth\":0,\"ticks\":\"\"}},\"type\":\"scatter3d\"}],\"scattercarpet\":[{\"marker\":{\"colorbar\":{\"outlinewidth\":0,\"ticks\":\"\"}},\"type\":\"scattercarpet\"}],\"scattergeo\":[{\"marker\":{\"colorbar\":{\"outlinewidth\":0,\"ticks\":\"\"}},\"type\":\"scattergeo\"}],\"scattergl\":[{\"marker\":{\"colorbar\":{\"outlinewidth\":0,\"ticks\":\"\"}},\"type\":\"scattergl\"}],\"scattermapbox\":[{\"marker\":{\"colorbar\":{\"outlinewidth\":0,\"ticks\":\"\"}},\"type\":\"scattermapbox\"}],\"scatterpolargl\":[{\"marker\":{\"colorbar\":{\"outlinewidth\":0,\"ticks\":\"\"}},\"type\":\"scatterpolargl\"}],\"scatterpolar\":[{\"marker\":{\"colorbar\":{\"outlinewidth\":0,\"ticks\":\"\"}},\"type\":\"scatterpolar\"}],\"scatter\":[{\"fillpattern\":{\"fillmode\":\"overlay\",\"size\":10,\"solidity\":0.2},\"type\":\"scatter\"}],\"scatterternary\":[{\"marker\":{\"colorbar\":{\"outlinewidth\":0,\"ticks\":\"\"}},\"type\":\"scatterternary\"}],\"surface\":[{\"colorbar\":{\"outlinewidth\":0,\"ticks\":\"\"},\"colorscale\":[[0.0,\"#0d0887\"],[0.1111111111111111,\"#46039f\"],[0.2222222222222222,\"#7201a8\"],[0.3333333333333333,\"#9c179e\"],[0.4444444444444444,\"#bd3786\"],[0.5555555555555556,\"#d8576b\"],[0.6666666666666666,\"#ed7953\"],[0.7777777777777778,\"#fb9f3a\"],[0.8888888888888888,\"#fdca26\"],[1.0,\"#f0f921\"]],\"type\":\"surface\"}],\"table\":[{\"cells\":{\"fill\":{\"color\":\"#EBF0F8\"},\"line\":{\"color\":\"white\"}},\"header\":{\"fill\":{\"color\":\"#C8D4E3\"},\"line\":{\"color\":\"white\"}},\"type\":\"table\"}]},\"layout\":{\"annotationdefaults\":{\"arrowcolor\":\"#2a3f5f\",\"arrowhead\":0,\"arrowwidth\":1},\"autotypenumbers\":\"strict\",\"coloraxis\":{\"colorbar\":{\"outlinewidth\":0,\"ticks\":\"\"}},\"colorscale\":{\"diverging\":[[0,\"#8e0152\"],[0.1,\"#c51b7d\"],[0.2,\"#de77ae\"],[0.3,\"#f1b6da\"],[0.4,\"#fde0ef\"],[0.5,\"#f7f7f7\"],[0.6,\"#e6f5d0\"],[0.7,\"#b8e186\"],[0.8,\"#7fbc41\"],[0.9,\"#4d9221\"],[1,\"#276419\"]],\"sequential\":[[0.0,\"#0d0887\"],[0.1111111111111111,\"#46039f\"],[0.2222222222222222,\"#7201a8\"],[0.3333333333333333,\"#9c179e\"],[0.4444444444444444,\"#bd3786\"],[0.5555555555555556,\"#d8576b\"],[0.6666666666666666,\"#ed7953\"],[0.7777777777777778,\"#fb9f3a\"],[0.8888888888888888,\"#fdca26\"],[1.0,\"#f0f921\"]],\"sequentialminus\":[[0.0,\"#0d0887\"],[0.1111111111111111,\"#46039f\"],[0.2222222222222222,\"#7201a8\"],[0.3333333333333333,\"#9c179e\"],[0.4444444444444444,\"#bd3786\"],[0.5555555555555556,\"#d8576b\"],[0.6666666666666666,\"#ed7953\"],[0.7777777777777778,\"#fb9f3a\"],[0.8888888888888888,\"#fdca26\"],[1.0,\"#f0f921\"]]},\"colorway\":[\"#636efa\",\"#EF553B\",\"#00cc96\",\"#ab63fa\",\"#FFA15A\",\"#19d3f3\",\"#FF6692\",\"#B6E880\",\"#FF97FF\",\"#FECB52\"],\"font\":{\"color\":\"#2a3f5f\"},\"geo\":{\"bgcolor\":\"white\",\"lakecolor\":\"white\",\"landcolor\":\"#E5ECF6\",\"showlakes\":true,\"showland\":true,\"subunitcolor\":\"white\"},\"hoverlabel\":{\"align\":\"left\"},\"hovermode\":\"closest\",\"mapbox\":{\"style\":\"light\"},\"paper_bgcolor\":\"white\",\"plot_bgcolor\":\"#E5ECF6\",\"polar\":{\"angularaxis\":{\"gridcolor\":\"white\",\"linecolor\":\"white\",\"ticks\":\"\"},\"bgcolor\":\"#E5ECF6\",\"radialaxis\":{\"gridcolor\":\"white\",\"linecolor\":\"white\",\"ticks\":\"\"}},\"scene\":{\"xaxis\":{\"backgroundcolor\":\"#E5ECF6\",\"gridcolor\":\"white\",\"gridwidth\":2,\"linecolor\":\"white\",\"showbackground\":true,\"ticks\":\"\",\"zerolinecolor\":\"white\"},\"yaxis\":{\"backgroundcolor\":\"#E5ECF6\",\"gridcolor\":\"white\",\"gridwidth\":2,\"linecolor\":\"white\",\"showbackground\":true,\"ticks\":\"\",\"zerolinecolor\":\"white\"},\"zaxis\":{\"backgroundcolor\":\"#E5ECF6\",\"gridcolor\":\"white\",\"gridwidth\":2,\"linecolor\":\"white\",\"showbackground\":true,\"ticks\":\"\",\"zerolinecolor\":\"white\"}},\"shapedefaults\":{\"line\":{\"color\":\"#2a3f5f\"}},\"ternary\":{\"aaxis\":{\"gridcolor\":\"white\",\"linecolor\":\"white\",\"ticks\":\"\"},\"baxis\":{\"gridcolor\":\"white\",\"linecolor\":\"white\",\"ticks\":\"\"},\"bgcolor\":\"#E5ECF6\",\"caxis\":{\"gridcolor\":\"white\",\"linecolor\":\"white\",\"ticks\":\"\"}},\"title\":{\"x\":0.05},\"xaxis\":{\"automargin\":true,\"gridcolor\":\"white\",\"linecolor\":\"white\",\"ticks\":\"\",\"title\":{\"standoff\":15},\"zerolinecolor\":\"white\",\"zerolinewidth\":2},\"yaxis\":{\"automargin\":true,\"gridcolor\":\"white\",\"linecolor\":\"white\",\"ticks\":\"\",\"title\":{\"standoff\":15},\"zerolinecolor\":\"white\",\"zerolinewidth\":2}}},\"title\":{\"text\":\"Technologies in Data Scientist Job Listings 2023\",\"x\":0.5},\"xaxis\":{\"tickmode\":\"linear\",\"title\":{\"text\":\"Technology\"}},\"yaxis\":{\"title\":{\"text\":\"Avg % of Listings\"}}},                        {\"responsive\": true}                    ).then(function(){\n",
       "                            \n",
       "var gd = document.getElementById('135c3320-d10b-46ec-a0f2-faa121fc2740');\n",
       "var x = new MutationObserver(function (mutations, observer) {{\n",
       "        var display = window.getComputedStyle(gd).display;\n",
       "        if (!display || display === 'none') {{\n",
       "            console.log([gd, 'removed!']);\n",
       "            Plotly.purge(gd);\n",
       "            observer.disconnect();\n",
       "        }}\n",
       "}});\n",
       "\n",
       "// Listen for the removal of the full notebook cells\n",
       "var notebookContainer = gd.closest('#notebook-container');\n",
       "if (notebookContainer) {{\n",
       "    x.observe(notebookContainer, {childList: true});\n",
       "}}\n",
       "\n",
       "// Listen for the clearing of the current output cell\n",
       "var outputEl = gd.closest('.output');\n",
       "if (outputEl) {{\n",
       "    x.observe(outputEl, {childList: true});\n",
       "}}\n",
       "\n",
       "                        })                };                });            </script>        </div>"
      ]
     },
     "metadata": {},
     "output_type": "display_data"
    }
   ],
   "source": [
    "cmax=200\n",
    "cmin=50\n",
    "color_s = np.linspace(cmin, cmax, 20)\n",
    "\n",
    "data = [\n",
    "    go.Bar(\n",
    "        x=df_23.index,          \n",
    "        y=df_23['2023']*100,\n",
    "        marker=dict(\n",
    "            colorscale='Jet',\n",
    "            color=color_s\n",
    "        ),\n",
    "    )\n",
    "]\n",
    "\n",
    "layout = {\n",
    "     'title': 'Technologies in Data Scientist Job Listings 2023',\n",
    "    'yaxis': {'title': 'Avg % of Listings', },\n",
    "    'xaxis': {'title': \"Technology\", 'tickmode': 'linear'},\n",
    "    'title_x':0.5,\n",
    "    'height': 500\n",
    "    \n",
    "}\n",
    "\n",
    "fig = go.Figure(data=data, layout=layout)\n",
    "py.iplot(fig)"
   ]
  },
  {
   "cell_type": "markdown",
   "id": "2fdeb10487298a32",
   "metadata": {
    "collapsed": false,
    "jupyter": {
     "outputs_hidden": false
    }
   },
   "source": [
    "Top 15"
   ]
  },
  {
   "cell_type": "code",
   "execution_count": 71,
   "id": "f63c2743173559ee",
   "metadata": {
    "ExecuteTime": {
     "end_time": "2023-10-06T08:19:22.553699300Z",
     "start_time": "2023-10-06T08:19:22.444085700Z"
    },
    "collapsed": false,
    "jupyter": {
     "outputs_hidden": false
    }
   },
   "outputs": [
    {
     "data": {
      "text/html": [
       "<div>\n",
       "<style scoped>\n",
       "    .dataframe tbody tr th:only-of-type {\n",
       "        vertical-align: middle;\n",
       "    }\n",
       "\n",
       "    .dataframe tbody tr th {\n",
       "        vertical-align: top;\n",
       "    }\n",
       "\n",
       "    .dataframe thead th {\n",
       "        text-align: right;\n",
       "    }\n",
       "</style>\n",
       "<table border=\"1\" class=\"dataframe\">\n",
       "  <thead>\n",
       "    <tr style=\"text-align: right;\">\n",
       "      <th></th>\n",
       "      <th>2019</th>\n",
       "      <th>2023</th>\n",
       "    </tr>\n",
       "  </thead>\n",
       "  <tbody>\n",
       "    <tr>\n",
       "      <th>Python</th>\n",
       "      <td>0.14</td>\n",
       "      <td>0.78</td>\n",
       "    </tr>\n",
       "    <tr>\n",
       "      <th>SQL</th>\n",
       "      <td>0.10</td>\n",
       "      <td>0.52</td>\n",
       "    </tr>\n",
       "    <tr>\n",
       "      <th>R</th>\n",
       "      <td>0.10</td>\n",
       "      <td>0.41</td>\n",
       "    </tr>\n",
       "    <tr>\n",
       "      <th>TensorFlow</th>\n",
       "      <td>0.03</td>\n",
       "      <td>0.21</td>\n",
       "    </tr>\n",
       "    <tr>\n",
       "      <th>AWS</th>\n",
       "      <td>0.04</td>\n",
       "      <td>0.21</td>\n",
       "    </tr>\n",
       "    <tr>\n",
       "      <th>Tableau</th>\n",
       "      <td>0.04</td>\n",
       "      <td>0.20</td>\n",
       "    </tr>\n",
       "    <tr>\n",
       "      <th>Spark</th>\n",
       "      <td>0.05</td>\n",
       "      <td>0.20</td>\n",
       "    </tr>\n",
       "    <tr>\n",
       "      <th>PyTorch</th>\n",
       "      <td>0.01</td>\n",
       "      <td>0.19</td>\n",
       "    </tr>\n",
       "    <tr>\n",
       "      <th>Azure</th>\n",
       "      <td>0.02</td>\n",
       "      <td>0.15</td>\n",
       "    </tr>\n",
       "    <tr>\n",
       "      <th>Java</th>\n",
       "      <td>0.04</td>\n",
       "      <td>0.14</td>\n",
       "    </tr>\n",
       "    <tr>\n",
       "      <th>Scikit-learn</th>\n",
       "      <td>0.02</td>\n",
       "      <td>0.12</td>\n",
       "    </tr>\n",
       "    <tr>\n",
       "      <th>Excel</th>\n",
       "      <td>0.02</td>\n",
       "      <td>0.12</td>\n",
       "    </tr>\n",
       "    <tr>\n",
       "      <th>Hadoop</th>\n",
       "      <td>0.05</td>\n",
       "      <td>0.12</td>\n",
       "    </tr>\n",
       "    <tr>\n",
       "      <th>Pandas</th>\n",
       "      <td>0.01</td>\n",
       "      <td>0.11</td>\n",
       "    </tr>\n",
       "    <tr>\n",
       "      <th>SAS</th>\n",
       "      <td>0.03</td>\n",
       "      <td>0.09</td>\n",
       "    </tr>\n",
       "  </tbody>\n",
       "</table>\n",
       "</div>"
      ],
      "text/plain": [
       "              2019  2023\n",
       "Python        0.14  0.78\n",
       "SQL           0.10  0.52\n",
       "R             0.10  0.41\n",
       "TensorFlow    0.03  0.21\n",
       "AWS           0.04  0.21\n",
       "Tableau       0.04  0.20\n",
       "Spark         0.05  0.20\n",
       "PyTorch       0.01  0.19\n",
       "Azure         0.02  0.15\n",
       "Java          0.04  0.14\n",
       "Scikit-learn  0.02  0.12\n",
       "Excel         0.02  0.12\n",
       "Hadoop        0.05  0.12\n",
       "Pandas        0.01  0.11\n",
       "SAS           0.03  0.09"
      ]
     },
     "execution_count": 71,
     "metadata": {},
     "output_type": "execute_result"
    }
   ],
   "source": [
    "df_15 = df_combo.iloc[:15]\n",
    "df_15"
   ]
  },
  {
   "cell_type": "code",
   "execution_count": 75,
   "id": "4571e65e4e3a55db",
   "metadata": {
    "ExecuteTime": {
     "end_time": "2023-10-06T08:20:46.699163600Z",
     "start_time": "2023-10-06T08:20:46.551060Z"
    },
    "collapsed": false,
    "jupyter": {
     "outputs_hidden": false
    }
   },
   "outputs": [
    {
     "data": {
      "application/vnd.plotly.v1+json": {
       "config": {
        "linkText": "Export to plot.ly",
        "plotlyServerURL": "https://plot.ly",
        "showLink": false
       },
       "data": [
        {
         "marker": {
          "color": [
           50,
           60.714285714285715,
           71.42857142857143,
           82.14285714285714,
           92.85714285714286,
           103.57142857142857,
           114.28571428571428,
           125,
           135.71428571428572,
           146.42857142857142,
           157.14285714285714,
           167.85714285714283,
           178.57142857142856,
           189.28571428571428,
           200
          ],
          "colorscale": [
           [
            0,
            "rgb(0,0,131)"
           ],
           [
            0.2,
            "rgb(0,60,170)"
           ],
           [
            0.4,
            "rgb(5,255,255)"
           ],
           [
            0.6,
            "rgb(255,255,0)"
           ],
           [
            0.8,
            "rgb(250,0,0)"
           ],
           [
            1,
            "rgb(128,0,0)"
           ]
          ]
         },
         "type": "bar",
         "x": [
          "Python",
          "SQL",
          "R",
          "TensorFlow",
          "AWS",
          "Tableau",
          "Spark",
          "PyTorch",
          "Azure",
          "Java",
          "Scikit-learn",
          "Excel",
          "Hadoop",
          "Pandas",
          "SAS"
         ],
         "y": [
          77.89053166344071,
          52.49311724329111,
          41.28961379899959,
          21.297409605746374,
          21.082846679963005,
          19.872779394844848,
          19.611299036383397,
          18.677220482495198,
          14.649109734048688,
          14.053396331486073,
          12.177139833574973,
          11.634534358279915,
          11.55106809222066,
          11.152254581962609,
          9.449216938849107
         ]
        }
       ],
       "layout": {
        "height": 500,
        "template": {
         "data": {
          "bar": [
           {
            "error_x": {
             "color": "#2a3f5f"
            },
            "error_y": {
             "color": "#2a3f5f"
            },
            "marker": {
             "line": {
              "color": "#E5ECF6",
              "width": 0.5
             },
             "pattern": {
              "fillmode": "overlay",
              "size": 10,
              "solidity": 0.2
             }
            },
            "type": "bar"
           }
          ],
          "barpolar": [
           {
            "marker": {
             "line": {
              "color": "#E5ECF6",
              "width": 0.5
             },
             "pattern": {
              "fillmode": "overlay",
              "size": 10,
              "solidity": 0.2
             }
            },
            "type": "barpolar"
           }
          ],
          "carpet": [
           {
            "aaxis": {
             "endlinecolor": "#2a3f5f",
             "gridcolor": "white",
             "linecolor": "white",
             "minorgridcolor": "white",
             "startlinecolor": "#2a3f5f"
            },
            "baxis": {
             "endlinecolor": "#2a3f5f",
             "gridcolor": "white",
             "linecolor": "white",
             "minorgridcolor": "white",
             "startlinecolor": "#2a3f5f"
            },
            "type": "carpet"
           }
          ],
          "choropleth": [
           {
            "colorbar": {
             "outlinewidth": 0,
             "ticks": ""
            },
            "type": "choropleth"
           }
          ],
          "contour": [
           {
            "colorbar": {
             "outlinewidth": 0,
             "ticks": ""
            },
            "colorscale": [
             [
              0,
              "#0d0887"
             ],
             [
              0.1111111111111111,
              "#46039f"
             ],
             [
              0.2222222222222222,
              "#7201a8"
             ],
             [
              0.3333333333333333,
              "#9c179e"
             ],
             [
              0.4444444444444444,
              "#bd3786"
             ],
             [
              0.5555555555555556,
              "#d8576b"
             ],
             [
              0.6666666666666666,
              "#ed7953"
             ],
             [
              0.7777777777777778,
              "#fb9f3a"
             ],
             [
              0.8888888888888888,
              "#fdca26"
             ],
             [
              1,
              "#f0f921"
             ]
            ],
            "type": "contour"
           }
          ],
          "contourcarpet": [
           {
            "colorbar": {
             "outlinewidth": 0,
             "ticks": ""
            },
            "type": "contourcarpet"
           }
          ],
          "heatmap": [
           {
            "colorbar": {
             "outlinewidth": 0,
             "ticks": ""
            },
            "colorscale": [
             [
              0,
              "#0d0887"
             ],
             [
              0.1111111111111111,
              "#46039f"
             ],
             [
              0.2222222222222222,
              "#7201a8"
             ],
             [
              0.3333333333333333,
              "#9c179e"
             ],
             [
              0.4444444444444444,
              "#bd3786"
             ],
             [
              0.5555555555555556,
              "#d8576b"
             ],
             [
              0.6666666666666666,
              "#ed7953"
             ],
             [
              0.7777777777777778,
              "#fb9f3a"
             ],
             [
              0.8888888888888888,
              "#fdca26"
             ],
             [
              1,
              "#f0f921"
             ]
            ],
            "type": "heatmap"
           }
          ],
          "heatmapgl": [
           {
            "colorbar": {
             "outlinewidth": 0,
             "ticks": ""
            },
            "colorscale": [
             [
              0,
              "#0d0887"
             ],
             [
              0.1111111111111111,
              "#46039f"
             ],
             [
              0.2222222222222222,
              "#7201a8"
             ],
             [
              0.3333333333333333,
              "#9c179e"
             ],
             [
              0.4444444444444444,
              "#bd3786"
             ],
             [
              0.5555555555555556,
              "#d8576b"
             ],
             [
              0.6666666666666666,
              "#ed7953"
             ],
             [
              0.7777777777777778,
              "#fb9f3a"
             ],
             [
              0.8888888888888888,
              "#fdca26"
             ],
             [
              1,
              "#f0f921"
             ]
            ],
            "type": "heatmapgl"
           }
          ],
          "histogram": [
           {
            "marker": {
             "pattern": {
              "fillmode": "overlay",
              "size": 10,
              "solidity": 0.2
             }
            },
            "type": "histogram"
           }
          ],
          "histogram2d": [
           {
            "colorbar": {
             "outlinewidth": 0,
             "ticks": ""
            },
            "colorscale": [
             [
              0,
              "#0d0887"
             ],
             [
              0.1111111111111111,
              "#46039f"
             ],
             [
              0.2222222222222222,
              "#7201a8"
             ],
             [
              0.3333333333333333,
              "#9c179e"
             ],
             [
              0.4444444444444444,
              "#bd3786"
             ],
             [
              0.5555555555555556,
              "#d8576b"
             ],
             [
              0.6666666666666666,
              "#ed7953"
             ],
             [
              0.7777777777777778,
              "#fb9f3a"
             ],
             [
              0.8888888888888888,
              "#fdca26"
             ],
             [
              1,
              "#f0f921"
             ]
            ],
            "type": "histogram2d"
           }
          ],
          "histogram2dcontour": [
           {
            "colorbar": {
             "outlinewidth": 0,
             "ticks": ""
            },
            "colorscale": [
             [
              0,
              "#0d0887"
             ],
             [
              0.1111111111111111,
              "#46039f"
             ],
             [
              0.2222222222222222,
              "#7201a8"
             ],
             [
              0.3333333333333333,
              "#9c179e"
             ],
             [
              0.4444444444444444,
              "#bd3786"
             ],
             [
              0.5555555555555556,
              "#d8576b"
             ],
             [
              0.6666666666666666,
              "#ed7953"
             ],
             [
              0.7777777777777778,
              "#fb9f3a"
             ],
             [
              0.8888888888888888,
              "#fdca26"
             ],
             [
              1,
              "#f0f921"
             ]
            ],
            "type": "histogram2dcontour"
           }
          ],
          "mesh3d": [
           {
            "colorbar": {
             "outlinewidth": 0,
             "ticks": ""
            },
            "type": "mesh3d"
           }
          ],
          "parcoords": [
           {
            "line": {
             "colorbar": {
              "outlinewidth": 0,
              "ticks": ""
             }
            },
            "type": "parcoords"
           }
          ],
          "pie": [
           {
            "automargin": true,
            "type": "pie"
           }
          ],
          "scatter": [
           {
            "fillpattern": {
             "fillmode": "overlay",
             "size": 10,
             "solidity": 0.2
            },
            "type": "scatter"
           }
          ],
          "scatter3d": [
           {
            "line": {
             "colorbar": {
              "outlinewidth": 0,
              "ticks": ""
             }
            },
            "marker": {
             "colorbar": {
              "outlinewidth": 0,
              "ticks": ""
             }
            },
            "type": "scatter3d"
           }
          ],
          "scattercarpet": [
           {
            "marker": {
             "colorbar": {
              "outlinewidth": 0,
              "ticks": ""
             }
            },
            "type": "scattercarpet"
           }
          ],
          "scattergeo": [
           {
            "marker": {
             "colorbar": {
              "outlinewidth": 0,
              "ticks": ""
             }
            },
            "type": "scattergeo"
           }
          ],
          "scattergl": [
           {
            "marker": {
             "colorbar": {
              "outlinewidth": 0,
              "ticks": ""
             }
            },
            "type": "scattergl"
           }
          ],
          "scattermapbox": [
           {
            "marker": {
             "colorbar": {
              "outlinewidth": 0,
              "ticks": ""
             }
            },
            "type": "scattermapbox"
           }
          ],
          "scatterpolar": [
           {
            "marker": {
             "colorbar": {
              "outlinewidth": 0,
              "ticks": ""
             }
            },
            "type": "scatterpolar"
           }
          ],
          "scatterpolargl": [
           {
            "marker": {
             "colorbar": {
              "outlinewidth": 0,
              "ticks": ""
             }
            },
            "type": "scatterpolargl"
           }
          ],
          "scatterternary": [
           {
            "marker": {
             "colorbar": {
              "outlinewidth": 0,
              "ticks": ""
             }
            },
            "type": "scatterternary"
           }
          ],
          "surface": [
           {
            "colorbar": {
             "outlinewidth": 0,
             "ticks": ""
            },
            "colorscale": [
             [
              0,
              "#0d0887"
             ],
             [
              0.1111111111111111,
              "#46039f"
             ],
             [
              0.2222222222222222,
              "#7201a8"
             ],
             [
              0.3333333333333333,
              "#9c179e"
             ],
             [
              0.4444444444444444,
              "#bd3786"
             ],
             [
              0.5555555555555556,
              "#d8576b"
             ],
             [
              0.6666666666666666,
              "#ed7953"
             ],
             [
              0.7777777777777778,
              "#fb9f3a"
             ],
             [
              0.8888888888888888,
              "#fdca26"
             ],
             [
              1,
              "#f0f921"
             ]
            ],
            "type": "surface"
           }
          ],
          "table": [
           {
            "cells": {
             "fill": {
              "color": "#EBF0F8"
             },
             "line": {
              "color": "white"
             }
            },
            "header": {
             "fill": {
              "color": "#C8D4E3"
             },
             "line": {
              "color": "white"
             }
            },
            "type": "table"
           }
          ]
         },
         "layout": {
          "annotationdefaults": {
           "arrowcolor": "#2a3f5f",
           "arrowhead": 0,
           "arrowwidth": 1
          },
          "autotypenumbers": "strict",
          "coloraxis": {
           "colorbar": {
            "outlinewidth": 0,
            "ticks": ""
           }
          },
          "colorscale": {
           "diverging": [
            [
             0,
             "#8e0152"
            ],
            [
             0.1,
             "#c51b7d"
            ],
            [
             0.2,
             "#de77ae"
            ],
            [
             0.3,
             "#f1b6da"
            ],
            [
             0.4,
             "#fde0ef"
            ],
            [
             0.5,
             "#f7f7f7"
            ],
            [
             0.6,
             "#e6f5d0"
            ],
            [
             0.7,
             "#b8e186"
            ],
            [
             0.8,
             "#7fbc41"
            ],
            [
             0.9,
             "#4d9221"
            ],
            [
             1,
             "#276419"
            ]
           ],
           "sequential": [
            [
             0,
             "#0d0887"
            ],
            [
             0.1111111111111111,
             "#46039f"
            ],
            [
             0.2222222222222222,
             "#7201a8"
            ],
            [
             0.3333333333333333,
             "#9c179e"
            ],
            [
             0.4444444444444444,
             "#bd3786"
            ],
            [
             0.5555555555555556,
             "#d8576b"
            ],
            [
             0.6666666666666666,
             "#ed7953"
            ],
            [
             0.7777777777777778,
             "#fb9f3a"
            ],
            [
             0.8888888888888888,
             "#fdca26"
            ],
            [
             1,
             "#f0f921"
            ]
           ],
           "sequentialminus": [
            [
             0,
             "#0d0887"
            ],
            [
             0.1111111111111111,
             "#46039f"
            ],
            [
             0.2222222222222222,
             "#7201a8"
            ],
            [
             0.3333333333333333,
             "#9c179e"
            ],
            [
             0.4444444444444444,
             "#bd3786"
            ],
            [
             0.5555555555555556,
             "#d8576b"
            ],
            [
             0.6666666666666666,
             "#ed7953"
            ],
            [
             0.7777777777777778,
             "#fb9f3a"
            ],
            [
             0.8888888888888888,
             "#fdca26"
            ],
            [
             1,
             "#f0f921"
            ]
           ]
          },
          "colorway": [
           "#636efa",
           "#EF553B",
           "#00cc96",
           "#ab63fa",
           "#FFA15A",
           "#19d3f3",
           "#FF6692",
           "#B6E880",
           "#FF97FF",
           "#FECB52"
          ],
          "font": {
           "color": "#2a3f5f"
          },
          "geo": {
           "bgcolor": "white",
           "lakecolor": "white",
           "landcolor": "#E5ECF6",
           "showlakes": true,
           "showland": true,
           "subunitcolor": "white"
          },
          "hoverlabel": {
           "align": "left"
          },
          "hovermode": "closest",
          "mapbox": {
           "style": "light"
          },
          "paper_bgcolor": "white",
          "plot_bgcolor": "#E5ECF6",
          "polar": {
           "angularaxis": {
            "gridcolor": "white",
            "linecolor": "white",
            "ticks": ""
           },
           "bgcolor": "#E5ECF6",
           "radialaxis": {
            "gridcolor": "white",
            "linecolor": "white",
            "ticks": ""
           }
          },
          "scene": {
           "xaxis": {
            "backgroundcolor": "#E5ECF6",
            "gridcolor": "white",
            "gridwidth": 2,
            "linecolor": "white",
            "showbackground": true,
            "ticks": "",
            "zerolinecolor": "white"
           },
           "yaxis": {
            "backgroundcolor": "#E5ECF6",
            "gridcolor": "white",
            "gridwidth": 2,
            "linecolor": "white",
            "showbackground": true,
            "ticks": "",
            "zerolinecolor": "white"
           },
           "zaxis": {
            "backgroundcolor": "#E5ECF6",
            "gridcolor": "white",
            "gridwidth": 2,
            "linecolor": "white",
            "showbackground": true,
            "ticks": "",
            "zerolinecolor": "white"
           }
          },
          "shapedefaults": {
           "line": {
            "color": "#2a3f5f"
           }
          },
          "ternary": {
           "aaxis": {
            "gridcolor": "white",
            "linecolor": "white",
            "ticks": ""
           },
           "baxis": {
            "gridcolor": "white",
            "linecolor": "white",
            "ticks": ""
           },
           "bgcolor": "#E5ECF6",
           "caxis": {
            "gridcolor": "white",
            "linecolor": "white",
            "ticks": ""
           }
          },
          "title": {
           "x": 0.05
          },
          "xaxis": {
           "automargin": true,
           "gridcolor": "white",
           "linecolor": "white",
           "ticks": "",
           "title": {
            "standoff": 15
           },
           "zerolinecolor": "white",
           "zerolinewidth": 2
          },
          "yaxis": {
           "automargin": true,
           "gridcolor": "white",
           "linecolor": "white",
           "ticks": "",
           "title": {
            "standoff": 15
           },
           "zerolinecolor": "white",
           "zerolinewidth": 2
          }
         }
        },
        "title": {
         "text": "Technologies in Data Scientist Job Listings 2023",
         "x": 0.5
        },
        "xaxis": {
         "tickmode": "linear",
         "title": {
          "text": "Technology"
         }
        },
        "yaxis": {
         "title": {
          "text": "Avg % of Listings"
         }
        }
       }
      },
      "text/html": [
       "<div>                            <div id=\"cf25a6ea-5691-4c72-b489-fe0164513b7f\" class=\"plotly-graph-div\" style=\"height:500px; width:100%;\"></div>            <script type=\"text/javascript\">                require([\"plotly\"], function(Plotly) {                    window.PLOTLYENV=window.PLOTLYENV || {};                                    if (document.getElementById(\"cf25a6ea-5691-4c72-b489-fe0164513b7f\")) {                    Plotly.newPlot(                        \"cf25a6ea-5691-4c72-b489-fe0164513b7f\",                        [{\"marker\":{\"color\":[50.0,60.714285714285715,71.42857142857143,82.14285714285714,92.85714285714286,103.57142857142857,114.28571428571428,125.0,135.71428571428572,146.42857142857142,157.14285714285714,167.85714285714283,178.57142857142856,189.28571428571428,200.0],\"colorscale\":[[0.0,\"rgb(0,0,131)\"],[0.2,\"rgb(0,60,170)\"],[0.4,\"rgb(5,255,255)\"],[0.6,\"rgb(255,255,0)\"],[0.8,\"rgb(250,0,0)\"],[1.0,\"rgb(128,0,0)\"]]},\"x\":[\"Python\",\"SQL\",\"R\",\"TensorFlow\",\"AWS\",\"Tableau\",\"Spark\",\"PyTorch\",\"Azure\",\"Java\",\"Scikit-learn\",\"Excel\",\"Hadoop\",\"Pandas\",\"SAS\"],\"y\":[77.89053166344071,52.49311724329111,41.28961379899959,21.297409605746374,21.082846679963005,19.872779394844848,19.611299036383397,18.677220482495198,14.649109734048688,14.053396331486073,12.177139833574973,11.634534358279915,11.55106809222066,11.152254581962609,9.449216938849107],\"type\":\"bar\"}],                        {\"height\":500,\"template\":{\"data\":{\"barpolar\":[{\"marker\":{\"line\":{\"color\":\"#E5ECF6\",\"width\":0.5},\"pattern\":{\"fillmode\":\"overlay\",\"size\":10,\"solidity\":0.2}},\"type\":\"barpolar\"}],\"bar\":[{\"error_x\":{\"color\":\"#2a3f5f\"},\"error_y\":{\"color\":\"#2a3f5f\"},\"marker\":{\"line\":{\"color\":\"#E5ECF6\",\"width\":0.5},\"pattern\":{\"fillmode\":\"overlay\",\"size\":10,\"solidity\":0.2}},\"type\":\"bar\"}],\"carpet\":[{\"aaxis\":{\"endlinecolor\":\"#2a3f5f\",\"gridcolor\":\"white\",\"linecolor\":\"white\",\"minorgridcolor\":\"white\",\"startlinecolor\":\"#2a3f5f\"},\"baxis\":{\"endlinecolor\":\"#2a3f5f\",\"gridcolor\":\"white\",\"linecolor\":\"white\",\"minorgridcolor\":\"white\",\"startlinecolor\":\"#2a3f5f\"},\"type\":\"carpet\"}],\"choropleth\":[{\"colorbar\":{\"outlinewidth\":0,\"ticks\":\"\"},\"type\":\"choropleth\"}],\"contourcarpet\":[{\"colorbar\":{\"outlinewidth\":0,\"ticks\":\"\"},\"type\":\"contourcarpet\"}],\"contour\":[{\"colorbar\":{\"outlinewidth\":0,\"ticks\":\"\"},\"colorscale\":[[0.0,\"#0d0887\"],[0.1111111111111111,\"#46039f\"],[0.2222222222222222,\"#7201a8\"],[0.3333333333333333,\"#9c179e\"],[0.4444444444444444,\"#bd3786\"],[0.5555555555555556,\"#d8576b\"],[0.6666666666666666,\"#ed7953\"],[0.7777777777777778,\"#fb9f3a\"],[0.8888888888888888,\"#fdca26\"],[1.0,\"#f0f921\"]],\"type\":\"contour\"}],\"heatmapgl\":[{\"colorbar\":{\"outlinewidth\":0,\"ticks\":\"\"},\"colorscale\":[[0.0,\"#0d0887\"],[0.1111111111111111,\"#46039f\"],[0.2222222222222222,\"#7201a8\"],[0.3333333333333333,\"#9c179e\"],[0.4444444444444444,\"#bd3786\"],[0.5555555555555556,\"#d8576b\"],[0.6666666666666666,\"#ed7953\"],[0.7777777777777778,\"#fb9f3a\"],[0.8888888888888888,\"#fdca26\"],[1.0,\"#f0f921\"]],\"type\":\"heatmapgl\"}],\"heatmap\":[{\"colorbar\":{\"outlinewidth\":0,\"ticks\":\"\"},\"colorscale\":[[0.0,\"#0d0887\"],[0.1111111111111111,\"#46039f\"],[0.2222222222222222,\"#7201a8\"],[0.3333333333333333,\"#9c179e\"],[0.4444444444444444,\"#bd3786\"],[0.5555555555555556,\"#d8576b\"],[0.6666666666666666,\"#ed7953\"],[0.7777777777777778,\"#fb9f3a\"],[0.8888888888888888,\"#fdca26\"],[1.0,\"#f0f921\"]],\"type\":\"heatmap\"}],\"histogram2dcontour\":[{\"colorbar\":{\"outlinewidth\":0,\"ticks\":\"\"},\"colorscale\":[[0.0,\"#0d0887\"],[0.1111111111111111,\"#46039f\"],[0.2222222222222222,\"#7201a8\"],[0.3333333333333333,\"#9c179e\"],[0.4444444444444444,\"#bd3786\"],[0.5555555555555556,\"#d8576b\"],[0.6666666666666666,\"#ed7953\"],[0.7777777777777778,\"#fb9f3a\"],[0.8888888888888888,\"#fdca26\"],[1.0,\"#f0f921\"]],\"type\":\"histogram2dcontour\"}],\"histogram2d\":[{\"colorbar\":{\"outlinewidth\":0,\"ticks\":\"\"},\"colorscale\":[[0.0,\"#0d0887\"],[0.1111111111111111,\"#46039f\"],[0.2222222222222222,\"#7201a8\"],[0.3333333333333333,\"#9c179e\"],[0.4444444444444444,\"#bd3786\"],[0.5555555555555556,\"#d8576b\"],[0.6666666666666666,\"#ed7953\"],[0.7777777777777778,\"#fb9f3a\"],[0.8888888888888888,\"#fdca26\"],[1.0,\"#f0f921\"]],\"type\":\"histogram2d\"}],\"histogram\":[{\"marker\":{\"pattern\":{\"fillmode\":\"overlay\",\"size\":10,\"solidity\":0.2}},\"type\":\"histogram\"}],\"mesh3d\":[{\"colorbar\":{\"outlinewidth\":0,\"ticks\":\"\"},\"type\":\"mesh3d\"}],\"parcoords\":[{\"line\":{\"colorbar\":{\"outlinewidth\":0,\"ticks\":\"\"}},\"type\":\"parcoords\"}],\"pie\":[{\"automargin\":true,\"type\":\"pie\"}],\"scatter3d\":[{\"line\":{\"colorbar\":{\"outlinewidth\":0,\"ticks\":\"\"}},\"marker\":{\"colorbar\":{\"outlinewidth\":0,\"ticks\":\"\"}},\"type\":\"scatter3d\"}],\"scattercarpet\":[{\"marker\":{\"colorbar\":{\"outlinewidth\":0,\"ticks\":\"\"}},\"type\":\"scattercarpet\"}],\"scattergeo\":[{\"marker\":{\"colorbar\":{\"outlinewidth\":0,\"ticks\":\"\"}},\"type\":\"scattergeo\"}],\"scattergl\":[{\"marker\":{\"colorbar\":{\"outlinewidth\":0,\"ticks\":\"\"}},\"type\":\"scattergl\"}],\"scattermapbox\":[{\"marker\":{\"colorbar\":{\"outlinewidth\":0,\"ticks\":\"\"}},\"type\":\"scattermapbox\"}],\"scatterpolargl\":[{\"marker\":{\"colorbar\":{\"outlinewidth\":0,\"ticks\":\"\"}},\"type\":\"scatterpolargl\"}],\"scatterpolar\":[{\"marker\":{\"colorbar\":{\"outlinewidth\":0,\"ticks\":\"\"}},\"type\":\"scatterpolar\"}],\"scatter\":[{\"fillpattern\":{\"fillmode\":\"overlay\",\"size\":10,\"solidity\":0.2},\"type\":\"scatter\"}],\"scatterternary\":[{\"marker\":{\"colorbar\":{\"outlinewidth\":0,\"ticks\":\"\"}},\"type\":\"scatterternary\"}],\"surface\":[{\"colorbar\":{\"outlinewidth\":0,\"ticks\":\"\"},\"colorscale\":[[0.0,\"#0d0887\"],[0.1111111111111111,\"#46039f\"],[0.2222222222222222,\"#7201a8\"],[0.3333333333333333,\"#9c179e\"],[0.4444444444444444,\"#bd3786\"],[0.5555555555555556,\"#d8576b\"],[0.6666666666666666,\"#ed7953\"],[0.7777777777777778,\"#fb9f3a\"],[0.8888888888888888,\"#fdca26\"],[1.0,\"#f0f921\"]],\"type\":\"surface\"}],\"table\":[{\"cells\":{\"fill\":{\"color\":\"#EBF0F8\"},\"line\":{\"color\":\"white\"}},\"header\":{\"fill\":{\"color\":\"#C8D4E3\"},\"line\":{\"color\":\"white\"}},\"type\":\"table\"}]},\"layout\":{\"annotationdefaults\":{\"arrowcolor\":\"#2a3f5f\",\"arrowhead\":0,\"arrowwidth\":1},\"autotypenumbers\":\"strict\",\"coloraxis\":{\"colorbar\":{\"outlinewidth\":0,\"ticks\":\"\"}},\"colorscale\":{\"diverging\":[[0,\"#8e0152\"],[0.1,\"#c51b7d\"],[0.2,\"#de77ae\"],[0.3,\"#f1b6da\"],[0.4,\"#fde0ef\"],[0.5,\"#f7f7f7\"],[0.6,\"#e6f5d0\"],[0.7,\"#b8e186\"],[0.8,\"#7fbc41\"],[0.9,\"#4d9221\"],[1,\"#276419\"]],\"sequential\":[[0.0,\"#0d0887\"],[0.1111111111111111,\"#46039f\"],[0.2222222222222222,\"#7201a8\"],[0.3333333333333333,\"#9c179e\"],[0.4444444444444444,\"#bd3786\"],[0.5555555555555556,\"#d8576b\"],[0.6666666666666666,\"#ed7953\"],[0.7777777777777778,\"#fb9f3a\"],[0.8888888888888888,\"#fdca26\"],[1.0,\"#f0f921\"]],\"sequentialminus\":[[0.0,\"#0d0887\"],[0.1111111111111111,\"#46039f\"],[0.2222222222222222,\"#7201a8\"],[0.3333333333333333,\"#9c179e\"],[0.4444444444444444,\"#bd3786\"],[0.5555555555555556,\"#d8576b\"],[0.6666666666666666,\"#ed7953\"],[0.7777777777777778,\"#fb9f3a\"],[0.8888888888888888,\"#fdca26\"],[1.0,\"#f0f921\"]]},\"colorway\":[\"#636efa\",\"#EF553B\",\"#00cc96\",\"#ab63fa\",\"#FFA15A\",\"#19d3f3\",\"#FF6692\",\"#B6E880\",\"#FF97FF\",\"#FECB52\"],\"font\":{\"color\":\"#2a3f5f\"},\"geo\":{\"bgcolor\":\"white\",\"lakecolor\":\"white\",\"landcolor\":\"#E5ECF6\",\"showlakes\":true,\"showland\":true,\"subunitcolor\":\"white\"},\"hoverlabel\":{\"align\":\"left\"},\"hovermode\":\"closest\",\"mapbox\":{\"style\":\"light\"},\"paper_bgcolor\":\"white\",\"plot_bgcolor\":\"#E5ECF6\",\"polar\":{\"angularaxis\":{\"gridcolor\":\"white\",\"linecolor\":\"white\",\"ticks\":\"\"},\"bgcolor\":\"#E5ECF6\",\"radialaxis\":{\"gridcolor\":\"white\",\"linecolor\":\"white\",\"ticks\":\"\"}},\"scene\":{\"xaxis\":{\"backgroundcolor\":\"#E5ECF6\",\"gridcolor\":\"white\",\"gridwidth\":2,\"linecolor\":\"white\",\"showbackground\":true,\"ticks\":\"\",\"zerolinecolor\":\"white\"},\"yaxis\":{\"backgroundcolor\":\"#E5ECF6\",\"gridcolor\":\"white\",\"gridwidth\":2,\"linecolor\":\"white\",\"showbackground\":true,\"ticks\":\"\",\"zerolinecolor\":\"white\"},\"zaxis\":{\"backgroundcolor\":\"#E5ECF6\",\"gridcolor\":\"white\",\"gridwidth\":2,\"linecolor\":\"white\",\"showbackground\":true,\"ticks\":\"\",\"zerolinecolor\":\"white\"}},\"shapedefaults\":{\"line\":{\"color\":\"#2a3f5f\"}},\"ternary\":{\"aaxis\":{\"gridcolor\":\"white\",\"linecolor\":\"white\",\"ticks\":\"\"},\"baxis\":{\"gridcolor\":\"white\",\"linecolor\":\"white\",\"ticks\":\"\"},\"bgcolor\":\"#E5ECF6\",\"caxis\":{\"gridcolor\":\"white\",\"linecolor\":\"white\",\"ticks\":\"\"}},\"title\":{\"x\":0.05},\"xaxis\":{\"automargin\":true,\"gridcolor\":\"white\",\"linecolor\":\"white\",\"ticks\":\"\",\"title\":{\"standoff\":15},\"zerolinecolor\":\"white\",\"zerolinewidth\":2},\"yaxis\":{\"automargin\":true,\"gridcolor\":\"white\",\"linecolor\":\"white\",\"ticks\":\"\",\"title\":{\"standoff\":15},\"zerolinecolor\":\"white\",\"zerolinewidth\":2}}},\"title\":{\"text\":\"Technologies in Data Scientist Job Listings 2023\",\"x\":0.5},\"xaxis\":{\"tickmode\":\"linear\",\"title\":{\"text\":\"Technology\"}},\"yaxis\":{\"title\":{\"text\":\"Avg % of Listings\"}}},                        {\"responsive\": true}                    ).then(function(){\n",
       "                            \n",
       "var gd = document.getElementById('cf25a6ea-5691-4c72-b489-fe0164513b7f');\n",
       "var x = new MutationObserver(function (mutations, observer) {{\n",
       "        var display = window.getComputedStyle(gd).display;\n",
       "        if (!display || display === 'none') {{\n",
       "            console.log([gd, 'removed!']);\n",
       "            Plotly.purge(gd);\n",
       "            observer.disconnect();\n",
       "        }}\n",
       "}});\n",
       "\n",
       "// Listen for the removal of the full notebook cells\n",
       "var notebookContainer = gd.closest('#notebook-container');\n",
       "if (notebookContainer) {{\n",
       "    x.observe(notebookContainer, {childList: true});\n",
       "}}\n",
       "\n",
       "// Listen for the clearing of the current output cell\n",
       "var outputEl = gd.closest('.output');\n",
       "if (outputEl) {{\n",
       "    x.observe(outputEl, {childList: true});\n",
       "}}\n",
       "\n",
       "                        })                };                });            </script>        </div>"
      ]
     },
     "metadata": {},
     "output_type": "display_data"
    }
   ],
   "source": [
    "cmax=200\n",
    "cmin=50\n",
    "color_s = np.linspace(cmin, cmax, 15)\n",
    "\n",
    "data = [\n",
    "    go.Bar(\n",
    "        x=df_15.index,          \n",
    "        y=df_15['2023']*100,\n",
    "        marker=dict(\n",
    "            colorscale='Jet',\n",
    "            color=color_s\n",
    "        ),\n",
    "    )\n",
    "]\n",
    "\n",
    "layout = {\n",
    "     'title': 'Technologies in Data Scientist Job Listings 2023',\n",
    "    'yaxis': {'title': 'Avg % of Listings', },\n",
    "    'xaxis': {'title': \"Technology\", 'tickmode': 'linear'},\n",
    "    'title_x':0.5,\n",
    "    'height': 500\n",
    "    \n",
    "}\n",
    "\n",
    "fig = go.Figure(data=data, layout=layout)\n",
    "py.iplot(fig)"
   ]
  },
  {
   "cell_type": "markdown",
   "id": "fc1fd84f391b11de",
   "metadata": {
    "collapsed": false,
    "jupyter": {
     "outputs_hidden": false
    }
   },
   "source": [
    "Looking at just the top 10 for 2019"
   ]
  },
  {
   "cell_type": "code",
   "execution_count": 76,
   "id": "a76d96a9da3b30",
   "metadata": {
    "ExecuteTime": {
     "end_time": "2023-10-06T08:21:14.368623400Z",
     "start_time": "2023-10-06T08:21:14.250640500Z"
    },
    "collapsed": false,
    "jupyter": {
     "outputs_hidden": false
    }
   },
   "outputs": [
    {
     "data": {
      "text/html": [
       "<div>\n",
       "<style scoped>\n",
       "    .dataframe tbody tr th:only-of-type {\n",
       "        vertical-align: middle;\n",
       "    }\n",
       "\n",
       "    .dataframe tbody tr th {\n",
       "        vertical-align: top;\n",
       "    }\n",
       "\n",
       "    .dataframe thead th {\n",
       "        text-align: right;\n",
       "    }\n",
       "</style>\n",
       "<table border=\"1\" class=\"dataframe\">\n",
       "  <thead>\n",
       "    <tr style=\"text-align: right;\">\n",
       "      <th></th>\n",
       "      <th>2019</th>\n",
       "      <th>2023</th>\n",
       "    </tr>\n",
       "  </thead>\n",
       "  <tbody>\n",
       "    <tr>\n",
       "      <th>Python</th>\n",
       "      <td>0.14</td>\n",
       "      <td>0.78</td>\n",
       "    </tr>\n",
       "    <tr>\n",
       "      <th>SQL</th>\n",
       "      <td>0.10</td>\n",
       "      <td>0.52</td>\n",
       "    </tr>\n",
       "    <tr>\n",
       "      <th>R</th>\n",
       "      <td>0.10</td>\n",
       "      <td>0.41</td>\n",
       "    </tr>\n",
       "    <tr>\n",
       "      <th>TensorFlow</th>\n",
       "      <td>0.03</td>\n",
       "      <td>0.21</td>\n",
       "    </tr>\n",
       "    <tr>\n",
       "      <th>AWS</th>\n",
       "      <td>0.04</td>\n",
       "      <td>0.21</td>\n",
       "    </tr>\n",
       "    <tr>\n",
       "      <th>Tableau</th>\n",
       "      <td>0.04</td>\n",
       "      <td>0.20</td>\n",
       "    </tr>\n",
       "    <tr>\n",
       "      <th>Spark</th>\n",
       "      <td>0.05</td>\n",
       "      <td>0.20</td>\n",
       "    </tr>\n",
       "    <tr>\n",
       "      <th>PyTorch</th>\n",
       "      <td>0.01</td>\n",
       "      <td>0.19</td>\n",
       "    </tr>\n",
       "    <tr>\n",
       "      <th>Azure</th>\n",
       "      <td>0.02</td>\n",
       "      <td>0.15</td>\n",
       "    </tr>\n",
       "    <tr>\n",
       "      <th>Java</th>\n",
       "      <td>0.04</td>\n",
       "      <td>0.14</td>\n",
       "    </tr>\n",
       "  </tbody>\n",
       "</table>\n",
       "</div>"
      ],
      "text/plain": [
       "            2019  2023\n",
       "Python      0.14  0.78\n",
       "SQL         0.10  0.52\n",
       "R           0.10  0.41\n",
       "TensorFlow  0.03  0.21\n",
       "AWS         0.04  0.21\n",
       "Tableau     0.04  0.20\n",
       "Spark       0.05  0.20\n",
       "PyTorch     0.01  0.19\n",
       "Azure       0.02  0.15\n",
       "Java        0.04  0.14"
      ]
     },
     "execution_count": 76,
     "metadata": {},
     "output_type": "execute_result"
    }
   ],
   "source": [
    "df_10 = df_combo.iloc[:10]\n",
    "df_10"
   ]
  },
  {
   "cell_type": "code",
   "execution_count": 77,
   "id": "b8a1bac1e067005b",
   "metadata": {
    "ExecuteTime": {
     "end_time": "2023-10-06T08:21:22.952239100Z",
     "start_time": "2023-10-06T08:21:22.408533500Z"
    },
    "collapsed": false,
    "jupyter": {
     "outputs_hidden": false
    }
   },
   "outputs": [
    {
     "data": {
      "text/plain": [
       "<Axes: title={'center': 'Most In Demand Data Science Tech Skills'}>"
      ]
     },
     "execution_count": 77,
     "metadata": {},
     "output_type": "execute_result"
    },
    {
     "data": {
      "image/png": "[encoded data removed]",
      "text/plain": [
       "<Figure size 640x480 with 1 Axes>"
      ]
     },
     "metadata": {},
     "output_type": "display_data"
    }
   ],
   "source": [
    "df_10.plot(kind='bar', title='Most In Demand Data Science Tech Skills')"
   ]
  },
  {
   "cell_type": "code",
   "execution_count": 78,
   "id": "6bd5d7843c57b6eb",
   "metadata": {
    "ExecuteTime": {
     "end_time": "2023-10-06T08:21:40.768873100Z",
     "start_time": "2023-10-06T08:21:40.664012900Z"
    },
    "collapsed": false,
    "jupyter": {
     "outputs_hidden": false
    }
   },
   "outputs": [],
   "source": [
    "df_10 = df_10.sort_values(by='2023')\n"
   ]
  },
  {
   "cell_type": "code",
   "execution_count": 79,
   "id": "9b4de827c59d30a",
   "metadata": {
    "ExecuteTime": {
     "end_time": "2023-10-06T08:22:08.682259500Z",
     "start_time": "2023-10-06T08:22:08.540158900Z"
    },
    "collapsed": false,
    "jupyter": {
     "outputs_hidden": false
    }
   },
   "outputs": [
    {
     "data": {
      "application/vnd.plotly.v1+json": {
       "config": {
        "linkText": "Export to plot.ly",
        "plotlyServerURL": "https://plot.ly",
        "showLink": false
       },
       "data": [
        {
         "marker": {
          "color": [
           200,
           183.33333333333334,
           166.66666666666666,
           150,
           133.33333333333331,
           116.66666666666666,
           100,
           83.33333333333333,
           66.66666666666666,
           50
          ],
          "colorscale": [
           [
            0,
            "rgb(0,0,131)"
           ],
           [
            0.2,
            "rgb(0,60,170)"
           ],
           [
            0.4,
            "rgb(5,255,255)"
           ],
           [
            0.6,
            "rgb(255,255,0)"
           ],
           [
            0.8,
            "rgb(250,0,0)"
           ],
           [
            1,
            "rgb(128,0,0)"
           ]
          ]
         },
         "orientation": "h",
         "type": "bar",
         "x": [
          14.053396331486073,
          14.649109734048688,
          18.677220482495198,
          19.611299036383397,
          19.872779394844848,
          21.082846679963005,
          21.297409605746374,
          41.28961379899959,
          52.49311724329111,
          77.89053166344071
         ],
         "y": [
          "Java",
          "Azure",
          "PyTorch",
          "Spark",
          "Tableau",
          "AWS",
          "TensorFlow",
          "R",
          "SQL",
          "Python"
         ]
        }
       ],
       "layout": {
        "height": 500,
        "template": {
         "data": {
          "bar": [
           {
            "error_x": {
             "color": "#2a3f5f"
            },
            "error_y": {
             "color": "#2a3f5f"
            },
            "marker": {
             "line": {
              "color": "#E5ECF6",
              "width": 0.5
             },
             "pattern": {
              "fillmode": "overlay",
              "size": 10,
              "solidity": 0.2
             }
            },
            "type": "bar"
           }
          ],
          "barpolar": [
           {
            "marker": {
             "line": {
              "color": "#E5ECF6",
              "width": 0.5
             },
             "pattern": {
              "fillmode": "overlay",
              "size": 10,
              "solidity": 0.2
             }
            },
            "type": "barpolar"
           }
          ],
          "carpet": [
           {
            "aaxis": {
             "endlinecolor": "#2a3f5f",
             "gridcolor": "white",
             "linecolor": "white",
             "minorgridcolor": "white",
             "startlinecolor": "#2a3f5f"
            },
            "baxis": {
             "endlinecolor": "#2a3f5f",
             "gridcolor": "white",
             "linecolor": "white",
             "minorgridcolor": "white",
             "startlinecolor": "#2a3f5f"
            },
            "type": "carpet"
           }
          ],
          "choropleth": [
           {
            "colorbar": {
             "outlinewidth": 0,
             "ticks": ""
            },
            "type": "choropleth"
           }
          ],
          "contour": [
           {
            "colorbar": {
             "outlinewidth": 0,
             "ticks": ""
            },
            "colorscale": [
             [
              0,
              "#0d0887"
             ],
             [
              0.1111111111111111,
              "#46039f"
             ],
             [
              0.2222222222222222,
              "#7201a8"
             ],
             [
              0.3333333333333333,
              "#9c179e"
             ],
             [
              0.4444444444444444,
              "#bd3786"
             ],
             [
              0.5555555555555556,
              "#d8576b"
             ],
             [
              0.6666666666666666,
              "#ed7953"
             ],
             [
              0.7777777777777778,
              "#fb9f3a"
             ],
             [
              0.8888888888888888,
              "#fdca26"
             ],
             [
              1,
              "#f0f921"
             ]
            ],
            "type": "contour"
           }
          ],
          "contourcarpet": [
           {
            "colorbar": {
             "outlinewidth": 0,
             "ticks": ""
            },
            "type": "contourcarpet"
           }
          ],
          "heatmap": [
           {
            "colorbar": {
             "outlinewidth": 0,
             "ticks": ""
            },
            "colorscale": [
             [
              0,
              "#0d0887"
             ],
             [
              0.1111111111111111,
              "#46039f"
             ],
             [
              0.2222222222222222,
              "#7201a8"
             ],
             [
              0.3333333333333333,
              "#9c179e"
             ],
             [
              0.4444444444444444,
              "#bd3786"
             ],
             [
              0.5555555555555556,
              "#d8576b"
             ],
             [
              0.6666666666666666,
              "#ed7953"
             ],
             [
              0.7777777777777778,
              "#fb9f3a"
             ],
             [
              0.8888888888888888,
              "#fdca26"
             ],
             [
              1,
              "#f0f921"
             ]
            ],
            "type": "heatmap"
           }
          ],
          "heatmapgl": [
           {
            "colorbar": {
             "outlinewidth": 0,
             "ticks": ""
            },
            "colorscale": [
             [
              0,
              "#0d0887"
             ],
             [
              0.1111111111111111,
              "#46039f"
             ],
             [
              0.2222222222222222,
              "#7201a8"
             ],
             [
              0.3333333333333333,
              "#9c179e"
             ],
             [
              0.4444444444444444,
              "#bd3786"
             ],
             [
              0.5555555555555556,
              "#d8576b"
             ],
             [
              0.6666666666666666,
              "#ed7953"
             ],
             [
              0.7777777777777778,
              "#fb9f3a"
             ],
             [
              0.8888888888888888,
              "#fdca26"
             ],
             [
              1,
              "#f0f921"
             ]
            ],
            "type": "heatmapgl"
           }
          ],
          "histogram": [
           {
            "marker": {
             "pattern": {
              "fillmode": "overlay",
              "size": 10,
              "solidity": 0.2
             }
            },
            "type": "histogram"
           }
          ],
          "histogram2d": [
           {
            "colorbar": {
             "outlinewidth": 0,
             "ticks": ""
            },
            "colorscale": [
             [
              0,
              "#0d0887"
             ],
             [
              0.1111111111111111,
              "#46039f"
             ],
             [
              0.2222222222222222,
              "#7201a8"
             ],
             [
              0.3333333333333333,
              "#9c179e"
             ],
             [
              0.4444444444444444,
              "#bd3786"
             ],
             [
              0.5555555555555556,
              "#d8576b"
             ],
             [
              0.6666666666666666,
              "#ed7953"
             ],
             [
              0.7777777777777778,
              "#fb9f3a"
             ],
             [
              0.8888888888888888,
              "#fdca26"
             ],
             [
              1,
              "#f0f921"
             ]
            ],
            "type": "histogram2d"
           }
          ],
          "histogram2dcontour": [
           {
            "colorbar": {
             "outlinewidth": 0,
             "ticks": ""
            },
            "colorscale": [
             [
              0,
              "#0d0887"
             ],
             [
              0.1111111111111111,
              "#46039f"
             ],
             [
              0.2222222222222222,
              "#7201a8"
             ],
             [
              0.3333333333333333,
              "#9c179e"
             ],
             [
              0.4444444444444444,
              "#bd3786"
             ],
             [
              0.5555555555555556,
              "#d8576b"
             ],
             [
              0.6666666666666666,
              "#ed7953"
             ],
             [
              0.7777777777777778,
              "#fb9f3a"
             ],
             [
              0.8888888888888888,
              "#fdca26"
             ],
             [
              1,
              "#f0f921"
             ]
            ],
            "type": "histogram2dcontour"
           }
          ],
          "mesh3d": [
           {
            "colorbar": {
             "outlinewidth": 0,
             "ticks": ""
            },
            "type": "mesh3d"
           }
          ],
          "parcoords": [
           {
            "line": {
             "colorbar": {
              "outlinewidth": 0,
              "ticks": ""
             }
            },
            "type": "parcoords"
           }
          ],
          "pie": [
           {
            "automargin": true,
            "type": "pie"
           }
          ],
          "scatter": [
           {
            "fillpattern": {
             "fillmode": "overlay",
             "size": 10,
             "solidity": 0.2
            },
            "type": "scatter"
           }
          ],
          "scatter3d": [
           {
            "line": {
             "colorbar": {
              "outlinewidth": 0,
              "ticks": ""
             }
            },
            "marker": {
             "colorbar": {
              "outlinewidth": 0,
              "ticks": ""
             }
            },
            "type": "scatter3d"
           }
          ],
          "scattercarpet": [
           {
            "marker": {
             "colorbar": {
              "outlinewidth": 0,
              "ticks": ""
             }
            },
            "type": "scattercarpet"
           }
          ],
          "scattergeo": [
           {
            "marker": {
             "colorbar": {
              "outlinewidth": 0,
              "ticks": ""
             }
            },
            "type": "scattergeo"
           }
          ],
          "scattergl": [
           {
            "marker": {
             "colorbar": {
              "outlinewidth": 0,
              "ticks": ""
             }
            },
            "type": "scattergl"
           }
          ],
          "scattermapbox": [
           {
            "marker": {
             "colorbar": {
              "outlinewidth": 0,
              "ticks": ""
             }
            },
            "type": "scattermapbox"
           }
          ],
          "scatterpolar": [
           {
            "marker": {
             "colorbar": {
              "outlinewidth": 0,
              "ticks": ""
             }
            },
            "type": "scatterpolar"
           }
          ],
          "scatterpolargl": [
           {
            "marker": {
             "colorbar": {
              "outlinewidth": 0,
              "ticks": ""
             }
            },
            "type": "scatterpolargl"
           }
          ],
          "scatterternary": [
           {
            "marker": {
             "colorbar": {
              "outlinewidth": 0,
              "ticks": ""
             }
            },
            "type": "scatterternary"
           }
          ],
          "surface": [
           {
            "colorbar": {
             "outlinewidth": 0,
             "ticks": ""
            },
            "colorscale": [
             [
              0,
              "#0d0887"
             ],
             [
              0.1111111111111111,
              "#46039f"
             ],
             [
              0.2222222222222222,
              "#7201a8"
             ],
             [
              0.3333333333333333,
              "#9c179e"
             ],
             [
              0.4444444444444444,
              "#bd3786"
             ],
             [
              0.5555555555555556,
              "#d8576b"
             ],
             [
              0.6666666666666666,
              "#ed7953"
             ],
             [
              0.7777777777777778,
              "#fb9f3a"
             ],
             [
              0.8888888888888888,
              "#fdca26"
             ],
             [
              1,
              "#f0f921"
             ]
            ],
            "type": "surface"
           }
          ],
          "table": [
           {
            "cells": {
             "fill": {
              "color": "#EBF0F8"
             },
             "line": {
              "color": "white"
             }
            },
            "header": {
             "fill": {
              "color": "#C8D4E3"
             },
             "line": {
              "color": "white"
             }
            },
            "type": "table"
           }
          ]
         },
         "layout": {
          "annotationdefaults": {
           "arrowcolor": "#2a3f5f",
           "arrowhead": 0,
           "arrowwidth": 1
          },
          "autotypenumbers": "strict",
          "coloraxis": {
           "colorbar": {
            "outlinewidth": 0,
            "ticks": ""
           }
          },
          "colorscale": {
           "diverging": [
            [
             0,
             "#8e0152"
            ],
            [
             0.1,
             "#c51b7d"
            ],
            [
             0.2,
             "#de77ae"
            ],
            [
             0.3,
             "#f1b6da"
            ],
            [
             0.4,
             "#fde0ef"
            ],
            [
             0.5,
             "#f7f7f7"
            ],
            [
             0.6,
             "#e6f5d0"
            ],
            [
             0.7,
             "#b8e186"
            ],
            [
             0.8,
             "#7fbc41"
            ],
            [
             0.9,
             "#4d9221"
            ],
            [
             1,
             "#276419"
            ]
           ],
           "sequential": [
            [
             0,
             "#0d0887"
            ],
            [
             0.1111111111111111,
             "#46039f"
            ],
            [
             0.2222222222222222,
             "#7201a8"
            ],
            [
             0.3333333333333333,
             "#9c179e"
            ],
            [
             0.4444444444444444,
             "#bd3786"
            ],
            [
             0.5555555555555556,
             "#d8576b"
            ],
            [
             0.6666666666666666,
             "#ed7953"
            ],
            [
             0.7777777777777778,
             "#fb9f3a"
            ],
            [
             0.8888888888888888,
             "#fdca26"
            ],
            [
             1,
             "#f0f921"
            ]
           ],
           "sequentialminus": [
            [
             0,
             "#0d0887"
            ],
            [
             0.1111111111111111,
             "#46039f"
            ],
            [
             0.2222222222222222,
             "#7201a8"
            ],
            [
             0.3333333333333333,
             "#9c179e"
            ],
            [
             0.4444444444444444,
             "#bd3786"
            ],
            [
             0.5555555555555556,
             "#d8576b"
            ],
            [
             0.6666666666666666,
             "#ed7953"
            ],
            [
             0.7777777777777778,
             "#fb9f3a"
            ],
            [
             0.8888888888888888,
             "#fdca26"
            ],
            [
             1,
             "#f0f921"
            ]
           ]
          },
          "colorway": [
           "#636efa",
           "#EF553B",
           "#00cc96",
           "#ab63fa",
           "#FFA15A",
           "#19d3f3",
           "#FF6692",
           "#B6E880",
           "#FF97FF",
           "#FECB52"
          ],
          "font": {
           "color": "#2a3f5f"
          },
          "geo": {
           "bgcolor": "white",
           "lakecolor": "white",
           "landcolor": "#E5ECF6",
           "showlakes": true,
           "showland": true,
           "subunitcolor": "white"
          },
          "hoverlabel": {
           "align": "left"
          },
          "hovermode": "closest",
          "mapbox": {
           "style": "light"
          },
          "paper_bgcolor": "white",
          "plot_bgcolor": "#E5ECF6",
          "polar": {
           "angularaxis": {
            "gridcolor": "white",
            "linecolor": "white",
            "ticks": ""
           },
           "bgcolor": "#E5ECF6",
           "radialaxis": {
            "gridcolor": "white",
            "linecolor": "white",
            "ticks": ""
           }
          },
          "scene": {
           "xaxis": {
            "backgroundcolor": "#E5ECF6",
            "gridcolor": "white",
            "gridwidth": 2,
            "linecolor": "white",
            "showbackground": true,
            "ticks": "",
            "zerolinecolor": "white"
           },
           "yaxis": {
            "backgroundcolor": "#E5ECF6",
            "gridcolor": "white",
            "gridwidth": 2,
            "linecolor": "white",
            "showbackground": true,
            "ticks": "",
            "zerolinecolor": "white"
           },
           "zaxis": {
            "backgroundcolor": "#E5ECF6",
            "gridcolor": "white",
            "gridwidth": 2,
            "linecolor": "white",
            "showbackground": true,
            "ticks": "",
            "zerolinecolor": "white"
           }
          },
          "shapedefaults": {
           "line": {
            "color": "#2a3f5f"
           }
          },
          "ternary": {
           "aaxis": {
            "gridcolor": "white",
            "linecolor": "white",
            "ticks": ""
           },
           "baxis": {
            "gridcolor": "white",
            "linecolor": "white",
            "ticks": ""
           },
           "bgcolor": "#E5ECF6",
           "caxis": {
            "gridcolor": "white",
            "linecolor": "white",
            "ticks": ""
           }
          },
          "title": {
           "x": 0.05
          },
          "xaxis": {
           "automargin": true,
           "gridcolor": "white",
           "linecolor": "white",
           "ticks": "",
           "title": {
            "standoff": 15
           },
           "zerolinecolor": "white",
           "zerolinewidth": 2
          },
          "yaxis": {
           "automargin": true,
           "gridcolor": "white",
           "linecolor": "white",
           "ticks": "",
           "title": {
            "standoff": 15
           },
           "zerolinecolor": "white",
           "zerolinewidth": 2
          }
         }
        },
        "title": {
         "text": "Technologies in Data Scientist Job Listings 2023",
         "x": 0.5
        },
        "xaxis": {
         "title": {
          "text": "Avg % of Listings"
         }
        },
        "yaxis": {
         "tickmode": "linear",
         "title": {
          "text": "Software"
         }
        }
       }
      },
      "text/html": [
       "<div>                            <div id=\"da4dd117-486d-45dd-8d07-c837410d2139\" class=\"plotly-graph-div\" style=\"height:500px; width:100%;\"></div>            <script type=\"text/javascript\">                require([\"plotly\"], function(Plotly) {                    window.PLOTLYENV=window.PLOTLYENV || {};                                    if (document.getElementById(\"da4dd117-486d-45dd-8d07-c837410d2139\")) {                    Plotly.newPlot(                        \"da4dd117-486d-45dd-8d07-c837410d2139\",                        [{\"marker\":{\"color\":[200.0,183.33333333333334,166.66666666666666,150.0,133.33333333333331,116.66666666666666,100.0,83.33333333333333,66.66666666666666,50.0],\"colorscale\":[[0.0,\"rgb(0,0,131)\"],[0.2,\"rgb(0,60,170)\"],[0.4,\"rgb(5,255,255)\"],[0.6,\"rgb(255,255,0)\"],[0.8,\"rgb(250,0,0)\"],[1.0,\"rgb(128,0,0)\"]]},\"orientation\":\"h\",\"x\":[14.053396331486073,14.649109734048688,18.677220482495198,19.611299036383397,19.872779394844848,21.082846679963005,21.297409605746374,41.28961379899959,52.49311724329111,77.89053166344071],\"y\":[\"Java\",\"Azure\",\"PyTorch\",\"Spark\",\"Tableau\",\"AWS\",\"TensorFlow\",\"R\",\"SQL\",\"Python\"],\"type\":\"bar\"}],                        {\"height\":500,\"template\":{\"data\":{\"barpolar\":[{\"marker\":{\"line\":{\"color\":\"#E5ECF6\",\"width\":0.5},\"pattern\":{\"fillmode\":\"overlay\",\"size\":10,\"solidity\":0.2}},\"type\":\"barpolar\"}],\"bar\":[{\"error_x\":{\"color\":\"#2a3f5f\"},\"error_y\":{\"color\":\"#2a3f5f\"},\"marker\":{\"line\":{\"color\":\"#E5ECF6\",\"width\":0.5},\"pattern\":{\"fillmode\":\"overlay\",\"size\":10,\"solidity\":0.2}},\"type\":\"bar\"}],\"carpet\":[{\"aaxis\":{\"endlinecolor\":\"#2a3f5f\",\"gridcolor\":\"white\",\"linecolor\":\"white\",\"minorgridcolor\":\"white\",\"startlinecolor\":\"#2a3f5f\"},\"baxis\":{\"endlinecolor\":\"#2a3f5f\",\"gridcolor\":\"white\",\"linecolor\":\"white\",\"minorgridcolor\":\"white\",\"startlinecolor\":\"#2a3f5f\"},\"type\":\"carpet\"}],\"choropleth\":[{\"colorbar\":{\"outlinewidth\":0,\"ticks\":\"\"},\"type\":\"choropleth\"}],\"contourcarpet\":[{\"colorbar\":{\"outlinewidth\":0,\"ticks\":\"\"},\"type\":\"contourcarpet\"}],\"contour\":[{\"colorbar\":{\"outlinewidth\":0,\"ticks\":\"\"},\"colorscale\":[[0.0,\"#0d0887\"],[0.1111111111111111,\"#46039f\"],[0.2222222222222222,\"#7201a8\"],[0.3333333333333333,\"#9c179e\"],[0.4444444444444444,\"#bd3786\"],[0.5555555555555556,\"#d8576b\"],[0.6666666666666666,\"#ed7953\"],[0.7777777777777778,\"#fb9f3a\"],[0.8888888888888888,\"#fdca26\"],[1.0,\"#f0f921\"]],\"type\":\"contour\"}],\"heatmapgl\":[{\"colorbar\":{\"outlinewidth\":0,\"ticks\":\"\"},\"colorscale\":[[0.0,\"#0d0887\"],[0.1111111111111111,\"#46039f\"],[0.2222222222222222,\"#7201a8\"],[0.3333333333333333,\"#9c179e\"],[0.4444444444444444,\"#bd3786\"],[0.5555555555555556,\"#d8576b\"],[0.6666666666666666,\"#ed7953\"],[0.7777777777777778,\"#fb9f3a\"],[0.8888888888888888,\"#fdca26\"],[1.0,\"#f0f921\"]],\"type\":\"heatmapgl\"}],\"heatmap\":[{\"colorbar\":{\"outlinewidth\":0,\"ticks\":\"\"},\"colorscale\":[[0.0,\"#0d0887\"],[0.1111111111111111,\"#46039f\"],[0.2222222222222222,\"#7201a8\"],[0.3333333333333333,\"#9c179e\"],[0.4444444444444444,\"#bd3786\"],[0.5555555555555556,\"#d8576b\"],[0.6666666666666666,\"#ed7953\"],[0.7777777777777778,\"#fb9f3a\"],[0.8888888888888888,\"#fdca26\"],[1.0,\"#f0f921\"]],\"type\":\"heatmap\"}],\"histogram2dcontour\":[{\"colorbar\":{\"outlinewidth\":0,\"ticks\":\"\"},\"colorscale\":[[0.0,\"#0d0887\"],[0.1111111111111111,\"#46039f\"],[0.2222222222222222,\"#7201a8\"],[0.3333333333333333,\"#9c179e\"],[0.4444444444444444,\"#bd3786\"],[0.5555555555555556,\"#d8576b\"],[0.6666666666666666,\"#ed7953\"],[0.7777777777777778,\"#fb9f3a\"],[0.8888888888888888,\"#fdca26\"],[1.0,\"#f0f921\"]],\"type\":\"histogram2dcontour\"}],\"histogram2d\":[{\"colorbar\":{\"outlinewidth\":0,\"ticks\":\"\"},\"colorscale\":[[0.0,\"#0d0887\"],[0.1111111111111111,\"#46039f\"],[0.2222222222222222,\"#7201a8\"],[0.3333333333333333,\"#9c179e\"],[0.4444444444444444,\"#bd3786\"],[0.5555555555555556,\"#d8576b\"],[0.6666666666666666,\"#ed7953\"],[0.7777777777777778,\"#fb9f3a\"],[0.8888888888888888,\"#fdca26\"],[1.0,\"#f0f921\"]],\"type\":\"histogram2d\"}],\"histogram\":[{\"marker\":{\"pattern\":{\"fillmode\":\"overlay\",\"size\":10,\"solidity\":0.2}},\"type\":\"histogram\"}],\"mesh3d\":[{\"colorbar\":{\"outlinewidth\":0,\"ticks\":\"\"},\"type\":\"mesh3d\"}],\"parcoords\":[{\"line\":{\"colorbar\":{\"outlinewidth\":0,\"ticks\":\"\"}},\"type\":\"parcoords\"}],\"pie\":[{\"automargin\":true,\"type\":\"pie\"}],\"scatter3d\":[{\"line\":{\"colorbar\":{\"outlinewidth\":0,\"ticks\":\"\"}},\"marker\":{\"colorbar\":{\"outlinewidth\":0,\"ticks\":\"\"}},\"type\":\"scatter3d\"}],\"scattercarpet\":[{\"marker\":{\"colorbar\":{\"outlinewidth\":0,\"ticks\":\"\"}},\"type\":\"scattercarpet\"}],\"scattergeo\":[{\"marker\":{\"colorbar\":{\"outlinewidth\":0,\"ticks\":\"\"}},\"type\":\"scattergeo\"}],\"scattergl\":[{\"marker\":{\"colorbar\":{\"outlinewidth\":0,\"ticks\":\"\"}},\"type\":\"scattergl\"}],\"scattermapbox\":[{\"marker\":{\"colorbar\":{\"outlinewidth\":0,\"ticks\":\"\"}},\"type\":\"scattermapbox\"}],\"scatterpolargl\":[{\"marker\":{\"colorbar\":{\"outlinewidth\":0,\"ticks\":\"\"}},\"type\":\"scatterpolargl\"}],\"scatterpolar\":[{\"marker\":{\"colorbar\":{\"outlinewidth\":0,\"ticks\":\"\"}},\"type\":\"scatterpolar\"}],\"scatter\":[{\"fillpattern\":{\"fillmode\":\"overlay\",\"size\":10,\"solidity\":0.2},\"type\":\"scatter\"}],\"scatterternary\":[{\"marker\":{\"colorbar\":{\"outlinewidth\":0,\"ticks\":\"\"}},\"type\":\"scatterternary\"}],\"surface\":[{\"colorbar\":{\"outlinewidth\":0,\"ticks\":\"\"},\"colorscale\":[[0.0,\"#0d0887\"],[0.1111111111111111,\"#46039f\"],[0.2222222222222222,\"#7201a8\"],[0.3333333333333333,\"#9c179e\"],[0.4444444444444444,\"#bd3786\"],[0.5555555555555556,\"#d8576b\"],[0.6666666666666666,\"#ed7953\"],[0.7777777777777778,\"#fb9f3a\"],[0.8888888888888888,\"#fdca26\"],[1.0,\"#f0f921\"]],\"type\":\"surface\"}],\"table\":[{\"cells\":{\"fill\":{\"color\":\"#EBF0F8\"},\"line\":{\"color\":\"white\"}},\"header\":{\"fill\":{\"color\":\"#C8D4E3\"},\"line\":{\"color\":\"white\"}},\"type\":\"table\"}]},\"layout\":{\"annotationdefaults\":{\"arrowcolor\":\"#2a3f5f\",\"arrowhead\":0,\"arrowwidth\":1},\"autotypenumbers\":\"strict\",\"coloraxis\":{\"colorbar\":{\"outlinewidth\":0,\"ticks\":\"\"}},\"colorscale\":{\"diverging\":[[0,\"#8e0152\"],[0.1,\"#c51b7d\"],[0.2,\"#de77ae\"],[0.3,\"#f1b6da\"],[0.4,\"#fde0ef\"],[0.5,\"#f7f7f7\"],[0.6,\"#e6f5d0\"],[0.7,\"#b8e186\"],[0.8,\"#7fbc41\"],[0.9,\"#4d9221\"],[1,\"#276419\"]],\"sequential\":[[0.0,\"#0d0887\"],[0.1111111111111111,\"#46039f\"],[0.2222222222222222,\"#7201a8\"],[0.3333333333333333,\"#9c179e\"],[0.4444444444444444,\"#bd3786\"],[0.5555555555555556,\"#d8576b\"],[0.6666666666666666,\"#ed7953\"],[0.7777777777777778,\"#fb9f3a\"],[0.8888888888888888,\"#fdca26\"],[1.0,\"#f0f921\"]],\"sequentialminus\":[[0.0,\"#0d0887\"],[0.1111111111111111,\"#46039f\"],[0.2222222222222222,\"#7201a8\"],[0.3333333333333333,\"#9c179e\"],[0.4444444444444444,\"#bd3786\"],[0.5555555555555556,\"#d8576b\"],[0.6666666666666666,\"#ed7953\"],[0.7777777777777778,\"#fb9f3a\"],[0.8888888888888888,\"#fdca26\"],[1.0,\"#f0f921\"]]},\"colorway\":[\"#636efa\",\"#EF553B\",\"#00cc96\",\"#ab63fa\",\"#FFA15A\",\"#19d3f3\",\"#FF6692\",\"#B6E880\",\"#FF97FF\",\"#FECB52\"],\"font\":{\"color\":\"#2a3f5f\"},\"geo\":{\"bgcolor\":\"white\",\"lakecolor\":\"white\",\"landcolor\":\"#E5ECF6\",\"showlakes\":true,\"showland\":true,\"subunitcolor\":\"white\"},\"hoverlabel\":{\"align\":\"left\"},\"hovermode\":\"closest\",\"mapbox\":{\"style\":\"light\"},\"paper_bgcolor\":\"white\",\"plot_bgcolor\":\"#E5ECF6\",\"polar\":{\"angularaxis\":{\"gridcolor\":\"white\",\"linecolor\":\"white\",\"ticks\":\"\"},\"bgcolor\":\"#E5ECF6\",\"radialaxis\":{\"gridcolor\":\"white\",\"linecolor\":\"white\",\"ticks\":\"\"}},\"scene\":{\"xaxis\":{\"backgroundcolor\":\"#E5ECF6\",\"gridcolor\":\"white\",\"gridwidth\":2,\"linecolor\":\"white\",\"showbackground\":true,\"ticks\":\"\",\"zerolinecolor\":\"white\"},\"yaxis\":{\"backgroundcolor\":\"#E5ECF6\",\"gridcolor\":\"white\",\"gridwidth\":2,\"linecolor\":\"white\",\"showbackground\":true,\"ticks\":\"\",\"zerolinecolor\":\"white\"},\"zaxis\":{\"backgroundcolor\":\"#E5ECF6\",\"gridcolor\":\"white\",\"gridwidth\":2,\"linecolor\":\"white\",\"showbackground\":true,\"ticks\":\"\",\"zerolinecolor\":\"white\"}},\"shapedefaults\":{\"line\":{\"color\":\"#2a3f5f\"}},\"ternary\":{\"aaxis\":{\"gridcolor\":\"white\",\"linecolor\":\"white\",\"ticks\":\"\"},\"baxis\":{\"gridcolor\":\"white\",\"linecolor\":\"white\",\"ticks\":\"\"},\"bgcolor\":\"#E5ECF6\",\"caxis\":{\"gridcolor\":\"white\",\"linecolor\":\"white\",\"ticks\":\"\"}},\"title\":{\"x\":0.05},\"xaxis\":{\"automargin\":true,\"gridcolor\":\"white\",\"linecolor\":\"white\",\"ticks\":\"\",\"title\":{\"standoff\":15},\"zerolinecolor\":\"white\",\"zerolinewidth\":2},\"yaxis\":{\"automargin\":true,\"gridcolor\":\"white\",\"linecolor\":\"white\",\"ticks\":\"\",\"title\":{\"standoff\":15},\"zerolinecolor\":\"white\",\"zerolinewidth\":2}}},\"title\":{\"text\":\"Technologies in Data Scientist Job Listings 2023\",\"x\":0.5},\"xaxis\":{\"title\":{\"text\":\"Avg % of Listings\"}},\"yaxis\":{\"tickmode\":\"linear\",\"title\":{\"text\":\"Software\"}}},                        {\"responsive\": true}                    ).then(function(){\n",
       "                            \n",
       "var gd = document.getElementById('da4dd117-486d-45dd-8d07-c837410d2139');\n",
       "var x = new MutationObserver(function (mutations, observer) {{\n",
       "        var display = window.getComputedStyle(gd).display;\n",
       "        if (!display || display === 'none') {{\n",
       "            console.log([gd, 'removed!']);\n",
       "            Plotly.purge(gd);\n",
       "            observer.disconnect();\n",
       "        }}\n",
       "}});\n",
       "\n",
       "// Listen for the removal of the full notebook cells\n",
       "var notebookContainer = gd.closest('#notebook-container');\n",
       "if (notebookContainer) {{\n",
       "    x.observe(notebookContainer, {childList: true});\n",
       "}}\n",
       "\n",
       "// Listen for the clearing of the current output cell\n",
       "var outputEl = gd.closest('.output');\n",
       "if (outputEl) {{\n",
       "    x.observe(outputEl, {childList: true});\n",
       "}}\n",
       "\n",
       "                        })                };                });            </script>        </div>"
      ]
     },
     "metadata": {},
     "output_type": "display_data"
    }
   ],
   "source": [
    "cmax=50\n",
    "cmin=200\n",
    "color_s = np.linspace(cmin, cmax, 10)\n",
    "\n",
    "data = [\n",
    "    go.Bar(\n",
    "        y=df_10.index,          \n",
    "        x=df_10['2023'] * 100,\n",
    "        orientation='h',\n",
    "        marker=dict(\n",
    "            colorscale='Jet',\n",
    "            color=color_s\n",
    "        ),\n",
    "    )\n",
    "]\n",
    "\n",
    "layout = {\n",
    "    'title': 'Technologies in Data Scientist Job Listings 2023',\n",
    "    'yaxis': {'title': 'Software', 'tickmode': 'linear'},\n",
    "    'xaxis': {'title': \"Avg % of Listings\"},\n",
    "    'title_x':0.5,\n",
    "    'height': 500\n",
    "    \n",
    "}\n",
    "\n",
    "fig = go.Figure(data=data, layout=layout)\n",
    "py.iplot(fig)"
   ]
  },
  {
   "cell_type": "markdown",
   "id": "6f237ccf48413efd",
   "metadata": {
    "collapsed": false,
    "jupyter": {
     "outputs_hidden": false
    }
   },
   "source": [
    "Bigger DF with at least 5% of listings average in 2019"
   ]
  },
  {
   "cell_type": "code",
   "execution_count": 96,
   "id": "8beb97f1976a77eb",
   "metadata": {
    "ExecuteTime": {
     "end_time": "2023-10-06T08:28:55.969797300Z",
     "start_time": "2023-10-06T08:28:55.813682200Z"
    },
    "collapsed": false,
    "jupyter": {
     "outputs_hidden": false
    }
   },
   "outputs": [
    {
     "data": {
      "text/html": [
       "<div>\n",
       "<style scoped>\n",
       "    .dataframe tbody tr th:only-of-type {\n",
       "        vertical-align: middle;\n",
       "    }\n",
       "\n",
       "    .dataframe tbody tr th {\n",
       "        vertical-align: top;\n",
       "    }\n",
       "\n",
       "    .dataframe thead th {\n",
       "        text-align: right;\n",
       "    }\n",
       "</style>\n",
       "<table border=\"1\" class=\"dataframe\">\n",
       "  <thead>\n",
       "    <tr style=\"text-align: right;\">\n",
       "      <th></th>\n",
       "      <th>2019</th>\n",
       "      <th>2023</th>\n",
       "    </tr>\n",
       "  </thead>\n",
       "  <tbody>\n",
       "    <tr>\n",
       "      <th>Python</th>\n",
       "      <td>0.14</td>\n",
       "      <td>0.78</td>\n",
       "    </tr>\n",
       "    <tr>\n",
       "      <th>SQL</th>\n",
       "      <td>0.10</td>\n",
       "      <td>0.52</td>\n",
       "    </tr>\n",
       "    <tr>\n",
       "      <th>R</th>\n",
       "      <td>0.10</td>\n",
       "      <td>0.41</td>\n",
       "    </tr>\n",
       "    <tr>\n",
       "      <th>TensorFlow</th>\n",
       "      <td>0.03</td>\n",
       "      <td>0.21</td>\n",
       "    </tr>\n",
       "    <tr>\n",
       "      <th>AWS</th>\n",
       "      <td>0.04</td>\n",
       "      <td>0.21</td>\n",
       "    </tr>\n",
       "    <tr>\n",
       "      <th>Tableau</th>\n",
       "      <td>0.04</td>\n",
       "      <td>0.20</td>\n",
       "    </tr>\n",
       "    <tr>\n",
       "      <th>Spark</th>\n",
       "      <td>0.05</td>\n",
       "      <td>0.20</td>\n",
       "    </tr>\n",
       "    <tr>\n",
       "      <th>PyTorch</th>\n",
       "      <td>0.01</td>\n",
       "      <td>0.19</td>\n",
       "    </tr>\n",
       "    <tr>\n",
       "      <th>Azure</th>\n",
       "      <td>0.02</td>\n",
       "      <td>0.15</td>\n",
       "    </tr>\n",
       "    <tr>\n",
       "      <th>Java</th>\n",
       "      <td>0.04</td>\n",
       "      <td>0.14</td>\n",
       "    </tr>\n",
       "    <tr>\n",
       "      <th>Scikit-learn</th>\n",
       "      <td>0.02</td>\n",
       "      <td>0.12</td>\n",
       "    </tr>\n",
       "    <tr>\n",
       "      <th>Excel</th>\n",
       "      <td>0.02</td>\n",
       "      <td>0.12</td>\n",
       "    </tr>\n",
       "    <tr>\n",
       "      <th>Hadoop</th>\n",
       "      <td>0.05</td>\n",
       "      <td>0.12</td>\n",
       "    </tr>\n",
       "    <tr>\n",
       "      <th>Pandas</th>\n",
       "      <td>0.01</td>\n",
       "      <td>0.11</td>\n",
       "    </tr>\n",
       "    <tr>\n",
       "      <th>SAS</th>\n",
       "      <td>0.03</td>\n",
       "      <td>0.09</td>\n",
       "    </tr>\n",
       "    <tr>\n",
       "      <th>NumPy</th>\n",
       "      <td>0.01</td>\n",
       "      <td>0.08</td>\n",
       "    </tr>\n",
       "    <tr>\n",
       "      <th>Scala</th>\n",
       "      <td>0.03</td>\n",
       "      <td>0.08</td>\n",
       "    </tr>\n",
       "    <tr>\n",
       "      <th>Git</th>\n",
       "      <td>0.01</td>\n",
       "      <td>0.08</td>\n",
       "    </tr>\n",
       "    <tr>\n",
       "      <th>GCP</th>\n",
       "      <td>0.01</td>\n",
       "      <td>0.07</td>\n",
       "    </tr>\n",
       "    <tr>\n",
       "      <th>C</th>\n",
       "      <td>0.02</td>\n",
       "      <td>0.07</td>\n",
       "    </tr>\n",
       "    <tr>\n",
       "      <th>C++</th>\n",
       "      <td>0.03</td>\n",
       "      <td>0.07</td>\n",
       "    </tr>\n",
       "    <tr>\n",
       "      <th>C#</th>\n",
       "      <td>0.01</td>\n",
       "      <td>0.07</td>\n",
       "    </tr>\n",
       "    <tr>\n",
       "      <th>NoSQL</th>\n",
       "      <td>0.02</td>\n",
       "      <td>0.07</td>\n",
       "    </tr>\n",
       "    <tr>\n",
       "      <th>Docker</th>\n",
       "      <td>0.01</td>\n",
       "      <td>0.06</td>\n",
       "    </tr>\n",
       "    <tr>\n",
       "      <th>Databricks</th>\n",
       "      <td>0.00</td>\n",
       "      <td>0.06</td>\n",
       "    </tr>\n",
       "    <tr>\n",
       "      <th>Matlab</th>\n",
       "      <td>0.02</td>\n",
       "      <td>0.06</td>\n",
       "    </tr>\n",
       "    <tr>\n",
       "      <th>Hive</th>\n",
       "      <td>0.03</td>\n",
       "      <td>0.06</td>\n",
       "    </tr>\n",
       "    <tr>\n",
       "      <th>Keras</th>\n",
       "      <td>0.01</td>\n",
       "      <td>0.06</td>\n",
       "    </tr>\n",
       "    <tr>\n",
       "      <th>Kubernetes</th>\n",
       "      <td>0.01</td>\n",
       "      <td>0.05</td>\n",
       "    </tr>\n",
       "    <tr>\n",
       "      <th>Javascript</th>\n",
       "      <td>0.01</td>\n",
       "      <td>0.05</td>\n",
       "    </tr>\n",
       "    <tr>\n",
       "      <th>Linux</th>\n",
       "      <td>0.02</td>\n",
       "      <td>0.05</td>\n",
       "    </tr>\n",
       "  </tbody>\n",
       "</table>\n",
       "</div>"
      ],
      "text/plain": [
       "              2019  2023\n",
       "Python        0.14  0.78\n",
       "SQL           0.10  0.52\n",
       "R             0.10  0.41\n",
       "TensorFlow    0.03  0.21\n",
       "AWS           0.04  0.21\n",
       "Tableau       0.04  0.20\n",
       "Spark         0.05  0.20\n",
       "PyTorch       0.01  0.19\n",
       "Azure         0.02  0.15\n",
       "Java          0.04  0.14\n",
       "Scikit-learn  0.02  0.12\n",
       "Excel         0.02  0.12\n",
       "Hadoop        0.05  0.12\n",
       "Pandas        0.01  0.11\n",
       "SAS           0.03  0.09\n",
       "NumPy         0.01  0.08\n",
       "Scala         0.03  0.08\n",
       "Git           0.01  0.08\n",
       "GCP           0.01  0.07\n",
       "C             0.02  0.07\n",
       "C++           0.03  0.07\n",
       "C#            0.01  0.07\n",
       "NoSQL         0.02  0.07\n",
       "Docker        0.01  0.06\n",
       "Databricks    0.00  0.06\n",
       "Matlab        0.02  0.06\n",
       "Hive          0.03  0.06\n",
       "Keras         0.01  0.06\n",
       "Kubernetes    0.01  0.05\n",
       "Javascript    0.01  0.05\n",
       "Linux         0.02  0.05"
      ]
     },
     "execution_count": 96,
     "metadata": {},
     "output_type": "execute_result"
    }
   ],
   "source": [
    "df_over_five = df_combo[df_combo['2023']>=.05]\n",
    "df_over_five"
   ]
  },
  {
   "cell_type": "markdown",
   "id": "feebff071aa9e25e",
   "metadata": {
    "collapsed": false,
    "jupyter": {
     "outputs_hidden": false
    }
   },
   "source": [
    "2019 Averages Chart"
   ]
  },
  {
   "cell_type": "code",
   "execution_count": 82,
   "id": "8b6c32a71de1a947",
   "metadata": {
    "ExecuteTime": {
     "end_time": "2023-10-06T08:23:36.741758700Z",
     "start_time": "2023-10-06T08:23:36.641106500Z"
    },
    "collapsed": false,
    "jupyter": {
     "outputs_hidden": false
    }
   },
   "outputs": [],
   "source": [
    "df_over_five_g = df_over_five.sort_values(by='2019', ascending=True)\n"
   ]
  },
  {
   "cell_type": "code",
   "execution_count": 83,
   "id": "eb8ec4b3baeac2e1",
   "metadata": {
    "ExecuteTime": {
     "end_time": "2023-10-06T08:23:40.469880Z",
     "start_time": "2023-10-06T08:23:40.348394400Z"
    },
    "collapsed": false,
    "jupyter": {
     "outputs_hidden": false
    }
   },
   "outputs": [
    {
     "data": {
      "application/vnd.plotly.v1+json": {
       "config": {
        "linkText": "Export to plot.ly",
        "plotlyServerURL": "https://plot.ly",
        "showLink": false
       },
       "data": [
        {
         "marker": {
          "color": [
           200,
           194.82758620689654,
           189.6551724137931,
           184.48275862068965,
           179.31034482758622,
           174.13793103448276,
           168.9655172413793,
           163.79310344827587,
           158.6206896551724,
           153.44827586206895,
           148.27586206896552,
           143.10344827586206,
           137.9310344827586,
           132.75862068965517,
           127.58620689655172,
           122.41379310344827,
           117.24137931034483,
           112.06896551724138,
           106.89655172413794,
           101.72413793103448,
           96.55172413793103,
           91.37931034482759,
           86.20689655172413,
           81.03448275862068,
           75.86206896551724,
           70.68965517241378,
           65.51724137931035,
           60.34482758620689,
           55.17241379310343,
           50
          ],
          "colorscale": [
           [
            0,
            "rgb(0,0,131)"
           ],
           [
            0.2,
            "rgb(0,60,170)"
           ],
           [
            0.4,
            "rgb(5,255,255)"
           ],
           [
            0.6,
            "rgb(255,255,0)"
           ],
           [
            0.8,
            "rgb(250,0,0)"
           ],
           [
            1,
            "rgb(128,0,0)"
           ]
          ]
         },
         "orientation": "h",
         "type": "bar",
         "x": [
          0.4149430593446045,
          0.6170585410808619,
          0.637916859510426,
          0.9097692551752188,
          0.9811112627845758,
          0.997598247638579,
          1.0018784974541037,
          1.0720529019314111,
          1.12926607361742,
          1.2044802400782175,
          1.2598394519728378,
          1.647881067041001,
          1.6638394775861955,
          1.6810745032748864,
          1.7368224353791941,
          1.8547809877320494,
          1.8931604969666782,
          2.013441341747368,
          2.507921130789247,
          2.5263173026918553,
          2.5640154696822903,
          2.6518688473151926,
          3.126074119493532,
          3.661036243671995,
          3.733728021933475,
          4.49204119515417,
          4.8109540830293644,
          5.162969323378409,
          9.885796777494763,
          10.005178256008366,
          13.63160459420386
         ],
         "y": [
          "Databricks",
          "GCP",
          "Kubernetes",
          "C#",
          "Javascript",
          "Docker",
          "NumPy",
          "PyTorch",
          "Git",
          "Keras",
          "Pandas",
          "C",
          "Scikit-learn",
          "Linux",
          "NoSQL",
          "Azure",
          "Matlab",
          "Excel",
          "Scala",
          "C++",
          "Hive",
          "TensorFlow",
          "SAS",
          "AWS",
          "Tableau",
          "Java",
          "Hadoop",
          "Spark",
          "SQL",
          "R",
          "Python"
         ]
        }
       ],
       "layout": {
        "height": 700,
        "template": {
         "data": {
          "bar": [
           {
            "error_x": {
             "color": "#2a3f5f"
            },
            "error_y": {
             "color": "#2a3f5f"
            },
            "marker": {
             "line": {
              "color": "#E5ECF6",
              "width": 0.5
             },
             "pattern": {
              "fillmode": "overlay",
              "size": 10,
              "solidity": 0.2
             }
            },
            "type": "bar"
           }
          ],
          "barpolar": [
           {
            "marker": {
             "line": {
              "color": "#E5ECF6",
              "width": 0.5
             },
             "pattern": {
              "fillmode": "overlay",
              "size": 10,
              "solidity": 0.2
             }
            },
            "type": "barpolar"
           }
          ],
          "carpet": [
           {
            "aaxis": {
             "endlinecolor": "#2a3f5f",
             "gridcolor": "white",
             "linecolor": "white",
             "minorgridcolor": "white",
             "startlinecolor": "#2a3f5f"
            },
            "baxis": {
             "endlinecolor": "#2a3f5f",
             "gridcolor": "white",
             "linecolor": "white",
             "minorgridcolor": "white",
             "startlinecolor": "#2a3f5f"
            },
            "type": "carpet"
           }
          ],
          "choropleth": [
           {
            "colorbar": {
             "outlinewidth": 0,
             "ticks": ""
            },
            "type": "choropleth"
           }
          ],
          "contour": [
           {
            "colorbar": {
             "outlinewidth": 0,
             "ticks": ""
            },
            "colorscale": [
             [
              0,
              "#0d0887"
             ],
             [
              0.1111111111111111,
              "#46039f"
             ],
             [
              0.2222222222222222,
              "#7201a8"
             ],
             [
              0.3333333333333333,
              "#9c179e"
             ],
             [
              0.4444444444444444,
              "#bd3786"
             ],
             [
              0.5555555555555556,
              "#d8576b"
             ],
             [
              0.6666666666666666,
              "#ed7953"
             ],
             [
              0.7777777777777778,
              "#fb9f3a"
             ],
             [
              0.8888888888888888,
              "#fdca26"
             ],
             [
              1,
              "#f0f921"
             ]
            ],
            "type": "contour"
           }
          ],
          "contourcarpet": [
           {
            "colorbar": {
             "outlinewidth": 0,
             "ticks": ""
            },
            "type": "contourcarpet"
           }
          ],
          "heatmap": [
           {
            "colorbar": {
             "outlinewidth": 0,
             "ticks": ""
            },
            "colorscale": [
             [
              0,
              "#0d0887"
             ],
             [
              0.1111111111111111,
              "#46039f"
             ],
             [
              0.2222222222222222,
              "#7201a8"
             ],
             [
              0.3333333333333333,
              "#9c179e"
             ],
             [
              0.4444444444444444,
              "#bd3786"
             ],
             [
              0.5555555555555556,
              "#d8576b"
             ],
             [
              0.6666666666666666,
              "#ed7953"
             ],
             [
              0.7777777777777778,
              "#fb9f3a"
             ],
             [
              0.8888888888888888,
              "#fdca26"
             ],
             [
              1,
              "#f0f921"
             ]
            ],
            "type": "heatmap"
           }
          ],
          "heatmapgl": [
           {
            "colorbar": {
             "outlinewidth": 0,
             "ticks": ""
            },
            "colorscale": [
             [
              0,
              "#0d0887"
             ],
             [
              0.1111111111111111,
              "#46039f"
             ],
             [
              0.2222222222222222,
              "#7201a8"
             ],
             [
              0.3333333333333333,
              "#9c179e"
             ],
             [
              0.4444444444444444,
              "#bd3786"
             ],
             [
              0.5555555555555556,
              "#d8576b"
             ],
             [
              0.6666666666666666,
              "#ed7953"
             ],
             [
              0.7777777777777778,
              "#fb9f3a"
             ],
             [
              0.8888888888888888,
              "#fdca26"
             ],
             [
              1,
              "#f0f921"
             ]
            ],
            "type": "heatmapgl"
           }
          ],
          "histogram": [
           {
            "marker": {
             "pattern": {
              "fillmode": "overlay",
              "size": 10,
              "solidity": 0.2
             }
            },
            "type": "histogram"
           }
          ],
          "histogram2d": [
           {
            "colorbar": {
             "outlinewidth": 0,
             "ticks": ""
            },
            "colorscale": [
             [
              0,
              "#0d0887"
             ],
             [
              0.1111111111111111,
              "#46039f"
             ],
             [
              0.2222222222222222,
              "#7201a8"
             ],
             [
              0.3333333333333333,
              "#9c179e"
             ],
             [
              0.4444444444444444,
              "#bd3786"
             ],
             [
              0.5555555555555556,
              "#d8576b"
             ],
             [
              0.6666666666666666,
              "#ed7953"
             ],
             [
              0.7777777777777778,
              "#fb9f3a"
             ],
             [
              0.8888888888888888,
              "#fdca26"
             ],
             [
              1,
              "#f0f921"
             ]
            ],
            "type": "histogram2d"
           }
          ],
          "histogram2dcontour": [
           {
            "colorbar": {
             "outlinewidth": 0,
             "ticks": ""
            },
            "colorscale": [
             [
              0,
              "#0d0887"
             ],
             [
              0.1111111111111111,
              "#46039f"
             ],
             [
              0.2222222222222222,
              "#7201a8"
             ],
             [
              0.3333333333333333,
              "#9c179e"
             ],
             [
              0.4444444444444444,
              "#bd3786"
             ],
             [
              0.5555555555555556,
              "#d8576b"
             ],
             [
              0.6666666666666666,
              "#ed7953"
             ],
             [
              0.7777777777777778,
              "#fb9f3a"
             ],
             [
              0.8888888888888888,
              "#fdca26"
             ],
             [
              1,
              "#f0f921"
             ]
            ],
            "type": "histogram2dcontour"
           }
          ],
          "mesh3d": [
           {
            "colorbar": {
             "outlinewidth": 0,
             "ticks": ""
            },
            "type": "mesh3d"
           }
          ],
          "parcoords": [
           {
            "line": {
             "colorbar": {
              "outlinewidth": 0,
              "ticks": ""
             }
            },
            "type": "parcoords"
           }
          ],
          "pie": [
           {
            "automargin": true,
            "type": "pie"
           }
          ],
          "scatter": [
           {
            "fillpattern": {
             "fillmode": "overlay",
             "size": 10,
             "solidity": 0.2
            },
            "type": "scatter"
           }
          ],
          "scatter3d": [
           {
            "line": {
             "colorbar": {
              "outlinewidth": 0,
              "ticks": ""
             }
            },
            "marker": {
             "colorbar": {
              "outlinewidth": 0,
              "ticks": ""
             }
            },
            "type": "scatter3d"
           }
          ],
          "scattercarpet": [
           {
            "marker": {
             "colorbar": {
              "outlinewidth": 0,
              "ticks": ""
             }
            },
            "type": "scattercarpet"
           }
          ],
          "scattergeo": [
           {
            "marker": {
             "colorbar": {
              "outlinewidth": 0,
              "ticks": ""
             }
            },
            "type": "scattergeo"
           }
          ],
          "scattergl": [
           {
            "marker": {
             "colorbar": {
              "outlinewidth": 0,
              "ticks": ""
             }
            },
            "type": "scattergl"
           }
          ],
          "scattermapbox": [
           {
            "marker": {
             "colorbar": {
              "outlinewidth": 0,
              "ticks": ""
             }
            },
            "type": "scattermapbox"
           }
          ],
          "scatterpolar": [
           {
            "marker": {
             "colorbar": {
              "outlinewidth": 0,
              "ticks": ""
             }
            },
            "type": "scatterpolar"
           }
          ],
          "scatterpolargl": [
           {
            "marker": {
             "colorbar": {
              "outlinewidth": 0,
              "ticks": ""
             }
            },
            "type": "scatterpolargl"
           }
          ],
          "scatterternary": [
           {
            "marker": {
             "colorbar": {
              "outlinewidth": 0,
              "ticks": ""
             }
            },
            "type": "scatterternary"
           }
          ],
          "surface": [
           {
            "colorbar": {
             "outlinewidth": 0,
             "ticks": ""
            },
            "colorscale": [
             [
              0,
              "#0d0887"
             ],
             [
              0.1111111111111111,
              "#46039f"
             ],
             [
              0.2222222222222222,
              "#7201a8"
             ],
             [
              0.3333333333333333,
              "#9c179e"
             ],
             [
              0.4444444444444444,
              "#bd3786"
             ],
             [
              0.5555555555555556,
              "#d8576b"
             ],
             [
              0.6666666666666666,
              "#ed7953"
             ],
             [
              0.7777777777777778,
              "#fb9f3a"
             ],
             [
              0.8888888888888888,
              "#fdca26"
             ],
             [
              1,
              "#f0f921"
             ]
            ],
            "type": "surface"
           }
          ],
          "table": [
           {
            "cells": {
             "fill": {
              "color": "#EBF0F8"
             },
             "line": {
              "color": "white"
             }
            },
            "header": {
             "fill": {
              "color": "#C8D4E3"
             },
             "line": {
              "color": "white"
             }
            },
            "type": "table"
           }
          ]
         },
         "layout": {
          "annotationdefaults": {
           "arrowcolor": "#2a3f5f",
           "arrowhead": 0,
           "arrowwidth": 1
          },
          "autotypenumbers": "strict",
          "coloraxis": {
           "colorbar": {
            "outlinewidth": 0,
            "ticks": ""
           }
          },
          "colorscale": {
           "diverging": [
            [
             0,
             "#8e0152"
            ],
            [
             0.1,
             "#c51b7d"
            ],
            [
             0.2,
             "#de77ae"
            ],
            [
             0.3,
             "#f1b6da"
            ],
            [
             0.4,
             "#fde0ef"
            ],
            [
             0.5,
             "#f7f7f7"
            ],
            [
             0.6,
             "#e6f5d0"
            ],
            [
             0.7,
             "#b8e186"
            ],
            [
             0.8,
             "#7fbc41"
            ],
            [
             0.9,
             "#4d9221"
            ],
            [
             1,
             "#276419"
            ]
           ],
           "sequential": [
            [
             0,
             "#0d0887"
            ],
            [
             0.1111111111111111,
             "#46039f"
            ],
            [
             0.2222222222222222,
             "#7201a8"
            ],
            [
             0.3333333333333333,
             "#9c179e"
            ],
            [
             0.4444444444444444,
             "#bd3786"
            ],
            [
             0.5555555555555556,
             "#d8576b"
            ],
            [
             0.6666666666666666,
             "#ed7953"
            ],
            [
             0.7777777777777778,
             "#fb9f3a"
            ],
            [
             0.8888888888888888,
             "#fdca26"
            ],
            [
             1,
             "#f0f921"
            ]
           ],
           "sequentialminus": [
            [
             0,
             "#0d0887"
            ],
            [
             0.1111111111111111,
             "#46039f"
            ],
            [
             0.2222222222222222,
             "#7201a8"
            ],
            [
             0.3333333333333333,
             "#9c179e"
            ],
            [
             0.4444444444444444,
             "#bd3786"
            ],
            [
             0.5555555555555556,
             "#d8576b"
            ],
            [
             0.6666666666666666,
             "#ed7953"
            ],
            [
             0.7777777777777778,
             "#fb9f3a"
            ],
            [
             0.8888888888888888,
             "#fdca26"
            ],
            [
             1,
             "#f0f921"
            ]
           ]
          },
          "colorway": [
           "#636efa",
           "#EF553B",
           "#00cc96",
           "#ab63fa",
           "#FFA15A",
           "#19d3f3",
           "#FF6692",
           "#B6E880",
           "#FF97FF",
           "#FECB52"
          ],
          "font": {
           "color": "#2a3f5f"
          },
          "geo": {
           "bgcolor": "white",
           "lakecolor": "white",
           "landcolor": "#E5ECF6",
           "showlakes": true,
           "showland": true,
           "subunitcolor": "white"
          },
          "hoverlabel": {
           "align": "left"
          },
          "hovermode": "closest",
          "mapbox": {
           "style": "light"
          },
          "paper_bgcolor": "white",
          "plot_bgcolor": "#E5ECF6",
          "polar": {
           "angularaxis": {
            "gridcolor": "white",
            "linecolor": "white",
            "ticks": ""
           },
           "bgcolor": "#E5ECF6",
           "radialaxis": {
            "gridcolor": "white",
            "linecolor": "white",
            "ticks": ""
           }
          },
          "scene": {
           "xaxis": {
            "backgroundcolor": "#E5ECF6",
            "gridcolor": "white",
            "gridwidth": 2,
            "linecolor": "white",
            "showbackground": true,
            "ticks": "",
            "zerolinecolor": "white"
           },
           "yaxis": {
            "backgroundcolor": "#E5ECF6",
            "gridcolor": "white",
            "gridwidth": 2,
            "linecolor": "white",
            "showbackground": true,
            "ticks": "",
            "zerolinecolor": "white"
           },
           "zaxis": {
            "backgroundcolor": "#E5ECF6",
            "gridcolor": "white",
            "gridwidth": 2,
            "linecolor": "white",
            "showbackground": true,
            "ticks": "",
            "zerolinecolor": "white"
           }
          },
          "shapedefaults": {
           "line": {
            "color": "#2a3f5f"
           }
          },
          "ternary": {
           "aaxis": {
            "gridcolor": "white",
            "linecolor": "white",
            "ticks": ""
           },
           "baxis": {
            "gridcolor": "white",
            "linecolor": "white",
            "ticks": ""
           },
           "bgcolor": "#E5ECF6",
           "caxis": {
            "gridcolor": "white",
            "linecolor": "white",
            "ticks": ""
           }
          },
          "title": {
           "x": 0.05
          },
          "xaxis": {
           "automargin": true,
           "gridcolor": "white",
           "linecolor": "white",
           "ticks": "",
           "title": {
            "standoff": 15
           },
           "zerolinecolor": "white",
           "zerolinewidth": 2
          },
          "yaxis": {
           "automargin": true,
           "gridcolor": "white",
           "linecolor": "white",
           "ticks": "",
           "title": {
            "standoff": 15
           },
           "zerolinecolor": "white",
           "zerolinewidth": 2
          }
         }
        },
        "title": {
         "text": "Technologies in Data Scientist Job Listings 2019",
         "x": 0.5
        },
        "xaxis": {
         "title": {
          "text": "Avg % of Listings"
         }
        },
        "yaxis": {
         "tickmode": "linear"
        }
       }
      },
      "text/html": [
       "<div>                            <div id=\"acd2db28-0546-44ec-abfe-ae3e55a228ec\" class=\"plotly-graph-div\" style=\"height:700px; width:100%;\"></div>            <script type=\"text/javascript\">                require([\"plotly\"], function(Plotly) {                    window.PLOTLYENV=window.PLOTLYENV || {};                                    if (document.getElementById(\"acd2db28-0546-44ec-abfe-ae3e55a228ec\")) {                    Plotly.newPlot(                        \"acd2db28-0546-44ec-abfe-ae3e55a228ec\",                        [{\"marker\":{\"color\":[200.0,194.82758620689654,189.6551724137931,184.48275862068965,179.31034482758622,174.13793103448276,168.9655172413793,163.79310344827587,158.6206896551724,153.44827586206895,148.27586206896552,143.10344827586206,137.9310344827586,132.75862068965517,127.58620689655172,122.41379310344827,117.24137931034483,112.06896551724138,106.89655172413794,101.72413793103448,96.55172413793103,91.37931034482759,86.20689655172413,81.03448275862068,75.86206896551724,70.68965517241378,65.51724137931035,60.34482758620689,55.17241379310343,50.0],\"colorscale\":[[0.0,\"rgb(0,0,131)\"],[0.2,\"rgb(0,60,170)\"],[0.4,\"rgb(5,255,255)\"],[0.6,\"rgb(255,255,0)\"],[0.8,\"rgb(250,0,0)\"],[1.0,\"rgb(128,0,0)\"]]},\"orientation\":\"h\",\"x\":[0.4149430593446045,0.6170585410808619,0.637916859510426,0.9097692551752188,0.9811112627845758,0.997598247638579,1.0018784974541037,1.0720529019314111,1.12926607361742,1.2044802400782175,1.2598394519728378,1.647881067041001,1.6638394775861955,1.6810745032748864,1.7368224353791941,1.8547809877320494,1.8931604969666782,2.013441341747368,2.507921130789247,2.5263173026918553,2.5640154696822903,2.6518688473151926,3.126074119493532,3.661036243671995,3.733728021933475,4.49204119515417,4.8109540830293644,5.162969323378409,9.885796777494763,10.005178256008366,13.63160459420386],\"y\":[\"Databricks\",\"GCP\",\"Kubernetes\",\"C#\",\"Javascript\",\"Docker\",\"NumPy\",\"PyTorch\",\"Git\",\"Keras\",\"Pandas\",\"C\",\"Scikit-learn\",\"Linux\",\"NoSQL\",\"Azure\",\"Matlab\",\"Excel\",\"Scala\",\"C++\",\"Hive\",\"TensorFlow\",\"SAS\",\"AWS\",\"Tableau\",\"Java\",\"Hadoop\",\"Spark\",\"SQL\",\"R\",\"Python\"],\"type\":\"bar\"}],                        {\"height\":700,\"template\":{\"data\":{\"barpolar\":[{\"marker\":{\"line\":{\"color\":\"#E5ECF6\",\"width\":0.5},\"pattern\":{\"fillmode\":\"overlay\",\"size\":10,\"solidity\":0.2}},\"type\":\"barpolar\"}],\"bar\":[{\"error_x\":{\"color\":\"#2a3f5f\"},\"error_y\":{\"color\":\"#2a3f5f\"},\"marker\":{\"line\":{\"color\":\"#E5ECF6\",\"width\":0.5},\"pattern\":{\"fillmode\":\"overlay\",\"size\":10,\"solidity\":0.2}},\"type\":\"bar\"}],\"carpet\":[{\"aaxis\":{\"endlinecolor\":\"#2a3f5f\",\"gridcolor\":\"white\",\"linecolor\":\"white\",\"minorgridcolor\":\"white\",\"startlinecolor\":\"#2a3f5f\"},\"baxis\":{\"endlinecolor\":\"#2a3f5f\",\"gridcolor\":\"white\",\"linecolor\":\"white\",\"minorgridcolor\":\"white\",\"startlinecolor\":\"#2a3f5f\"},\"type\":\"carpet\"}],\"choropleth\":[{\"colorbar\":{\"outlinewidth\":0,\"ticks\":\"\"},\"type\":\"choropleth\"}],\"contourcarpet\":[{\"colorbar\":{\"outlinewidth\":0,\"ticks\":\"\"},\"type\":\"contourcarpet\"}],\"contour\":[{\"colorbar\":{\"outlinewidth\":0,\"ticks\":\"\"},\"colorscale\":[[0.0,\"#0d0887\"],[0.1111111111111111,\"#46039f\"],[0.2222222222222222,\"#7201a8\"],[0.3333333333333333,\"#9c179e\"],[0.4444444444444444,\"#bd3786\"],[0.5555555555555556,\"#d8576b\"],[0.6666666666666666,\"#ed7953\"],[0.7777777777777778,\"#fb9f3a\"],[0.8888888888888888,\"#fdca26\"],[1.0,\"#f0f921\"]],\"type\":\"contour\"}],\"heatmapgl\":[{\"colorbar\":{\"outlinewidth\":0,\"ticks\":\"\"},\"colorscale\":[[0.0,\"#0d0887\"],[0.1111111111111111,\"#46039f\"],[0.2222222222222222,\"#7201a8\"],[0.3333333333333333,\"#9c179e\"],[0.4444444444444444,\"#bd3786\"],[0.5555555555555556,\"#d8576b\"],[0.6666666666666666,\"#ed7953\"],[0.7777777777777778,\"#fb9f3a\"],[0.8888888888888888,\"#fdca26\"],[1.0,\"#f0f921\"]],\"type\":\"heatmapgl\"}],\"heatmap\":[{\"colorbar\":{\"outlinewidth\":0,\"ticks\":\"\"},\"colorscale\":[[0.0,\"#0d0887\"],[0.1111111111111111,\"#46039f\"],[0.2222222222222222,\"#7201a8\"],[0.3333333333333333,\"#9c179e\"],[0.4444444444444444,\"#bd3786\"],[0.5555555555555556,\"#d8576b\"],[0.6666666666666666,\"#ed7953\"],[0.7777777777777778,\"#fb9f3a\"],[0.8888888888888888,\"#fdca26\"],[1.0,\"#f0f921\"]],\"type\":\"heatmap\"}],\"histogram2dcontour\":[{\"colorbar\":{\"outlinewidth\":0,\"ticks\":\"\"},\"colorscale\":[[0.0,\"#0d0887\"],[0.1111111111111111,\"#46039f\"],[0.2222222222222222,\"#7201a8\"],[0.3333333333333333,\"#9c179e\"],[0.4444444444444444,\"#bd3786\"],[0.5555555555555556,\"#d8576b\"],[0.6666666666666666,\"#ed7953\"],[0.7777777777777778,\"#fb9f3a\"],[0.8888888888888888,\"#fdca26\"],[1.0,\"#f0f921\"]],\"type\":\"histogram2dcontour\"}],\"histogram2d\":[{\"colorbar\":{\"outlinewidth\":0,\"ticks\":\"\"},\"colorscale\":[[0.0,\"#0d0887\"],[0.1111111111111111,\"#46039f\"],[0.2222222222222222,\"#7201a8\"],[0.3333333333333333,\"#9c179e\"],[0.4444444444444444,\"#bd3786\"],[0.5555555555555556,\"#d8576b\"],[0.6666666666666666,\"#ed7953\"],[0.7777777777777778,\"#fb9f3a\"],[0.8888888888888888,\"#fdca26\"],[1.0,\"#f0f921\"]],\"type\":\"histogram2d\"}],\"histogram\":[{\"marker\":{\"pattern\":{\"fillmode\":\"overlay\",\"size\":10,\"solidity\":0.2}},\"type\":\"histogram\"}],\"mesh3d\":[{\"colorbar\":{\"outlinewidth\":0,\"ticks\":\"\"},\"type\":\"mesh3d\"}],\"parcoords\":[{\"line\":{\"colorbar\":{\"outlinewidth\":0,\"ticks\":\"\"}},\"type\":\"parcoords\"}],\"pie\":[{\"automargin\":true,\"type\":\"pie\"}],\"scatter3d\":[{\"line\":{\"colorbar\":{\"outlinewidth\":0,\"ticks\":\"\"}},\"marker\":{\"colorbar\":{\"outlinewidth\":0,\"ticks\":\"\"}},\"type\":\"scatter3d\"}],\"scattercarpet\":[{\"marker\":{\"colorbar\":{\"outlinewidth\":0,\"ticks\":\"\"}},\"type\":\"scattercarpet\"}],\"scattergeo\":[{\"marker\":{\"colorbar\":{\"outlinewidth\":0,\"ticks\":\"\"}},\"type\":\"scattergeo\"}],\"scattergl\":[{\"marker\":{\"colorbar\":{\"outlinewidth\":0,\"ticks\":\"\"}},\"type\":\"scattergl\"}],\"scattermapbox\":[{\"marker\":{\"colorbar\":{\"outlinewidth\":0,\"ticks\":\"\"}},\"type\":\"scattermapbox\"}],\"scatterpolargl\":[{\"marker\":{\"colorbar\":{\"outlinewidth\":0,\"ticks\":\"\"}},\"type\":\"scatterpolargl\"}],\"scatterpolar\":[{\"marker\":{\"colorbar\":{\"outlinewidth\":0,\"ticks\":\"\"}},\"type\":\"scatterpolar\"}],\"scatter\":[{\"fillpattern\":{\"fillmode\":\"overlay\",\"size\":10,\"solidity\":0.2},\"type\":\"scatter\"}],\"scatterternary\":[{\"marker\":{\"colorbar\":{\"outlinewidth\":0,\"ticks\":\"\"}},\"type\":\"scatterternary\"}],\"surface\":[{\"colorbar\":{\"outlinewidth\":0,\"ticks\":\"\"},\"colorscale\":[[0.0,\"#0d0887\"],[0.1111111111111111,\"#46039f\"],[0.2222222222222222,\"#7201a8\"],[0.3333333333333333,\"#9c179e\"],[0.4444444444444444,\"#bd3786\"],[0.5555555555555556,\"#d8576b\"],[0.6666666666666666,\"#ed7953\"],[0.7777777777777778,\"#fb9f3a\"],[0.8888888888888888,\"#fdca26\"],[1.0,\"#f0f921\"]],\"type\":\"surface\"}],\"table\":[{\"cells\":{\"fill\":{\"color\":\"#EBF0F8\"},\"line\":{\"color\":\"white\"}},\"header\":{\"fill\":{\"color\":\"#C8D4E3\"},\"line\":{\"color\":\"white\"}},\"type\":\"table\"}]},\"layout\":{\"annotationdefaults\":{\"arrowcolor\":\"#2a3f5f\",\"arrowhead\":0,\"arrowwidth\":1},\"autotypenumbers\":\"strict\",\"coloraxis\":{\"colorbar\":{\"outlinewidth\":0,\"ticks\":\"\"}},\"colorscale\":{\"diverging\":[[0,\"#8e0152\"],[0.1,\"#c51b7d\"],[0.2,\"#de77ae\"],[0.3,\"#f1b6da\"],[0.4,\"#fde0ef\"],[0.5,\"#f7f7f7\"],[0.6,\"#e6f5d0\"],[0.7,\"#b8e186\"],[0.8,\"#7fbc41\"],[0.9,\"#4d9221\"],[1,\"#276419\"]],\"sequential\":[[0.0,\"#0d0887\"],[0.1111111111111111,\"#46039f\"],[0.2222222222222222,\"#7201a8\"],[0.3333333333333333,\"#9c179e\"],[0.4444444444444444,\"#bd3786\"],[0.5555555555555556,\"#d8576b\"],[0.6666666666666666,\"#ed7953\"],[0.7777777777777778,\"#fb9f3a\"],[0.8888888888888888,\"#fdca26\"],[1.0,\"#f0f921\"]],\"sequentialminus\":[[0.0,\"#0d0887\"],[0.1111111111111111,\"#46039f\"],[0.2222222222222222,\"#7201a8\"],[0.3333333333333333,\"#9c179e\"],[0.4444444444444444,\"#bd3786\"],[0.5555555555555556,\"#d8576b\"],[0.6666666666666666,\"#ed7953\"],[0.7777777777777778,\"#fb9f3a\"],[0.8888888888888888,\"#fdca26\"],[1.0,\"#f0f921\"]]},\"colorway\":[\"#636efa\",\"#EF553B\",\"#00cc96\",\"#ab63fa\",\"#FFA15A\",\"#19d3f3\",\"#FF6692\",\"#B6E880\",\"#FF97FF\",\"#FECB52\"],\"font\":{\"color\":\"#2a3f5f\"},\"geo\":{\"bgcolor\":\"white\",\"lakecolor\":\"white\",\"landcolor\":\"#E5ECF6\",\"showlakes\":true,\"showland\":true,\"subunitcolor\":\"white\"},\"hoverlabel\":{\"align\":\"left\"},\"hovermode\":\"closest\",\"mapbox\":{\"style\":\"light\"},\"paper_bgcolor\":\"white\",\"plot_bgcolor\":\"#E5ECF6\",\"polar\":{\"angularaxis\":{\"gridcolor\":\"white\",\"linecolor\":\"white\",\"ticks\":\"\"},\"bgcolor\":\"#E5ECF6\",\"radialaxis\":{\"gridcolor\":\"white\",\"linecolor\":\"white\",\"ticks\":\"\"}},\"scene\":{\"xaxis\":{\"backgroundcolor\":\"#E5ECF6\",\"gridcolor\":\"white\",\"gridwidth\":2,\"linecolor\":\"white\",\"showbackground\":true,\"ticks\":\"\",\"zerolinecolor\":\"white\"},\"yaxis\":{\"backgroundcolor\":\"#E5ECF6\",\"gridcolor\":\"white\",\"gridwidth\":2,\"linecolor\":\"white\",\"showbackground\":true,\"ticks\":\"\",\"zerolinecolor\":\"white\"},\"zaxis\":{\"backgroundcolor\":\"#E5ECF6\",\"gridcolor\":\"white\",\"gridwidth\":2,\"linecolor\":\"white\",\"showbackground\":true,\"ticks\":\"\",\"zerolinecolor\":\"white\"}},\"shapedefaults\":{\"line\":{\"color\":\"#2a3f5f\"}},\"ternary\":{\"aaxis\":{\"gridcolor\":\"white\",\"linecolor\":\"white\",\"ticks\":\"\"},\"baxis\":{\"gridcolor\":\"white\",\"linecolor\":\"white\",\"ticks\":\"\"},\"bgcolor\":\"#E5ECF6\",\"caxis\":{\"gridcolor\":\"white\",\"linecolor\":\"white\",\"ticks\":\"\"}},\"title\":{\"x\":0.05},\"xaxis\":{\"automargin\":true,\"gridcolor\":\"white\",\"linecolor\":\"white\",\"ticks\":\"\",\"title\":{\"standoff\":15},\"zerolinecolor\":\"white\",\"zerolinewidth\":2},\"yaxis\":{\"automargin\":true,\"gridcolor\":\"white\",\"linecolor\":\"white\",\"ticks\":\"\",\"title\":{\"standoff\":15},\"zerolinecolor\":\"white\",\"zerolinewidth\":2}}},\"title\":{\"text\":\"Technologies in Data Scientist Job Listings 2019\",\"x\":0.5},\"xaxis\":{\"title\":{\"text\":\"Avg % of Listings\"}},\"yaxis\":{\"tickmode\":\"linear\"}},                        {\"responsive\": true}                    ).then(function(){\n",
       "                            \n",
       "var gd = document.getElementById('acd2db28-0546-44ec-abfe-ae3e55a228ec');\n",
       "var x = new MutationObserver(function (mutations, observer) {{\n",
       "        var display = window.getComputedStyle(gd).display;\n",
       "        if (!display || display === 'none') {{\n",
       "            console.log([gd, 'removed!']);\n",
       "            Plotly.purge(gd);\n",
       "            observer.disconnect();\n",
       "        }}\n",
       "}});\n",
       "\n",
       "// Listen for the removal of the full notebook cells\n",
       "var notebookContainer = gd.closest('#notebook-container');\n",
       "if (notebookContainer) {{\n",
       "    x.observe(notebookContainer, {childList: true});\n",
       "}}\n",
       "\n",
       "// Listen for the clearing of the current output cell\n",
       "var outputEl = gd.closest('.output');\n",
       "if (outputEl) {{\n",
       "    x.observe(outputEl, {childList: true});\n",
       "}}\n",
       "\n",
       "                        })                };                });            </script>        </div>"
      ]
     },
     "metadata": {},
     "output_type": "display_data"
    }
   ],
   "source": [
    "cmax=50\n",
    "cmin=200\n",
    "color_s = np.linspace(cmin, cmax, 30)\n",
    "\n",
    "data = [\n",
    "    go.Bar(\n",
    "        y=df_over_five_g.index,          \n",
    "        x=df_over_five_g['2019']*100,\n",
    "        orientation='h',\n",
    "        marker=dict(\n",
    "            colorscale='Jet',\n",
    "            color=color_s\n",
    "        ),\n",
    "    )\n",
    "]\n",
    "\n",
    "layout = {\n",
    "    'title': 'Technologies in Data Scientist Job Listings 2019',\n",
    "    'xaxis': {'title': 'Avg % of Listings', },\n",
    "    'yaxis': {'tickmode': 'linear'},\n",
    "    'title_x':0.5,\n",
    "    'height': 700\n",
    "    \n",
    "}\n",
    "\n",
    "fig = go.Figure(data=data, layout=layout)\n",
    "py.iplot(fig)"
   ]
  },
  {
   "cell_type": "markdown",
   "id": "f93bbf5787fe777b",
   "metadata": {
    "collapsed": false,
    "jupyter": {
     "outputs_hidden": false
    }
   },
   "source": [
    "2023 Averages Chart"
   ]
  },
  {
   "cell_type": "code",
   "execution_count": 84,
   "id": "8c9b96302e51ee7b",
   "metadata": {
    "ExecuteTime": {
     "end_time": "2023-10-06T08:24:17.377141Z",
     "start_time": "2023-10-06T08:24:17.246464400Z"
    },
    "collapsed": false,
    "jupyter": {
     "outputs_hidden": false
    }
   },
   "outputs": [],
   "source": [
    "df_over_five_g = df_over_five.sort_values(by='2023', ascending=True)"
   ]
  },
  {
   "cell_type": "code",
   "execution_count": 85,
   "id": "d0d22945a434a292",
   "metadata": {
    "ExecuteTime": {
     "end_time": "2023-10-06T08:24:27.646097900Z",
     "start_time": "2023-10-06T08:24:27.515379600Z"
    },
    "collapsed": false,
    "jupyter": {
     "outputs_hidden": false
    }
   },
   "outputs": [
    {
     "data": {
      "application/vnd.plotly.v1+json": {
       "config": {
        "linkText": "Export to plot.ly",
        "plotlyServerURL": "https://plot.ly",
        "showLink": false
       },
       "data": [
        {
         "marker": {
          "color": [
           200,
           194.82758620689654,
           189.6551724137931,
           184.48275862068965,
           179.31034482758622,
           174.13793103448276,
           168.9655172413793,
           163.79310344827587,
           158.6206896551724,
           153.44827586206895,
           148.27586206896552,
           143.10344827586206,
           137.9310344827586,
           132.75862068965517,
           127.58620689655172,
           122.41379310344827,
           117.24137931034483,
           112.06896551724138,
           106.89655172413794,
           101.72413793103448,
           96.55172413793103,
           91.37931034482759,
           86.20689655172413,
           81.03448275862068,
           75.86206896551724,
           70.68965517241378,
           65.51724137931035,
           60.34482758620689,
           55.17241379310343,
           50
          ],
          "colorscale": [
           [
            0,
            "rgb(0,0,131)"
           ],
           [
            0.2,
            "rgb(0,60,170)"
           ],
           [
            0.4,
            "rgb(5,255,255)"
           ],
           [
            0.6,
            "rgb(255,255,0)"
           ],
           [
            0.8,
            "rgb(250,0,0)"
           ],
           [
            1,
            "rgb(128,0,0)"
           ]
          ]
         },
         "orientation": "h",
         "type": "bar",
         "x": [
          1.6810745032748864,
          0.9811112627845758,
          0.637916859510426,
          1.2044802400782175,
          2.5640154696822903,
          1.8931604969666782,
          0.4149430593446045,
          0.997598247638579,
          1.7368224353791941,
          0.9097692551752188,
          2.5263173026918553,
          1.647881067041001,
          0.6170585410808619,
          1.12926607361742,
          2.507921130789247,
          1.0018784974541037,
          3.126074119493532,
          1.2598394519728378,
          4.8109540830293644,
          2.013441341747368,
          1.6638394775861955,
          4.49204119515417,
          1.8547809877320494,
          1.0720529019314111,
          5.162969323378409,
          3.733728021933475,
          3.661036243671995,
          2.6518688473151926,
          10.005178256008366,
          9.885796777494763,
          13.63160459420386
         ],
         "y": [
          "Linux",
          "Javascript",
          "Kubernetes",
          "Keras",
          "Hive",
          "Matlab",
          "Databricks",
          "Docker",
          "NoSQL",
          "C#",
          "C++",
          "C",
          "GCP",
          "Git",
          "Scala",
          "NumPy",
          "SAS",
          "Pandas",
          "Hadoop",
          "Excel",
          "Scikit-learn",
          "Java",
          "Azure",
          "PyTorch",
          "Spark",
          "Tableau",
          "AWS",
          "TensorFlow",
          "R",
          "SQL",
          "Python"
         ]
        }
       ],
       "layout": {
        "height": 700,
        "template": {
         "data": {
          "bar": [
           {
            "error_x": {
             "color": "#2a3f5f"
            },
            "error_y": {
             "color": "#2a3f5f"
            },
            "marker": {
             "line": {
              "color": "#E5ECF6",
              "width": 0.5
             },
             "pattern": {
              "fillmode": "overlay",
              "size": 10,
              "solidity": 0.2
             }
            },
            "type": "bar"
           }
          ],
          "barpolar": [
           {
            "marker": {
             "line": {
              "color": "#E5ECF6",
              "width": 0.5
             },
             "pattern": {
              "fillmode": "overlay",
              "size": 10,
              "solidity": 0.2
             }
            },
            "type": "barpolar"
           }
          ],
          "carpet": [
           {
            "aaxis": {
             "endlinecolor": "#2a3f5f",
             "gridcolor": "white",
             "linecolor": "white",
             "minorgridcolor": "white",
             "startlinecolor": "#2a3f5f"
            },
            "baxis": {
             "endlinecolor": "#2a3f5f",
             "gridcolor": "white",
             "linecolor": "white",
             "minorgridcolor": "white",
             "startlinecolor": "#2a3f5f"
            },
            "type": "carpet"
           }
          ],
          "choropleth": [
           {
            "colorbar": {
             "outlinewidth": 0,
             "ticks": ""
            },
            "type": "choropleth"
           }
          ],
          "contour": [
           {
            "colorbar": {
             "outlinewidth": 0,
             "ticks": ""
            },
            "colorscale": [
             [
              0,
              "#0d0887"
             ],
             [
              0.1111111111111111,
              "#46039f"
             ],
             [
              0.2222222222222222,
              "#7201a8"
             ],
             [
              0.3333333333333333,
              "#9c179e"
             ],
             [
              0.4444444444444444,
              "#bd3786"
             ],
             [
              0.5555555555555556,
              "#d8576b"
             ],
             [
              0.6666666666666666,
              "#ed7953"
             ],
             [
              0.7777777777777778,
              "#fb9f3a"
             ],
             [
              0.8888888888888888,
              "#fdca26"
             ],
             [
              1,
              "#f0f921"
             ]
            ],
            "type": "contour"
           }
          ],
          "contourcarpet": [
           {
            "colorbar": {
             "outlinewidth": 0,
             "ticks": ""
            },
            "type": "contourcarpet"
           }
          ],
          "heatmap": [
           {
            "colorbar": {
             "outlinewidth": 0,
             "ticks": ""
            },
            "colorscale": [
             [
              0,
              "#0d0887"
             ],
             [
              0.1111111111111111,
              "#46039f"
             ],
             [
              0.2222222222222222,
              "#7201a8"
             ],
             [
              0.3333333333333333,
              "#9c179e"
             ],
             [
              0.4444444444444444,
              "#bd3786"
             ],
             [
              0.5555555555555556,
              "#d8576b"
             ],
             [
              0.6666666666666666,
              "#ed7953"
             ],
             [
              0.7777777777777778,
              "#fb9f3a"
             ],
             [
              0.8888888888888888,
              "#fdca26"
             ],
             [
              1,
              "#f0f921"
             ]
            ],
            "type": "heatmap"
           }
          ],
          "heatmapgl": [
           {
            "colorbar": {
             "outlinewidth": 0,
             "ticks": ""
            },
            "colorscale": [
             [
              0,
              "#0d0887"
             ],
             [
              0.1111111111111111,
              "#46039f"
             ],
             [
              0.2222222222222222,
              "#7201a8"
             ],
             [
              0.3333333333333333,
              "#9c179e"
             ],
             [
              0.4444444444444444,
              "#bd3786"
             ],
             [
              0.5555555555555556,
              "#d8576b"
             ],
             [
              0.6666666666666666,
              "#ed7953"
             ],
             [
              0.7777777777777778,
              "#fb9f3a"
             ],
             [
              0.8888888888888888,
              "#fdca26"
             ],
             [
              1,
              "#f0f921"
             ]
            ],
            "type": "heatmapgl"
           }
          ],
          "histogram": [
           {
            "marker": {
             "pattern": {
              "fillmode": "overlay",
              "size": 10,
              "solidity": 0.2
             }
            },
            "type": "histogram"
           }
          ],
          "histogram2d": [
           {
            "colorbar": {
             "outlinewidth": 0,
             "ticks": ""
            },
            "colorscale": [
             [
              0,
              "#0d0887"
             ],
             [
              0.1111111111111111,
              "#46039f"
             ],
             [
              0.2222222222222222,
              "#7201a8"
             ],
             [
              0.3333333333333333,
              "#9c179e"
             ],
             [
              0.4444444444444444,
              "#bd3786"
             ],
             [
              0.5555555555555556,
              "#d8576b"
             ],
             [
              0.6666666666666666,
              "#ed7953"
             ],
             [
              0.7777777777777778,
              "#fb9f3a"
             ],
             [
              0.8888888888888888,
              "#fdca26"
             ],
             [
              1,
              "#f0f921"
             ]
            ],
            "type": "histogram2d"
           }
          ],
          "histogram2dcontour": [
           {
            "colorbar": {
             "outlinewidth": 0,
             "ticks": ""
            },
            "colorscale": [
             [
              0,
              "#0d0887"
             ],
             [
              0.1111111111111111,
              "#46039f"
             ],
             [
              0.2222222222222222,
              "#7201a8"
             ],
             [
              0.3333333333333333,
              "#9c179e"
             ],
             [
              0.4444444444444444,
              "#bd3786"
             ],
             [
              0.5555555555555556,
              "#d8576b"
             ],
             [
              0.6666666666666666,
              "#ed7953"
             ],
             [
              0.7777777777777778,
              "#fb9f3a"
             ],
             [
              0.8888888888888888,
              "#fdca26"
             ],
             [
              1,
              "#f0f921"
             ]
            ],
            "type": "histogram2dcontour"
           }
          ],
          "mesh3d": [
           {
            "colorbar": {
             "outlinewidth": 0,
             "ticks": ""
            },
            "type": "mesh3d"
           }
          ],
          "parcoords": [
           {
            "line": {
             "colorbar": {
              "outlinewidth": 0,
              "ticks": ""
             }
            },
            "type": "parcoords"
           }
          ],
          "pie": [
           {
            "automargin": true,
            "type": "pie"
           }
          ],
          "scatter": [
           {
            "fillpattern": {
             "fillmode": "overlay",
             "size": 10,
             "solidity": 0.2
            },
            "type": "scatter"
           }
          ],
          "scatter3d": [
           {
            "line": {
             "colorbar": {
              "outlinewidth": 0,
              "ticks": ""
             }
            },
            "marker": {
             "colorbar": {
              "outlinewidth": 0,
              "ticks": ""
             }
            },
            "type": "scatter3d"
           }
          ],
          "scattercarpet": [
           {
            "marker": {
             "colorbar": {
              "outlinewidth": 0,
              "ticks": ""
             }
            },
            "type": "scattercarpet"
           }
          ],
          "scattergeo": [
           {
            "marker": {
             "colorbar": {
              "outlinewidth": 0,
              "ticks": ""
             }
            },
            "type": "scattergeo"
           }
          ],
          "scattergl": [
           {
            "marker": {
             "colorbar": {
              "outlinewidth": 0,
              "ticks": ""
             }
            },
            "type": "scattergl"
           }
          ],
          "scattermapbox": [
           {
            "marker": {
             "colorbar": {
              "outlinewidth": 0,
              "ticks": ""
             }
            },
            "type": "scattermapbox"
           }
          ],
          "scatterpolar": [
           {
            "marker": {
             "colorbar": {
              "outlinewidth": 0,
              "ticks": ""
             }
            },
            "type": "scatterpolar"
           }
          ],
          "scatterpolargl": [
           {
            "marker": {
             "colorbar": {
              "outlinewidth": 0,
              "ticks": ""
             }
            },
            "type": "scatterpolargl"
           }
          ],
          "scatterternary": [
           {
            "marker": {
             "colorbar": {
              "outlinewidth": 0,
              "ticks": ""
             }
            },
            "type": "scatterternary"
           }
          ],
          "surface": [
           {
            "colorbar": {
             "outlinewidth": 0,
             "ticks": ""
            },
            "colorscale": [
             [
              0,
              "#0d0887"
             ],
             [
              0.1111111111111111,
              "#46039f"
             ],
             [
              0.2222222222222222,
              "#7201a8"
             ],
             [
              0.3333333333333333,
              "#9c179e"
             ],
             [
              0.4444444444444444,
              "#bd3786"
             ],
             [
              0.5555555555555556,
              "#d8576b"
             ],
             [
              0.6666666666666666,
              "#ed7953"
             ],
             [
              0.7777777777777778,
              "#fb9f3a"
             ],
             [
              0.8888888888888888,
              "#fdca26"
             ],
             [
              1,
              "#f0f921"
             ]
            ],
            "type": "surface"
           }
          ],
          "table": [
           {
            "cells": {
             "fill": {
              "color": "#EBF0F8"
             },
             "line": {
              "color": "white"
             }
            },
            "header": {
             "fill": {
              "color": "#C8D4E3"
             },
             "line": {
              "color": "white"
             }
            },
            "type": "table"
           }
          ]
         },
         "layout": {
          "annotationdefaults": {
           "arrowcolor": "#2a3f5f",
           "arrowhead": 0,
           "arrowwidth": 1
          },
          "autotypenumbers": "strict",
          "coloraxis": {
           "colorbar": {
            "outlinewidth": 0,
            "ticks": ""
           }
          },
          "colorscale": {
           "diverging": [
            [
             0,
             "#8e0152"
            ],
            [
             0.1,
             "#c51b7d"
            ],
            [
             0.2,
             "#de77ae"
            ],
            [
             0.3,
             "#f1b6da"
            ],
            [
             0.4,
             "#fde0ef"
            ],
            [
             0.5,
             "#f7f7f7"
            ],
            [
             0.6,
             "#e6f5d0"
            ],
            [
             0.7,
             "#b8e186"
            ],
            [
             0.8,
             "#7fbc41"
            ],
            [
             0.9,
             "#4d9221"
            ],
            [
             1,
             "#276419"
            ]
           ],
           "sequential": [
            [
             0,
             "#0d0887"
            ],
            [
             0.1111111111111111,
             "#46039f"
            ],
            [
             0.2222222222222222,
             "#7201a8"
            ],
            [
             0.3333333333333333,
             "#9c179e"
            ],
            [
             0.4444444444444444,
             "#bd3786"
            ],
            [
             0.5555555555555556,
             "#d8576b"
            ],
            [
             0.6666666666666666,
             "#ed7953"
            ],
            [
             0.7777777777777778,
             "#fb9f3a"
            ],
            [
             0.8888888888888888,
             "#fdca26"
            ],
            [
             1,
             "#f0f921"
            ]
           ],
           "sequentialminus": [
            [
             0,
             "#0d0887"
            ],
            [
             0.1111111111111111,
             "#46039f"
            ],
            [
             0.2222222222222222,
             "#7201a8"
            ],
            [
             0.3333333333333333,
             "#9c179e"
            ],
            [
             0.4444444444444444,
             "#bd3786"
            ],
            [
             0.5555555555555556,
             "#d8576b"
            ],
            [
             0.6666666666666666,
             "#ed7953"
            ],
            [
             0.7777777777777778,
             "#fb9f3a"
            ],
            [
             0.8888888888888888,
             "#fdca26"
            ],
            [
             1,
             "#f0f921"
            ]
           ]
          },
          "colorway": [
           "#636efa",
           "#EF553B",
           "#00cc96",
           "#ab63fa",
           "#FFA15A",
           "#19d3f3",
           "#FF6692",
           "#B6E880",
           "#FF97FF",
           "#FECB52"
          ],
          "font": {
           "color": "#2a3f5f"
          },
          "geo": {
           "bgcolor": "white",
           "lakecolor": "white",
           "landcolor": "#E5ECF6",
           "showlakes": true,
           "showland": true,
           "subunitcolor": "white"
          },
          "hoverlabel": {
           "align": "left"
          },
          "hovermode": "closest",
          "mapbox": {
           "style": "light"
          },
          "paper_bgcolor": "white",
          "plot_bgcolor": "#E5ECF6",
          "polar": {
           "angularaxis": {
            "gridcolor": "white",
            "linecolor": "white",
            "ticks": ""
           },
           "bgcolor": "#E5ECF6",
           "radialaxis": {
            "gridcolor": "white",
            "linecolor": "white",
            "ticks": ""
           }
          },
          "scene": {
           "xaxis": {
            "backgroundcolor": "#E5ECF6",
            "gridcolor": "white",
            "gridwidth": 2,
            "linecolor": "white",
            "showbackground": true,
            "ticks": "",
            "zerolinecolor": "white"
           },
           "yaxis": {
            "backgroundcolor": "#E5ECF6",
            "gridcolor": "white",
            "gridwidth": 2,
            "linecolor": "white",
            "showbackground": true,
            "ticks": "",
            "zerolinecolor": "white"
           },
           "zaxis": {
            "backgroundcolor": "#E5ECF6",
            "gridcolor": "white",
            "gridwidth": 2,
            "linecolor": "white",
            "showbackground": true,
            "ticks": "",
            "zerolinecolor": "white"
           }
          },
          "shapedefaults": {
           "line": {
            "color": "#2a3f5f"
           }
          },
          "ternary": {
           "aaxis": {
            "gridcolor": "white",
            "linecolor": "white",
            "ticks": ""
           },
           "baxis": {
            "gridcolor": "white",
            "linecolor": "white",
            "ticks": ""
           },
           "bgcolor": "#E5ECF6",
           "caxis": {
            "gridcolor": "white",
            "linecolor": "white",
            "ticks": ""
           }
          },
          "title": {
           "x": 0.05
          },
          "xaxis": {
           "automargin": true,
           "gridcolor": "white",
           "linecolor": "white",
           "ticks": "",
           "title": {
            "standoff": 15
           },
           "zerolinecolor": "white",
           "zerolinewidth": 2
          },
          "yaxis": {
           "automargin": true,
           "gridcolor": "white",
           "linecolor": "white",
           "ticks": "",
           "title": {
            "standoff": 15
           },
           "zerolinecolor": "white",
           "zerolinewidth": 2
          }
         }
        },
        "title": {
         "text": "Technologies in Data Scientist Job Listings 2019",
         "x": 0.5
        },
        "xaxis": {
         "title": {
          "text": "Avg % of Listings"
         }
        },
        "yaxis": {
         "tickmode": "linear"
        }
       }
      },
      "text/html": [
       "<div>                            <div id=\"db17f03a-af0e-4a5b-bee3-c813b1d95795\" class=\"plotly-graph-div\" style=\"height:700px; width:100%;\"></div>            <script type=\"text/javascript\">                require([\"plotly\"], function(Plotly) {                    window.PLOTLYENV=window.PLOTLYENV || {};                                    if (document.getElementById(\"db17f03a-af0e-4a5b-bee3-c813b1d95795\")) {                    Plotly.newPlot(                        \"db17f03a-af0e-4a5b-bee3-c813b1d95795\",                        [{\"marker\":{\"color\":[200.0,194.82758620689654,189.6551724137931,184.48275862068965,179.31034482758622,174.13793103448276,168.9655172413793,163.79310344827587,158.6206896551724,153.44827586206895,148.27586206896552,143.10344827586206,137.9310344827586,132.75862068965517,127.58620689655172,122.41379310344827,117.24137931034483,112.06896551724138,106.89655172413794,101.72413793103448,96.55172413793103,91.37931034482759,86.20689655172413,81.03448275862068,75.86206896551724,70.68965517241378,65.51724137931035,60.34482758620689,55.17241379310343,50.0],\"colorscale\":[[0.0,\"rgb(0,0,131)\"],[0.2,\"rgb(0,60,170)\"],[0.4,\"rgb(5,255,255)\"],[0.6,\"rgb(255,255,0)\"],[0.8,\"rgb(250,0,0)\"],[1.0,\"rgb(128,0,0)\"]]},\"orientation\":\"h\",\"x\":[1.6810745032748864,0.9811112627845758,0.637916859510426,1.2044802400782175,2.5640154696822903,1.8931604969666782,0.4149430593446045,0.997598247638579,1.7368224353791941,0.9097692551752188,2.5263173026918553,1.647881067041001,0.6170585410808619,1.12926607361742,2.507921130789247,1.0018784974541037,3.126074119493532,1.2598394519728378,4.8109540830293644,2.013441341747368,1.6638394775861955,4.49204119515417,1.8547809877320494,1.0720529019314111,5.162969323378409,3.733728021933475,3.661036243671995,2.6518688473151926,10.005178256008366,9.885796777494763,13.63160459420386],\"y\":[\"Linux\",\"Javascript\",\"Kubernetes\",\"Keras\",\"Hive\",\"Matlab\",\"Databricks\",\"Docker\",\"NoSQL\",\"C#\",\"C++\",\"C\",\"GCP\",\"Git\",\"Scala\",\"NumPy\",\"SAS\",\"Pandas\",\"Hadoop\",\"Excel\",\"Scikit-learn\",\"Java\",\"Azure\",\"PyTorch\",\"Spark\",\"Tableau\",\"AWS\",\"TensorFlow\",\"R\",\"SQL\",\"Python\"],\"type\":\"bar\"}],                        {\"height\":700,\"template\":{\"data\":{\"barpolar\":[{\"marker\":{\"line\":{\"color\":\"#E5ECF6\",\"width\":0.5},\"pattern\":{\"fillmode\":\"overlay\",\"size\":10,\"solidity\":0.2}},\"type\":\"barpolar\"}],\"bar\":[{\"error_x\":{\"color\":\"#2a3f5f\"},\"error_y\":{\"color\":\"#2a3f5f\"},\"marker\":{\"line\":{\"color\":\"#E5ECF6\",\"width\":0.5},\"pattern\":{\"fillmode\":\"overlay\",\"size\":10,\"solidity\":0.2}},\"type\":\"bar\"}],\"carpet\":[{\"aaxis\":{\"endlinecolor\":\"#2a3f5f\",\"gridcolor\":\"white\",\"linecolor\":\"white\",\"minorgridcolor\":\"white\",\"startlinecolor\":\"#2a3f5f\"},\"baxis\":{\"endlinecolor\":\"#2a3f5f\",\"gridcolor\":\"white\",\"linecolor\":\"white\",\"minorgridcolor\":\"white\",\"startlinecolor\":\"#2a3f5f\"},\"type\":\"carpet\"}],\"choropleth\":[{\"colorbar\":{\"outlinewidth\":0,\"ticks\":\"\"},\"type\":\"choropleth\"}],\"contourcarpet\":[{\"colorbar\":{\"outlinewidth\":0,\"ticks\":\"\"},\"type\":\"contourcarpet\"}],\"contour\":[{\"colorbar\":{\"outlinewidth\":0,\"ticks\":\"\"},\"colorscale\":[[0.0,\"#0d0887\"],[0.1111111111111111,\"#46039f\"],[0.2222222222222222,\"#7201a8\"],[0.3333333333333333,\"#9c179e\"],[0.4444444444444444,\"#bd3786\"],[0.5555555555555556,\"#d8576b\"],[0.6666666666666666,\"#ed7953\"],[0.7777777777777778,\"#fb9f3a\"],[0.8888888888888888,\"#fdca26\"],[1.0,\"#f0f921\"]],\"type\":\"contour\"}],\"heatmapgl\":[{\"colorbar\":{\"outlinewidth\":0,\"ticks\":\"\"},\"colorscale\":[[0.0,\"#0d0887\"],[0.1111111111111111,\"#46039f\"],[0.2222222222222222,\"#7201a8\"],[0.3333333333333333,\"#9c179e\"],[0.4444444444444444,\"#bd3786\"],[0.5555555555555556,\"#d8576b\"],[0.6666666666666666,\"#ed7953\"],[0.7777777777777778,\"#fb9f3a\"],[0.8888888888888888,\"#fdca26\"],[1.0,\"#f0f921\"]],\"type\":\"heatmapgl\"}],\"heatmap\":[{\"colorbar\":{\"outlinewidth\":0,\"ticks\":\"\"},\"colorscale\":[[0.0,\"#0d0887\"],[0.1111111111111111,\"#46039f\"],[0.2222222222222222,\"#7201a8\"],[0.3333333333333333,\"#9c179e\"],[0.4444444444444444,\"#bd3786\"],[0.5555555555555556,\"#d8576b\"],[0.6666666666666666,\"#ed7953\"],[0.7777777777777778,\"#fb9f3a\"],[0.8888888888888888,\"#fdca26\"],[1.0,\"#f0f921\"]],\"type\":\"heatmap\"}],\"histogram2dcontour\":[{\"colorbar\":{\"outlinewidth\":0,\"ticks\":\"\"},\"colorscale\":[[0.0,\"#0d0887\"],[0.1111111111111111,\"#46039f\"],[0.2222222222222222,\"#7201a8\"],[0.3333333333333333,\"#9c179e\"],[0.4444444444444444,\"#bd3786\"],[0.5555555555555556,\"#d8576b\"],[0.6666666666666666,\"#ed7953\"],[0.7777777777777778,\"#fb9f3a\"],[0.8888888888888888,\"#fdca26\"],[1.0,\"#f0f921\"]],\"type\":\"histogram2dcontour\"}],\"histogram2d\":[{\"colorbar\":{\"outlinewidth\":0,\"ticks\":\"\"},\"colorscale\":[[0.0,\"#0d0887\"],[0.1111111111111111,\"#46039f\"],[0.2222222222222222,\"#7201a8\"],[0.3333333333333333,\"#9c179e\"],[0.4444444444444444,\"#bd3786\"],[0.5555555555555556,\"#d8576b\"],[0.6666666666666666,\"#ed7953\"],[0.7777777777777778,\"#fb9f3a\"],[0.8888888888888888,\"#fdca26\"],[1.0,\"#f0f921\"]],\"type\":\"histogram2d\"}],\"histogram\":[{\"marker\":{\"pattern\":{\"fillmode\":\"overlay\",\"size\":10,\"solidity\":0.2}},\"type\":\"histogram\"}],\"mesh3d\":[{\"colorbar\":{\"outlinewidth\":0,\"ticks\":\"\"},\"type\":\"mesh3d\"}],\"parcoords\":[{\"line\":{\"colorbar\":{\"outlinewidth\":0,\"ticks\":\"\"}},\"type\":\"parcoords\"}],\"pie\":[{\"automargin\":true,\"type\":\"pie\"}],\"scatter3d\":[{\"line\":{\"colorbar\":{\"outlinewidth\":0,\"ticks\":\"\"}},\"marker\":{\"colorbar\":{\"outlinewidth\":0,\"ticks\":\"\"}},\"type\":\"scatter3d\"}],\"scattercarpet\":[{\"marker\":{\"colorbar\":{\"outlinewidth\":0,\"ticks\":\"\"}},\"type\":\"scattercarpet\"}],\"scattergeo\":[{\"marker\":{\"colorbar\":{\"outlinewidth\":0,\"ticks\":\"\"}},\"type\":\"scattergeo\"}],\"scattergl\":[{\"marker\":{\"colorbar\":{\"outlinewidth\":0,\"ticks\":\"\"}},\"type\":\"scattergl\"}],\"scattermapbox\":[{\"marker\":{\"colorbar\":{\"outlinewidth\":0,\"ticks\":\"\"}},\"type\":\"scattermapbox\"}],\"scatterpolargl\":[{\"marker\":{\"colorbar\":{\"outlinewidth\":0,\"ticks\":\"\"}},\"type\":\"scatterpolargl\"}],\"scatterpolar\":[{\"marker\":{\"colorbar\":{\"outlinewidth\":0,\"ticks\":\"\"}},\"type\":\"scatterpolar\"}],\"scatter\":[{\"fillpattern\":{\"fillmode\":\"overlay\",\"size\":10,\"solidity\":0.2},\"type\":\"scatter\"}],\"scatterternary\":[{\"marker\":{\"colorbar\":{\"outlinewidth\":0,\"ticks\":\"\"}},\"type\":\"scatterternary\"}],\"surface\":[{\"colorbar\":{\"outlinewidth\":0,\"ticks\":\"\"},\"colorscale\":[[0.0,\"#0d0887\"],[0.1111111111111111,\"#46039f\"],[0.2222222222222222,\"#7201a8\"],[0.3333333333333333,\"#9c179e\"],[0.4444444444444444,\"#bd3786\"],[0.5555555555555556,\"#d8576b\"],[0.6666666666666666,\"#ed7953\"],[0.7777777777777778,\"#fb9f3a\"],[0.8888888888888888,\"#fdca26\"],[1.0,\"#f0f921\"]],\"type\":\"surface\"}],\"table\":[{\"cells\":{\"fill\":{\"color\":\"#EBF0F8\"},\"line\":{\"color\":\"white\"}},\"header\":{\"fill\":{\"color\":\"#C8D4E3\"},\"line\":{\"color\":\"white\"}},\"type\":\"table\"}]},\"layout\":{\"annotationdefaults\":{\"arrowcolor\":\"#2a3f5f\",\"arrowhead\":0,\"arrowwidth\":1},\"autotypenumbers\":\"strict\",\"coloraxis\":{\"colorbar\":{\"outlinewidth\":0,\"ticks\":\"\"}},\"colorscale\":{\"diverging\":[[0,\"#8e0152\"],[0.1,\"#c51b7d\"],[0.2,\"#de77ae\"],[0.3,\"#f1b6da\"],[0.4,\"#fde0ef\"],[0.5,\"#f7f7f7\"],[0.6,\"#e6f5d0\"],[0.7,\"#b8e186\"],[0.8,\"#7fbc41\"],[0.9,\"#4d9221\"],[1,\"#276419\"]],\"sequential\":[[0.0,\"#0d0887\"],[0.1111111111111111,\"#46039f\"],[0.2222222222222222,\"#7201a8\"],[0.3333333333333333,\"#9c179e\"],[0.4444444444444444,\"#bd3786\"],[0.5555555555555556,\"#d8576b\"],[0.6666666666666666,\"#ed7953\"],[0.7777777777777778,\"#fb9f3a\"],[0.8888888888888888,\"#fdca26\"],[1.0,\"#f0f921\"]],\"sequentialminus\":[[0.0,\"#0d0887\"],[0.1111111111111111,\"#46039f\"],[0.2222222222222222,\"#7201a8\"],[0.3333333333333333,\"#9c179e\"],[0.4444444444444444,\"#bd3786\"],[0.5555555555555556,\"#d8576b\"],[0.6666666666666666,\"#ed7953\"],[0.7777777777777778,\"#fb9f3a\"],[0.8888888888888888,\"#fdca26\"],[1.0,\"#f0f921\"]]},\"colorway\":[\"#636efa\",\"#EF553B\",\"#00cc96\",\"#ab63fa\",\"#FFA15A\",\"#19d3f3\",\"#FF6692\",\"#B6E880\",\"#FF97FF\",\"#FECB52\"],\"font\":{\"color\":\"#2a3f5f\"},\"geo\":{\"bgcolor\":\"white\",\"lakecolor\":\"white\",\"landcolor\":\"#E5ECF6\",\"showlakes\":true,\"showland\":true,\"subunitcolor\":\"white\"},\"hoverlabel\":{\"align\":\"left\"},\"hovermode\":\"closest\",\"mapbox\":{\"style\":\"light\"},\"paper_bgcolor\":\"white\",\"plot_bgcolor\":\"#E5ECF6\",\"polar\":{\"angularaxis\":{\"gridcolor\":\"white\",\"linecolor\":\"white\",\"ticks\":\"\"},\"bgcolor\":\"#E5ECF6\",\"radialaxis\":{\"gridcolor\":\"white\",\"linecolor\":\"white\",\"ticks\":\"\"}},\"scene\":{\"xaxis\":{\"backgroundcolor\":\"#E5ECF6\",\"gridcolor\":\"white\",\"gridwidth\":2,\"linecolor\":\"white\",\"showbackground\":true,\"ticks\":\"\",\"zerolinecolor\":\"white\"},\"yaxis\":{\"backgroundcolor\":\"#E5ECF6\",\"gridcolor\":\"white\",\"gridwidth\":2,\"linecolor\":\"white\",\"showbackground\":true,\"ticks\":\"\",\"zerolinecolor\":\"white\"},\"zaxis\":{\"backgroundcolor\":\"#E5ECF6\",\"gridcolor\":\"white\",\"gridwidth\":2,\"linecolor\":\"white\",\"showbackground\":true,\"ticks\":\"\",\"zerolinecolor\":\"white\"}},\"shapedefaults\":{\"line\":{\"color\":\"#2a3f5f\"}},\"ternary\":{\"aaxis\":{\"gridcolor\":\"white\",\"linecolor\":\"white\",\"ticks\":\"\"},\"baxis\":{\"gridcolor\":\"white\",\"linecolor\":\"white\",\"ticks\":\"\"},\"bgcolor\":\"#E5ECF6\",\"caxis\":{\"gridcolor\":\"white\",\"linecolor\":\"white\",\"ticks\":\"\"}},\"title\":{\"x\":0.05},\"xaxis\":{\"automargin\":true,\"gridcolor\":\"white\",\"linecolor\":\"white\",\"ticks\":\"\",\"title\":{\"standoff\":15},\"zerolinecolor\":\"white\",\"zerolinewidth\":2},\"yaxis\":{\"automargin\":true,\"gridcolor\":\"white\",\"linecolor\":\"white\",\"ticks\":\"\",\"title\":{\"standoff\":15},\"zerolinecolor\":\"white\",\"zerolinewidth\":2}}},\"title\":{\"text\":\"Technologies in Data Scientist Job Listings 2019\",\"x\":0.5},\"xaxis\":{\"title\":{\"text\":\"Avg % of Listings\"}},\"yaxis\":{\"tickmode\":\"linear\"}},                        {\"responsive\": true}                    ).then(function(){\n",
       "                            \n",
       "var gd = document.getElementById('db17f03a-af0e-4a5b-bee3-c813b1d95795');\n",
       "var x = new MutationObserver(function (mutations, observer) {{\n",
       "        var display = window.getComputedStyle(gd).display;\n",
       "        if (!display || display === 'none') {{\n",
       "            console.log([gd, 'removed!']);\n",
       "            Plotly.purge(gd);\n",
       "            observer.disconnect();\n",
       "        }}\n",
       "}});\n",
       "\n",
       "// Listen for the removal of the full notebook cells\n",
       "var notebookContainer = gd.closest('#notebook-container');\n",
       "if (notebookContainer) {{\n",
       "    x.observe(notebookContainer, {childList: true});\n",
       "}}\n",
       "\n",
       "// Listen for the clearing of the current output cell\n",
       "var outputEl = gd.closest('.output');\n",
       "if (outputEl) {{\n",
       "    x.observe(outputEl, {childList: true});\n",
       "}}\n",
       "\n",
       "                        })                };                });            </script>        </div>"
      ]
     },
     "metadata": {},
     "output_type": "display_data"
    }
   ],
   "source": [
    "cmax=50\n",
    "cmin=200\n",
    "color_s = np.linspace(cmin, cmax, 30)\n",
    "\n",
    "data = [\n",
    "    go.Bar(\n",
    "        y=df_over_five_g.index,          \n",
    "        x=df_over_five_g['2019']*100,\n",
    "        orientation='h',\n",
    "        marker=dict(\n",
    "            colorscale='Jet',\n",
    "            color=color_s\n",
    "        ),\n",
    "    )\n",
    "]\n",
    "\n",
    "layout = {\n",
    "    'title': 'Technologies in Data Scientist Job Listings 2019',\n",
    "    'xaxis': {'title': 'Avg % of Listings', },\n",
    "    'yaxis': {'tickmode': 'linear'},\n",
    "    'title_x':0.5,\n",
    "    'height': 700\n",
    "    \n",
    "}\n",
    "\n",
    "fig = go.Figure(data=data, layout=layout)\n",
    "py.iplot(fig)\n"
   ]
  },
  {
   "cell_type": "markdown",
   "id": "9114b29b71318ea7",
   "metadata": {
    "collapsed": false,
    "jupyter": {
     "outputs_hidden": false
    }
   },
   "source": [
    "Compute % change"
   ]
  },
  {
   "cell_type": "code",
   "execution_count": 86,
   "id": "3e909f56d55b9fa7",
   "metadata": {
    "ExecuteTime": {
     "end_time": "2023-10-06T08:25:04.048537600Z",
     "start_time": "2023-10-06T08:25:03.932754100Z"
    },
    "collapsed": false,
    "jupyter": {
     "outputs_hidden": false
    }
   },
   "outputs": [
    {
     "data": {
      "text/html": [
       "<div>\n",
       "<style scoped>\n",
       "    .dataframe tbody tr th:only-of-type {\n",
       "        vertical-align: middle;\n",
       "    }\n",
       "\n",
       "    .dataframe tbody tr th {\n",
       "        vertical-align: top;\n",
       "    }\n",
       "\n",
       "    .dataframe thead th {\n",
       "        text-align: right;\n",
       "    }\n",
       "</style>\n",
       "<table border=\"1\" class=\"dataframe\">\n",
       "  <thead>\n",
       "    <tr style=\"text-align: right;\">\n",
       "      <th></th>\n",
       "      <th>2019</th>\n",
       "      <th>2023</th>\n",
       "      <th>Change in Avg</th>\n",
       "    </tr>\n",
       "  </thead>\n",
       "  <tbody>\n",
       "    <tr>\n",
       "      <th>Python</th>\n",
       "      <td>0.14</td>\n",
       "      <td>0.78</td>\n",
       "      <td>0.64</td>\n",
       "    </tr>\n",
       "    <tr>\n",
       "      <th>SQL</th>\n",
       "      <td>0.10</td>\n",
       "      <td>0.52</td>\n",
       "      <td>0.43</td>\n",
       "    </tr>\n",
       "    <tr>\n",
       "      <th>R</th>\n",
       "      <td>0.10</td>\n",
       "      <td>0.41</td>\n",
       "      <td>0.31</td>\n",
       "    </tr>\n",
       "    <tr>\n",
       "      <th>TensorFlow</th>\n",
       "      <td>0.03</td>\n",
       "      <td>0.21</td>\n",
       "      <td>0.19</td>\n",
       "    </tr>\n",
       "    <tr>\n",
       "      <th>PyTorch</th>\n",
       "      <td>0.01</td>\n",
       "      <td>0.19</td>\n",
       "      <td>0.18</td>\n",
       "    </tr>\n",
       "    <tr>\n",
       "      <th>AWS</th>\n",
       "      <td>0.04</td>\n",
       "      <td>0.21</td>\n",
       "      <td>0.17</td>\n",
       "    </tr>\n",
       "    <tr>\n",
       "      <th>Tableau</th>\n",
       "      <td>0.04</td>\n",
       "      <td>0.20</td>\n",
       "      <td>0.16</td>\n",
       "    </tr>\n",
       "    <tr>\n",
       "      <th>Spark</th>\n",
       "      <td>0.05</td>\n",
       "      <td>0.20</td>\n",
       "      <td>0.14</td>\n",
       "    </tr>\n",
       "    <tr>\n",
       "      <th>Azure</th>\n",
       "      <td>0.02</td>\n",
       "      <td>0.15</td>\n",
       "      <td>0.13</td>\n",
       "    </tr>\n",
       "    <tr>\n",
       "      <th>Scikit-learn</th>\n",
       "      <td>0.02</td>\n",
       "      <td>0.12</td>\n",
       "      <td>0.11</td>\n",
       "    </tr>\n",
       "    <tr>\n",
       "      <th>Pandas</th>\n",
       "      <td>0.01</td>\n",
       "      <td>0.11</td>\n",
       "      <td>0.10</td>\n",
       "    </tr>\n",
       "    <tr>\n",
       "      <th>Excel</th>\n",
       "      <td>0.02</td>\n",
       "      <td>0.12</td>\n",
       "      <td>0.10</td>\n",
       "    </tr>\n",
       "    <tr>\n",
       "      <th>Java</th>\n",
       "      <td>0.04</td>\n",
       "      <td>0.14</td>\n",
       "      <td>0.10</td>\n",
       "    </tr>\n",
       "    <tr>\n",
       "      <th>Hadoop</th>\n",
       "      <td>0.05</td>\n",
       "      <td>0.12</td>\n",
       "      <td>0.07</td>\n",
       "    </tr>\n",
       "    <tr>\n",
       "      <th>NumPy</th>\n",
       "      <td>0.01</td>\n",
       "      <td>0.08</td>\n",
       "      <td>0.07</td>\n",
       "    </tr>\n",
       "    <tr>\n",
       "      <th>Git</th>\n",
       "      <td>0.01</td>\n",
       "      <td>0.08</td>\n",
       "      <td>0.06</td>\n",
       "    </tr>\n",
       "    <tr>\n",
       "      <th>GCP</th>\n",
       "      <td>0.01</td>\n",
       "      <td>0.07</td>\n",
       "      <td>0.06</td>\n",
       "    </tr>\n",
       "    <tr>\n",
       "      <th>SAS</th>\n",
       "      <td>0.03</td>\n",
       "      <td>0.09</td>\n",
       "      <td>0.06</td>\n",
       "    </tr>\n",
       "    <tr>\n",
       "      <th>C#</th>\n",
       "      <td>0.01</td>\n",
       "      <td>0.07</td>\n",
       "      <td>0.06</td>\n",
       "    </tr>\n",
       "    <tr>\n",
       "      <th>Databricks</th>\n",
       "      <td>0.00</td>\n",
       "      <td>0.06</td>\n",
       "      <td>0.06</td>\n",
       "    </tr>\n",
       "    <tr>\n",
       "      <th>C</th>\n",
       "      <td>0.02</td>\n",
       "      <td>0.07</td>\n",
       "      <td>0.05</td>\n",
       "    </tr>\n",
       "    <tr>\n",
       "      <th>Docker</th>\n",
       "      <td>0.01</td>\n",
       "      <td>0.06</td>\n",
       "      <td>0.05</td>\n",
       "    </tr>\n",
       "    <tr>\n",
       "      <th>Scala</th>\n",
       "      <td>0.03</td>\n",
       "      <td>0.08</td>\n",
       "      <td>0.05</td>\n",
       "    </tr>\n",
       "    <tr>\n",
       "      <th>NoSQL</th>\n",
       "      <td>0.02</td>\n",
       "      <td>0.07</td>\n",
       "      <td>0.05</td>\n",
       "    </tr>\n",
       "    <tr>\n",
       "      <th>Keras</th>\n",
       "      <td>0.01</td>\n",
       "      <td>0.06</td>\n",
       "      <td>0.05</td>\n",
       "    </tr>\n",
       "    <tr>\n",
       "      <th>Kubernetes</th>\n",
       "      <td>0.01</td>\n",
       "      <td>0.05</td>\n",
       "      <td>0.05</td>\n",
       "    </tr>\n",
       "    <tr>\n",
       "      <th>C++</th>\n",
       "      <td>0.03</td>\n",
       "      <td>0.07</td>\n",
       "      <td>0.04</td>\n",
       "    </tr>\n",
       "    <tr>\n",
       "      <th>Matlab</th>\n",
       "      <td>0.02</td>\n",
       "      <td>0.06</td>\n",
       "      <td>0.04</td>\n",
       "    </tr>\n",
       "    <tr>\n",
       "      <th>Javascript</th>\n",
       "      <td>0.01</td>\n",
       "      <td>0.05</td>\n",
       "      <td>0.04</td>\n",
       "    </tr>\n",
       "    <tr>\n",
       "      <th>Hive</th>\n",
       "      <td>0.03</td>\n",
       "      <td>0.06</td>\n",
       "      <td>0.04</td>\n",
       "    </tr>\n",
       "    <tr>\n",
       "      <th>Linux</th>\n",
       "      <td>0.02</td>\n",
       "      <td>0.05</td>\n",
       "      <td>0.03</td>\n",
       "    </tr>\n",
       "  </tbody>\n",
       "</table>\n",
       "</div>"
      ],
      "text/plain": [
       "              2019  2023  Change in Avg\n",
       "Python        0.14  0.78           0.64\n",
       "SQL           0.10  0.52           0.43\n",
       "R             0.10  0.41           0.31\n",
       "TensorFlow    0.03  0.21           0.19\n",
       "PyTorch       0.01  0.19           0.18\n",
       "AWS           0.04  0.21           0.17\n",
       "Tableau       0.04  0.20           0.16\n",
       "Spark         0.05  0.20           0.14\n",
       "Azure         0.02  0.15           0.13\n",
       "Scikit-learn  0.02  0.12           0.11\n",
       "Pandas        0.01  0.11           0.10\n",
       "Excel         0.02  0.12           0.10\n",
       "Java          0.04  0.14           0.10\n",
       "Hadoop        0.05  0.12           0.07\n",
       "NumPy         0.01  0.08           0.07\n",
       "Git           0.01  0.08           0.06\n",
       "GCP           0.01  0.07           0.06\n",
       "SAS           0.03  0.09           0.06\n",
       "C#            0.01  0.07           0.06\n",
       "Databricks    0.00  0.06           0.06\n",
       "C             0.02  0.07           0.05\n",
       "Docker        0.01  0.06           0.05\n",
       "Scala         0.03  0.08           0.05\n",
       "NoSQL         0.02  0.07           0.05\n",
       "Keras         0.01  0.06           0.05\n",
       "Kubernetes    0.01  0.05           0.05\n",
       "C++           0.03  0.07           0.04\n",
       "Matlab        0.02  0.06           0.04\n",
       "Javascript    0.01  0.05           0.04\n",
       "Hive          0.03  0.06           0.04\n",
       "Linux         0.02  0.05           0.03"
      ]
     },
     "execution_count": 86,
     "metadata": {},
     "output_type": "execute_result"
    }
   ],
   "source": [
    "df_over_five_changes = df_over_five.copy()\n",
    "df_over_five_changes['Change in Avg'] = df_over_five_changes['2023'] - df_over_five_changes['2019']\n",
    "df_over_five_changes =  df_over_five_changes.sort_values(by = 'Change in Avg', ascending=False)\n",
    "df_over_five_changes"
   ]
  },
  {
   "cell_type": "code",
   "execution_count": 87,
   "id": "74cd0274247c27aa",
   "metadata": {
    "ExecuteTime": {
     "end_time": "2023-10-06T08:25:14.526674600Z",
     "start_time": "2023-10-06T08:25:14.333743700Z"
    },
    "collapsed": false,
    "jupyter": {
     "outputs_hidden": false
    }
   },
   "outputs": [
    {
     "data": {
      "text/html": [
       "<div>\n",
       "<style scoped>\n",
       "    .dataframe tbody tr th:only-of-type {\n",
       "        vertical-align: middle;\n",
       "    }\n",
       "\n",
       "    .dataframe tbody tr th {\n",
       "        vertical-align: top;\n",
       "    }\n",
       "\n",
       "    .dataframe thead th {\n",
       "        text-align: right;\n",
       "    }\n",
       "</style>\n",
       "<table border=\"1\" class=\"dataframe\">\n",
       "  <thead>\n",
       "    <tr style=\"text-align: right;\">\n",
       "      <th></th>\n",
       "      <th>2019</th>\n",
       "      <th>2023</th>\n",
       "    </tr>\n",
       "  </thead>\n",
       "  <tbody>\n",
       "    <tr>\n",
       "      <th>Python</th>\n",
       "      <td>NaN</td>\n",
       "      <td>4.71</td>\n",
       "    </tr>\n",
       "    <tr>\n",
       "      <th>SQL</th>\n",
       "      <td>NaN</td>\n",
       "      <td>4.31</td>\n",
       "    </tr>\n",
       "    <tr>\n",
       "      <th>R</th>\n",
       "      <td>NaN</td>\n",
       "      <td>3.13</td>\n",
       "    </tr>\n",
       "    <tr>\n",
       "      <th>TensorFlow</th>\n",
       "      <td>NaN</td>\n",
       "      <td>7.03</td>\n",
       "    </tr>\n",
       "    <tr>\n",
       "      <th>AWS</th>\n",
       "      <td>NaN</td>\n",
       "      <td>4.76</td>\n",
       "    </tr>\n",
       "    <tr>\n",
       "      <th>Tableau</th>\n",
       "      <td>NaN</td>\n",
       "      <td>4.32</td>\n",
       "    </tr>\n",
       "    <tr>\n",
       "      <th>Spark</th>\n",
       "      <td>NaN</td>\n",
       "      <td>2.80</td>\n",
       "    </tr>\n",
       "    <tr>\n",
       "      <th>PyTorch</th>\n",
       "      <td>NaN</td>\n",
       "      <td>16.42</td>\n",
       "    </tr>\n",
       "    <tr>\n",
       "      <th>Azure</th>\n",
       "      <td>NaN</td>\n",
       "      <td>6.90</td>\n",
       "    </tr>\n",
       "    <tr>\n",
       "      <th>Java</th>\n",
       "      <td>NaN</td>\n",
       "      <td>2.13</td>\n",
       "    </tr>\n",
       "    <tr>\n",
       "      <th>Scikit-learn</th>\n",
       "      <td>NaN</td>\n",
       "      <td>6.32</td>\n",
       "    </tr>\n",
       "    <tr>\n",
       "      <th>Excel</th>\n",
       "      <td>NaN</td>\n",
       "      <td>4.78</td>\n",
       "    </tr>\n",
       "    <tr>\n",
       "      <th>Hadoop</th>\n",
       "      <td>NaN</td>\n",
       "      <td>1.40</td>\n",
       "    </tr>\n",
       "    <tr>\n",
       "      <th>Pandas</th>\n",
       "      <td>NaN</td>\n",
       "      <td>7.85</td>\n",
       "    </tr>\n",
       "    <tr>\n",
       "      <th>SAS</th>\n",
       "      <td>NaN</td>\n",
       "      <td>2.02</td>\n",
       "    </tr>\n",
       "    <tr>\n",
       "      <th>NumPy</th>\n",
       "      <td>NaN</td>\n",
       "      <td>6.66</td>\n",
       "    </tr>\n",
       "    <tr>\n",
       "      <th>Scala</th>\n",
       "      <td>NaN</td>\n",
       "      <td>2.06</td>\n",
       "    </tr>\n",
       "    <tr>\n",
       "      <th>Git</th>\n",
       "      <td>NaN</td>\n",
       "      <td>5.69</td>\n",
       "    </tr>\n",
       "    <tr>\n",
       "      <th>GCP</th>\n",
       "      <td>NaN</td>\n",
       "      <td>10.37</td>\n",
       "    </tr>\n",
       "    <tr>\n",
       "      <th>C</th>\n",
       "      <td>NaN</td>\n",
       "      <td>3.24</td>\n",
       "    </tr>\n",
       "    <tr>\n",
       "      <th>C++</th>\n",
       "      <td>NaN</td>\n",
       "      <td>1.77</td>\n",
       "    </tr>\n",
       "    <tr>\n",
       "      <th>C#</th>\n",
       "      <td>NaN</td>\n",
       "      <td>6.68</td>\n",
       "    </tr>\n",
       "    <tr>\n",
       "      <th>NoSQL</th>\n",
       "      <td>NaN</td>\n",
       "      <td>2.93</td>\n",
       "    </tr>\n",
       "    <tr>\n",
       "      <th>Docker</th>\n",
       "      <td>NaN</td>\n",
       "      <td>5.35</td>\n",
       "    </tr>\n",
       "    <tr>\n",
       "      <th>Databricks</th>\n",
       "      <td>NaN</td>\n",
       "      <td>14.13</td>\n",
       "    </tr>\n",
       "    <tr>\n",
       "      <th>Matlab</th>\n",
       "      <td>NaN</td>\n",
       "      <td>2.31</td>\n",
       "    </tr>\n",
       "    <tr>\n",
       "      <th>Hive</th>\n",
       "      <td>NaN</td>\n",
       "      <td>1.41</td>\n",
       "    </tr>\n",
       "    <tr>\n",
       "      <th>Keras</th>\n",
       "      <td>NaN</td>\n",
       "      <td>3.94</td>\n",
       "    </tr>\n",
       "    <tr>\n",
       "      <th>Kubernetes</th>\n",
       "      <td>NaN</td>\n",
       "      <td>7.18</td>\n",
       "    </tr>\n",
       "    <tr>\n",
       "      <th>Javascript</th>\n",
       "      <td>NaN</td>\n",
       "      <td>4.31</td>\n",
       "    </tr>\n",
       "    <tr>\n",
       "      <th>Linux</th>\n",
       "      <td>NaN</td>\n",
       "      <td>2.07</td>\n",
       "    </tr>\n",
       "  </tbody>\n",
       "</table>\n",
       "</div>"
      ],
      "text/plain": [
       "              2019  2023\n",
       "Python         NaN  4.71\n",
       "SQL            NaN  4.31\n",
       "R              NaN  3.13\n",
       "TensorFlow     NaN  7.03\n",
       "AWS            NaN  4.76\n",
       "Tableau        NaN  4.32\n",
       "Spark          NaN  2.80\n",
       "PyTorch        NaN 16.42\n",
       "Azure          NaN  6.90\n",
       "Java           NaN  2.13\n",
       "Scikit-learn   NaN  6.32\n",
       "Excel          NaN  4.78\n",
       "Hadoop         NaN  1.40\n",
       "Pandas         NaN  7.85\n",
       "SAS            NaN  2.02\n",
       "NumPy          NaN  6.66\n",
       "Scala          NaN  2.06\n",
       "Git            NaN  5.69\n",
       "GCP            NaN 10.37\n",
       "C              NaN  3.24\n",
       "C++            NaN  1.77\n",
       "C#             NaN  6.68\n",
       "NoSQL          NaN  2.93\n",
       "Docker         NaN  5.35\n",
       "Databricks     NaN 14.13\n",
       "Matlab         NaN  2.31\n",
       "Hive           NaN  1.41\n",
       "Keras          NaN  3.94\n",
       "Kubernetes     NaN  7.18\n",
       "Javascript     NaN  4.31\n",
       "Linux          NaN  2.07"
      ]
     },
     "execution_count": 87,
     "metadata": {},
     "output_type": "execute_result"
    }
   ],
   "source": [
    "pct_change = df_over_five.pct_change(axis=1).sort_values(by='2019', ascending=True) \n",
    "pct_change"
   ]
  },
  {
   "cell_type": "code",
   "execution_count": 88,
   "id": "c25627b35f5d35e7",
   "metadata": {
    "ExecuteTime": {
     "end_time": "2023-10-06T08:25:34.978768Z",
     "start_time": "2023-10-06T08:25:34.855423700Z"
    },
    "collapsed": false,
    "jupyter": {
     "outputs_hidden": false
    }
   },
   "outputs": [
    {
     "data": {
      "text/html": [
       "<div>\n",
       "<style scoped>\n",
       "    .dataframe tbody tr th:only-of-type {\n",
       "        vertical-align: middle;\n",
       "    }\n",
       "\n",
       "    .dataframe tbody tr th {\n",
       "        vertical-align: top;\n",
       "    }\n",
       "\n",
       "    .dataframe thead th {\n",
       "        text-align: right;\n",
       "    }\n",
       "</style>\n",
       "<table border=\"1\" class=\"dataframe\">\n",
       "  <thead>\n",
       "    <tr style=\"text-align: right;\">\n",
       "      <th></th>\n",
       "      <th>% Change</th>\n",
       "    </tr>\n",
       "  </thead>\n",
       "  <tbody>\n",
       "    <tr>\n",
       "      <th>Python</th>\n",
       "      <td>4.71</td>\n",
       "    </tr>\n",
       "    <tr>\n",
       "      <th>SQL</th>\n",
       "      <td>4.31</td>\n",
       "    </tr>\n",
       "    <tr>\n",
       "      <th>R</th>\n",
       "      <td>3.13</td>\n",
       "    </tr>\n",
       "    <tr>\n",
       "      <th>TensorFlow</th>\n",
       "      <td>7.03</td>\n",
       "    </tr>\n",
       "    <tr>\n",
       "      <th>AWS</th>\n",
       "      <td>4.76</td>\n",
       "    </tr>\n",
       "    <tr>\n",
       "      <th>Tableau</th>\n",
       "      <td>4.32</td>\n",
       "    </tr>\n",
       "    <tr>\n",
       "      <th>Spark</th>\n",
       "      <td>2.80</td>\n",
       "    </tr>\n",
       "    <tr>\n",
       "      <th>PyTorch</th>\n",
       "      <td>16.42</td>\n",
       "    </tr>\n",
       "    <tr>\n",
       "      <th>Azure</th>\n",
       "      <td>6.90</td>\n",
       "    </tr>\n",
       "    <tr>\n",
       "      <th>Java</th>\n",
       "      <td>2.13</td>\n",
       "    </tr>\n",
       "    <tr>\n",
       "      <th>Scikit-learn</th>\n",
       "      <td>6.32</td>\n",
       "    </tr>\n",
       "    <tr>\n",
       "      <th>Excel</th>\n",
       "      <td>4.78</td>\n",
       "    </tr>\n",
       "    <tr>\n",
       "      <th>Hadoop</th>\n",
       "      <td>1.40</td>\n",
       "    </tr>\n",
       "    <tr>\n",
       "      <th>Pandas</th>\n",
       "      <td>7.85</td>\n",
       "    </tr>\n",
       "    <tr>\n",
       "      <th>SAS</th>\n",
       "      <td>2.02</td>\n",
       "    </tr>\n",
       "    <tr>\n",
       "      <th>NumPy</th>\n",
       "      <td>6.66</td>\n",
       "    </tr>\n",
       "    <tr>\n",
       "      <th>Scala</th>\n",
       "      <td>2.06</td>\n",
       "    </tr>\n",
       "    <tr>\n",
       "      <th>Git</th>\n",
       "      <td>5.69</td>\n",
       "    </tr>\n",
       "    <tr>\n",
       "      <th>GCP</th>\n",
       "      <td>10.37</td>\n",
       "    </tr>\n",
       "    <tr>\n",
       "      <th>C</th>\n",
       "      <td>3.24</td>\n",
       "    </tr>\n",
       "    <tr>\n",
       "      <th>C++</th>\n",
       "      <td>1.77</td>\n",
       "    </tr>\n",
       "    <tr>\n",
       "      <th>C#</th>\n",
       "      <td>6.68</td>\n",
       "    </tr>\n",
       "    <tr>\n",
       "      <th>NoSQL</th>\n",
       "      <td>2.93</td>\n",
       "    </tr>\n",
       "    <tr>\n",
       "      <th>Docker</th>\n",
       "      <td>5.35</td>\n",
       "    </tr>\n",
       "    <tr>\n",
       "      <th>Databricks</th>\n",
       "      <td>14.13</td>\n",
       "    </tr>\n",
       "    <tr>\n",
       "      <th>Matlab</th>\n",
       "      <td>2.31</td>\n",
       "    </tr>\n",
       "    <tr>\n",
       "      <th>Hive</th>\n",
       "      <td>1.41</td>\n",
       "    </tr>\n",
       "    <tr>\n",
       "      <th>Keras</th>\n",
       "      <td>3.94</td>\n",
       "    </tr>\n",
       "    <tr>\n",
       "      <th>Kubernetes</th>\n",
       "      <td>7.18</td>\n",
       "    </tr>\n",
       "    <tr>\n",
       "      <th>Javascript</th>\n",
       "      <td>4.31</td>\n",
       "    </tr>\n",
       "    <tr>\n",
       "      <th>Linux</th>\n",
       "      <td>2.07</td>\n",
       "    </tr>\n",
       "  </tbody>\n",
       "</table>\n",
       "</div>"
      ],
      "text/plain": [
       "              % Change\n",
       "Python            4.71\n",
       "SQL               4.31\n",
       "R                 3.13\n",
       "TensorFlow        7.03\n",
       "AWS               4.76\n",
       "Tableau           4.32\n",
       "Spark             2.80\n",
       "PyTorch          16.42\n",
       "Azure             6.90\n",
       "Java              2.13\n",
       "Scikit-learn      6.32\n",
       "Excel             4.78\n",
       "Hadoop            1.40\n",
       "Pandas            7.85\n",
       "SAS               2.02\n",
       "NumPy             6.66\n",
       "Scala             2.06\n",
       "Git               5.69\n",
       "GCP              10.37\n",
       "C                 3.24\n",
       "C++               1.77\n",
       "C#                6.68\n",
       "NoSQL             2.93\n",
       "Docker            5.35\n",
       "Databricks       14.13\n",
       "Matlab            2.31\n",
       "Hive              1.41\n",
       "Keras             3.94\n",
       "Kubernetes        7.18\n",
       "Javascript        4.31\n",
       "Linux             2.07"
      ]
     },
     "execution_count": 88,
     "metadata": {},
     "output_type": "execute_result"
    }
   ],
   "source": [
    "pct_change = pct_change.drop('2019', axis=1)\n",
    "pct_change.columns = ['% Change']\n",
    "pct_change"
   ]
  },
  {
   "cell_type": "markdown",
   "id": "2ac3a28cdfd6d99b",
   "metadata": {
    "collapsed": false,
    "jupyter": {
     "outputs_hidden": false
    }
   },
   "source": [
    "DataFrame "
   ]
  },
  {
   "cell_type": "code",
   "execution_count": 89,
   "id": "7402882f013a41",
   "metadata": {
    "ExecuteTime": {
     "end_time": "2023-10-06T08:25:59.862948300Z",
     "start_time": "2023-10-06T08:25:59.735623900Z"
    },
    "collapsed": false,
    "jupyter": {
     "outputs_hidden": false
    }
   },
   "outputs": [],
   "source": [
    "df_over_five_all = df_over_five_changes.merge(pct_change, right_index=True, left_index=True)\n",
    "df_over_five_all = df_over_five_all * 100\n",
    "df_over_five_all.index.name = 'Keyword'"
   ]
  },
  {
   "cell_type": "code",
   "execution_count": 90,
   "id": "1abc7dcc08f67bf4",
   "metadata": {
    "ExecuteTime": {
     "end_time": "2023-10-06T08:26:06.496026900Z",
     "start_time": "2023-10-06T08:26:06.369531200Z"
    },
    "collapsed": false,
    "jupyter": {
     "outputs_hidden": false
    }
   },
   "outputs": [
    {
     "data": {
      "text/html": [
       "<div>\n",
       "<style scoped>\n",
       "    .dataframe tbody tr th:only-of-type {\n",
       "        vertical-align: middle;\n",
       "    }\n",
       "\n",
       "    .dataframe tbody tr th {\n",
       "        vertical-align: top;\n",
       "    }\n",
       "\n",
       "    .dataframe thead th {\n",
       "        text-align: right;\n",
       "    }\n",
       "</style>\n",
       "<table border=\"1\" class=\"dataframe\">\n",
       "  <thead>\n",
       "    <tr style=\"text-align: right;\">\n",
       "      <th></th>\n",
       "      <th>2019</th>\n",
       "      <th>2023</th>\n",
       "      <th>Change in Avg</th>\n",
       "      <th>% Change</th>\n",
       "    </tr>\n",
       "    <tr>\n",
       "      <th>Keyword</th>\n",
       "      <th></th>\n",
       "      <th></th>\n",
       "      <th></th>\n",
       "      <th></th>\n",
       "    </tr>\n",
       "  </thead>\n",
       "  <tbody>\n",
       "    <tr>\n",
       "      <th>Python</th>\n",
       "      <td>13.63</td>\n",
       "      <td>77.89</td>\n",
       "      <td>64.26</td>\n",
       "      <td>471.40</td>\n",
       "    </tr>\n",
       "    <tr>\n",
       "      <th>SQL</th>\n",
       "      <td>9.89</td>\n",
       "      <td>52.49</td>\n",
       "      <td>42.61</td>\n",
       "      <td>431.00</td>\n",
       "    </tr>\n",
       "    <tr>\n",
       "      <th>R</th>\n",
       "      <td>10.01</td>\n",
       "      <td>41.29</td>\n",
       "      <td>31.28</td>\n",
       "      <td>312.68</td>\n",
       "    </tr>\n",
       "    <tr>\n",
       "      <th>TensorFlow</th>\n",
       "      <td>2.65</td>\n",
       "      <td>21.30</td>\n",
       "      <td>18.65</td>\n",
       "      <td>703.11</td>\n",
       "    </tr>\n",
       "    <tr>\n",
       "      <th>PyTorch</th>\n",
       "      <td>1.07</td>\n",
       "      <td>18.68</td>\n",
       "      <td>17.61</td>\n",
       "      <td>1,642.19</td>\n",
       "    </tr>\n",
       "    <tr>\n",
       "      <th>AWS</th>\n",
       "      <td>3.66</td>\n",
       "      <td>21.08</td>\n",
       "      <td>17.42</td>\n",
       "      <td>475.87</td>\n",
       "    </tr>\n",
       "    <tr>\n",
       "      <th>Tableau</th>\n",
       "      <td>3.73</td>\n",
       "      <td>19.87</td>\n",
       "      <td>16.14</td>\n",
       "      <td>432.25</td>\n",
       "    </tr>\n",
       "    <tr>\n",
       "      <th>Spark</th>\n",
       "      <td>5.16</td>\n",
       "      <td>19.61</td>\n",
       "      <td>14.45</td>\n",
       "      <td>279.85</td>\n",
       "    </tr>\n",
       "    <tr>\n",
       "      <th>Azure</th>\n",
       "      <td>1.85</td>\n",
       "      <td>14.65</td>\n",
       "      <td>12.79</td>\n",
       "      <td>689.80</td>\n",
       "    </tr>\n",
       "    <tr>\n",
       "      <th>Scikit-learn</th>\n",
       "      <td>1.66</td>\n",
       "      <td>12.18</td>\n",
       "      <td>10.51</td>\n",
       "      <td>631.87</td>\n",
       "    </tr>\n",
       "    <tr>\n",
       "      <th>Pandas</th>\n",
       "      <td>1.26</td>\n",
       "      <td>11.15</td>\n",
       "      <td>9.89</td>\n",
       "      <td>785.21</td>\n",
       "    </tr>\n",
       "    <tr>\n",
       "      <th>Excel</th>\n",
       "      <td>2.01</td>\n",
       "      <td>11.63</td>\n",
       "      <td>9.62</td>\n",
       "      <td>477.84</td>\n",
       "    </tr>\n",
       "    <tr>\n",
       "      <th>Java</th>\n",
       "      <td>4.49</td>\n",
       "      <td>14.05</td>\n",
       "      <td>9.56</td>\n",
       "      <td>212.85</td>\n",
       "    </tr>\n",
       "    <tr>\n",
       "      <th>Hadoop</th>\n",
       "      <td>4.81</td>\n",
       "      <td>11.55</td>\n",
       "      <td>6.74</td>\n",
       "      <td>140.10</td>\n",
       "    </tr>\n",
       "    <tr>\n",
       "      <th>NumPy</th>\n",
       "      <td>1.00</td>\n",
       "      <td>7.68</td>\n",
       "      <td>6.68</td>\n",
       "      <td>666.37</td>\n",
       "    </tr>\n",
       "    <tr>\n",
       "      <th>Git</th>\n",
       "      <td>1.13</td>\n",
       "      <td>7.56</td>\n",
       "      <td>6.43</td>\n",
       "      <td>569.38</td>\n",
       "    </tr>\n",
       "    <tr>\n",
       "      <th>GCP</th>\n",
       "      <td>0.62</td>\n",
       "      <td>7.02</td>\n",
       "      <td>6.40</td>\n",
       "      <td>1,037.22</td>\n",
       "    </tr>\n",
       "    <tr>\n",
       "      <th>SAS</th>\n",
       "      <td>3.13</td>\n",
       "      <td>9.45</td>\n",
       "      <td>6.32</td>\n",
       "      <td>202.27</td>\n",
       "    </tr>\n",
       "    <tr>\n",
       "      <th>C#</th>\n",
       "      <td>0.91</td>\n",
       "      <td>6.99</td>\n",
       "      <td>6.08</td>\n",
       "      <td>668.26</td>\n",
       "    </tr>\n",
       "    <tr>\n",
       "      <th>Databricks</th>\n",
       "      <td>0.41</td>\n",
       "      <td>6.28</td>\n",
       "      <td>5.86</td>\n",
       "      <td>1,412.92</td>\n",
       "    </tr>\n",
       "    <tr>\n",
       "      <th>C</th>\n",
       "      <td>1.65</td>\n",
       "      <td>6.99</td>\n",
       "      <td>5.34</td>\n",
       "      <td>324.14</td>\n",
       "    </tr>\n",
       "    <tr>\n",
       "      <th>Docker</th>\n",
       "      <td>1.00</td>\n",
       "      <td>6.34</td>\n",
       "      <td>5.34</td>\n",
       "      <td>535.43</td>\n",
       "    </tr>\n",
       "    <tr>\n",
       "      <th>Scala</th>\n",
       "      <td>2.51</td>\n",
       "      <td>7.67</td>\n",
       "      <td>5.16</td>\n",
       "      <td>205.91</td>\n",
       "    </tr>\n",
       "    <tr>\n",
       "      <th>NoSQL</th>\n",
       "      <td>1.74</td>\n",
       "      <td>6.83</td>\n",
       "      <td>5.09</td>\n",
       "      <td>293.14</td>\n",
       "    </tr>\n",
       "    <tr>\n",
       "      <th>Keras</th>\n",
       "      <td>1.20</td>\n",
       "      <td>5.95</td>\n",
       "      <td>4.75</td>\n",
       "      <td>394.15</td>\n",
       "    </tr>\n",
       "    <tr>\n",
       "      <th>Kubernetes</th>\n",
       "      <td>0.64</td>\n",
       "      <td>5.22</td>\n",
       "      <td>4.58</td>\n",
       "      <td>717.72</td>\n",
       "    </tr>\n",
       "    <tr>\n",
       "      <th>C++</th>\n",
       "      <td>2.53</td>\n",
       "      <td>6.99</td>\n",
       "      <td>4.46</td>\n",
       "      <td>176.66</td>\n",
       "    </tr>\n",
       "    <tr>\n",
       "      <th>Matlab</th>\n",
       "      <td>1.89</td>\n",
       "      <td>6.27</td>\n",
       "      <td>4.37</td>\n",
       "      <td>231.06</td>\n",
       "    </tr>\n",
       "    <tr>\n",
       "      <th>Javascript</th>\n",
       "      <td>0.98</td>\n",
       "      <td>5.21</td>\n",
       "      <td>4.23</td>\n",
       "      <td>431.48</td>\n",
       "    </tr>\n",
       "    <tr>\n",
       "      <th>Hive</th>\n",
       "      <td>2.56</td>\n",
       "      <td>6.17</td>\n",
       "      <td>3.61</td>\n",
       "      <td>140.69</td>\n",
       "    </tr>\n",
       "    <tr>\n",
       "      <th>Linux</th>\n",
       "      <td>1.68</td>\n",
       "      <td>5.17</td>\n",
       "      <td>3.49</td>\n",
       "      <td>207.37</td>\n",
       "    </tr>\n",
       "  </tbody>\n",
       "</table>\n",
       "</div>"
      ],
      "text/plain": [
       "              2019  2023  Change in Avg  % Change\n",
       "Keyword                                          \n",
       "Python       13.63 77.89          64.26    471.40\n",
       "SQL           9.89 52.49          42.61    431.00\n",
       "R            10.01 41.29          31.28    312.68\n",
       "TensorFlow    2.65 21.30          18.65    703.11\n",
       "PyTorch       1.07 18.68          17.61  1,642.19\n",
       "AWS           3.66 21.08          17.42    475.87\n",
       "Tableau       3.73 19.87          16.14    432.25\n",
       "Spark         5.16 19.61          14.45    279.85\n",
       "Azure         1.85 14.65          12.79    689.80\n",
       "Scikit-learn  1.66 12.18          10.51    631.87\n",
       "Pandas        1.26 11.15           9.89    785.21\n",
       "Excel         2.01 11.63           9.62    477.84\n",
       "Java          4.49 14.05           9.56    212.85\n",
       "Hadoop        4.81 11.55           6.74    140.10\n",
       "NumPy         1.00  7.68           6.68    666.37\n",
       "Git           1.13  7.56           6.43    569.38\n",
       "GCP           0.62  7.02           6.40  1,037.22\n",
       "SAS           3.13  9.45           6.32    202.27\n",
       "C#            0.91  6.99           6.08    668.26\n",
       "Databricks    0.41  6.28           5.86  1,412.92\n",
       "C             1.65  6.99           5.34    324.14\n",
       "Docker        1.00  6.34           5.34    535.43\n",
       "Scala         2.51  7.67           5.16    205.91\n",
       "NoSQL         1.74  6.83           5.09    293.14\n",
       "Keras         1.20  5.95           4.75    394.15\n",
       "Kubernetes    0.64  5.22           4.58    717.72\n",
       "C++           2.53  6.99           4.46    176.66\n",
       "Matlab        1.89  6.27           4.37    231.06\n",
       "Javascript    0.98  5.21           4.23    431.48\n",
       "Hive          2.56  6.17           3.61    140.69\n",
       "Linux         1.68  5.17           3.49    207.37"
      ]
     },
     "execution_count": 90,
     "metadata": {},
     "output_type": "execute_result"
    }
   ],
   "source": [
    "df_over_five_all"
   ]
  },
  {
   "cell_type": "markdown",
   "id": "c99b914f1cf3f127",
   "metadata": {
    "collapsed": false,
    "jupyter": {
     "outputs_hidden": false
    }
   },
   "source": [
    "Change in avg from 2019 to 2023"
   ]
  },
  {
   "cell_type": "code",
   "execution_count": 91,
   "id": "f7429e9db92c3de7",
   "metadata": {
    "ExecuteTime": {
     "end_time": "2023-10-06T08:26:43.719706600Z",
     "start_time": "2023-10-06T08:26:43.579891200Z"
    },
    "collapsed": false,
    "jupyter": {
     "outputs_hidden": false
    }
   },
   "outputs": [
    {
     "data": {
      "application/vnd.plotly.v1+json": {
       "config": {
        "linkText": "Export to plot.ly",
        "plotlyServerURL": "https://plot.ly",
        "showLink": false
       },
       "data": [
        {
         "marker": {
          "color": [
           200,
           194.82758620689654,
           189.6551724137931,
           184.48275862068965,
           179.31034482758622,
           174.13793103448276,
           168.9655172413793,
           163.79310344827587,
           158.6206896551724,
           153.44827586206895,
           148.27586206896552,
           143.10344827586206,
           137.9310344827586,
           132.75862068965517,
           127.58620689655172,
           122.41379310344827,
           117.24137931034483,
           112.06896551724138,
           106.89655172413794,
           101.72413793103448,
           96.55172413793103,
           91.37931034482759,
           86.20689655172413,
           81.03448275862068,
           75.86206896551724,
           70.68965517241378,
           65.51724137931035,
           60.34482758620689,
           55.17241379310343,
           50
          ],
          "colorscale": [
           [
            0,
            "rgb(0,0,131)"
           ],
           [
            0.2,
            "rgb(0,60,170)"
           ],
           [
            0.4,
            "rgb(5,255,255)"
           ],
           [
            0.6,
            "rgb(255,255,0)"
           ],
           [
            0.8,
            "rgb(250,0,0)"
           ],
           [
            1,
            "rgb(128,0,0)"
           ]
          ]
         },
         "orientation": "h",
         "type": "bar",
         "x": [
          3.48596458967928,
          3.6072866699979595,
          4.233263073318419,
          4.374353044692322,
          4.463038573087955,
          4.578439201485916,
          4.74749056807916,
          5.091300763052721,
          5.164137054186872,
          5.341395382629973,
          5.341474808738809,
          5.86282025478018,
          6.079586620604591,
          6.323142819355573,
          6.400282969991652,
          6.429799294325646,
          6.6761976915501675,
          6.740114009191296,
          9.561355136331903,
          9.621093016532546,
          9.89241512998977,
          10.513300355988777,
          12.794328746316639,
          14.448329713004988,
          16.13905137291137,
          17.42181043629101,
          17.605167580563787,
          18.64554075843118,
          31.28443554299122,
          42.60732046579635,
          64.25892706923685
         ],
         "y": [
          "Linux",
          "Hive",
          "Javascript",
          "Matlab",
          "C++",
          "Kubernetes",
          "Keras",
          "NoSQL",
          "Scala",
          "Docker",
          "C",
          "Databricks",
          "C#",
          "SAS",
          "GCP",
          "Git",
          "NumPy",
          "Hadoop",
          "Java",
          "Excel",
          "Pandas",
          "Scikit-learn",
          "Azure",
          "Spark",
          "Tableau",
          "AWS",
          "PyTorch",
          "TensorFlow",
          "R",
          "SQL",
          "Python"
         ]
        }
       ],
       "layout": {
        "height": 700,
        "template": {
         "data": {
          "bar": [
           {
            "error_x": {
             "color": "#2a3f5f"
            },
            "error_y": {
             "color": "#2a3f5f"
            },
            "marker": {
             "line": {
              "color": "#E5ECF6",
              "width": 0.5
             },
             "pattern": {
              "fillmode": "overlay",
              "size": 10,
              "solidity": 0.2
             }
            },
            "type": "bar"
           }
          ],
          "barpolar": [
           {
            "marker": {
             "line": {
              "color": "#E5ECF6",
              "width": 0.5
             },
             "pattern": {
              "fillmode": "overlay",
              "size": 10,
              "solidity": 0.2
             }
            },
            "type": "barpolar"
           }
          ],
          "carpet": [
           {
            "aaxis": {
             "endlinecolor": "#2a3f5f",
             "gridcolor": "white",
             "linecolor": "white",
             "minorgridcolor": "white",
             "startlinecolor": "#2a3f5f"
            },
            "baxis": {
             "endlinecolor": "#2a3f5f",
             "gridcolor": "white",
             "linecolor": "white",
             "minorgridcolor": "white",
             "startlinecolor": "#2a3f5f"
            },
            "type": "carpet"
           }
          ],
          "choropleth": [
           {
            "colorbar": {
             "outlinewidth": 0,
             "ticks": ""
            },
            "type": "choropleth"
           }
          ],
          "contour": [
           {
            "colorbar": {
             "outlinewidth": 0,
             "ticks": ""
            },
            "colorscale": [
             [
              0,
              "#0d0887"
             ],
             [
              0.1111111111111111,
              "#46039f"
             ],
             [
              0.2222222222222222,
              "#7201a8"
             ],
             [
              0.3333333333333333,
              "#9c179e"
             ],
             [
              0.4444444444444444,
              "#bd3786"
             ],
             [
              0.5555555555555556,
              "#d8576b"
             ],
             [
              0.6666666666666666,
              "#ed7953"
             ],
             [
              0.7777777777777778,
              "#fb9f3a"
             ],
             [
              0.8888888888888888,
              "#fdca26"
             ],
             [
              1,
              "#f0f921"
             ]
            ],
            "type": "contour"
           }
          ],
          "contourcarpet": [
           {
            "colorbar": {
             "outlinewidth": 0,
             "ticks": ""
            },
            "type": "contourcarpet"
           }
          ],
          "heatmap": [
           {
            "colorbar": {
             "outlinewidth": 0,
             "ticks": ""
            },
            "colorscale": [
             [
              0,
              "#0d0887"
             ],
             [
              0.1111111111111111,
              "#46039f"
             ],
             [
              0.2222222222222222,
              "#7201a8"
             ],
             [
              0.3333333333333333,
              "#9c179e"
             ],
             [
              0.4444444444444444,
              "#bd3786"
             ],
             [
              0.5555555555555556,
              "#d8576b"
             ],
             [
              0.6666666666666666,
              "#ed7953"
             ],
             [
              0.7777777777777778,
              "#fb9f3a"
             ],
             [
              0.8888888888888888,
              "#fdca26"
             ],
             [
              1,
              "#f0f921"
             ]
            ],
            "type": "heatmap"
           }
          ],
          "heatmapgl": [
           {
            "colorbar": {
             "outlinewidth": 0,
             "ticks": ""
            },
            "colorscale": [
             [
              0,
              "#0d0887"
             ],
             [
              0.1111111111111111,
              "#46039f"
             ],
             [
              0.2222222222222222,
              "#7201a8"
             ],
             [
              0.3333333333333333,
              "#9c179e"
             ],
             [
              0.4444444444444444,
              "#bd3786"
             ],
             [
              0.5555555555555556,
              "#d8576b"
             ],
             [
              0.6666666666666666,
              "#ed7953"
             ],
             [
              0.7777777777777778,
              "#fb9f3a"
             ],
             [
              0.8888888888888888,
              "#fdca26"
             ],
             [
              1,
              "#f0f921"
             ]
            ],
            "type": "heatmapgl"
           }
          ],
          "histogram": [
           {
            "marker": {
             "pattern": {
              "fillmode": "overlay",
              "size": 10,
              "solidity": 0.2
             }
            },
            "type": "histogram"
           }
          ],
          "histogram2d": [
           {
            "colorbar": {
             "outlinewidth": 0,
             "ticks": ""
            },
            "colorscale": [
             [
              0,
              "#0d0887"
             ],
             [
              0.1111111111111111,
              "#46039f"
             ],
             [
              0.2222222222222222,
              "#7201a8"
             ],
             [
              0.3333333333333333,
              "#9c179e"
             ],
             [
              0.4444444444444444,
              "#bd3786"
             ],
             [
              0.5555555555555556,
              "#d8576b"
             ],
             [
              0.6666666666666666,
              "#ed7953"
             ],
             [
              0.7777777777777778,
              "#fb9f3a"
             ],
             [
              0.8888888888888888,
              "#fdca26"
             ],
             [
              1,
              "#f0f921"
             ]
            ],
            "type": "histogram2d"
           }
          ],
          "histogram2dcontour": [
           {
            "colorbar": {
             "outlinewidth": 0,
             "ticks": ""
            },
            "colorscale": [
             [
              0,
              "#0d0887"
             ],
             [
              0.1111111111111111,
              "#46039f"
             ],
             [
              0.2222222222222222,
              "#7201a8"
             ],
             [
              0.3333333333333333,
              "#9c179e"
             ],
             [
              0.4444444444444444,
              "#bd3786"
             ],
             [
              0.5555555555555556,
              "#d8576b"
             ],
             [
              0.6666666666666666,
              "#ed7953"
             ],
             [
              0.7777777777777778,
              "#fb9f3a"
             ],
             [
              0.8888888888888888,
              "#fdca26"
             ],
             [
              1,
              "#f0f921"
             ]
            ],
            "type": "histogram2dcontour"
           }
          ],
          "mesh3d": [
           {
            "colorbar": {
             "outlinewidth": 0,
             "ticks": ""
            },
            "type": "mesh3d"
           }
          ],
          "parcoords": [
           {
            "line": {
             "colorbar": {
              "outlinewidth": 0,
              "ticks": ""
             }
            },
            "type": "parcoords"
           }
          ],
          "pie": [
           {
            "automargin": true,
            "type": "pie"
           }
          ],
          "scatter": [
           {
            "fillpattern": {
             "fillmode": "overlay",
             "size": 10,
             "solidity": 0.2
            },
            "type": "scatter"
           }
          ],
          "scatter3d": [
           {
            "line": {
             "colorbar": {
              "outlinewidth": 0,
              "ticks": ""
             }
            },
            "marker": {
             "colorbar": {
              "outlinewidth": 0,
              "ticks": ""
             }
            },
            "type": "scatter3d"
           }
          ],
          "scattercarpet": [
           {
            "marker": {
             "colorbar": {
              "outlinewidth": 0,
              "ticks": ""
             }
            },
            "type": "scattercarpet"
           }
          ],
          "scattergeo": [
           {
            "marker": {
             "colorbar": {
              "outlinewidth": 0,
              "ticks": ""
             }
            },
            "type": "scattergeo"
           }
          ],
          "scattergl": [
           {
            "marker": {
             "colorbar": {
              "outlinewidth": 0,
              "ticks": ""
             }
            },
            "type": "scattergl"
           }
          ],
          "scattermapbox": [
           {
            "marker": {
             "colorbar": {
              "outlinewidth": 0,
              "ticks": ""
             }
            },
            "type": "scattermapbox"
           }
          ],
          "scatterpolar": [
           {
            "marker": {
             "colorbar": {
              "outlinewidth": 0,
              "ticks": ""
             }
            },
            "type": "scatterpolar"
           }
          ],
          "scatterpolargl": [
           {
            "marker": {
             "colorbar": {
              "outlinewidth": 0,
              "ticks": ""
             }
            },
            "type": "scatterpolargl"
           }
          ],
          "scatterternary": [
           {
            "marker": {
             "colorbar": {
              "outlinewidth": 0,
              "ticks": ""
             }
            },
            "type": "scatterternary"
           }
          ],
          "surface": [
           {
            "colorbar": {
             "outlinewidth": 0,
             "ticks": ""
            },
            "colorscale": [
             [
              0,
              "#0d0887"
             ],
             [
              0.1111111111111111,
              "#46039f"
             ],
             [
              0.2222222222222222,
              "#7201a8"
             ],
             [
              0.3333333333333333,
              "#9c179e"
             ],
             [
              0.4444444444444444,
              "#bd3786"
             ],
             [
              0.5555555555555556,
              "#d8576b"
             ],
             [
              0.6666666666666666,
              "#ed7953"
             ],
             [
              0.7777777777777778,
              "#fb9f3a"
             ],
             [
              0.8888888888888888,
              "#fdca26"
             ],
             [
              1,
              "#f0f921"
             ]
            ],
            "type": "surface"
           }
          ],
          "table": [
           {
            "cells": {
             "fill": {
              "color": "#EBF0F8"
             },
             "line": {
              "color": "white"
             }
            },
            "header": {
             "fill": {
              "color": "#C8D4E3"
             },
             "line": {
              "color": "white"
             }
            },
            "type": "table"
           }
          ]
         },
         "layout": {
          "annotationdefaults": {
           "arrowcolor": "#2a3f5f",
           "arrowhead": 0,
           "arrowwidth": 1
          },
          "autotypenumbers": "strict",
          "coloraxis": {
           "colorbar": {
            "outlinewidth": 0,
            "ticks": ""
           }
          },
          "colorscale": {
           "diverging": [
            [
             0,
             "#8e0152"
            ],
            [
             0.1,
             "#c51b7d"
            ],
            [
             0.2,
             "#de77ae"
            ],
            [
             0.3,
             "#f1b6da"
            ],
            [
             0.4,
             "#fde0ef"
            ],
            [
             0.5,
             "#f7f7f7"
            ],
            [
             0.6,
             "#e6f5d0"
            ],
            [
             0.7,
             "#b8e186"
            ],
            [
             0.8,
             "#7fbc41"
            ],
            [
             0.9,
             "#4d9221"
            ],
            [
             1,
             "#276419"
            ]
           ],
           "sequential": [
            [
             0,
             "#0d0887"
            ],
            [
             0.1111111111111111,
             "#46039f"
            ],
            [
             0.2222222222222222,
             "#7201a8"
            ],
            [
             0.3333333333333333,
             "#9c179e"
            ],
            [
             0.4444444444444444,
             "#bd3786"
            ],
            [
             0.5555555555555556,
             "#d8576b"
            ],
            [
             0.6666666666666666,
             "#ed7953"
            ],
            [
             0.7777777777777778,
             "#fb9f3a"
            ],
            [
             0.8888888888888888,
             "#fdca26"
            ],
            [
             1,
             "#f0f921"
            ]
           ],
           "sequentialminus": [
            [
             0,
             "#0d0887"
            ],
            [
             0.1111111111111111,
             "#46039f"
            ],
            [
             0.2222222222222222,
             "#7201a8"
            ],
            [
             0.3333333333333333,
             "#9c179e"
            ],
            [
             0.4444444444444444,
             "#bd3786"
            ],
            [
             0.5555555555555556,
             "#d8576b"
            ],
            [
             0.6666666666666666,
             "#ed7953"
            ],
            [
             0.7777777777777778,
             "#fb9f3a"
            ],
            [
             0.8888888888888888,
             "#fdca26"
            ],
            [
             1,
             "#f0f921"
            ]
           ]
          },
          "colorway": [
           "#636efa",
           "#EF553B",
           "#00cc96",
           "#ab63fa",
           "#FFA15A",
           "#19d3f3",
           "#FF6692",
           "#B6E880",
           "#FF97FF",
           "#FECB52"
          ],
          "font": {
           "color": "#2a3f5f"
          },
          "geo": {
           "bgcolor": "white",
           "lakecolor": "white",
           "landcolor": "#E5ECF6",
           "showlakes": true,
           "showland": true,
           "subunitcolor": "white"
          },
          "hoverlabel": {
           "align": "left"
          },
          "hovermode": "closest",
          "mapbox": {
           "style": "light"
          },
          "paper_bgcolor": "white",
          "plot_bgcolor": "#E5ECF6",
          "polar": {
           "angularaxis": {
            "gridcolor": "white",
            "linecolor": "white",
            "ticks": ""
           },
           "bgcolor": "#E5ECF6",
           "radialaxis": {
            "gridcolor": "white",
            "linecolor": "white",
            "ticks": ""
           }
          },
          "scene": {
           "xaxis": {
            "backgroundcolor": "#E5ECF6",
            "gridcolor": "white",
            "gridwidth": 2,
            "linecolor": "white",
            "showbackground": true,
            "ticks": "",
            "zerolinecolor": "white"
           },
           "yaxis": {
            "backgroundcolor": "#E5ECF6",
            "gridcolor": "white",
            "gridwidth": 2,
            "linecolor": "white",
            "showbackground": true,
            "ticks": "",
            "zerolinecolor": "white"
           },
           "zaxis": {
            "backgroundcolor": "#E5ECF6",
            "gridcolor": "white",
            "gridwidth": 2,
            "linecolor": "white",
            "showbackground": true,
            "ticks": "",
            "zerolinecolor": "white"
           }
          },
          "shapedefaults": {
           "line": {
            "color": "#2a3f5f"
           }
          },
          "ternary": {
           "aaxis": {
            "gridcolor": "white",
            "linecolor": "white",
            "ticks": ""
           },
           "baxis": {
            "gridcolor": "white",
            "linecolor": "white",
            "ticks": ""
           },
           "bgcolor": "#E5ECF6",
           "caxis": {
            "gridcolor": "white",
            "linecolor": "white",
            "ticks": ""
           }
          },
          "title": {
           "x": 0.05
          },
          "xaxis": {
           "automargin": true,
           "gridcolor": "white",
           "linecolor": "white",
           "ticks": "",
           "title": {
            "standoff": 15
           },
           "zerolinecolor": "white",
           "zerolinewidth": 2
          },
          "yaxis": {
           "automargin": true,
           "gridcolor": "white",
           "linecolor": "white",
           "ticks": "",
           "title": {
            "standoff": 15
           },
           "zerolinecolor": "white",
           "zerolinewidth": 2
          }
         }
        },
        "title": {
         "text": "Change in Avg % of Technologies in Data Scientist Job Listings 2019",
         "x": 0.5
        },
        "xaxis": {
         "tickmode": "linear",
         "title": {
          "text": "Change in Avg %"
         }
        }
       }
      },
      "text/html": [
       "<div>                            <div id=\"f65c1935-b88c-482b-9016-f57ad99e203a\" class=\"plotly-graph-div\" style=\"height:700px; width:100%;\"></div>            <script type=\"text/javascript\">                require([\"plotly\"], function(Plotly) {                    window.PLOTLYENV=window.PLOTLYENV || {};                                    if (document.getElementById(\"f65c1935-b88c-482b-9016-f57ad99e203a\")) {                    Plotly.newPlot(                        \"f65c1935-b88c-482b-9016-f57ad99e203a\",                        [{\"marker\":{\"color\":[200.0,194.82758620689654,189.6551724137931,184.48275862068965,179.31034482758622,174.13793103448276,168.9655172413793,163.79310344827587,158.6206896551724,153.44827586206895,148.27586206896552,143.10344827586206,137.9310344827586,132.75862068965517,127.58620689655172,122.41379310344827,117.24137931034483,112.06896551724138,106.89655172413794,101.72413793103448,96.55172413793103,91.37931034482759,86.20689655172413,81.03448275862068,75.86206896551724,70.68965517241378,65.51724137931035,60.34482758620689,55.17241379310343,50.0],\"colorscale\":[[0.0,\"rgb(0,0,131)\"],[0.2,\"rgb(0,60,170)\"],[0.4,\"rgb(5,255,255)\"],[0.6,\"rgb(255,255,0)\"],[0.8,\"rgb(250,0,0)\"],[1.0,\"rgb(128,0,0)\"]]},\"orientation\":\"h\",\"x\":[3.48596458967928,3.6072866699979595,4.233263073318419,4.374353044692322,4.463038573087955,4.578439201485916,4.74749056807916,5.091300763052721,5.164137054186872,5.341395382629973,5.341474808738809,5.86282025478018,6.079586620604591,6.323142819355573,6.400282969991652,6.429799294325646,6.6761976915501675,6.740114009191296,9.561355136331903,9.621093016532546,9.89241512998977,10.513300355988777,12.794328746316639,14.448329713004988,16.13905137291137,17.42181043629101,17.605167580563787,18.64554075843118,31.28443554299122,42.60732046579635,64.25892706923685],\"y\":[\"Linux\",\"Hive\",\"Javascript\",\"Matlab\",\"C++\",\"Kubernetes\",\"Keras\",\"NoSQL\",\"Scala\",\"Docker\",\"C\",\"Databricks\",\"C#\",\"SAS\",\"GCP\",\"Git\",\"NumPy\",\"Hadoop\",\"Java\",\"Excel\",\"Pandas\",\"Scikit-learn\",\"Azure\",\"Spark\",\"Tableau\",\"AWS\",\"PyTorch\",\"TensorFlow\",\"R\",\"SQL\",\"Python\"],\"type\":\"bar\"}],                        {\"height\":700,\"template\":{\"data\":{\"barpolar\":[{\"marker\":{\"line\":{\"color\":\"#E5ECF6\",\"width\":0.5},\"pattern\":{\"fillmode\":\"overlay\",\"size\":10,\"solidity\":0.2}},\"type\":\"barpolar\"}],\"bar\":[{\"error_x\":{\"color\":\"#2a3f5f\"},\"error_y\":{\"color\":\"#2a3f5f\"},\"marker\":{\"line\":{\"color\":\"#E5ECF6\",\"width\":0.5},\"pattern\":{\"fillmode\":\"overlay\",\"size\":10,\"solidity\":0.2}},\"type\":\"bar\"}],\"carpet\":[{\"aaxis\":{\"endlinecolor\":\"#2a3f5f\",\"gridcolor\":\"white\",\"linecolor\":\"white\",\"minorgridcolor\":\"white\",\"startlinecolor\":\"#2a3f5f\"},\"baxis\":{\"endlinecolor\":\"#2a3f5f\",\"gridcolor\":\"white\",\"linecolor\":\"white\",\"minorgridcolor\":\"white\",\"startlinecolor\":\"#2a3f5f\"},\"type\":\"carpet\"}],\"choropleth\":[{\"colorbar\":{\"outlinewidth\":0,\"ticks\":\"\"},\"type\":\"choropleth\"}],\"contourcarpet\":[{\"colorbar\":{\"outlinewidth\":0,\"ticks\":\"\"},\"type\":\"contourcarpet\"}],\"contour\":[{\"colorbar\":{\"outlinewidth\":0,\"ticks\":\"\"},\"colorscale\":[[0.0,\"#0d0887\"],[0.1111111111111111,\"#46039f\"],[0.2222222222222222,\"#7201a8\"],[0.3333333333333333,\"#9c179e\"],[0.4444444444444444,\"#bd3786\"],[0.5555555555555556,\"#d8576b\"],[0.6666666666666666,\"#ed7953\"],[0.7777777777777778,\"#fb9f3a\"],[0.8888888888888888,\"#fdca26\"],[1.0,\"#f0f921\"]],\"type\":\"contour\"}],\"heatmapgl\":[{\"colorbar\":{\"outlinewidth\":0,\"ticks\":\"\"},\"colorscale\":[[0.0,\"#0d0887\"],[0.1111111111111111,\"#46039f\"],[0.2222222222222222,\"#7201a8\"],[0.3333333333333333,\"#9c179e\"],[0.4444444444444444,\"#bd3786\"],[0.5555555555555556,\"#d8576b\"],[0.6666666666666666,\"#ed7953\"],[0.7777777777777778,\"#fb9f3a\"],[0.8888888888888888,\"#fdca26\"],[1.0,\"#f0f921\"]],\"type\":\"heatmapgl\"}],\"heatmap\":[{\"colorbar\":{\"outlinewidth\":0,\"ticks\":\"\"},\"colorscale\":[[0.0,\"#0d0887\"],[0.1111111111111111,\"#46039f\"],[0.2222222222222222,\"#7201a8\"],[0.3333333333333333,\"#9c179e\"],[0.4444444444444444,\"#bd3786\"],[0.5555555555555556,\"#d8576b\"],[0.6666666666666666,\"#ed7953\"],[0.7777777777777778,\"#fb9f3a\"],[0.8888888888888888,\"#fdca26\"],[1.0,\"#f0f921\"]],\"type\":\"heatmap\"}],\"histogram2dcontour\":[{\"colorbar\":{\"outlinewidth\":0,\"ticks\":\"\"},\"colorscale\":[[0.0,\"#0d0887\"],[0.1111111111111111,\"#46039f\"],[0.2222222222222222,\"#7201a8\"],[0.3333333333333333,\"#9c179e\"],[0.4444444444444444,\"#bd3786\"],[0.5555555555555556,\"#d8576b\"],[0.6666666666666666,\"#ed7953\"],[0.7777777777777778,\"#fb9f3a\"],[0.8888888888888888,\"#fdca26\"],[1.0,\"#f0f921\"]],\"type\":\"histogram2dcontour\"}],\"histogram2d\":[{\"colorbar\":{\"outlinewidth\":0,\"ticks\":\"\"},\"colorscale\":[[0.0,\"#0d0887\"],[0.1111111111111111,\"#46039f\"],[0.2222222222222222,\"#7201a8\"],[0.3333333333333333,\"#9c179e\"],[0.4444444444444444,\"#bd3786\"],[0.5555555555555556,\"#d8576b\"],[0.6666666666666666,\"#ed7953\"],[0.7777777777777778,\"#fb9f3a\"],[0.8888888888888888,\"#fdca26\"],[1.0,\"#f0f921\"]],\"type\":\"histogram2d\"}],\"histogram\":[{\"marker\":{\"pattern\":{\"fillmode\":\"overlay\",\"size\":10,\"solidity\":0.2}},\"type\":\"histogram\"}],\"mesh3d\":[{\"colorbar\":{\"outlinewidth\":0,\"ticks\":\"\"},\"type\":\"mesh3d\"}],\"parcoords\":[{\"line\":{\"colorbar\":{\"outlinewidth\":0,\"ticks\":\"\"}},\"type\":\"parcoords\"}],\"pie\":[{\"automargin\":true,\"type\":\"pie\"}],\"scatter3d\":[{\"line\":{\"colorbar\":{\"outlinewidth\":0,\"ticks\":\"\"}},\"marker\":{\"colorbar\":{\"outlinewidth\":0,\"ticks\":\"\"}},\"type\":\"scatter3d\"}],\"scattercarpet\":[{\"marker\":{\"colorbar\":{\"outlinewidth\":0,\"ticks\":\"\"}},\"type\":\"scattercarpet\"}],\"scattergeo\":[{\"marker\":{\"colorbar\":{\"outlinewidth\":0,\"ticks\":\"\"}},\"type\":\"scattergeo\"}],\"scattergl\":[{\"marker\":{\"colorbar\":{\"outlinewidth\":0,\"ticks\":\"\"}},\"type\":\"scattergl\"}],\"scattermapbox\":[{\"marker\":{\"colorbar\":{\"outlinewidth\":0,\"ticks\":\"\"}},\"type\":\"scattermapbox\"}],\"scatterpolargl\":[{\"marker\":{\"colorbar\":{\"outlinewidth\":0,\"ticks\":\"\"}},\"type\":\"scatterpolargl\"}],\"scatterpolar\":[{\"marker\":{\"colorbar\":{\"outlinewidth\":0,\"ticks\":\"\"}},\"type\":\"scatterpolar\"}],\"scatter\":[{\"fillpattern\":{\"fillmode\":\"overlay\",\"size\":10,\"solidity\":0.2},\"type\":\"scatter\"}],\"scatterternary\":[{\"marker\":{\"colorbar\":{\"outlinewidth\":0,\"ticks\":\"\"}},\"type\":\"scatterternary\"}],\"surface\":[{\"colorbar\":{\"outlinewidth\":0,\"ticks\":\"\"},\"colorscale\":[[0.0,\"#0d0887\"],[0.1111111111111111,\"#46039f\"],[0.2222222222222222,\"#7201a8\"],[0.3333333333333333,\"#9c179e\"],[0.4444444444444444,\"#bd3786\"],[0.5555555555555556,\"#d8576b\"],[0.6666666666666666,\"#ed7953\"],[0.7777777777777778,\"#fb9f3a\"],[0.8888888888888888,\"#fdca26\"],[1.0,\"#f0f921\"]],\"type\":\"surface\"}],\"table\":[{\"cells\":{\"fill\":{\"color\":\"#EBF0F8\"},\"line\":{\"color\":\"white\"}},\"header\":{\"fill\":{\"color\":\"#C8D4E3\"},\"line\":{\"color\":\"white\"}},\"type\":\"table\"}]},\"layout\":{\"annotationdefaults\":{\"arrowcolor\":\"#2a3f5f\",\"arrowhead\":0,\"arrowwidth\":1},\"autotypenumbers\":\"strict\",\"coloraxis\":{\"colorbar\":{\"outlinewidth\":0,\"ticks\":\"\"}},\"colorscale\":{\"diverging\":[[0,\"#8e0152\"],[0.1,\"#c51b7d\"],[0.2,\"#de77ae\"],[0.3,\"#f1b6da\"],[0.4,\"#fde0ef\"],[0.5,\"#f7f7f7\"],[0.6,\"#e6f5d0\"],[0.7,\"#b8e186\"],[0.8,\"#7fbc41\"],[0.9,\"#4d9221\"],[1,\"#276419\"]],\"sequential\":[[0.0,\"#0d0887\"],[0.1111111111111111,\"#46039f\"],[0.2222222222222222,\"#7201a8\"],[0.3333333333333333,\"#9c179e\"],[0.4444444444444444,\"#bd3786\"],[0.5555555555555556,\"#d8576b\"],[0.6666666666666666,\"#ed7953\"],[0.7777777777777778,\"#fb9f3a\"],[0.8888888888888888,\"#fdca26\"],[1.0,\"#f0f921\"]],\"sequentialminus\":[[0.0,\"#0d0887\"],[0.1111111111111111,\"#46039f\"],[0.2222222222222222,\"#7201a8\"],[0.3333333333333333,\"#9c179e\"],[0.4444444444444444,\"#bd3786\"],[0.5555555555555556,\"#d8576b\"],[0.6666666666666666,\"#ed7953\"],[0.7777777777777778,\"#fb9f3a\"],[0.8888888888888888,\"#fdca26\"],[1.0,\"#f0f921\"]]},\"colorway\":[\"#636efa\",\"#EF553B\",\"#00cc96\",\"#ab63fa\",\"#FFA15A\",\"#19d3f3\",\"#FF6692\",\"#B6E880\",\"#FF97FF\",\"#FECB52\"],\"font\":{\"color\":\"#2a3f5f\"},\"geo\":{\"bgcolor\":\"white\",\"lakecolor\":\"white\",\"landcolor\":\"#E5ECF6\",\"showlakes\":true,\"showland\":true,\"subunitcolor\":\"white\"},\"hoverlabel\":{\"align\":\"left\"},\"hovermode\":\"closest\",\"mapbox\":{\"style\":\"light\"},\"paper_bgcolor\":\"white\",\"plot_bgcolor\":\"#E5ECF6\",\"polar\":{\"angularaxis\":{\"gridcolor\":\"white\",\"linecolor\":\"white\",\"ticks\":\"\"},\"bgcolor\":\"#E5ECF6\",\"radialaxis\":{\"gridcolor\":\"white\",\"linecolor\":\"white\",\"ticks\":\"\"}},\"scene\":{\"xaxis\":{\"backgroundcolor\":\"#E5ECF6\",\"gridcolor\":\"white\",\"gridwidth\":2,\"linecolor\":\"white\",\"showbackground\":true,\"ticks\":\"\",\"zerolinecolor\":\"white\"},\"yaxis\":{\"backgroundcolor\":\"#E5ECF6\",\"gridcolor\":\"white\",\"gridwidth\":2,\"linecolor\":\"white\",\"showbackground\":true,\"ticks\":\"\",\"zerolinecolor\":\"white\"},\"zaxis\":{\"backgroundcolor\":\"#E5ECF6\",\"gridcolor\":\"white\",\"gridwidth\":2,\"linecolor\":\"white\",\"showbackground\":true,\"ticks\":\"\",\"zerolinecolor\":\"white\"}},\"shapedefaults\":{\"line\":{\"color\":\"#2a3f5f\"}},\"ternary\":{\"aaxis\":{\"gridcolor\":\"white\",\"linecolor\":\"white\",\"ticks\":\"\"},\"baxis\":{\"gridcolor\":\"white\",\"linecolor\":\"white\",\"ticks\":\"\"},\"bgcolor\":\"#E5ECF6\",\"caxis\":{\"gridcolor\":\"white\",\"linecolor\":\"white\",\"ticks\":\"\"}},\"title\":{\"x\":0.05},\"xaxis\":{\"automargin\":true,\"gridcolor\":\"white\",\"linecolor\":\"white\",\"ticks\":\"\",\"title\":{\"standoff\":15},\"zerolinecolor\":\"white\",\"zerolinewidth\":2},\"yaxis\":{\"automargin\":true,\"gridcolor\":\"white\",\"linecolor\":\"white\",\"ticks\":\"\",\"title\":{\"standoff\":15},\"zerolinecolor\":\"white\",\"zerolinewidth\":2}}},\"title\":{\"text\":\"Change in Avg % of Technologies in Data Scientist Job Listings 2019\",\"x\":0.5},\"xaxis\":{\"tickmode\":\"linear\",\"title\":{\"text\":\"Change in Avg %\"}}},                        {\"responsive\": true}                    ).then(function(){\n",
       "                            \n",
       "var gd = document.getElementById('f65c1935-b88c-482b-9016-f57ad99e203a');\n",
       "var x = new MutationObserver(function (mutations, observer) {{\n",
       "        var display = window.getComputedStyle(gd).display;\n",
       "        if (!display || display === 'none') {{\n",
       "            console.log([gd, 'removed!']);\n",
       "            Plotly.purge(gd);\n",
       "            observer.disconnect();\n",
       "        }}\n",
       "}});\n",
       "\n",
       "// Listen for the removal of the full notebook cells\n",
       "var notebookContainer = gd.closest('#notebook-container');\n",
       "if (notebookContainer) {{\n",
       "    x.observe(notebookContainer, {childList: true});\n",
       "}}\n",
       "\n",
       "// Listen for the clearing of the current output cell\n",
       "var outputEl = gd.closest('.output');\n",
       "if (outputEl) {{\n",
       "    x.observe(outputEl, {childList: true});\n",
       "}}\n",
       "\n",
       "                        })                };                });            </script>        </div>"
      ]
     },
     "metadata": {},
     "output_type": "display_data"
    }
   ],
   "source": [
    "df_over_five_all_c = df_over_five_all.sort_values(by='Change in Avg', ascending=True)\n",
    "cmax=50\n",
    "cmin=200\n",
    "color_s = np.linspace(cmin, cmax, 30)\n",
    "\n",
    "data = [\n",
    "    go.Bar(\n",
    "        y=df_over_five_all_c.index,          \n",
    "        x=df_over_five_all_c['Change in Avg'],\n",
    "        orientation='h',\n",
    "        marker=dict(\n",
    "            colorscale='Jet',\n",
    "            #cauto=True,\n",
    "            color=color_s\n",
    "        ),\n",
    "        \n",
    "        \n",
    "        # text=p_s_df['Score'],\n",
    "        # textposition='outside',\n",
    "        # textfont=dict(size=10)\n",
    "    )\n",
    "]\n",
    "\n",
    "layout = {\n",
    "    'title': 'Change in Avg % of Technologies in Data Scientist Job Listings 2019',\n",
    "    'xaxis': {'title': 'Change in Avg %', 'tickmode': 'linear'},\n",
    "\n",
    "    'title_x':0.5,\n",
    "    'height': 700\n",
    "    \n",
    "}\n",
    "\n",
    "fig = go.Figure(data=data, layout=layout)\n",
    "py.iplot(fig)"
   ]
  },
  {
   "cell_type": "markdown",
   "id": "9618ca1c5151851d",
   "metadata": {
    "collapsed": false,
    "jupyter": {
     "outputs_hidden": false
    }
   },
   "source": [
    "Percent change"
   ]
  },
  {
   "cell_type": "code",
   "execution_count": 92,
   "id": "d9054b9956a09a52",
   "metadata": {
    "ExecuteTime": {
     "end_time": "2023-10-06T08:27:18.407822Z",
     "start_time": "2023-10-06T08:27:18.265790900Z"
    },
    "collapsed": false,
    "jupyter": {
     "outputs_hidden": false
    }
   },
   "outputs": [
    {
     "data": {
      "application/vnd.plotly.v1+json": {
       "config": {
        "linkText": "Export to plot.ly",
        "plotlyServerURL": "https://plot.ly",
        "showLink": false
       },
       "data": [
        {
         "marker": {
          "color": [
           200,
           194.82758620689654,
           189.6551724137931,
           184.48275862068965,
           179.31034482758622,
           174.13793103448276,
           168.9655172413793,
           163.79310344827587,
           158.6206896551724,
           153.44827586206895,
           148.27586206896552,
           143.10344827586206,
           137.9310344827586,
           132.75862068965517,
           127.58620689655172,
           122.41379310344827,
           117.24137931034483,
           112.06896551724138,
           106.89655172413794,
           101.72413793103448,
           96.55172413793103,
           91.37931034482759,
           86.20689655172413,
           81.03448275862068,
           75.86206896551724,
           70.68965517241378,
           65.51724137931035,
           60.34482758620689,
           55.17241379310343,
           50
          ],
          "colorscale": [
           [
            0,
            "rgb(0,0,131)"
           ],
           [
            0.2,
            "rgb(0,60,170)"
           ],
           [
            0.4,
            "rgb(5,255,255)"
           ],
           [
            0.6,
            "rgb(255,255,0)"
           ],
           [
            0.8,
            "rgb(250,0,0)"
           ],
           [
            1,
            "rgb(128,0,0)"
           ]
          ]
         },
         "orientation": "h",
         "type": "bar",
         "x": [
          140.09932110902992,
          140.68895888701257,
          176.66183770076995,
          202.2710459718726,
          205.91305646687977,
          207.36526447152124,
          212.85101184393193,
          231.0608662974503,
          279.8453527039488,
          293.13881830074104,
          312.6824404573114,
          324.1420097343656,
          394.15263199094613,
          430.99530998647333,
          431.476350735556,
          432.2503213438112,
          471.3966475858584,
          475.871017841032,
          477.84322379031255,
          535.425497716503,
          569.3785941632719,
          631.8698707185913,
          666.3679985662138,
          668.255888624603,
          689.8026683981176,
          703.1094609866667,
          717.717228072585,
          785.2123629323409,
          1037.2245976501172,
          1412.9216341250303,
          1642.1920549672786
         ],
         "y": [
          "Hadoop",
          "Hive",
          "C++",
          "SAS",
          "Scala",
          "Linux",
          "Java",
          "Matlab",
          "Spark",
          "NoSQL",
          "R",
          "C",
          "Keras",
          "SQL",
          "Javascript",
          "Tableau",
          "Python",
          "AWS",
          "Excel",
          "Docker",
          "Git",
          "Scikit-learn",
          "NumPy",
          "C#",
          "Azure",
          "TensorFlow",
          "Kubernetes",
          "Pandas",
          "GCP",
          "Databricks",
          "PyTorch"
         ]
        }
       ],
       "layout": {
        "height": 700,
        "template": {
         "data": {
          "bar": [
           {
            "error_x": {
             "color": "#2a3f5f"
            },
            "error_y": {
             "color": "#2a3f5f"
            },
            "marker": {
             "line": {
              "color": "#E5ECF6",
              "width": 0.5
             },
             "pattern": {
              "fillmode": "overlay",
              "size": 10,
              "solidity": 0.2
             }
            },
            "type": "bar"
           }
          ],
          "barpolar": [
           {
            "marker": {
             "line": {
              "color": "#E5ECF6",
              "width": 0.5
             },
             "pattern": {
              "fillmode": "overlay",
              "size": 10,
              "solidity": 0.2
             }
            },
            "type": "barpolar"
           }
          ],
          "carpet": [
           {
            "aaxis": {
             "endlinecolor": "#2a3f5f",
             "gridcolor": "white",
             "linecolor": "white",
             "minorgridcolor": "white",
             "startlinecolor": "#2a3f5f"
            },
            "baxis": {
             "endlinecolor": "#2a3f5f",
             "gridcolor": "white",
             "linecolor": "white",
             "minorgridcolor": "white",
             "startlinecolor": "#2a3f5f"
            },
            "type": "carpet"
           }
          ],
          "choropleth": [
           {
            "colorbar": {
             "outlinewidth": 0,
             "ticks": ""
            },
            "type": "choropleth"
           }
          ],
          "contour": [
           {
            "colorbar": {
             "outlinewidth": 0,
             "ticks": ""
            },
            "colorscale": [
             [
              0,
              "#0d0887"
             ],
             [
              0.1111111111111111,
              "#46039f"
             ],
             [
              0.2222222222222222,
              "#7201a8"
             ],
             [
              0.3333333333333333,
              "#9c179e"
             ],
             [
              0.4444444444444444,
              "#bd3786"
             ],
             [
              0.5555555555555556,
              "#d8576b"
             ],
             [
              0.6666666666666666,
              "#ed7953"
             ],
             [
              0.7777777777777778,
              "#fb9f3a"
             ],
             [
              0.8888888888888888,
              "#fdca26"
             ],
             [
              1,
              "#f0f921"
             ]
            ],
            "type": "contour"
           }
          ],
          "contourcarpet": [
           {
            "colorbar": {
             "outlinewidth": 0,
             "ticks": ""
            },
            "type": "contourcarpet"
           }
          ],
          "heatmap": [
           {
            "colorbar": {
             "outlinewidth": 0,
             "ticks": ""
            },
            "colorscale": [
             [
              0,
              "#0d0887"
             ],
             [
              0.1111111111111111,
              "#46039f"
             ],
             [
              0.2222222222222222,
              "#7201a8"
             ],
             [
              0.3333333333333333,
              "#9c179e"
             ],
             [
              0.4444444444444444,
              "#bd3786"
             ],
             [
              0.5555555555555556,
              "#d8576b"
             ],
             [
              0.6666666666666666,
              "#ed7953"
             ],
             [
              0.7777777777777778,
              "#fb9f3a"
             ],
             [
              0.8888888888888888,
              "#fdca26"
             ],
             [
              1,
              "#f0f921"
             ]
            ],
            "type": "heatmap"
           }
          ],
          "heatmapgl": [
           {
            "colorbar": {
             "outlinewidth": 0,
             "ticks": ""
            },
            "colorscale": [
             [
              0,
              "#0d0887"
             ],
             [
              0.1111111111111111,
              "#46039f"
             ],
             [
              0.2222222222222222,
              "#7201a8"
             ],
             [
              0.3333333333333333,
              "#9c179e"
             ],
             [
              0.4444444444444444,
              "#bd3786"
             ],
             [
              0.5555555555555556,
              "#d8576b"
             ],
             [
              0.6666666666666666,
              "#ed7953"
             ],
             [
              0.7777777777777778,
              "#fb9f3a"
             ],
             [
              0.8888888888888888,
              "#fdca26"
             ],
             [
              1,
              "#f0f921"
             ]
            ],
            "type": "heatmapgl"
           }
          ],
          "histogram": [
           {
            "marker": {
             "pattern": {
              "fillmode": "overlay",
              "size": 10,
              "solidity": 0.2
             }
            },
            "type": "histogram"
           }
          ],
          "histogram2d": [
           {
            "colorbar": {
             "outlinewidth": 0,
             "ticks": ""
            },
            "colorscale": [
             [
              0,
              "#0d0887"
             ],
             [
              0.1111111111111111,
              "#46039f"
             ],
             [
              0.2222222222222222,
              "#7201a8"
             ],
             [
              0.3333333333333333,
              "#9c179e"
             ],
             [
              0.4444444444444444,
              "#bd3786"
             ],
             [
              0.5555555555555556,
              "#d8576b"
             ],
             [
              0.6666666666666666,
              "#ed7953"
             ],
             [
              0.7777777777777778,
              "#fb9f3a"
             ],
             [
              0.8888888888888888,
              "#fdca26"
             ],
             [
              1,
              "#f0f921"
             ]
            ],
            "type": "histogram2d"
           }
          ],
          "histogram2dcontour": [
           {
            "colorbar": {
             "outlinewidth": 0,
             "ticks": ""
            },
            "colorscale": [
             [
              0,
              "#0d0887"
             ],
             [
              0.1111111111111111,
              "#46039f"
             ],
             [
              0.2222222222222222,
              "#7201a8"
             ],
             [
              0.3333333333333333,
              "#9c179e"
             ],
             [
              0.4444444444444444,
              "#bd3786"
             ],
             [
              0.5555555555555556,
              "#d8576b"
             ],
             [
              0.6666666666666666,
              "#ed7953"
             ],
             [
              0.7777777777777778,
              "#fb9f3a"
             ],
             [
              0.8888888888888888,
              "#fdca26"
             ],
             [
              1,
              "#f0f921"
             ]
            ],
            "type": "histogram2dcontour"
           }
          ],
          "mesh3d": [
           {
            "colorbar": {
             "outlinewidth": 0,
             "ticks": ""
            },
            "type": "mesh3d"
           }
          ],
          "parcoords": [
           {
            "line": {
             "colorbar": {
              "outlinewidth": 0,
              "ticks": ""
             }
            },
            "type": "parcoords"
           }
          ],
          "pie": [
           {
            "automargin": true,
            "type": "pie"
           }
          ],
          "scatter": [
           {
            "fillpattern": {
             "fillmode": "overlay",
             "size": 10,
             "solidity": 0.2
            },
            "type": "scatter"
           }
          ],
          "scatter3d": [
           {
            "line": {
             "colorbar": {
              "outlinewidth": 0,
              "ticks": ""
             }
            },
            "marker": {
             "colorbar": {
              "outlinewidth": 0,
              "ticks": ""
             }
            },
            "type": "scatter3d"
           }
          ],
          "scattercarpet": [
           {
            "marker": {
             "colorbar": {
              "outlinewidth": 0,
              "ticks": ""
             }
            },
            "type": "scattercarpet"
           }
          ],
          "scattergeo": [
           {
            "marker": {
             "colorbar": {
              "outlinewidth": 0,
              "ticks": ""
             }
            },
            "type": "scattergeo"
           }
          ],
          "scattergl": [
           {
            "marker": {
             "colorbar": {
              "outlinewidth": 0,
              "ticks": ""
             }
            },
            "type": "scattergl"
           }
          ],
          "scattermapbox": [
           {
            "marker": {
             "colorbar": {
              "outlinewidth": 0,
              "ticks": ""
             }
            },
            "type": "scattermapbox"
           }
          ],
          "scatterpolar": [
           {
            "marker": {
             "colorbar": {
              "outlinewidth": 0,
              "ticks": ""
             }
            },
            "type": "scatterpolar"
           }
          ],
          "scatterpolargl": [
           {
            "marker": {
             "colorbar": {
              "outlinewidth": 0,
              "ticks": ""
             }
            },
            "type": "scatterpolargl"
           }
          ],
          "scatterternary": [
           {
            "marker": {
             "colorbar": {
              "outlinewidth": 0,
              "ticks": ""
             }
            },
            "type": "scatterternary"
           }
          ],
          "surface": [
           {
            "colorbar": {
             "outlinewidth": 0,
             "ticks": ""
            },
            "colorscale": [
             [
              0,
              "#0d0887"
             ],
             [
              0.1111111111111111,
              "#46039f"
             ],
             [
              0.2222222222222222,
              "#7201a8"
             ],
             [
              0.3333333333333333,
              "#9c179e"
             ],
             [
              0.4444444444444444,
              "#bd3786"
             ],
             [
              0.5555555555555556,
              "#d8576b"
             ],
             [
              0.6666666666666666,
              "#ed7953"
             ],
             [
              0.7777777777777778,
              "#fb9f3a"
             ],
             [
              0.8888888888888888,
              "#fdca26"
             ],
             [
              1,
              "#f0f921"
             ]
            ],
            "type": "surface"
           }
          ],
          "table": [
           {
            "cells": {
             "fill": {
              "color": "#EBF0F8"
             },
             "line": {
              "color": "white"
             }
            },
            "header": {
             "fill": {
              "color": "#C8D4E3"
             },
             "line": {
              "color": "white"
             }
            },
            "type": "table"
           }
          ]
         },
         "layout": {
          "annotationdefaults": {
           "arrowcolor": "#2a3f5f",
           "arrowhead": 0,
           "arrowwidth": 1
          },
          "autotypenumbers": "strict",
          "coloraxis": {
           "colorbar": {
            "outlinewidth": 0,
            "ticks": ""
           }
          },
          "colorscale": {
           "diverging": [
            [
             0,
             "#8e0152"
            ],
            [
             0.1,
             "#c51b7d"
            ],
            [
             0.2,
             "#de77ae"
            ],
            [
             0.3,
             "#f1b6da"
            ],
            [
             0.4,
             "#fde0ef"
            ],
            [
             0.5,
             "#f7f7f7"
            ],
            [
             0.6,
             "#e6f5d0"
            ],
            [
             0.7,
             "#b8e186"
            ],
            [
             0.8,
             "#7fbc41"
            ],
            [
             0.9,
             "#4d9221"
            ],
            [
             1,
             "#276419"
            ]
           ],
           "sequential": [
            [
             0,
             "#0d0887"
            ],
            [
             0.1111111111111111,
             "#46039f"
            ],
            [
             0.2222222222222222,
             "#7201a8"
            ],
            [
             0.3333333333333333,
             "#9c179e"
            ],
            [
             0.4444444444444444,
             "#bd3786"
            ],
            [
             0.5555555555555556,
             "#d8576b"
            ],
            [
             0.6666666666666666,
             "#ed7953"
            ],
            [
             0.7777777777777778,
             "#fb9f3a"
            ],
            [
             0.8888888888888888,
             "#fdca26"
            ],
            [
             1,
             "#f0f921"
            ]
           ],
           "sequentialminus": [
            [
             0,
             "#0d0887"
            ],
            [
             0.1111111111111111,
             "#46039f"
            ],
            [
             0.2222222222222222,
             "#7201a8"
            ],
            [
             0.3333333333333333,
             "#9c179e"
            ],
            [
             0.4444444444444444,
             "#bd3786"
            ],
            [
             0.5555555555555556,
             "#d8576b"
            ],
            [
             0.6666666666666666,
             "#ed7953"
            ],
            [
             0.7777777777777778,
             "#fb9f3a"
            ],
            [
             0.8888888888888888,
             "#fdca26"
            ],
            [
             1,
             "#f0f921"
            ]
           ]
          },
          "colorway": [
           "#636efa",
           "#EF553B",
           "#00cc96",
           "#ab63fa",
           "#FFA15A",
           "#19d3f3",
           "#FF6692",
           "#B6E880",
           "#FF97FF",
           "#FECB52"
          ],
          "font": {
           "color": "#2a3f5f"
          },
          "geo": {
           "bgcolor": "white",
           "lakecolor": "white",
           "landcolor": "#E5ECF6",
           "showlakes": true,
           "showland": true,
           "subunitcolor": "white"
          },
          "hoverlabel": {
           "align": "left"
          },
          "hovermode": "closest",
          "mapbox": {
           "style": "light"
          },
          "paper_bgcolor": "white",
          "plot_bgcolor": "#E5ECF6",
          "polar": {
           "angularaxis": {
            "gridcolor": "white",
            "linecolor": "white",
            "ticks": ""
           },
           "bgcolor": "#E5ECF6",
           "radialaxis": {
            "gridcolor": "white",
            "linecolor": "white",
            "ticks": ""
           }
          },
          "scene": {
           "xaxis": {
            "backgroundcolor": "#E5ECF6",
            "gridcolor": "white",
            "gridwidth": 2,
            "linecolor": "white",
            "showbackground": true,
            "ticks": "",
            "zerolinecolor": "white"
           },
           "yaxis": {
            "backgroundcolor": "#E5ECF6",
            "gridcolor": "white",
            "gridwidth": 2,
            "linecolor": "white",
            "showbackground": true,
            "ticks": "",
            "zerolinecolor": "white"
           },
           "zaxis": {
            "backgroundcolor": "#E5ECF6",
            "gridcolor": "white",
            "gridwidth": 2,
            "linecolor": "white",
            "showbackground": true,
            "ticks": "",
            "zerolinecolor": "white"
           }
          },
          "shapedefaults": {
           "line": {
            "color": "#2a3f5f"
           }
          },
          "ternary": {
           "aaxis": {
            "gridcolor": "white",
            "linecolor": "white",
            "ticks": ""
           },
           "baxis": {
            "gridcolor": "white",
            "linecolor": "white",
            "ticks": ""
           },
           "bgcolor": "#E5ECF6",
           "caxis": {
            "gridcolor": "white",
            "linecolor": "white",
            "ticks": ""
           }
          },
          "title": {
           "x": 0.05
          },
          "xaxis": {
           "automargin": true,
           "gridcolor": "white",
           "linecolor": "white",
           "ticks": "",
           "title": {
            "standoff": 15
           },
           "zerolinecolor": "white",
           "zerolinewidth": 2
          },
          "yaxis": {
           "automargin": true,
           "gridcolor": "white",
           "linecolor": "white",
           "ticks": "",
           "title": {
            "standoff": 15
           },
           "zerolinecolor": "white",
           "zerolinewidth": 2
          }
         }
        },
        "title": {
         "text": "% Change in Technologies in Data Scientist Job Listings 2018 to 2019",
         "x": 0.5
        },
        "xaxis": {
         "title": {
          "text": "% Change"
         }
        },
        "yaxis": {
         "tickmode": "linear"
        }
       }
      },
      "text/html": [
       "<div>                            <div id=\"311d8579-1100-43e0-8a3e-1b86937c18e5\" class=\"plotly-graph-div\" style=\"height:700px; width:100%;\"></div>            <script type=\"text/javascript\">                require([\"plotly\"], function(Plotly) {                    window.PLOTLYENV=window.PLOTLYENV || {};                                    if (document.getElementById(\"311d8579-1100-43e0-8a3e-1b86937c18e5\")) {                    Plotly.newPlot(                        \"311d8579-1100-43e0-8a3e-1b86937c18e5\",                        [{\"marker\":{\"color\":[200.0,194.82758620689654,189.6551724137931,184.48275862068965,179.31034482758622,174.13793103448276,168.9655172413793,163.79310344827587,158.6206896551724,153.44827586206895,148.27586206896552,143.10344827586206,137.9310344827586,132.75862068965517,127.58620689655172,122.41379310344827,117.24137931034483,112.06896551724138,106.89655172413794,101.72413793103448,96.55172413793103,91.37931034482759,86.20689655172413,81.03448275862068,75.86206896551724,70.68965517241378,65.51724137931035,60.34482758620689,55.17241379310343,50.0],\"colorscale\":[[0.0,\"rgb(0,0,131)\"],[0.2,\"rgb(0,60,170)\"],[0.4,\"rgb(5,255,255)\"],[0.6,\"rgb(255,255,0)\"],[0.8,\"rgb(250,0,0)\"],[1.0,\"rgb(128,0,0)\"]]},\"orientation\":\"h\",\"x\":[140.09932110902992,140.68895888701257,176.66183770076995,202.2710459718726,205.91305646687977,207.36526447152124,212.85101184393193,231.0608662974503,279.8453527039488,293.13881830074104,312.6824404573114,324.1420097343656,394.15263199094613,430.99530998647333,431.476350735556,432.2503213438112,471.3966475858584,475.871017841032,477.84322379031255,535.425497716503,569.3785941632719,631.8698707185913,666.3679985662138,668.255888624603,689.8026683981176,703.1094609866667,717.717228072585,785.2123629323409,1037.2245976501172,1412.9216341250303,1642.1920549672786],\"y\":[\"Hadoop\",\"Hive\",\"C++\",\"SAS\",\"Scala\",\"Linux\",\"Java\",\"Matlab\",\"Spark\",\"NoSQL\",\"R\",\"C\",\"Keras\",\"SQL\",\"Javascript\",\"Tableau\",\"Python\",\"AWS\",\"Excel\",\"Docker\",\"Git\",\"Scikit-learn\",\"NumPy\",\"C#\",\"Azure\",\"TensorFlow\",\"Kubernetes\",\"Pandas\",\"GCP\",\"Databricks\",\"PyTorch\"],\"type\":\"bar\"}],                        {\"height\":700,\"template\":{\"data\":{\"barpolar\":[{\"marker\":{\"line\":{\"color\":\"#E5ECF6\",\"width\":0.5},\"pattern\":{\"fillmode\":\"overlay\",\"size\":10,\"solidity\":0.2}},\"type\":\"barpolar\"}],\"bar\":[{\"error_x\":{\"color\":\"#2a3f5f\"},\"error_y\":{\"color\":\"#2a3f5f\"},\"marker\":{\"line\":{\"color\":\"#E5ECF6\",\"width\":0.5},\"pattern\":{\"fillmode\":\"overlay\",\"size\":10,\"solidity\":0.2}},\"type\":\"bar\"}],\"carpet\":[{\"aaxis\":{\"endlinecolor\":\"#2a3f5f\",\"gridcolor\":\"white\",\"linecolor\":\"white\",\"minorgridcolor\":\"white\",\"startlinecolor\":\"#2a3f5f\"},\"baxis\":{\"endlinecolor\":\"#2a3f5f\",\"gridcolor\":\"white\",\"linecolor\":\"white\",\"minorgridcolor\":\"white\",\"startlinecolor\":\"#2a3f5f\"},\"type\":\"carpet\"}],\"choropleth\":[{\"colorbar\":{\"outlinewidth\":0,\"ticks\":\"\"},\"type\":\"choropleth\"}],\"contourcarpet\":[{\"colorbar\":{\"outlinewidth\":0,\"ticks\":\"\"},\"type\":\"contourcarpet\"}],\"contour\":[{\"colorbar\":{\"outlinewidth\":0,\"ticks\":\"\"},\"colorscale\":[[0.0,\"#0d0887\"],[0.1111111111111111,\"#46039f\"],[0.2222222222222222,\"#7201a8\"],[0.3333333333333333,\"#9c179e\"],[0.4444444444444444,\"#bd3786\"],[0.5555555555555556,\"#d8576b\"],[0.6666666666666666,\"#ed7953\"],[0.7777777777777778,\"#fb9f3a\"],[0.8888888888888888,\"#fdca26\"],[1.0,\"#f0f921\"]],\"type\":\"contour\"}],\"heatmapgl\":[{\"colorbar\":{\"outlinewidth\":0,\"ticks\":\"\"},\"colorscale\":[[0.0,\"#0d0887\"],[0.1111111111111111,\"#46039f\"],[0.2222222222222222,\"#7201a8\"],[0.3333333333333333,\"#9c179e\"],[0.4444444444444444,\"#bd3786\"],[0.5555555555555556,\"#d8576b\"],[0.6666666666666666,\"#ed7953\"],[0.7777777777777778,\"#fb9f3a\"],[0.8888888888888888,\"#fdca26\"],[1.0,\"#f0f921\"]],\"type\":\"heatmapgl\"}],\"heatmap\":[{\"colorbar\":{\"outlinewidth\":0,\"ticks\":\"\"},\"colorscale\":[[0.0,\"#0d0887\"],[0.1111111111111111,\"#46039f\"],[0.2222222222222222,\"#7201a8\"],[0.3333333333333333,\"#9c179e\"],[0.4444444444444444,\"#bd3786\"],[0.5555555555555556,\"#d8576b\"],[0.6666666666666666,\"#ed7953\"],[0.7777777777777778,\"#fb9f3a\"],[0.8888888888888888,\"#fdca26\"],[1.0,\"#f0f921\"]],\"type\":\"heatmap\"}],\"histogram2dcontour\":[{\"colorbar\":{\"outlinewidth\":0,\"ticks\":\"\"},\"colorscale\":[[0.0,\"#0d0887\"],[0.1111111111111111,\"#46039f\"],[0.2222222222222222,\"#7201a8\"],[0.3333333333333333,\"#9c179e\"],[0.4444444444444444,\"#bd3786\"],[0.5555555555555556,\"#d8576b\"],[0.6666666666666666,\"#ed7953\"],[0.7777777777777778,\"#fb9f3a\"],[0.8888888888888888,\"#fdca26\"],[1.0,\"#f0f921\"]],\"type\":\"histogram2dcontour\"}],\"histogram2d\":[{\"colorbar\":{\"outlinewidth\":0,\"ticks\":\"\"},\"colorscale\":[[0.0,\"#0d0887\"],[0.1111111111111111,\"#46039f\"],[0.2222222222222222,\"#7201a8\"],[0.3333333333333333,\"#9c179e\"],[0.4444444444444444,\"#bd3786\"],[0.5555555555555556,\"#d8576b\"],[0.6666666666666666,\"#ed7953\"],[0.7777777777777778,\"#fb9f3a\"],[0.8888888888888888,\"#fdca26\"],[1.0,\"#f0f921\"]],\"type\":\"histogram2d\"}],\"histogram\":[{\"marker\":{\"pattern\":{\"fillmode\":\"overlay\",\"size\":10,\"solidity\":0.2}},\"type\":\"histogram\"}],\"mesh3d\":[{\"colorbar\":{\"outlinewidth\":0,\"ticks\":\"\"},\"type\":\"mesh3d\"}],\"parcoords\":[{\"line\":{\"colorbar\":{\"outlinewidth\":0,\"ticks\":\"\"}},\"type\":\"parcoords\"}],\"pie\":[{\"automargin\":true,\"type\":\"pie\"}],\"scatter3d\":[{\"line\":{\"colorbar\":{\"outlinewidth\":0,\"ticks\":\"\"}},\"marker\":{\"colorbar\":{\"outlinewidth\":0,\"ticks\":\"\"}},\"type\":\"scatter3d\"}],\"scattercarpet\":[{\"marker\":{\"colorbar\":{\"outlinewidth\":0,\"ticks\":\"\"}},\"type\":\"scattercarpet\"}],\"scattergeo\":[{\"marker\":{\"colorbar\":{\"outlinewidth\":0,\"ticks\":\"\"}},\"type\":\"scattergeo\"}],\"scattergl\":[{\"marker\":{\"colorbar\":{\"outlinewidth\":0,\"ticks\":\"\"}},\"type\":\"scattergl\"}],\"scattermapbox\":[{\"marker\":{\"colorbar\":{\"outlinewidth\":0,\"ticks\":\"\"}},\"type\":\"scattermapbox\"}],\"scatterpolargl\":[{\"marker\":{\"colorbar\":{\"outlinewidth\":0,\"ticks\":\"\"}},\"type\":\"scatterpolargl\"}],\"scatterpolar\":[{\"marker\":{\"colorbar\":{\"outlinewidth\":0,\"ticks\":\"\"}},\"type\":\"scatterpolar\"}],\"scatter\":[{\"fillpattern\":{\"fillmode\":\"overlay\",\"size\":10,\"solidity\":0.2},\"type\":\"scatter\"}],\"scatterternary\":[{\"marker\":{\"colorbar\":{\"outlinewidth\":0,\"ticks\":\"\"}},\"type\":\"scatterternary\"}],\"surface\":[{\"colorbar\":{\"outlinewidth\":0,\"ticks\":\"\"},\"colorscale\":[[0.0,\"#0d0887\"],[0.1111111111111111,\"#46039f\"],[0.2222222222222222,\"#7201a8\"],[0.3333333333333333,\"#9c179e\"],[0.4444444444444444,\"#bd3786\"],[0.5555555555555556,\"#d8576b\"],[0.6666666666666666,\"#ed7953\"],[0.7777777777777778,\"#fb9f3a\"],[0.8888888888888888,\"#fdca26\"],[1.0,\"#f0f921\"]],\"type\":\"surface\"}],\"table\":[{\"cells\":{\"fill\":{\"color\":\"#EBF0F8\"},\"line\":{\"color\":\"white\"}},\"header\":{\"fill\":{\"color\":\"#C8D4E3\"},\"line\":{\"color\":\"white\"}},\"type\":\"table\"}]},\"layout\":{\"annotationdefaults\":{\"arrowcolor\":\"#2a3f5f\",\"arrowhead\":0,\"arrowwidth\":1},\"autotypenumbers\":\"strict\",\"coloraxis\":{\"colorbar\":{\"outlinewidth\":0,\"ticks\":\"\"}},\"colorscale\":{\"diverging\":[[0,\"#8e0152\"],[0.1,\"#c51b7d\"],[0.2,\"#de77ae\"],[0.3,\"#f1b6da\"],[0.4,\"#fde0ef\"],[0.5,\"#f7f7f7\"],[0.6,\"#e6f5d0\"],[0.7,\"#b8e186\"],[0.8,\"#7fbc41\"],[0.9,\"#4d9221\"],[1,\"#276419\"]],\"sequential\":[[0.0,\"#0d0887\"],[0.1111111111111111,\"#46039f\"],[0.2222222222222222,\"#7201a8\"],[0.3333333333333333,\"#9c179e\"],[0.4444444444444444,\"#bd3786\"],[0.5555555555555556,\"#d8576b\"],[0.6666666666666666,\"#ed7953\"],[0.7777777777777778,\"#fb9f3a\"],[0.8888888888888888,\"#fdca26\"],[1.0,\"#f0f921\"]],\"sequentialminus\":[[0.0,\"#0d0887\"],[0.1111111111111111,\"#46039f\"],[0.2222222222222222,\"#7201a8\"],[0.3333333333333333,\"#9c179e\"],[0.4444444444444444,\"#bd3786\"],[0.5555555555555556,\"#d8576b\"],[0.6666666666666666,\"#ed7953\"],[0.7777777777777778,\"#fb9f3a\"],[0.8888888888888888,\"#fdca26\"],[1.0,\"#f0f921\"]]},\"colorway\":[\"#636efa\",\"#EF553B\",\"#00cc96\",\"#ab63fa\",\"#FFA15A\",\"#19d3f3\",\"#FF6692\",\"#B6E880\",\"#FF97FF\",\"#FECB52\"],\"font\":{\"color\":\"#2a3f5f\"},\"geo\":{\"bgcolor\":\"white\",\"lakecolor\":\"white\",\"landcolor\":\"#E5ECF6\",\"showlakes\":true,\"showland\":true,\"subunitcolor\":\"white\"},\"hoverlabel\":{\"align\":\"left\"},\"hovermode\":\"closest\",\"mapbox\":{\"style\":\"light\"},\"paper_bgcolor\":\"white\",\"plot_bgcolor\":\"#E5ECF6\",\"polar\":{\"angularaxis\":{\"gridcolor\":\"white\",\"linecolor\":\"white\",\"ticks\":\"\"},\"bgcolor\":\"#E5ECF6\",\"radialaxis\":{\"gridcolor\":\"white\",\"linecolor\":\"white\",\"ticks\":\"\"}},\"scene\":{\"xaxis\":{\"backgroundcolor\":\"#E5ECF6\",\"gridcolor\":\"white\",\"gridwidth\":2,\"linecolor\":\"white\",\"showbackground\":true,\"ticks\":\"\",\"zerolinecolor\":\"white\"},\"yaxis\":{\"backgroundcolor\":\"#E5ECF6\",\"gridcolor\":\"white\",\"gridwidth\":2,\"linecolor\":\"white\",\"showbackground\":true,\"ticks\":\"\",\"zerolinecolor\":\"white\"},\"zaxis\":{\"backgroundcolor\":\"#E5ECF6\",\"gridcolor\":\"white\",\"gridwidth\":2,\"linecolor\":\"white\",\"showbackground\":true,\"ticks\":\"\",\"zerolinecolor\":\"white\"}},\"shapedefaults\":{\"line\":{\"color\":\"#2a3f5f\"}},\"ternary\":{\"aaxis\":{\"gridcolor\":\"white\",\"linecolor\":\"white\",\"ticks\":\"\"},\"baxis\":{\"gridcolor\":\"white\",\"linecolor\":\"white\",\"ticks\":\"\"},\"bgcolor\":\"#E5ECF6\",\"caxis\":{\"gridcolor\":\"white\",\"linecolor\":\"white\",\"ticks\":\"\"}},\"title\":{\"x\":0.05},\"xaxis\":{\"automargin\":true,\"gridcolor\":\"white\",\"linecolor\":\"white\",\"ticks\":\"\",\"title\":{\"standoff\":15},\"zerolinecolor\":\"white\",\"zerolinewidth\":2},\"yaxis\":{\"automargin\":true,\"gridcolor\":\"white\",\"linecolor\":\"white\",\"ticks\":\"\",\"title\":{\"standoff\":15},\"zerolinecolor\":\"white\",\"zerolinewidth\":2}}},\"title\":{\"text\":\"% Change in Technologies in Data Scientist Job Listings 2018 to 2019\",\"x\":0.5},\"xaxis\":{\"title\":{\"text\":\"% Change\"}},\"yaxis\":{\"tickmode\":\"linear\"}},                        {\"responsive\": true}                    ).then(function(){\n",
       "                            \n",
       "var gd = document.getElementById('311d8579-1100-43e0-8a3e-1b86937c18e5');\n",
       "var x = new MutationObserver(function (mutations, observer) {{\n",
       "        var display = window.getComputedStyle(gd).display;\n",
       "        if (!display || display === 'none') {{\n",
       "            console.log([gd, 'removed!']);\n",
       "            Plotly.purge(gd);\n",
       "            observer.disconnect();\n",
       "        }}\n",
       "}});\n",
       "\n",
       "// Listen for the removal of the full notebook cells\n",
       "var notebookContainer = gd.closest('#notebook-container');\n",
       "if (notebookContainer) {{\n",
       "    x.observe(notebookContainer, {childList: true});\n",
       "}}\n",
       "\n",
       "// Listen for the clearing of the current output cell\n",
       "var outputEl = gd.closest('.output');\n",
       "if (outputEl) {{\n",
       "    x.observe(outputEl, {childList: true});\n",
       "}}\n",
       "\n",
       "                        })                };                });            </script>        </div>"
      ]
     },
     "metadata": {},
     "output_type": "display_data"
    }
   ],
   "source": [
    "df_over_five_all_c = df_over_five_all.sort_values(by='% Change', ascending=True)\n",
    "cmax=50\n",
    "cmin=200\n",
    "color_s = np.linspace(cmin, cmax, 30)\n",
    "\n",
    "data = [\n",
    "    go.Bar(  \n",
    "        y=df_over_five_all_c.index,          \n",
    "        x=df_over_five_all_c['% Change'],\n",
    "        orientation='h',\n",
    "        marker=dict(\n",
    "            colorscale='Jet',\n",
    "            #cauto=True,\n",
    "            color=color_s\n",
    "        ),\n",
    "    )\n",
    "]\n",
    "\n",
    "layout = {\n",
    "    'title': '% Change in Technologies in Data Scientist Job Listings 2018 to 2019',\n",
    "    'yaxis': {'tickmode': 'linear'},\n",
    "    'xaxis': {'title': \"% Change\"},\n",
    "    'title_x':0.5,\n",
    "    'height': 700\n",
    "}\n",
    "\n",
    "fig = go.Figure(data=data, layout=layout)\n",
    "py.iplot(fig)"
   ]
  },
  {
   "cell_type": "code",
   "execution_count": 93,
   "id": "9dbb8b6523ba2dbe",
   "metadata": {
    "ExecuteTime": {
     "end_time": "2023-10-06T08:27:30.257554300Z",
     "start_time": "2023-10-06T08:27:30.149067800Z"
    },
    "collapsed": false,
    "jupyter": {
     "outputs_hidden": false
    }
   },
   "outputs": [
    {
     "data": {
      "text/html": [
       "<div>\n",
       "<style scoped>\n",
       "    .dataframe tbody tr th:only-of-type {\n",
       "        vertical-align: middle;\n",
       "    }\n",
       "\n",
       "    .dataframe tbody tr th {\n",
       "        vertical-align: top;\n",
       "    }\n",
       "\n",
       "    .dataframe thead th {\n",
       "        text-align: right;\n",
       "    }\n",
       "</style>\n",
       "<table border=\"1\" class=\"dataframe\">\n",
       "  <thead>\n",
       "    <tr style=\"text-align: right;\">\n",
       "      <th></th>\n",
       "      <th>2019</th>\n",
       "      <th>2023</th>\n",
       "    </tr>\n",
       "  </thead>\n",
       "  <tbody>\n",
       "    <tr>\n",
       "      <th>Python</th>\n",
       "      <td>0.14</td>\n",
       "      <td>0.78</td>\n",
       "    </tr>\n",
       "    <tr>\n",
       "      <th>SQL</th>\n",
       "      <td>0.10</td>\n",
       "      <td>0.52</td>\n",
       "    </tr>\n",
       "    <tr>\n",
       "      <th>R</th>\n",
       "      <td>0.10</td>\n",
       "      <td>0.41</td>\n",
       "    </tr>\n",
       "    <tr>\n",
       "      <th>TensorFlow</th>\n",
       "      <td>0.03</td>\n",
       "      <td>0.21</td>\n",
       "    </tr>\n",
       "    <tr>\n",
       "      <th>AWS</th>\n",
       "      <td>0.04</td>\n",
       "      <td>0.21</td>\n",
       "    </tr>\n",
       "    <tr>\n",
       "      <th>Tableau</th>\n",
       "      <td>0.04</td>\n",
       "      <td>0.20</td>\n",
       "    </tr>\n",
       "    <tr>\n",
       "      <th>Spark</th>\n",
       "      <td>0.05</td>\n",
       "      <td>0.20</td>\n",
       "    </tr>\n",
       "    <tr>\n",
       "      <th>PyTorch</th>\n",
       "      <td>0.01</td>\n",
       "      <td>0.19</td>\n",
       "    </tr>\n",
       "    <tr>\n",
       "      <th>Azure</th>\n",
       "      <td>0.02</td>\n",
       "      <td>0.15</td>\n",
       "    </tr>\n",
       "    <tr>\n",
       "      <th>Java</th>\n",
       "      <td>0.04</td>\n",
       "      <td>0.14</td>\n",
       "    </tr>\n",
       "    <tr>\n",
       "      <th>Scikit-learn</th>\n",
       "      <td>0.02</td>\n",
       "      <td>0.12</td>\n",
       "    </tr>\n",
       "    <tr>\n",
       "      <th>Excel</th>\n",
       "      <td>0.02</td>\n",
       "      <td>0.12</td>\n",
       "    </tr>\n",
       "    <tr>\n",
       "      <th>Hadoop</th>\n",
       "      <td>0.05</td>\n",
       "      <td>0.12</td>\n",
       "    </tr>\n",
       "    <tr>\n",
       "      <th>Pandas</th>\n",
       "      <td>0.01</td>\n",
       "      <td>0.11</td>\n",
       "    </tr>\n",
       "    <tr>\n",
       "      <th>SAS</th>\n",
       "      <td>0.03</td>\n",
       "      <td>0.09</td>\n",
       "    </tr>\n",
       "    <tr>\n",
       "      <th>NumPy</th>\n",
       "      <td>0.01</td>\n",
       "      <td>0.08</td>\n",
       "    </tr>\n",
       "    <tr>\n",
       "      <th>Scala</th>\n",
       "      <td>0.03</td>\n",
       "      <td>0.08</td>\n",
       "    </tr>\n",
       "    <tr>\n",
       "      <th>Git</th>\n",
       "      <td>0.01</td>\n",
       "      <td>0.08</td>\n",
       "    </tr>\n",
       "    <tr>\n",
       "      <th>GCP</th>\n",
       "      <td>0.01</td>\n",
       "      <td>0.07</td>\n",
       "    </tr>\n",
       "    <tr>\n",
       "      <th>C</th>\n",
       "      <td>0.02</td>\n",
       "      <td>0.07</td>\n",
       "    </tr>\n",
       "    <tr>\n",
       "      <th>C++</th>\n",
       "      <td>0.03</td>\n",
       "      <td>0.07</td>\n",
       "    </tr>\n",
       "    <tr>\n",
       "      <th>C#</th>\n",
       "      <td>0.01</td>\n",
       "      <td>0.07</td>\n",
       "    </tr>\n",
       "    <tr>\n",
       "      <th>NoSQL</th>\n",
       "      <td>0.02</td>\n",
       "      <td>0.07</td>\n",
       "    </tr>\n",
       "    <tr>\n",
       "      <th>Docker</th>\n",
       "      <td>0.01</td>\n",
       "      <td>0.06</td>\n",
       "    </tr>\n",
       "    <tr>\n",
       "      <th>Databricks</th>\n",
       "      <td>0.00</td>\n",
       "      <td>0.06</td>\n",
       "    </tr>\n",
       "    <tr>\n",
       "      <th>Matlab</th>\n",
       "      <td>0.02</td>\n",
       "      <td>0.06</td>\n",
       "    </tr>\n",
       "    <tr>\n",
       "      <th>Hive</th>\n",
       "      <td>0.03</td>\n",
       "      <td>0.06</td>\n",
       "    </tr>\n",
       "    <tr>\n",
       "      <th>Keras</th>\n",
       "      <td>0.01</td>\n",
       "      <td>0.06</td>\n",
       "    </tr>\n",
       "    <tr>\n",
       "      <th>Kubernetes</th>\n",
       "      <td>0.01</td>\n",
       "      <td>0.05</td>\n",
       "    </tr>\n",
       "    <tr>\n",
       "      <th>Javascript</th>\n",
       "      <td>0.01</td>\n",
       "      <td>0.05</td>\n",
       "    </tr>\n",
       "    <tr>\n",
       "      <th>Linux</th>\n",
       "      <td>0.02</td>\n",
       "      <td>0.05</td>\n",
       "    </tr>\n",
       "  </tbody>\n",
       "</table>\n",
       "</div>"
      ],
      "text/plain": [
       "              2019  2023\n",
       "Python        0.14  0.78\n",
       "SQL           0.10  0.52\n",
       "R             0.10  0.41\n",
       "TensorFlow    0.03  0.21\n",
       "AWS           0.04  0.21\n",
       "Tableau       0.04  0.20\n",
       "Spark         0.05  0.20\n",
       "PyTorch       0.01  0.19\n",
       "Azure         0.02  0.15\n",
       "Java          0.04  0.14\n",
       "Scikit-learn  0.02  0.12\n",
       "Excel         0.02  0.12\n",
       "Hadoop        0.05  0.12\n",
       "Pandas        0.01  0.11\n",
       "SAS           0.03  0.09\n",
       "NumPy         0.01  0.08\n",
       "Scala         0.03  0.08\n",
       "Git           0.01  0.08\n",
       "GCP           0.01  0.07\n",
       "C             0.02  0.07\n",
       "C++           0.03  0.07\n",
       "C#            0.01  0.07\n",
       "NoSQL         0.02  0.07\n",
       "Docker        0.01  0.06\n",
       "Databricks    0.00  0.06\n",
       "Matlab        0.02  0.06\n",
       "Hive          0.03  0.06\n",
       "Keras         0.01  0.06\n",
       "Kubernetes    0.01  0.05\n",
       "Javascript    0.01  0.05\n",
       "Linux         0.02  0.05"
      ]
     },
     "execution_count": 93,
     "metadata": {},
     "output_type": "execute_result"
    }
   ],
   "source": [
    "df_over_five"
   ]
  },
  {
   "cell_type": "code",
   "execution_count": 97,
   "id": "19bf3e86f0770048",
   "metadata": {
    "ExecuteTime": {
     "end_time": "2023-10-06T08:29:07.555325800Z",
     "start_time": "2023-10-06T08:29:07.415780700Z"
    },
    "collapsed": false,
    "jupyter": {
     "outputs_hidden": false
    }
   },
   "outputs": [
    {
     "data": {
      "text/html": [
       "<div>\n",
       "<style scoped>\n",
       "    .dataframe tbody tr th:only-of-type {\n",
       "        vertical-align: middle;\n",
       "    }\n",
       "\n",
       "    .dataframe tbody tr th {\n",
       "        vertical-align: top;\n",
       "    }\n",
       "\n",
       "    .dataframe thead th {\n",
       "        text-align: right;\n",
       "    }\n",
       "</style>\n",
       "<table border=\"1\" class=\"dataframe\">\n",
       "  <thead>\n",
       "    <tr style=\"text-align: right;\">\n",
       "      <th></th>\n",
       "      <th>2019</th>\n",
       "      <th>2023</th>\n",
       "      <th>2023_rank</th>\n",
       "    </tr>\n",
       "  </thead>\n",
       "  <tbody>\n",
       "    <tr>\n",
       "      <th>Python</th>\n",
       "      <td>0.14</td>\n",
       "      <td>0.78</td>\n",
       "      <td>1.00</td>\n",
       "    </tr>\n",
       "    <tr>\n",
       "      <th>SQL</th>\n",
       "      <td>0.10</td>\n",
       "      <td>0.52</td>\n",
       "      <td>2.00</td>\n",
       "    </tr>\n",
       "    <tr>\n",
       "      <th>R</th>\n",
       "      <td>0.10</td>\n",
       "      <td>0.41</td>\n",
       "      <td>3.00</td>\n",
       "    </tr>\n",
       "    <tr>\n",
       "      <th>TensorFlow</th>\n",
       "      <td>0.03</td>\n",
       "      <td>0.21</td>\n",
       "      <td>4.00</td>\n",
       "    </tr>\n",
       "    <tr>\n",
       "      <th>AWS</th>\n",
       "      <td>0.04</td>\n",
       "      <td>0.21</td>\n",
       "      <td>5.00</td>\n",
       "    </tr>\n",
       "    <tr>\n",
       "      <th>Tableau</th>\n",
       "      <td>0.04</td>\n",
       "      <td>0.20</td>\n",
       "      <td>6.00</td>\n",
       "    </tr>\n",
       "    <tr>\n",
       "      <th>Spark</th>\n",
       "      <td>0.05</td>\n",
       "      <td>0.20</td>\n",
       "      <td>7.00</td>\n",
       "    </tr>\n",
       "    <tr>\n",
       "      <th>PyTorch</th>\n",
       "      <td>0.01</td>\n",
       "      <td>0.19</td>\n",
       "      <td>8.00</td>\n",
       "    </tr>\n",
       "    <tr>\n",
       "      <th>Azure</th>\n",
       "      <td>0.02</td>\n",
       "      <td>0.15</td>\n",
       "      <td>9.00</td>\n",
       "    </tr>\n",
       "    <tr>\n",
       "      <th>Java</th>\n",
       "      <td>0.04</td>\n",
       "      <td>0.14</td>\n",
       "      <td>10.00</td>\n",
       "    </tr>\n",
       "    <tr>\n",
       "      <th>Scikit-learn</th>\n",
       "      <td>0.02</td>\n",
       "      <td>0.12</td>\n",
       "      <td>11.00</td>\n",
       "    </tr>\n",
       "    <tr>\n",
       "      <th>Excel</th>\n",
       "      <td>0.02</td>\n",
       "      <td>0.12</td>\n",
       "      <td>12.00</td>\n",
       "    </tr>\n",
       "    <tr>\n",
       "      <th>Hadoop</th>\n",
       "      <td>0.05</td>\n",
       "      <td>0.12</td>\n",
       "      <td>13.00</td>\n",
       "    </tr>\n",
       "    <tr>\n",
       "      <th>Pandas</th>\n",
       "      <td>0.01</td>\n",
       "      <td>0.11</td>\n",
       "      <td>14.00</td>\n",
       "    </tr>\n",
       "    <tr>\n",
       "      <th>SAS</th>\n",
       "      <td>0.03</td>\n",
       "      <td>0.09</td>\n",
       "      <td>15.00</td>\n",
       "    </tr>\n",
       "    <tr>\n",
       "      <th>NumPy</th>\n",
       "      <td>0.01</td>\n",
       "      <td>0.08</td>\n",
       "      <td>16.00</td>\n",
       "    </tr>\n",
       "    <tr>\n",
       "      <th>Scala</th>\n",
       "      <td>0.03</td>\n",
       "      <td>0.08</td>\n",
       "      <td>17.00</td>\n",
       "    </tr>\n",
       "    <tr>\n",
       "      <th>Git</th>\n",
       "      <td>0.01</td>\n",
       "      <td>0.08</td>\n",
       "      <td>18.00</td>\n",
       "    </tr>\n",
       "    <tr>\n",
       "      <th>GCP</th>\n",
       "      <td>0.01</td>\n",
       "      <td>0.07</td>\n",
       "      <td>19.00</td>\n",
       "    </tr>\n",
       "    <tr>\n",
       "      <th>C</th>\n",
       "      <td>0.02</td>\n",
       "      <td>0.07</td>\n",
       "      <td>21.00</td>\n",
       "    </tr>\n",
       "    <tr>\n",
       "      <th>C++</th>\n",
       "      <td>0.03</td>\n",
       "      <td>0.07</td>\n",
       "      <td>21.00</td>\n",
       "    </tr>\n",
       "    <tr>\n",
       "      <th>C#</th>\n",
       "      <td>0.01</td>\n",
       "      <td>0.07</td>\n",
       "      <td>21.00</td>\n",
       "    </tr>\n",
       "    <tr>\n",
       "      <th>NoSQL</th>\n",
       "      <td>0.02</td>\n",
       "      <td>0.07</td>\n",
       "      <td>23.00</td>\n",
       "    </tr>\n",
       "    <tr>\n",
       "      <th>Docker</th>\n",
       "      <td>0.01</td>\n",
       "      <td>0.06</td>\n",
       "      <td>24.00</td>\n",
       "    </tr>\n",
       "    <tr>\n",
       "      <th>Databricks</th>\n",
       "      <td>0.00</td>\n",
       "      <td>0.06</td>\n",
       "      <td>25.00</td>\n",
       "    </tr>\n",
       "    <tr>\n",
       "      <th>Matlab</th>\n",
       "      <td>0.02</td>\n",
       "      <td>0.06</td>\n",
       "      <td>26.00</td>\n",
       "    </tr>\n",
       "    <tr>\n",
       "      <th>Hive</th>\n",
       "      <td>0.03</td>\n",
       "      <td>0.06</td>\n",
       "      <td>27.00</td>\n",
       "    </tr>\n",
       "    <tr>\n",
       "      <th>Keras</th>\n",
       "      <td>0.01</td>\n",
       "      <td>0.06</td>\n",
       "      <td>28.00</td>\n",
       "    </tr>\n",
       "    <tr>\n",
       "      <th>Kubernetes</th>\n",
       "      <td>0.01</td>\n",
       "      <td>0.05</td>\n",
       "      <td>29.00</td>\n",
       "    </tr>\n",
       "    <tr>\n",
       "      <th>Javascript</th>\n",
       "      <td>0.01</td>\n",
       "      <td>0.05</td>\n",
       "      <td>30.00</td>\n",
       "    </tr>\n",
       "    <tr>\n",
       "      <th>Linux</th>\n",
       "      <td>0.02</td>\n",
       "      <td>0.05</td>\n",
       "      <td>31.00</td>\n",
       "    </tr>\n",
       "  </tbody>\n",
       "</table>\n",
       "</div>"
      ],
      "text/plain": [
       "              2019  2023  2023_rank\n",
       "Python        0.14  0.78       1.00\n",
       "SQL           0.10  0.52       2.00\n",
       "R             0.10  0.41       3.00\n",
       "TensorFlow    0.03  0.21       4.00\n",
       "AWS           0.04  0.21       5.00\n",
       "Tableau       0.04  0.20       6.00\n",
       "Spark         0.05  0.20       7.00\n",
       "PyTorch       0.01  0.19       8.00\n",
       "Azure         0.02  0.15       9.00\n",
       "Java          0.04  0.14      10.00\n",
       "Scikit-learn  0.02  0.12      11.00\n",
       "Excel         0.02  0.12      12.00\n",
       "Hadoop        0.05  0.12      13.00\n",
       "Pandas        0.01  0.11      14.00\n",
       "SAS           0.03  0.09      15.00\n",
       "NumPy         0.01  0.08      16.00\n",
       "Scala         0.03  0.08      17.00\n",
       "Git           0.01  0.08      18.00\n",
       "GCP           0.01  0.07      19.00\n",
       "C             0.02  0.07      21.00\n",
       "C++           0.03  0.07      21.00\n",
       "C#            0.01  0.07      21.00\n",
       "NoSQL         0.02  0.07      23.00\n",
       "Docker        0.01  0.06      24.00\n",
       "Databricks    0.00  0.06      25.00\n",
       "Matlab        0.02  0.06      26.00\n",
       "Hive          0.03  0.06      27.00\n",
       "Keras         0.01  0.06      28.00\n",
       "Kubernetes    0.01  0.05      29.00\n",
       "Javascript    0.01  0.05      30.00\n",
       "Linux         0.02  0.05      31.00"
      ]
     },
     "execution_count": 97,
     "metadata": {},
     "output_type": "execute_result"
    }
   ],
   "source": [
    "\n",
    "df_over_five['2023_rank']=df_over_five['2023'].rank(ascending=False)\n",
    "df_over_five"
   ]
  },
  {
   "cell_type": "code",
   "execution_count": 98,
   "id": "b08895e3600df62c",
   "metadata": {
    "ExecuteTime": {
     "end_time": "2023-10-06T08:29:24.553429500Z",
     "start_time": "2023-10-06T08:29:24.406009100Z"
    },
    "collapsed": false,
    "jupyter": {
     "outputs_hidden": false
    }
   },
   "outputs": [
    {
     "data": {
      "text/html": [
       "<div>\n",
       "<style scoped>\n",
       "    .dataframe tbody tr th:only-of-type {\n",
       "        vertical-align: middle;\n",
       "    }\n",
       "\n",
       "    .dataframe tbody tr th {\n",
       "        vertical-align: top;\n",
       "    }\n",
       "\n",
       "    .dataframe thead th {\n",
       "        text-align: right;\n",
       "    }\n",
       "</style>\n",
       "<table border=\"1\" class=\"dataframe\">\n",
       "  <thead>\n",
       "    <tr style=\"text-align: right;\">\n",
       "      <th></th>\n",
       "      <th>2019</th>\n",
       "      <th>2023</th>\n",
       "      <th>2023_rank</th>\n",
       "      <th>2019_rank</th>\n",
       "    </tr>\n",
       "  </thead>\n",
       "  <tbody>\n",
       "    <tr>\n",
       "      <th>Python</th>\n",
       "      <td>0.14</td>\n",
       "      <td>0.78</td>\n",
       "      <td>1.00</td>\n",
       "      <td>1.00</td>\n",
       "    </tr>\n",
       "    <tr>\n",
       "      <th>SQL</th>\n",
       "      <td>0.10</td>\n",
       "      <td>0.52</td>\n",
       "      <td>2.00</td>\n",
       "      <td>3.00</td>\n",
       "    </tr>\n",
       "    <tr>\n",
       "      <th>R</th>\n",
       "      <td>0.10</td>\n",
       "      <td>0.41</td>\n",
       "      <td>3.00</td>\n",
       "      <td>2.00</td>\n",
       "    </tr>\n",
       "    <tr>\n",
       "      <th>TensorFlow</th>\n",
       "      <td>0.03</td>\n",
       "      <td>0.21</td>\n",
       "      <td>4.00</td>\n",
       "      <td>10.00</td>\n",
       "    </tr>\n",
       "    <tr>\n",
       "      <th>AWS</th>\n",
       "      <td>0.04</td>\n",
       "      <td>0.21</td>\n",
       "      <td>5.00</td>\n",
       "      <td>8.00</td>\n",
       "    </tr>\n",
       "    <tr>\n",
       "      <th>Tableau</th>\n",
       "      <td>0.04</td>\n",
       "      <td>0.20</td>\n",
       "      <td>6.00</td>\n",
       "      <td>7.00</td>\n",
       "    </tr>\n",
       "    <tr>\n",
       "      <th>Spark</th>\n",
       "      <td>0.05</td>\n",
       "      <td>0.20</td>\n",
       "      <td>7.00</td>\n",
       "      <td>4.00</td>\n",
       "    </tr>\n",
       "    <tr>\n",
       "      <th>PyTorch</th>\n",
       "      <td>0.01</td>\n",
       "      <td>0.19</td>\n",
       "      <td>8.00</td>\n",
       "      <td>24.00</td>\n",
       "    </tr>\n",
       "    <tr>\n",
       "      <th>Azure</th>\n",
       "      <td>0.02</td>\n",
       "      <td>0.15</td>\n",
       "      <td>9.00</td>\n",
       "      <td>16.00</td>\n",
       "    </tr>\n",
       "    <tr>\n",
       "      <th>Java</th>\n",
       "      <td>0.04</td>\n",
       "      <td>0.14</td>\n",
       "      <td>10.00</td>\n",
       "      <td>6.00</td>\n",
       "    </tr>\n",
       "    <tr>\n",
       "      <th>Scikit-learn</th>\n",
       "      <td>0.02</td>\n",
       "      <td>0.12</td>\n",
       "      <td>11.00</td>\n",
       "      <td>19.00</td>\n",
       "    </tr>\n",
       "    <tr>\n",
       "      <th>Excel</th>\n",
       "      <td>0.02</td>\n",
       "      <td>0.12</td>\n",
       "      <td>12.00</td>\n",
       "      <td>14.00</td>\n",
       "    </tr>\n",
       "    <tr>\n",
       "      <th>Hadoop</th>\n",
       "      <td>0.05</td>\n",
       "      <td>0.12</td>\n",
       "      <td>13.00</td>\n",
       "      <td>5.00</td>\n",
       "    </tr>\n",
       "    <tr>\n",
       "      <th>Pandas</th>\n",
       "      <td>0.01</td>\n",
       "      <td>0.11</td>\n",
       "      <td>14.00</td>\n",
       "      <td>21.00</td>\n",
       "    </tr>\n",
       "    <tr>\n",
       "      <th>SAS</th>\n",
       "      <td>0.03</td>\n",
       "      <td>0.09</td>\n",
       "      <td>15.00</td>\n",
       "      <td>9.00</td>\n",
       "    </tr>\n",
       "    <tr>\n",
       "      <th>NumPy</th>\n",
       "      <td>0.01</td>\n",
       "      <td>0.08</td>\n",
       "      <td>16.00</td>\n",
       "      <td>25.00</td>\n",
       "    </tr>\n",
       "    <tr>\n",
       "      <th>Scala</th>\n",
       "      <td>0.03</td>\n",
       "      <td>0.08</td>\n",
       "      <td>17.00</td>\n",
       "      <td>13.00</td>\n",
       "    </tr>\n",
       "    <tr>\n",
       "      <th>Git</th>\n",
       "      <td>0.01</td>\n",
       "      <td>0.08</td>\n",
       "      <td>18.00</td>\n",
       "      <td>23.00</td>\n",
       "    </tr>\n",
       "    <tr>\n",
       "      <th>GCP</th>\n",
       "      <td>0.01</td>\n",
       "      <td>0.07</td>\n",
       "      <td>19.00</td>\n",
       "      <td>30.00</td>\n",
       "    </tr>\n",
       "    <tr>\n",
       "      <th>C</th>\n",
       "      <td>0.02</td>\n",
       "      <td>0.07</td>\n",
       "      <td>21.00</td>\n",
       "      <td>20.00</td>\n",
       "    </tr>\n",
       "    <tr>\n",
       "      <th>C++</th>\n",
       "      <td>0.03</td>\n",
       "      <td>0.07</td>\n",
       "      <td>21.00</td>\n",
       "      <td>12.00</td>\n",
       "    </tr>\n",
       "    <tr>\n",
       "      <th>C#</th>\n",
       "      <td>0.01</td>\n",
       "      <td>0.07</td>\n",
       "      <td>21.00</td>\n",
       "      <td>28.00</td>\n",
       "    </tr>\n",
       "    <tr>\n",
       "      <th>NoSQL</th>\n",
       "      <td>0.02</td>\n",
       "      <td>0.07</td>\n",
       "      <td>23.00</td>\n",
       "      <td>17.00</td>\n",
       "    </tr>\n",
       "    <tr>\n",
       "      <th>Docker</th>\n",
       "      <td>0.01</td>\n",
       "      <td>0.06</td>\n",
       "      <td>24.00</td>\n",
       "      <td>26.00</td>\n",
       "    </tr>\n",
       "    <tr>\n",
       "      <th>Databricks</th>\n",
       "      <td>0.00</td>\n",
       "      <td>0.06</td>\n",
       "      <td>25.00</td>\n",
       "      <td>31.00</td>\n",
       "    </tr>\n",
       "    <tr>\n",
       "      <th>Matlab</th>\n",
       "      <td>0.02</td>\n",
       "      <td>0.06</td>\n",
       "      <td>26.00</td>\n",
       "      <td>15.00</td>\n",
       "    </tr>\n",
       "    <tr>\n",
       "      <th>Hive</th>\n",
       "      <td>0.03</td>\n",
       "      <td>0.06</td>\n",
       "      <td>27.00</td>\n",
       "      <td>11.00</td>\n",
       "    </tr>\n",
       "    <tr>\n",
       "      <th>Keras</th>\n",
       "      <td>0.01</td>\n",
       "      <td>0.06</td>\n",
       "      <td>28.00</td>\n",
       "      <td>22.00</td>\n",
       "    </tr>\n",
       "    <tr>\n",
       "      <th>Kubernetes</th>\n",
       "      <td>0.01</td>\n",
       "      <td>0.05</td>\n",
       "      <td>29.00</td>\n",
       "      <td>29.00</td>\n",
       "    </tr>\n",
       "    <tr>\n",
       "      <th>Javascript</th>\n",
       "      <td>0.01</td>\n",
       "      <td>0.05</td>\n",
       "      <td>30.00</td>\n",
       "      <td>27.00</td>\n",
       "    </tr>\n",
       "    <tr>\n",
       "      <th>Linux</th>\n",
       "      <td>0.02</td>\n",
       "      <td>0.05</td>\n",
       "      <td>31.00</td>\n",
       "      <td>18.00</td>\n",
       "    </tr>\n",
       "  </tbody>\n",
       "</table>\n",
       "</div>"
      ],
      "text/plain": [
       "              2019  2023  2023_rank  2019_rank\n",
       "Python        0.14  0.78       1.00       1.00\n",
       "SQL           0.10  0.52       2.00       3.00\n",
       "R             0.10  0.41       3.00       2.00\n",
       "TensorFlow    0.03  0.21       4.00      10.00\n",
       "AWS           0.04  0.21       5.00       8.00\n",
       "Tableau       0.04  0.20       6.00       7.00\n",
       "Spark         0.05  0.20       7.00       4.00\n",
       "PyTorch       0.01  0.19       8.00      24.00\n",
       "Azure         0.02  0.15       9.00      16.00\n",
       "Java          0.04  0.14      10.00       6.00\n",
       "Scikit-learn  0.02  0.12      11.00      19.00\n",
       "Excel         0.02  0.12      12.00      14.00\n",
       "Hadoop        0.05  0.12      13.00       5.00\n",
       "Pandas        0.01  0.11      14.00      21.00\n",
       "SAS           0.03  0.09      15.00       9.00\n",
       "NumPy         0.01  0.08      16.00      25.00\n",
       "Scala         0.03  0.08      17.00      13.00\n",
       "Git           0.01  0.08      18.00      23.00\n",
       "GCP           0.01  0.07      19.00      30.00\n",
       "C             0.02  0.07      21.00      20.00\n",
       "C++           0.03  0.07      21.00      12.00\n",
       "C#            0.01  0.07      21.00      28.00\n",
       "NoSQL         0.02  0.07      23.00      17.00\n",
       "Docker        0.01  0.06      24.00      26.00\n",
       "Databricks    0.00  0.06      25.00      31.00\n",
       "Matlab        0.02  0.06      26.00      15.00\n",
       "Hive          0.03  0.06      27.00      11.00\n",
       "Keras         0.01  0.06      28.00      22.00\n",
       "Kubernetes    0.01  0.05      29.00      29.00\n",
       "Javascript    0.01  0.05      30.00      27.00\n",
       "Linux         0.02  0.05      31.00      18.00"
      ]
     },
     "execution_count": 98,
     "metadata": {},
     "output_type": "execute_result"
    }
   ],
   "source": [
    "df_over_five['2019_rank']=df_over_five['2019'].rank(ascending=False)\n",
    "df_over_five"
   ]
  },
  {
   "cell_type": "code",
   "execution_count": 99,
   "id": "2036f31f37f9ff5c",
   "metadata": {
    "ExecuteTime": {
     "end_time": "2023-10-06T08:29:47.686641200Z",
     "start_time": "2023-10-06T08:29:47.540248300Z"
    },
    "collapsed": false,
    "jupyter": {
     "outputs_hidden": false
    }
   },
   "outputs": [
    {
     "data": {
      "text/html": [
       "<div>\n",
       "<style scoped>\n",
       "    .dataframe tbody tr th:only-of-type {\n",
       "        vertical-align: middle;\n",
       "    }\n",
       "\n",
       "    .dataframe tbody tr th {\n",
       "        vertical-align: top;\n",
       "    }\n",
       "\n",
       "    .dataframe thead th {\n",
       "        text-align: right;\n",
       "    }\n",
       "</style>\n",
       "<table border=\"1\" class=\"dataframe\">\n",
       "  <thead>\n",
       "    <tr style=\"text-align: right;\">\n",
       "      <th></th>\n",
       "      <th>2019</th>\n",
       "      <th>2023</th>\n",
       "      <th>2023_rank</th>\n",
       "      <th>2019_rank</th>\n",
       "      <th>rank_change</th>\n",
       "    </tr>\n",
       "  </thead>\n",
       "  <tbody>\n",
       "    <tr>\n",
       "      <th>Python</th>\n",
       "      <td>0.14</td>\n",
       "      <td>0.78</td>\n",
       "      <td>1.00</td>\n",
       "      <td>1.00</td>\n",
       "      <td>0.00</td>\n",
       "    </tr>\n",
       "    <tr>\n",
       "      <th>SQL</th>\n",
       "      <td>0.10</td>\n",
       "      <td>0.52</td>\n",
       "      <td>2.00</td>\n",
       "      <td>3.00</td>\n",
       "      <td>1.00</td>\n",
       "    </tr>\n",
       "    <tr>\n",
       "      <th>R</th>\n",
       "      <td>0.10</td>\n",
       "      <td>0.41</td>\n",
       "      <td>3.00</td>\n",
       "      <td>2.00</td>\n",
       "      <td>-1.00</td>\n",
       "    </tr>\n",
       "    <tr>\n",
       "      <th>TensorFlow</th>\n",
       "      <td>0.03</td>\n",
       "      <td>0.21</td>\n",
       "      <td>4.00</td>\n",
       "      <td>10.00</td>\n",
       "      <td>6.00</td>\n",
       "    </tr>\n",
       "    <tr>\n",
       "      <th>AWS</th>\n",
       "      <td>0.04</td>\n",
       "      <td>0.21</td>\n",
       "      <td>5.00</td>\n",
       "      <td>8.00</td>\n",
       "      <td>3.00</td>\n",
       "    </tr>\n",
       "    <tr>\n",
       "      <th>Tableau</th>\n",
       "      <td>0.04</td>\n",
       "      <td>0.20</td>\n",
       "      <td>6.00</td>\n",
       "      <td>7.00</td>\n",
       "      <td>1.00</td>\n",
       "    </tr>\n",
       "    <tr>\n",
       "      <th>Spark</th>\n",
       "      <td>0.05</td>\n",
       "      <td>0.20</td>\n",
       "      <td>7.00</td>\n",
       "      <td>4.00</td>\n",
       "      <td>-3.00</td>\n",
       "    </tr>\n",
       "    <tr>\n",
       "      <th>PyTorch</th>\n",
       "      <td>0.01</td>\n",
       "      <td>0.19</td>\n",
       "      <td>8.00</td>\n",
       "      <td>24.00</td>\n",
       "      <td>16.00</td>\n",
       "    </tr>\n",
       "    <tr>\n",
       "      <th>Azure</th>\n",
       "      <td>0.02</td>\n",
       "      <td>0.15</td>\n",
       "      <td>9.00</td>\n",
       "      <td>16.00</td>\n",
       "      <td>7.00</td>\n",
       "    </tr>\n",
       "    <tr>\n",
       "      <th>Java</th>\n",
       "      <td>0.04</td>\n",
       "      <td>0.14</td>\n",
       "      <td>10.00</td>\n",
       "      <td>6.00</td>\n",
       "      <td>-4.00</td>\n",
       "    </tr>\n",
       "    <tr>\n",
       "      <th>Scikit-learn</th>\n",
       "      <td>0.02</td>\n",
       "      <td>0.12</td>\n",
       "      <td>11.00</td>\n",
       "      <td>19.00</td>\n",
       "      <td>8.00</td>\n",
       "    </tr>\n",
       "    <tr>\n",
       "      <th>Excel</th>\n",
       "      <td>0.02</td>\n",
       "      <td>0.12</td>\n",
       "      <td>12.00</td>\n",
       "      <td>14.00</td>\n",
       "      <td>2.00</td>\n",
       "    </tr>\n",
       "    <tr>\n",
       "      <th>Hadoop</th>\n",
       "      <td>0.05</td>\n",
       "      <td>0.12</td>\n",
       "      <td>13.00</td>\n",
       "      <td>5.00</td>\n",
       "      <td>-8.00</td>\n",
       "    </tr>\n",
       "    <tr>\n",
       "      <th>Pandas</th>\n",
       "      <td>0.01</td>\n",
       "      <td>0.11</td>\n",
       "      <td>14.00</td>\n",
       "      <td>21.00</td>\n",
       "      <td>7.00</td>\n",
       "    </tr>\n",
       "    <tr>\n",
       "      <th>SAS</th>\n",
       "      <td>0.03</td>\n",
       "      <td>0.09</td>\n",
       "      <td>15.00</td>\n",
       "      <td>9.00</td>\n",
       "      <td>-6.00</td>\n",
       "    </tr>\n",
       "    <tr>\n",
       "      <th>NumPy</th>\n",
       "      <td>0.01</td>\n",
       "      <td>0.08</td>\n",
       "      <td>16.00</td>\n",
       "      <td>25.00</td>\n",
       "      <td>9.00</td>\n",
       "    </tr>\n",
       "    <tr>\n",
       "      <th>Scala</th>\n",
       "      <td>0.03</td>\n",
       "      <td>0.08</td>\n",
       "      <td>17.00</td>\n",
       "      <td>13.00</td>\n",
       "      <td>-4.00</td>\n",
       "    </tr>\n",
       "    <tr>\n",
       "      <th>Git</th>\n",
       "      <td>0.01</td>\n",
       "      <td>0.08</td>\n",
       "      <td>18.00</td>\n",
       "      <td>23.00</td>\n",
       "      <td>5.00</td>\n",
       "    </tr>\n",
       "    <tr>\n",
       "      <th>GCP</th>\n",
       "      <td>0.01</td>\n",
       "      <td>0.07</td>\n",
       "      <td>19.00</td>\n",
       "      <td>30.00</td>\n",
       "      <td>11.00</td>\n",
       "    </tr>\n",
       "    <tr>\n",
       "      <th>C</th>\n",
       "      <td>0.02</td>\n",
       "      <td>0.07</td>\n",
       "      <td>21.00</td>\n",
       "      <td>20.00</td>\n",
       "      <td>-1.00</td>\n",
       "    </tr>\n",
       "    <tr>\n",
       "      <th>C++</th>\n",
       "      <td>0.03</td>\n",
       "      <td>0.07</td>\n",
       "      <td>21.00</td>\n",
       "      <td>12.00</td>\n",
       "      <td>-9.00</td>\n",
       "    </tr>\n",
       "    <tr>\n",
       "      <th>C#</th>\n",
       "      <td>0.01</td>\n",
       "      <td>0.07</td>\n",
       "      <td>21.00</td>\n",
       "      <td>28.00</td>\n",
       "      <td>7.00</td>\n",
       "    </tr>\n",
       "    <tr>\n",
       "      <th>NoSQL</th>\n",
       "      <td>0.02</td>\n",
       "      <td>0.07</td>\n",
       "      <td>23.00</td>\n",
       "      <td>17.00</td>\n",
       "      <td>-6.00</td>\n",
       "    </tr>\n",
       "    <tr>\n",
       "      <th>Docker</th>\n",
       "      <td>0.01</td>\n",
       "      <td>0.06</td>\n",
       "      <td>24.00</td>\n",
       "      <td>26.00</td>\n",
       "      <td>2.00</td>\n",
       "    </tr>\n",
       "    <tr>\n",
       "      <th>Databricks</th>\n",
       "      <td>0.00</td>\n",
       "      <td>0.06</td>\n",
       "      <td>25.00</td>\n",
       "      <td>31.00</td>\n",
       "      <td>6.00</td>\n",
       "    </tr>\n",
       "    <tr>\n",
       "      <th>Matlab</th>\n",
       "      <td>0.02</td>\n",
       "      <td>0.06</td>\n",
       "      <td>26.00</td>\n",
       "      <td>15.00</td>\n",
       "      <td>-11.00</td>\n",
       "    </tr>\n",
       "    <tr>\n",
       "      <th>Hive</th>\n",
       "      <td>0.03</td>\n",
       "      <td>0.06</td>\n",
       "      <td>27.00</td>\n",
       "      <td>11.00</td>\n",
       "      <td>-16.00</td>\n",
       "    </tr>\n",
       "    <tr>\n",
       "      <th>Keras</th>\n",
       "      <td>0.01</td>\n",
       "      <td>0.06</td>\n",
       "      <td>28.00</td>\n",
       "      <td>22.00</td>\n",
       "      <td>-6.00</td>\n",
       "    </tr>\n",
       "    <tr>\n",
       "      <th>Kubernetes</th>\n",
       "      <td>0.01</td>\n",
       "      <td>0.05</td>\n",
       "      <td>29.00</td>\n",
       "      <td>29.00</td>\n",
       "      <td>0.00</td>\n",
       "    </tr>\n",
       "    <tr>\n",
       "      <th>Javascript</th>\n",
       "      <td>0.01</td>\n",
       "      <td>0.05</td>\n",
       "      <td>30.00</td>\n",
       "      <td>27.00</td>\n",
       "      <td>-3.00</td>\n",
       "    </tr>\n",
       "    <tr>\n",
       "      <th>Linux</th>\n",
       "      <td>0.02</td>\n",
       "      <td>0.05</td>\n",
       "      <td>31.00</td>\n",
       "      <td>18.00</td>\n",
       "      <td>-13.00</td>\n",
       "    </tr>\n",
       "  </tbody>\n",
       "</table>\n",
       "</div>"
      ],
      "text/plain": [
       "              2019  2023  2023_rank  2019_rank  rank_change\n",
       "Python        0.14  0.78       1.00       1.00         0.00\n",
       "SQL           0.10  0.52       2.00       3.00         1.00\n",
       "R             0.10  0.41       3.00       2.00        -1.00\n",
       "TensorFlow    0.03  0.21       4.00      10.00         6.00\n",
       "AWS           0.04  0.21       5.00       8.00         3.00\n",
       "Tableau       0.04  0.20       6.00       7.00         1.00\n",
       "Spark         0.05  0.20       7.00       4.00        -3.00\n",
       "PyTorch       0.01  0.19       8.00      24.00        16.00\n",
       "Azure         0.02  0.15       9.00      16.00         7.00\n",
       "Java          0.04  0.14      10.00       6.00        -4.00\n",
       "Scikit-learn  0.02  0.12      11.00      19.00         8.00\n",
       "Excel         0.02  0.12      12.00      14.00         2.00\n",
       "Hadoop        0.05  0.12      13.00       5.00        -8.00\n",
       "Pandas        0.01  0.11      14.00      21.00         7.00\n",
       "SAS           0.03  0.09      15.00       9.00        -6.00\n",
       "NumPy         0.01  0.08      16.00      25.00         9.00\n",
       "Scala         0.03  0.08      17.00      13.00        -4.00\n",
       "Git           0.01  0.08      18.00      23.00         5.00\n",
       "GCP           0.01  0.07      19.00      30.00        11.00\n",
       "C             0.02  0.07      21.00      20.00        -1.00\n",
       "C++           0.03  0.07      21.00      12.00        -9.00\n",
       "C#            0.01  0.07      21.00      28.00         7.00\n",
       "NoSQL         0.02  0.07      23.00      17.00        -6.00\n",
       "Docker        0.01  0.06      24.00      26.00         2.00\n",
       "Databricks    0.00  0.06      25.00      31.00         6.00\n",
       "Matlab        0.02  0.06      26.00      15.00       -11.00\n",
       "Hive          0.03  0.06      27.00      11.00       -16.00\n",
       "Keras         0.01  0.06      28.00      22.00        -6.00\n",
       "Kubernetes    0.01  0.05      29.00      29.00         0.00\n",
       "Javascript    0.01  0.05      30.00      27.00        -3.00\n",
       "Linux         0.02  0.05      31.00      18.00       -13.00"
      ]
     },
     "execution_count": 99,
     "metadata": {},
     "output_type": "execute_result"
    }
   ],
   "source": [
    "df_over_five['rank_change'] = df_over_five['2019_rank'] - df_over_five['2023_rank']\n",
    "df_over_five"
   ]
  },
  {
   "cell_type": "markdown",
   "id": "6ba7072df854d73f",
   "metadata": {
    "collapsed": false,
    "jupyter": {
     "outputs_hidden": false
    }
   },
   "source": [
    "Add rank to the table \n"
   ]
  },
  {
   "cell_type": "code",
   "execution_count": 100,
   "id": "6936b0cf22371411",
   "metadata": {
    "ExecuteTime": {
     "end_time": "2023-10-06T08:30:26.620705Z",
     "start_time": "2023-10-06T08:30:26.499868200Z"
    },
    "collapsed": false,
    "jupyter": {
     "outputs_hidden": false
    }
   },
   "outputs": [
    {
     "data": {
      "text/plain": [
       "pandas.core.frame.DataFrame"
      ]
     },
     "execution_count": 100,
     "metadata": {},
     "output_type": "execute_result"
    }
   ],
   "source": [
    "\n",
    "df_to_print = df_over_five_all.merge(df_over_five, left_index=True, right_index=True)\n",
    "type(df_to_print)"
   ]
  },
  {
   "cell_type": "code",
   "execution_count": 102,
   "id": "db4f10520404e070",
   "metadata": {
    "ExecuteTime": {
     "end_time": "2023-10-06T08:31:38.286616700Z",
     "start_time": "2023-10-06T08:31:38.167612900Z"
    },
    "collapsed": false,
    "jupyter": {
     "outputs_hidden": false
    }
   },
   "outputs": [
    {
     "data": {
      "text/html": [
       "<div>\n",
       "<style scoped>\n",
       "    .dataframe tbody tr th:only-of-type {\n",
       "        vertical-align: middle;\n",
       "    }\n",
       "\n",
       "    .dataframe tbody tr th {\n",
       "        vertical-align: top;\n",
       "    }\n",
       "\n",
       "    .dataframe thead th {\n",
       "        text-align: right;\n",
       "    }\n",
       "</style>\n",
       "<table border=\"1\" class=\"dataframe\">\n",
       "  <thead>\n",
       "    <tr style=\"text-align: right;\">\n",
       "      <th></th>\n",
       "      <th>2019_x</th>\n",
       "      <th>2023_x</th>\n",
       "      <th>Change in Avg</th>\n",
       "      <th>% Change</th>\n",
       "      <th>2023_rank</th>\n",
       "      <th>2019_rank</th>\n",
       "      <th>rank_change</th>\n",
       "    </tr>\n",
       "  </thead>\n",
       "  <tbody>\n",
       "    <tr>\n",
       "      <th>Python</th>\n",
       "      <td>13.63</td>\n",
       "      <td>77.89</td>\n",
       "      <td>64.26</td>\n",
       "      <td>471.40</td>\n",
       "      <td>1.00</td>\n",
       "      <td>1.00</td>\n",
       "      <td>0.00</td>\n",
       "    </tr>\n",
       "    <tr>\n",
       "      <th>SQL</th>\n",
       "      <td>9.89</td>\n",
       "      <td>52.49</td>\n",
       "      <td>42.61</td>\n",
       "      <td>431.00</td>\n",
       "      <td>2.00</td>\n",
       "      <td>3.00</td>\n",
       "      <td>1.00</td>\n",
       "    </tr>\n",
       "    <tr>\n",
       "      <th>R</th>\n",
       "      <td>10.01</td>\n",
       "      <td>41.29</td>\n",
       "      <td>31.28</td>\n",
       "      <td>312.68</td>\n",
       "      <td>3.00</td>\n",
       "      <td>2.00</td>\n",
       "      <td>-1.00</td>\n",
       "    </tr>\n",
       "    <tr>\n",
       "      <th>TensorFlow</th>\n",
       "      <td>2.65</td>\n",
       "      <td>21.30</td>\n",
       "      <td>18.65</td>\n",
       "      <td>703.11</td>\n",
       "      <td>4.00</td>\n",
       "      <td>10.00</td>\n",
       "      <td>6.00</td>\n",
       "    </tr>\n",
       "    <tr>\n",
       "      <th>PyTorch</th>\n",
       "      <td>1.07</td>\n",
       "      <td>18.68</td>\n",
       "      <td>17.61</td>\n",
       "      <td>1,642.19</td>\n",
       "      <td>8.00</td>\n",
       "      <td>24.00</td>\n",
       "      <td>16.00</td>\n",
       "    </tr>\n",
       "    <tr>\n",
       "      <th>AWS</th>\n",
       "      <td>3.66</td>\n",
       "      <td>21.08</td>\n",
       "      <td>17.42</td>\n",
       "      <td>475.87</td>\n",
       "      <td>5.00</td>\n",
       "      <td>8.00</td>\n",
       "      <td>3.00</td>\n",
       "    </tr>\n",
       "    <tr>\n",
       "      <th>Tableau</th>\n",
       "      <td>3.73</td>\n",
       "      <td>19.87</td>\n",
       "      <td>16.14</td>\n",
       "      <td>432.25</td>\n",
       "      <td>6.00</td>\n",
       "      <td>7.00</td>\n",
       "      <td>1.00</td>\n",
       "    </tr>\n",
       "    <tr>\n",
       "      <th>Spark</th>\n",
       "      <td>5.16</td>\n",
       "      <td>19.61</td>\n",
       "      <td>14.45</td>\n",
       "      <td>279.85</td>\n",
       "      <td>7.00</td>\n",
       "      <td>4.00</td>\n",
       "      <td>-3.00</td>\n",
       "    </tr>\n",
       "    <tr>\n",
       "      <th>Azure</th>\n",
       "      <td>1.85</td>\n",
       "      <td>14.65</td>\n",
       "      <td>12.79</td>\n",
       "      <td>689.80</td>\n",
       "      <td>9.00</td>\n",
       "      <td>16.00</td>\n",
       "      <td>7.00</td>\n",
       "    </tr>\n",
       "    <tr>\n",
       "      <th>Scikit-learn</th>\n",
       "      <td>1.66</td>\n",
       "      <td>12.18</td>\n",
       "      <td>10.51</td>\n",
       "      <td>631.87</td>\n",
       "      <td>11.00</td>\n",
       "      <td>19.00</td>\n",
       "      <td>8.00</td>\n",
       "    </tr>\n",
       "    <tr>\n",
       "      <th>Pandas</th>\n",
       "      <td>1.26</td>\n",
       "      <td>11.15</td>\n",
       "      <td>9.89</td>\n",
       "      <td>785.21</td>\n",
       "      <td>14.00</td>\n",
       "      <td>21.00</td>\n",
       "      <td>7.00</td>\n",
       "    </tr>\n",
       "    <tr>\n",
       "      <th>Excel</th>\n",
       "      <td>2.01</td>\n",
       "      <td>11.63</td>\n",
       "      <td>9.62</td>\n",
       "      <td>477.84</td>\n",
       "      <td>12.00</td>\n",
       "      <td>14.00</td>\n",
       "      <td>2.00</td>\n",
       "    </tr>\n",
       "    <tr>\n",
       "      <th>Java</th>\n",
       "      <td>4.49</td>\n",
       "      <td>14.05</td>\n",
       "      <td>9.56</td>\n",
       "      <td>212.85</td>\n",
       "      <td>10.00</td>\n",
       "      <td>6.00</td>\n",
       "      <td>-4.00</td>\n",
       "    </tr>\n",
       "    <tr>\n",
       "      <th>Hadoop</th>\n",
       "      <td>4.81</td>\n",
       "      <td>11.55</td>\n",
       "      <td>6.74</td>\n",
       "      <td>140.10</td>\n",
       "      <td>13.00</td>\n",
       "      <td>5.00</td>\n",
       "      <td>-8.00</td>\n",
       "    </tr>\n",
       "    <tr>\n",
       "      <th>NumPy</th>\n",
       "      <td>1.00</td>\n",
       "      <td>7.68</td>\n",
       "      <td>6.68</td>\n",
       "      <td>666.37</td>\n",
       "      <td>16.00</td>\n",
       "      <td>25.00</td>\n",
       "      <td>9.00</td>\n",
       "    </tr>\n",
       "    <tr>\n",
       "      <th>Git</th>\n",
       "      <td>1.13</td>\n",
       "      <td>7.56</td>\n",
       "      <td>6.43</td>\n",
       "      <td>569.38</td>\n",
       "      <td>18.00</td>\n",
       "      <td>23.00</td>\n",
       "      <td>5.00</td>\n",
       "    </tr>\n",
       "    <tr>\n",
       "      <th>GCP</th>\n",
       "      <td>0.62</td>\n",
       "      <td>7.02</td>\n",
       "      <td>6.40</td>\n",
       "      <td>1,037.22</td>\n",
       "      <td>19.00</td>\n",
       "      <td>30.00</td>\n",
       "      <td>11.00</td>\n",
       "    </tr>\n",
       "    <tr>\n",
       "      <th>SAS</th>\n",
       "      <td>3.13</td>\n",
       "      <td>9.45</td>\n",
       "      <td>6.32</td>\n",
       "      <td>202.27</td>\n",
       "      <td>15.00</td>\n",
       "      <td>9.00</td>\n",
       "      <td>-6.00</td>\n",
       "    </tr>\n",
       "    <tr>\n",
       "      <th>C#</th>\n",
       "      <td>0.91</td>\n",
       "      <td>6.99</td>\n",
       "      <td>6.08</td>\n",
       "      <td>668.26</td>\n",
       "      <td>21.00</td>\n",
       "      <td>28.00</td>\n",
       "      <td>7.00</td>\n",
       "    </tr>\n",
       "    <tr>\n",
       "      <th>Databricks</th>\n",
       "      <td>0.41</td>\n",
       "      <td>6.28</td>\n",
       "      <td>5.86</td>\n",
       "      <td>1,412.92</td>\n",
       "      <td>25.00</td>\n",
       "      <td>31.00</td>\n",
       "      <td>6.00</td>\n",
       "    </tr>\n",
       "    <tr>\n",
       "      <th>C</th>\n",
       "      <td>1.65</td>\n",
       "      <td>6.99</td>\n",
       "      <td>5.34</td>\n",
       "      <td>324.14</td>\n",
       "      <td>21.00</td>\n",
       "      <td>20.00</td>\n",
       "      <td>-1.00</td>\n",
       "    </tr>\n",
       "    <tr>\n",
       "      <th>Docker</th>\n",
       "      <td>1.00</td>\n",
       "      <td>6.34</td>\n",
       "      <td>5.34</td>\n",
       "      <td>535.43</td>\n",
       "      <td>24.00</td>\n",
       "      <td>26.00</td>\n",
       "      <td>2.00</td>\n",
       "    </tr>\n",
       "    <tr>\n",
       "      <th>Scala</th>\n",
       "      <td>2.51</td>\n",
       "      <td>7.67</td>\n",
       "      <td>5.16</td>\n",
       "      <td>205.91</td>\n",
       "      <td>17.00</td>\n",
       "      <td>13.00</td>\n",
       "      <td>-4.00</td>\n",
       "    </tr>\n",
       "    <tr>\n",
       "      <th>NoSQL</th>\n",
       "      <td>1.74</td>\n",
       "      <td>6.83</td>\n",
       "      <td>5.09</td>\n",
       "      <td>293.14</td>\n",
       "      <td>23.00</td>\n",
       "      <td>17.00</td>\n",
       "      <td>-6.00</td>\n",
       "    </tr>\n",
       "    <tr>\n",
       "      <th>Keras</th>\n",
       "      <td>1.20</td>\n",
       "      <td>5.95</td>\n",
       "      <td>4.75</td>\n",
       "      <td>394.15</td>\n",
       "      <td>28.00</td>\n",
       "      <td>22.00</td>\n",
       "      <td>-6.00</td>\n",
       "    </tr>\n",
       "    <tr>\n",
       "      <th>Kubernetes</th>\n",
       "      <td>0.64</td>\n",
       "      <td>5.22</td>\n",
       "      <td>4.58</td>\n",
       "      <td>717.72</td>\n",
       "      <td>29.00</td>\n",
       "      <td>29.00</td>\n",
       "      <td>0.00</td>\n",
       "    </tr>\n",
       "    <tr>\n",
       "      <th>C++</th>\n",
       "      <td>2.53</td>\n",
       "      <td>6.99</td>\n",
       "      <td>4.46</td>\n",
       "      <td>176.66</td>\n",
       "      <td>21.00</td>\n",
       "      <td>12.00</td>\n",
       "      <td>-9.00</td>\n",
       "    </tr>\n",
       "    <tr>\n",
       "      <th>Matlab</th>\n",
       "      <td>1.89</td>\n",
       "      <td>6.27</td>\n",
       "      <td>4.37</td>\n",
       "      <td>231.06</td>\n",
       "      <td>26.00</td>\n",
       "      <td>15.00</td>\n",
       "      <td>-11.00</td>\n",
       "    </tr>\n",
       "    <tr>\n",
       "      <th>Javascript</th>\n",
       "      <td>0.98</td>\n",
       "      <td>5.21</td>\n",
       "      <td>4.23</td>\n",
       "      <td>431.48</td>\n",
       "      <td>30.00</td>\n",
       "      <td>27.00</td>\n",
       "      <td>-3.00</td>\n",
       "    </tr>\n",
       "    <tr>\n",
       "      <th>Hive</th>\n",
       "      <td>2.56</td>\n",
       "      <td>6.17</td>\n",
       "      <td>3.61</td>\n",
       "      <td>140.69</td>\n",
       "      <td>27.00</td>\n",
       "      <td>11.00</td>\n",
       "      <td>-16.00</td>\n",
       "    </tr>\n",
       "    <tr>\n",
       "      <th>Linux</th>\n",
       "      <td>1.68</td>\n",
       "      <td>5.17</td>\n",
       "      <td>3.49</td>\n",
       "      <td>207.37</td>\n",
       "      <td>31.00</td>\n",
       "      <td>18.00</td>\n",
       "      <td>-13.00</td>\n",
       "    </tr>\n",
       "  </tbody>\n",
       "</table>\n",
       "</div>"
      ],
      "text/plain": [
       "              2019_x  2023_x  Change in Avg  % Change  2023_rank  2019_rank  \\\n",
       "Python         13.63   77.89          64.26    471.40       1.00       1.00   \n",
       "SQL             9.89   52.49          42.61    431.00       2.00       3.00   \n",
       "R              10.01   41.29          31.28    312.68       3.00       2.00   \n",
       "TensorFlow      2.65   21.30          18.65    703.11       4.00      10.00   \n",
       "PyTorch         1.07   18.68          17.61  1,642.19       8.00      24.00   \n",
       "AWS             3.66   21.08          17.42    475.87       5.00       8.00   \n",
       "Tableau         3.73   19.87          16.14    432.25       6.00       7.00   \n",
       "Spark           5.16   19.61          14.45    279.85       7.00       4.00   \n",
       "Azure           1.85   14.65          12.79    689.80       9.00      16.00   \n",
       "Scikit-learn    1.66   12.18          10.51    631.87      11.00      19.00   \n",
       "Pandas          1.26   11.15           9.89    785.21      14.00      21.00   \n",
       "Excel           2.01   11.63           9.62    477.84      12.00      14.00   \n",
       "Java            4.49   14.05           9.56    212.85      10.00       6.00   \n",
       "Hadoop          4.81   11.55           6.74    140.10      13.00       5.00   \n",
       "NumPy           1.00    7.68           6.68    666.37      16.00      25.00   \n",
       "Git             1.13    7.56           6.43    569.38      18.00      23.00   \n",
       "GCP             0.62    7.02           6.40  1,037.22      19.00      30.00   \n",
       "SAS             3.13    9.45           6.32    202.27      15.00       9.00   \n",
       "C#              0.91    6.99           6.08    668.26      21.00      28.00   \n",
       "Databricks      0.41    6.28           5.86  1,412.92      25.00      31.00   \n",
       "C               1.65    6.99           5.34    324.14      21.00      20.00   \n",
       "Docker          1.00    6.34           5.34    535.43      24.00      26.00   \n",
       "Scala           2.51    7.67           5.16    205.91      17.00      13.00   \n",
       "NoSQL           1.74    6.83           5.09    293.14      23.00      17.00   \n",
       "Keras           1.20    5.95           4.75    394.15      28.00      22.00   \n",
       "Kubernetes      0.64    5.22           4.58    717.72      29.00      29.00   \n",
       "C++             2.53    6.99           4.46    176.66      21.00      12.00   \n",
       "Matlab          1.89    6.27           4.37    231.06      26.00      15.00   \n",
       "Javascript      0.98    5.21           4.23    431.48      30.00      27.00   \n",
       "Hive            2.56    6.17           3.61    140.69      27.00      11.00   \n",
       "Linux           1.68    5.17           3.49    207.37      31.00      18.00   \n",
       "\n",
       "              rank_change  \n",
       "Python               0.00  \n",
       "SQL                  1.00  \n",
       "R                   -1.00  \n",
       "TensorFlow           6.00  \n",
       "PyTorch             16.00  \n",
       "AWS                  3.00  \n",
       "Tableau              1.00  \n",
       "Spark               -3.00  \n",
       "Azure                7.00  \n",
       "Scikit-learn         8.00  \n",
       "Pandas               7.00  \n",
       "Excel                2.00  \n",
       "Java                -4.00  \n",
       "Hadoop              -8.00  \n",
       "NumPy                9.00  \n",
       "Git                  5.00  \n",
       "GCP                 11.00  \n",
       "SAS                 -6.00  \n",
       "C#                   7.00  \n",
       "Databricks           6.00  \n",
       "C                   -1.00  \n",
       "Docker               2.00  \n",
       "Scala               -4.00  \n",
       "NoSQL               -6.00  \n",
       "Keras               -6.00  \n",
       "Kubernetes           0.00  \n",
       "C++                 -9.00  \n",
       "Matlab             -11.00  \n",
       "Javascript          -3.00  \n",
       "Hive               -16.00  \n",
       "Linux              -13.00  "
      ]
     },
     "execution_count": 102,
     "metadata": {},
     "output_type": "execute_result"
    }
   ],
   "source": [
    "df_to_print = df_to_print.drop(['2019_y', '2023_y'],  axis = 'columns')\n",
    "df_to_print"
   ]
  },
  {
   "cell_type": "code",
   "execution_count": 103,
   "id": "b836a19466775d48",
   "metadata": {
    "ExecuteTime": {
     "end_time": "2023-10-06T08:32:09.556787400Z",
     "start_time": "2023-10-06T08:32:09.433030100Z"
    },
    "collapsed": false,
    "jupyter": {
     "outputs_hidden": false
    }
   },
   "outputs": [
    {
     "data": {
      "text/html": [
       "<div>\n",
       "<style scoped>\n",
       "    .dataframe tbody tr th:only-of-type {\n",
       "        vertical-align: middle;\n",
       "    }\n",
       "\n",
       "    .dataframe tbody tr th {\n",
       "        vertical-align: top;\n",
       "    }\n",
       "\n",
       "    .dataframe thead th {\n",
       "        text-align: right;\n",
       "    }\n",
       "</style>\n",
       "<table border=\"1\" class=\"dataframe\">\n",
       "  <thead>\n",
       "    <tr style=\"text-align: right;\">\n",
       "      <th></th>\n",
       "      <th>2019 Avg</th>\n",
       "      <th>2023 Avg</th>\n",
       "      <th>Change in Avg</th>\n",
       "      <th>% Change</th>\n",
       "      <th>2023 Rank</th>\n",
       "      <th>2019 Rank</th>\n",
       "      <th>Rank Change</th>\n",
       "    </tr>\n",
       "  </thead>\n",
       "  <tbody>\n",
       "    <tr>\n",
       "      <th>Python</th>\n",
       "      <td>13.63</td>\n",
       "      <td>77.89</td>\n",
       "      <td>64.26</td>\n",
       "      <td>471.40</td>\n",
       "      <td>1.00</td>\n",
       "      <td>1.00</td>\n",
       "      <td>0.00</td>\n",
       "    </tr>\n",
       "    <tr>\n",
       "      <th>SQL</th>\n",
       "      <td>9.89</td>\n",
       "      <td>52.49</td>\n",
       "      <td>42.61</td>\n",
       "      <td>431.00</td>\n",
       "      <td>2.00</td>\n",
       "      <td>3.00</td>\n",
       "      <td>1.00</td>\n",
       "    </tr>\n",
       "    <tr>\n",
       "      <th>R</th>\n",
       "      <td>10.01</td>\n",
       "      <td>41.29</td>\n",
       "      <td>31.28</td>\n",
       "      <td>312.68</td>\n",
       "      <td>3.00</td>\n",
       "      <td>2.00</td>\n",
       "      <td>-1.00</td>\n",
       "    </tr>\n",
       "    <tr>\n",
       "      <th>TensorFlow</th>\n",
       "      <td>2.65</td>\n",
       "      <td>21.30</td>\n",
       "      <td>18.65</td>\n",
       "      <td>703.11</td>\n",
       "      <td>4.00</td>\n",
       "      <td>10.00</td>\n",
       "      <td>6.00</td>\n",
       "    </tr>\n",
       "    <tr>\n",
       "      <th>PyTorch</th>\n",
       "      <td>1.07</td>\n",
       "      <td>18.68</td>\n",
       "      <td>17.61</td>\n",
       "      <td>1,642.19</td>\n",
       "      <td>8.00</td>\n",
       "      <td>24.00</td>\n",
       "      <td>16.00</td>\n",
       "    </tr>\n",
       "    <tr>\n",
       "      <th>AWS</th>\n",
       "      <td>3.66</td>\n",
       "      <td>21.08</td>\n",
       "      <td>17.42</td>\n",
       "      <td>475.87</td>\n",
       "      <td>5.00</td>\n",
       "      <td>8.00</td>\n",
       "      <td>3.00</td>\n",
       "    </tr>\n",
       "    <tr>\n",
       "      <th>Tableau</th>\n",
       "      <td>3.73</td>\n",
       "      <td>19.87</td>\n",
       "      <td>16.14</td>\n",
       "      <td>432.25</td>\n",
       "      <td>6.00</td>\n",
       "      <td>7.00</td>\n",
       "      <td>1.00</td>\n",
       "    </tr>\n",
       "    <tr>\n",
       "      <th>Spark</th>\n",
       "      <td>5.16</td>\n",
       "      <td>19.61</td>\n",
       "      <td>14.45</td>\n",
       "      <td>279.85</td>\n",
       "      <td>7.00</td>\n",
       "      <td>4.00</td>\n",
       "      <td>-3.00</td>\n",
       "    </tr>\n",
       "    <tr>\n",
       "      <th>Azure</th>\n",
       "      <td>1.85</td>\n",
       "      <td>14.65</td>\n",
       "      <td>12.79</td>\n",
       "      <td>689.80</td>\n",
       "      <td>9.00</td>\n",
       "      <td>16.00</td>\n",
       "      <td>7.00</td>\n",
       "    </tr>\n",
       "    <tr>\n",
       "      <th>Scikit-learn</th>\n",
       "      <td>1.66</td>\n",
       "      <td>12.18</td>\n",
       "      <td>10.51</td>\n",
       "      <td>631.87</td>\n",
       "      <td>11.00</td>\n",
       "      <td>19.00</td>\n",
       "      <td>8.00</td>\n",
       "    </tr>\n",
       "    <tr>\n",
       "      <th>Pandas</th>\n",
       "      <td>1.26</td>\n",
       "      <td>11.15</td>\n",
       "      <td>9.89</td>\n",
       "      <td>785.21</td>\n",
       "      <td>14.00</td>\n",
       "      <td>21.00</td>\n",
       "      <td>7.00</td>\n",
       "    </tr>\n",
       "    <tr>\n",
       "      <th>Excel</th>\n",
       "      <td>2.01</td>\n",
       "      <td>11.63</td>\n",
       "      <td>9.62</td>\n",
       "      <td>477.84</td>\n",
       "      <td>12.00</td>\n",
       "      <td>14.00</td>\n",
       "      <td>2.00</td>\n",
       "    </tr>\n",
       "    <tr>\n",
       "      <th>Java</th>\n",
       "      <td>4.49</td>\n",
       "      <td>14.05</td>\n",
       "      <td>9.56</td>\n",
       "      <td>212.85</td>\n",
       "      <td>10.00</td>\n",
       "      <td>6.00</td>\n",
       "      <td>-4.00</td>\n",
       "    </tr>\n",
       "    <tr>\n",
       "      <th>Hadoop</th>\n",
       "      <td>4.81</td>\n",
       "      <td>11.55</td>\n",
       "      <td>6.74</td>\n",
       "      <td>140.10</td>\n",
       "      <td>13.00</td>\n",
       "      <td>5.00</td>\n",
       "      <td>-8.00</td>\n",
       "    </tr>\n",
       "    <tr>\n",
       "      <th>NumPy</th>\n",
       "      <td>1.00</td>\n",
       "      <td>7.68</td>\n",
       "      <td>6.68</td>\n",
       "      <td>666.37</td>\n",
       "      <td>16.00</td>\n",
       "      <td>25.00</td>\n",
       "      <td>9.00</td>\n",
       "    </tr>\n",
       "    <tr>\n",
       "      <th>Git</th>\n",
       "      <td>1.13</td>\n",
       "      <td>7.56</td>\n",
       "      <td>6.43</td>\n",
       "      <td>569.38</td>\n",
       "      <td>18.00</td>\n",
       "      <td>23.00</td>\n",
       "      <td>5.00</td>\n",
       "    </tr>\n",
       "    <tr>\n",
       "      <th>GCP</th>\n",
       "      <td>0.62</td>\n",
       "      <td>7.02</td>\n",
       "      <td>6.40</td>\n",
       "      <td>1,037.22</td>\n",
       "      <td>19.00</td>\n",
       "      <td>30.00</td>\n",
       "      <td>11.00</td>\n",
       "    </tr>\n",
       "    <tr>\n",
       "      <th>SAS</th>\n",
       "      <td>3.13</td>\n",
       "      <td>9.45</td>\n",
       "      <td>6.32</td>\n",
       "      <td>202.27</td>\n",
       "      <td>15.00</td>\n",
       "      <td>9.00</td>\n",
       "      <td>-6.00</td>\n",
       "    </tr>\n",
       "    <tr>\n",
       "      <th>C#</th>\n",
       "      <td>0.91</td>\n",
       "      <td>6.99</td>\n",
       "      <td>6.08</td>\n",
       "      <td>668.26</td>\n",
       "      <td>21.00</td>\n",
       "      <td>28.00</td>\n",
       "      <td>7.00</td>\n",
       "    </tr>\n",
       "    <tr>\n",
       "      <th>Databricks</th>\n",
       "      <td>0.41</td>\n",
       "      <td>6.28</td>\n",
       "      <td>5.86</td>\n",
       "      <td>1,412.92</td>\n",
       "      <td>25.00</td>\n",
       "      <td>31.00</td>\n",
       "      <td>6.00</td>\n",
       "    </tr>\n",
       "    <tr>\n",
       "      <th>C</th>\n",
       "      <td>1.65</td>\n",
       "      <td>6.99</td>\n",
       "      <td>5.34</td>\n",
       "      <td>324.14</td>\n",
       "      <td>21.00</td>\n",
       "      <td>20.00</td>\n",
       "      <td>-1.00</td>\n",
       "    </tr>\n",
       "    <tr>\n",
       "      <th>Docker</th>\n",
       "      <td>1.00</td>\n",
       "      <td>6.34</td>\n",
       "      <td>5.34</td>\n",
       "      <td>535.43</td>\n",
       "      <td>24.00</td>\n",
       "      <td>26.00</td>\n",
       "      <td>2.00</td>\n",
       "    </tr>\n",
       "    <tr>\n",
       "      <th>Scala</th>\n",
       "      <td>2.51</td>\n",
       "      <td>7.67</td>\n",
       "      <td>5.16</td>\n",
       "      <td>205.91</td>\n",
       "      <td>17.00</td>\n",
       "      <td>13.00</td>\n",
       "      <td>-4.00</td>\n",
       "    </tr>\n",
       "    <tr>\n",
       "      <th>NoSQL</th>\n",
       "      <td>1.74</td>\n",
       "      <td>6.83</td>\n",
       "      <td>5.09</td>\n",
       "      <td>293.14</td>\n",
       "      <td>23.00</td>\n",
       "      <td>17.00</td>\n",
       "      <td>-6.00</td>\n",
       "    </tr>\n",
       "    <tr>\n",
       "      <th>Keras</th>\n",
       "      <td>1.20</td>\n",
       "      <td>5.95</td>\n",
       "      <td>4.75</td>\n",
       "      <td>394.15</td>\n",
       "      <td>28.00</td>\n",
       "      <td>22.00</td>\n",
       "      <td>-6.00</td>\n",
       "    </tr>\n",
       "    <tr>\n",
       "      <th>Kubernetes</th>\n",
       "      <td>0.64</td>\n",
       "      <td>5.22</td>\n",
       "      <td>4.58</td>\n",
       "      <td>717.72</td>\n",
       "      <td>29.00</td>\n",
       "      <td>29.00</td>\n",
       "      <td>0.00</td>\n",
       "    </tr>\n",
       "    <tr>\n",
       "      <th>C++</th>\n",
       "      <td>2.53</td>\n",
       "      <td>6.99</td>\n",
       "      <td>4.46</td>\n",
       "      <td>176.66</td>\n",
       "      <td>21.00</td>\n",
       "      <td>12.00</td>\n",
       "      <td>-9.00</td>\n",
       "    </tr>\n",
       "    <tr>\n",
       "      <th>Matlab</th>\n",
       "      <td>1.89</td>\n",
       "      <td>6.27</td>\n",
       "      <td>4.37</td>\n",
       "      <td>231.06</td>\n",
       "      <td>26.00</td>\n",
       "      <td>15.00</td>\n",
       "      <td>-11.00</td>\n",
       "    </tr>\n",
       "    <tr>\n",
       "      <th>Javascript</th>\n",
       "      <td>0.98</td>\n",
       "      <td>5.21</td>\n",
       "      <td>4.23</td>\n",
       "      <td>431.48</td>\n",
       "      <td>30.00</td>\n",
       "      <td>27.00</td>\n",
       "      <td>-3.00</td>\n",
       "    </tr>\n",
       "    <tr>\n",
       "      <th>Hive</th>\n",
       "      <td>2.56</td>\n",
       "      <td>6.17</td>\n",
       "      <td>3.61</td>\n",
       "      <td>140.69</td>\n",
       "      <td>27.00</td>\n",
       "      <td>11.00</td>\n",
       "      <td>-16.00</td>\n",
       "    </tr>\n",
       "    <tr>\n",
       "      <th>Linux</th>\n",
       "      <td>1.68</td>\n",
       "      <td>5.17</td>\n",
       "      <td>3.49</td>\n",
       "      <td>207.37</td>\n",
       "      <td>31.00</td>\n",
       "      <td>18.00</td>\n",
       "      <td>-13.00</td>\n",
       "    </tr>\n",
       "  </tbody>\n",
       "</table>\n",
       "</div>"
      ],
      "text/plain": [
       "              2019 Avg  2023 Avg  Change in Avg  % Change  2023 Rank  \\\n",
       "Python           13.63     77.89          64.26    471.40       1.00   \n",
       "SQL               9.89     52.49          42.61    431.00       2.00   \n",
       "R                10.01     41.29          31.28    312.68       3.00   \n",
       "TensorFlow        2.65     21.30          18.65    703.11       4.00   \n",
       "PyTorch           1.07     18.68          17.61  1,642.19       8.00   \n",
       "AWS               3.66     21.08          17.42    475.87       5.00   \n",
       "Tableau           3.73     19.87          16.14    432.25       6.00   \n",
       "Spark             5.16     19.61          14.45    279.85       7.00   \n",
       "Azure             1.85     14.65          12.79    689.80       9.00   \n",
       "Scikit-learn      1.66     12.18          10.51    631.87      11.00   \n",
       "Pandas            1.26     11.15           9.89    785.21      14.00   \n",
       "Excel             2.01     11.63           9.62    477.84      12.00   \n",
       "Java              4.49     14.05           9.56    212.85      10.00   \n",
       "Hadoop            4.81     11.55           6.74    140.10      13.00   \n",
       "NumPy             1.00      7.68           6.68    666.37      16.00   \n",
       "Git               1.13      7.56           6.43    569.38      18.00   \n",
       "GCP               0.62      7.02           6.40  1,037.22      19.00   \n",
       "SAS               3.13      9.45           6.32    202.27      15.00   \n",
       "C#                0.91      6.99           6.08    668.26      21.00   \n",
       "Databricks        0.41      6.28           5.86  1,412.92      25.00   \n",
       "C                 1.65      6.99           5.34    324.14      21.00   \n",
       "Docker            1.00      6.34           5.34    535.43      24.00   \n",
       "Scala             2.51      7.67           5.16    205.91      17.00   \n",
       "NoSQL             1.74      6.83           5.09    293.14      23.00   \n",
       "Keras             1.20      5.95           4.75    394.15      28.00   \n",
       "Kubernetes        0.64      5.22           4.58    717.72      29.00   \n",
       "C++               2.53      6.99           4.46    176.66      21.00   \n",
       "Matlab            1.89      6.27           4.37    231.06      26.00   \n",
       "Javascript        0.98      5.21           4.23    431.48      30.00   \n",
       "Hive              2.56      6.17           3.61    140.69      27.00   \n",
       "Linux             1.68      5.17           3.49    207.37      31.00   \n",
       "\n",
       "              2019 Rank  Rank Change  \n",
       "Python             1.00         0.00  \n",
       "SQL                3.00         1.00  \n",
       "R                  2.00        -1.00  \n",
       "TensorFlow        10.00         6.00  \n",
       "PyTorch           24.00        16.00  \n",
       "AWS                8.00         3.00  \n",
       "Tableau            7.00         1.00  \n",
       "Spark              4.00        -3.00  \n",
       "Azure             16.00         7.00  \n",
       "Scikit-learn      19.00         8.00  \n",
       "Pandas            21.00         7.00  \n",
       "Excel             14.00         2.00  \n",
       "Java               6.00        -4.00  \n",
       "Hadoop             5.00        -8.00  \n",
       "NumPy             25.00         9.00  \n",
       "Git               23.00         5.00  \n",
       "GCP               30.00        11.00  \n",
       "SAS                9.00        -6.00  \n",
       "C#                28.00         7.00  \n",
       "Databricks        31.00         6.00  \n",
       "C                 20.00        -1.00  \n",
       "Docker            26.00         2.00  \n",
       "Scala             13.00        -4.00  \n",
       "NoSQL             17.00        -6.00  \n",
       "Keras             22.00        -6.00  \n",
       "Kubernetes        29.00         0.00  \n",
       "C++               12.00        -9.00  \n",
       "Matlab            15.00       -11.00  \n",
       "Javascript        27.00        -3.00  \n",
       "Hive              11.00       -16.00  \n",
       "Linux             18.00       -13.00  "
      ]
     },
     "execution_count": 103,
     "metadata": {},
     "output_type": "execute_result"
    }
   ],
   "source": [
    "df_to_print.columns = ['2019 Avg', '2023 Avg', 'Change in Avg', '% Change', '2023 Rank', '2019 Rank', 'Rank Change']\n",
    "df_to_print"
   ]
  },
  {
   "cell_type": "markdown",
   "id": "a338f7a2fdfa1801",
   "metadata": {
    "collapsed": false,
    "jupyter": {
     "outputs_hidden": false
    }
   },
   "source": [
    "Reorder 2018 and 2019 rank columns\n",
    "\n"
   ]
  },
  {
   "cell_type": "code",
   "execution_count": 104,
   "id": "3a51b1dc1e44ac2a",
   "metadata": {
    "ExecuteTime": {
     "end_time": "2023-10-06T08:32:41.169685600Z",
     "start_time": "2023-10-06T08:32:41.044488300Z"
    },
    "collapsed": false,
    "jupyter": {
     "outputs_hidden": false
    }
   },
   "outputs": [],
   "source": [
    "new_cols = ['2019 Avg', '2023 Avg', 'Change in Avg', '% Change', '2019 Rank', '2023 Rank', 'Rank Change']\n"
   ]
  },
  {
   "cell_type": "code",
   "execution_count": 105,
   "id": "1a873bbf5c980f74",
   "metadata": {
    "ExecuteTime": {
     "end_time": "2023-10-06T08:32:51.743371200Z",
     "start_time": "2023-10-06T08:32:51.611602400Z"
    },
    "collapsed": false,
    "jupyter": {
     "outputs_hidden": false
    }
   },
   "outputs": [
    {
     "data": {
      "text/html": [
       "<div>\n",
       "<style scoped>\n",
       "    .dataframe tbody tr th:only-of-type {\n",
       "        vertical-align: middle;\n",
       "    }\n",
       "\n",
       "    .dataframe tbody tr th {\n",
       "        vertical-align: top;\n",
       "    }\n",
       "\n",
       "    .dataframe thead th {\n",
       "        text-align: right;\n",
       "    }\n",
       "</style>\n",
       "<table border=\"1\" class=\"dataframe\">\n",
       "  <thead>\n",
       "    <tr style=\"text-align: right;\">\n",
       "      <th></th>\n",
       "      <th>2019 Avg</th>\n",
       "      <th>2023 Avg</th>\n",
       "      <th>Change in Avg</th>\n",
       "      <th>% Change</th>\n",
       "      <th>2019 Rank</th>\n",
       "      <th>2023 Rank</th>\n",
       "      <th>Rank Change</th>\n",
       "    </tr>\n",
       "  </thead>\n",
       "  <tbody>\n",
       "    <tr>\n",
       "      <th>PyTorch</th>\n",
       "      <td>1.07</td>\n",
       "      <td>18.68</td>\n",
       "      <td>17.61</td>\n",
       "      <td>1,642.19</td>\n",
       "      <td>24.00</td>\n",
       "      <td>8.00</td>\n",
       "      <td>16.00</td>\n",
       "    </tr>\n",
       "    <tr>\n",
       "      <th>Databricks</th>\n",
       "      <td>0.41</td>\n",
       "      <td>6.28</td>\n",
       "      <td>5.86</td>\n",
       "      <td>1,412.92</td>\n",
       "      <td>31.00</td>\n",
       "      <td>25.00</td>\n",
       "      <td>6.00</td>\n",
       "    </tr>\n",
       "    <tr>\n",
       "      <th>GCP</th>\n",
       "      <td>0.62</td>\n",
       "      <td>7.02</td>\n",
       "      <td>6.40</td>\n",
       "      <td>1,037.22</td>\n",
       "      <td>30.00</td>\n",
       "      <td>19.00</td>\n",
       "      <td>11.00</td>\n",
       "    </tr>\n",
       "    <tr>\n",
       "      <th>Pandas</th>\n",
       "      <td>1.26</td>\n",
       "      <td>11.15</td>\n",
       "      <td>9.89</td>\n",
       "      <td>785.21</td>\n",
       "      <td>21.00</td>\n",
       "      <td>14.00</td>\n",
       "      <td>7.00</td>\n",
       "    </tr>\n",
       "    <tr>\n",
       "      <th>Kubernetes</th>\n",
       "      <td>0.64</td>\n",
       "      <td>5.22</td>\n",
       "      <td>4.58</td>\n",
       "      <td>717.72</td>\n",
       "      <td>29.00</td>\n",
       "      <td>29.00</td>\n",
       "      <td>0.00</td>\n",
       "    </tr>\n",
       "    <tr>\n",
       "      <th>TensorFlow</th>\n",
       "      <td>2.65</td>\n",
       "      <td>21.30</td>\n",
       "      <td>18.65</td>\n",
       "      <td>703.11</td>\n",
       "      <td>10.00</td>\n",
       "      <td>4.00</td>\n",
       "      <td>6.00</td>\n",
       "    </tr>\n",
       "    <tr>\n",
       "      <th>Azure</th>\n",
       "      <td>1.85</td>\n",
       "      <td>14.65</td>\n",
       "      <td>12.79</td>\n",
       "      <td>689.80</td>\n",
       "      <td>16.00</td>\n",
       "      <td>9.00</td>\n",
       "      <td>7.00</td>\n",
       "    </tr>\n",
       "    <tr>\n",
       "      <th>C#</th>\n",
       "      <td>0.91</td>\n",
       "      <td>6.99</td>\n",
       "      <td>6.08</td>\n",
       "      <td>668.26</td>\n",
       "      <td>28.00</td>\n",
       "      <td>21.00</td>\n",
       "      <td>7.00</td>\n",
       "    </tr>\n",
       "    <tr>\n",
       "      <th>NumPy</th>\n",
       "      <td>1.00</td>\n",
       "      <td>7.68</td>\n",
       "      <td>6.68</td>\n",
       "      <td>666.37</td>\n",
       "      <td>25.00</td>\n",
       "      <td>16.00</td>\n",
       "      <td>9.00</td>\n",
       "    </tr>\n",
       "    <tr>\n",
       "      <th>Scikit-learn</th>\n",
       "      <td>1.66</td>\n",
       "      <td>12.18</td>\n",
       "      <td>10.51</td>\n",
       "      <td>631.87</td>\n",
       "      <td>19.00</td>\n",
       "      <td>11.00</td>\n",
       "      <td>8.00</td>\n",
       "    </tr>\n",
       "    <tr>\n",
       "      <th>Git</th>\n",
       "      <td>1.13</td>\n",
       "      <td>7.56</td>\n",
       "      <td>6.43</td>\n",
       "      <td>569.38</td>\n",
       "      <td>23.00</td>\n",
       "      <td>18.00</td>\n",
       "      <td>5.00</td>\n",
       "    </tr>\n",
       "    <tr>\n",
       "      <th>Docker</th>\n",
       "      <td>1.00</td>\n",
       "      <td>6.34</td>\n",
       "      <td>5.34</td>\n",
       "      <td>535.43</td>\n",
       "      <td>26.00</td>\n",
       "      <td>24.00</td>\n",
       "      <td>2.00</td>\n",
       "    </tr>\n",
       "    <tr>\n",
       "      <th>Excel</th>\n",
       "      <td>2.01</td>\n",
       "      <td>11.63</td>\n",
       "      <td>9.62</td>\n",
       "      <td>477.84</td>\n",
       "      <td>14.00</td>\n",
       "      <td>12.00</td>\n",
       "      <td>2.00</td>\n",
       "    </tr>\n",
       "    <tr>\n",
       "      <th>AWS</th>\n",
       "      <td>3.66</td>\n",
       "      <td>21.08</td>\n",
       "      <td>17.42</td>\n",
       "      <td>475.87</td>\n",
       "      <td>8.00</td>\n",
       "      <td>5.00</td>\n",
       "      <td>3.00</td>\n",
       "    </tr>\n",
       "    <tr>\n",
       "      <th>Python</th>\n",
       "      <td>13.63</td>\n",
       "      <td>77.89</td>\n",
       "      <td>64.26</td>\n",
       "      <td>471.40</td>\n",
       "      <td>1.00</td>\n",
       "      <td>1.00</td>\n",
       "      <td>0.00</td>\n",
       "    </tr>\n",
       "    <tr>\n",
       "      <th>Tableau</th>\n",
       "      <td>3.73</td>\n",
       "      <td>19.87</td>\n",
       "      <td>16.14</td>\n",
       "      <td>432.25</td>\n",
       "      <td>7.00</td>\n",
       "      <td>6.00</td>\n",
       "      <td>1.00</td>\n",
       "    </tr>\n",
       "    <tr>\n",
       "      <th>Javascript</th>\n",
       "      <td>0.98</td>\n",
       "      <td>5.21</td>\n",
       "      <td>4.23</td>\n",
       "      <td>431.48</td>\n",
       "      <td>27.00</td>\n",
       "      <td>30.00</td>\n",
       "      <td>-3.00</td>\n",
       "    </tr>\n",
       "    <tr>\n",
       "      <th>SQL</th>\n",
       "      <td>9.89</td>\n",
       "      <td>52.49</td>\n",
       "      <td>42.61</td>\n",
       "      <td>431.00</td>\n",
       "      <td>3.00</td>\n",
       "      <td>2.00</td>\n",
       "      <td>1.00</td>\n",
       "    </tr>\n",
       "    <tr>\n",
       "      <th>Keras</th>\n",
       "      <td>1.20</td>\n",
       "      <td>5.95</td>\n",
       "      <td>4.75</td>\n",
       "      <td>394.15</td>\n",
       "      <td>22.00</td>\n",
       "      <td>28.00</td>\n",
       "      <td>-6.00</td>\n",
       "    </tr>\n",
       "    <tr>\n",
       "      <th>C</th>\n",
       "      <td>1.65</td>\n",
       "      <td>6.99</td>\n",
       "      <td>5.34</td>\n",
       "      <td>324.14</td>\n",
       "      <td>20.00</td>\n",
       "      <td>21.00</td>\n",
       "      <td>-1.00</td>\n",
       "    </tr>\n",
       "    <tr>\n",
       "      <th>R</th>\n",
       "      <td>10.01</td>\n",
       "      <td>41.29</td>\n",
       "      <td>31.28</td>\n",
       "      <td>312.68</td>\n",
       "      <td>2.00</td>\n",
       "      <td>3.00</td>\n",
       "      <td>-1.00</td>\n",
       "    </tr>\n",
       "    <tr>\n",
       "      <th>NoSQL</th>\n",
       "      <td>1.74</td>\n",
       "      <td>6.83</td>\n",
       "      <td>5.09</td>\n",
       "      <td>293.14</td>\n",
       "      <td>17.00</td>\n",
       "      <td>23.00</td>\n",
       "      <td>-6.00</td>\n",
       "    </tr>\n",
       "    <tr>\n",
       "      <th>Spark</th>\n",
       "      <td>5.16</td>\n",
       "      <td>19.61</td>\n",
       "      <td>14.45</td>\n",
       "      <td>279.85</td>\n",
       "      <td>4.00</td>\n",
       "      <td>7.00</td>\n",
       "      <td>-3.00</td>\n",
       "    </tr>\n",
       "    <tr>\n",
       "      <th>Matlab</th>\n",
       "      <td>1.89</td>\n",
       "      <td>6.27</td>\n",
       "      <td>4.37</td>\n",
       "      <td>231.06</td>\n",
       "      <td>15.00</td>\n",
       "      <td>26.00</td>\n",
       "      <td>-11.00</td>\n",
       "    </tr>\n",
       "    <tr>\n",
       "      <th>Java</th>\n",
       "      <td>4.49</td>\n",
       "      <td>14.05</td>\n",
       "      <td>9.56</td>\n",
       "      <td>212.85</td>\n",
       "      <td>6.00</td>\n",
       "      <td>10.00</td>\n",
       "      <td>-4.00</td>\n",
       "    </tr>\n",
       "    <tr>\n",
       "      <th>Linux</th>\n",
       "      <td>1.68</td>\n",
       "      <td>5.17</td>\n",
       "      <td>3.49</td>\n",
       "      <td>207.37</td>\n",
       "      <td>18.00</td>\n",
       "      <td>31.00</td>\n",
       "      <td>-13.00</td>\n",
       "    </tr>\n",
       "    <tr>\n",
       "      <th>Scala</th>\n",
       "      <td>2.51</td>\n",
       "      <td>7.67</td>\n",
       "      <td>5.16</td>\n",
       "      <td>205.91</td>\n",
       "      <td>13.00</td>\n",
       "      <td>17.00</td>\n",
       "      <td>-4.00</td>\n",
       "    </tr>\n",
       "    <tr>\n",
       "      <th>SAS</th>\n",
       "      <td>3.13</td>\n",
       "      <td>9.45</td>\n",
       "      <td>6.32</td>\n",
       "      <td>202.27</td>\n",
       "      <td>9.00</td>\n",
       "      <td>15.00</td>\n",
       "      <td>-6.00</td>\n",
       "    </tr>\n",
       "    <tr>\n",
       "      <th>C++</th>\n",
       "      <td>2.53</td>\n",
       "      <td>6.99</td>\n",
       "      <td>4.46</td>\n",
       "      <td>176.66</td>\n",
       "      <td>12.00</td>\n",
       "      <td>21.00</td>\n",
       "      <td>-9.00</td>\n",
       "    </tr>\n",
       "    <tr>\n",
       "      <th>Hive</th>\n",
       "      <td>2.56</td>\n",
       "      <td>6.17</td>\n",
       "      <td>3.61</td>\n",
       "      <td>140.69</td>\n",
       "      <td>11.00</td>\n",
       "      <td>27.00</td>\n",
       "      <td>-16.00</td>\n",
       "    </tr>\n",
       "    <tr>\n",
       "      <th>Hadoop</th>\n",
       "      <td>4.81</td>\n",
       "      <td>11.55</td>\n",
       "      <td>6.74</td>\n",
       "      <td>140.10</td>\n",
       "      <td>5.00</td>\n",
       "      <td>13.00</td>\n",
       "      <td>-8.00</td>\n",
       "    </tr>\n",
       "  </tbody>\n",
       "</table>\n",
       "</div>"
      ],
      "text/plain": [
       "              2019 Avg  2023 Avg  Change in Avg  % Change  2019 Rank  \\\n",
       "PyTorch           1.07     18.68          17.61  1,642.19      24.00   \n",
       "Databricks        0.41      6.28           5.86  1,412.92      31.00   \n",
       "GCP               0.62      7.02           6.40  1,037.22      30.00   \n",
       "Pandas            1.26     11.15           9.89    785.21      21.00   \n",
       "Kubernetes        0.64      5.22           4.58    717.72      29.00   \n",
       "TensorFlow        2.65     21.30          18.65    703.11      10.00   \n",
       "Azure             1.85     14.65          12.79    689.80      16.00   \n",
       "C#                0.91      6.99           6.08    668.26      28.00   \n",
       "NumPy             1.00      7.68           6.68    666.37      25.00   \n",
       "Scikit-learn      1.66     12.18          10.51    631.87      19.00   \n",
       "Git               1.13      7.56           6.43    569.38      23.00   \n",
       "Docker            1.00      6.34           5.34    535.43      26.00   \n",
       "Excel             2.01     11.63           9.62    477.84      14.00   \n",
       "AWS               3.66     21.08          17.42    475.87       8.00   \n",
       "Python           13.63     77.89          64.26    471.40       1.00   \n",
       "Tableau           3.73     19.87          16.14    432.25       7.00   \n",
       "Javascript        0.98      5.21           4.23    431.48      27.00   \n",
       "SQL               9.89     52.49          42.61    431.00       3.00   \n",
       "Keras             1.20      5.95           4.75    394.15      22.00   \n",
       "C                 1.65      6.99           5.34    324.14      20.00   \n",
       "R                10.01     41.29          31.28    312.68       2.00   \n",
       "NoSQL             1.74      6.83           5.09    293.14      17.00   \n",
       "Spark             5.16     19.61          14.45    279.85       4.00   \n",
       "Matlab            1.89      6.27           4.37    231.06      15.00   \n",
       "Java              4.49     14.05           9.56    212.85       6.00   \n",
       "Linux             1.68      5.17           3.49    207.37      18.00   \n",
       "Scala             2.51      7.67           5.16    205.91      13.00   \n",
       "SAS               3.13      9.45           6.32    202.27       9.00   \n",
       "C++               2.53      6.99           4.46    176.66      12.00   \n",
       "Hive              2.56      6.17           3.61    140.69      11.00   \n",
       "Hadoop            4.81     11.55           6.74    140.10       5.00   \n",
       "\n",
       "              2023 Rank  Rank Change  \n",
       "PyTorch            8.00        16.00  \n",
       "Databricks        25.00         6.00  \n",
       "GCP               19.00        11.00  \n",
       "Pandas            14.00         7.00  \n",
       "Kubernetes        29.00         0.00  \n",
       "TensorFlow         4.00         6.00  \n",
       "Azure              9.00         7.00  \n",
       "C#                21.00         7.00  \n",
       "NumPy             16.00         9.00  \n",
       "Scikit-learn      11.00         8.00  \n",
       "Git               18.00         5.00  \n",
       "Docker            24.00         2.00  \n",
       "Excel             12.00         2.00  \n",
       "AWS                5.00         3.00  \n",
       "Python             1.00         0.00  \n",
       "Tableau            6.00         1.00  \n",
       "Javascript        30.00        -3.00  \n",
       "SQL                2.00         1.00  \n",
       "Keras             28.00        -6.00  \n",
       "C                 21.00        -1.00  \n",
       "R                  3.00        -1.00  \n",
       "NoSQL             23.00        -6.00  \n",
       "Spark              7.00        -3.00  \n",
       "Matlab            26.00       -11.00  \n",
       "Java              10.00        -4.00  \n",
       "Linux             31.00       -13.00  \n",
       "Scala             17.00        -4.00  \n",
       "SAS               15.00        -6.00  \n",
       "C++               21.00        -9.00  \n",
       "Hive              27.00       -16.00  \n",
       "Hadoop            13.00        -8.00  "
      ]
     },
     "execution_count": 105,
     "metadata": {},
     "output_type": "execute_result"
    }
   ],
   "source": [
    "df_to_print = df_to_print[new_cols]\n",
    "df_to_print = df_to_print.sort_values(by='% Change', ascending=False)\n",
    "df_to_print"
   ]
  },
  {
   "cell_type": "code",
   "execution_count": 106,
   "id": "9fb0f8b246554d1a",
   "metadata": {
    "ExecuteTime": {
     "end_time": "2023-10-06T08:33:01.091174300Z",
     "start_time": "2023-10-06T08:33:00.965728400Z"
    },
    "collapsed": false,
    "jupyter": {
     "outputs_hidden": false
    }
   },
   "outputs": [],
   "source": [
    "df_to_print.rename(index={'Matlab':'MATLAB'},inplace=True)\n"
   ]
  },
  {
   "cell_type": "code",
   "execution_count": 108,
   "id": "121831ba2dc5e702",
   "metadata": {
    "ExecuteTime": {
     "end_time": "2023-10-06T08:33:22.035428200Z",
     "start_time": "2023-10-06T08:33:21.896898200Z"
    },
    "collapsed": false,
    "jupyter": {
     "outputs_hidden": false
    }
   },
   "outputs": [
    {
     "data": {
      "text/html": [
       "<div>\n",
       "<style scoped>\n",
       "    .dataframe tbody tr th:only-of-type {\n",
       "        vertical-align: middle;\n",
       "    }\n",
       "\n",
       "    .dataframe tbody tr th {\n",
       "        vertical-align: top;\n",
       "    }\n",
       "\n",
       "    .dataframe thead th {\n",
       "        text-align: right;\n",
       "    }\n",
       "</style>\n",
       "<table border=\"1\" class=\"dataframe\">\n",
       "  <thead>\n",
       "    <tr style=\"text-align: right;\">\n",
       "      <th></th>\n",
       "      <th>2019 Avg</th>\n",
       "      <th>2023 Avg</th>\n",
       "      <th>Change in Avg</th>\n",
       "      <th>% Change</th>\n",
       "      <th>2019 Rank</th>\n",
       "      <th>2023 Rank</th>\n",
       "      <th>Rank Change</th>\n",
       "    </tr>\n",
       "  </thead>\n",
       "  <tbody>\n",
       "    <tr>\n",
       "      <th>PyTorch</th>\n",
       "      <td>1.07</td>\n",
       "      <td>18.68</td>\n",
       "      <td>17.61</td>\n",
       "      <td>1,642.19</td>\n",
       "      <td>24.00</td>\n",
       "      <td>8.00</td>\n",
       "      <td>16.00</td>\n",
       "    </tr>\n",
       "    <tr>\n",
       "      <th>Databricks</th>\n",
       "      <td>0.41</td>\n",
       "      <td>6.28</td>\n",
       "      <td>5.86</td>\n",
       "      <td>1,412.92</td>\n",
       "      <td>31.00</td>\n",
       "      <td>25.00</td>\n",
       "      <td>6.00</td>\n",
       "    </tr>\n",
       "    <tr>\n",
       "      <th>GCP</th>\n",
       "      <td>0.62</td>\n",
       "      <td>7.02</td>\n",
       "      <td>6.40</td>\n",
       "      <td>1,037.22</td>\n",
       "      <td>30.00</td>\n",
       "      <td>19.00</td>\n",
       "      <td>11.00</td>\n",
       "    </tr>\n",
       "    <tr>\n",
       "      <th>Pandas</th>\n",
       "      <td>1.26</td>\n",
       "      <td>11.15</td>\n",
       "      <td>9.89</td>\n",
       "      <td>785.21</td>\n",
       "      <td>21.00</td>\n",
       "      <td>14.00</td>\n",
       "      <td>7.00</td>\n",
       "    </tr>\n",
       "    <tr>\n",
       "      <th>Kubernetes</th>\n",
       "      <td>0.64</td>\n",
       "      <td>5.22</td>\n",
       "      <td>4.58</td>\n",
       "      <td>717.72</td>\n",
       "      <td>29.00</td>\n",
       "      <td>29.00</td>\n",
       "      <td>0.00</td>\n",
       "    </tr>\n",
       "    <tr>\n",
       "      <th>TensorFlow</th>\n",
       "      <td>2.65</td>\n",
       "      <td>21.30</td>\n",
       "      <td>18.65</td>\n",
       "      <td>703.11</td>\n",
       "      <td>10.00</td>\n",
       "      <td>4.00</td>\n",
       "      <td>6.00</td>\n",
       "    </tr>\n",
       "    <tr>\n",
       "      <th>Azure</th>\n",
       "      <td>1.85</td>\n",
       "      <td>14.65</td>\n",
       "      <td>12.79</td>\n",
       "      <td>689.80</td>\n",
       "      <td>16.00</td>\n",
       "      <td>9.00</td>\n",
       "      <td>7.00</td>\n",
       "    </tr>\n",
       "    <tr>\n",
       "      <th>C#</th>\n",
       "      <td>0.91</td>\n",
       "      <td>6.99</td>\n",
       "      <td>6.08</td>\n",
       "      <td>668.26</td>\n",
       "      <td>28.00</td>\n",
       "      <td>21.00</td>\n",
       "      <td>7.00</td>\n",
       "    </tr>\n",
       "    <tr>\n",
       "      <th>NumPy</th>\n",
       "      <td>1.00</td>\n",
       "      <td>7.68</td>\n",
       "      <td>6.68</td>\n",
       "      <td>666.37</td>\n",
       "      <td>25.00</td>\n",
       "      <td>16.00</td>\n",
       "      <td>9.00</td>\n",
       "    </tr>\n",
       "    <tr>\n",
       "      <th>Scikit-learn</th>\n",
       "      <td>1.66</td>\n",
       "      <td>12.18</td>\n",
       "      <td>10.51</td>\n",
       "      <td>631.87</td>\n",
       "      <td>19.00</td>\n",
       "      <td>11.00</td>\n",
       "      <td>8.00</td>\n",
       "    </tr>\n",
       "    <tr>\n",
       "      <th>Git</th>\n",
       "      <td>1.13</td>\n",
       "      <td>7.56</td>\n",
       "      <td>6.43</td>\n",
       "      <td>569.38</td>\n",
       "      <td>23.00</td>\n",
       "      <td>18.00</td>\n",
       "      <td>5.00</td>\n",
       "    </tr>\n",
       "    <tr>\n",
       "      <th>Docker</th>\n",
       "      <td>1.00</td>\n",
       "      <td>6.34</td>\n",
       "      <td>5.34</td>\n",
       "      <td>535.43</td>\n",
       "      <td>26.00</td>\n",
       "      <td>24.00</td>\n",
       "      <td>2.00</td>\n",
       "    </tr>\n",
       "    <tr>\n",
       "      <th>Excel</th>\n",
       "      <td>2.01</td>\n",
       "      <td>11.63</td>\n",
       "      <td>9.62</td>\n",
       "      <td>477.84</td>\n",
       "      <td>14.00</td>\n",
       "      <td>12.00</td>\n",
       "      <td>2.00</td>\n",
       "    </tr>\n",
       "    <tr>\n",
       "      <th>AWS</th>\n",
       "      <td>3.66</td>\n",
       "      <td>21.08</td>\n",
       "      <td>17.42</td>\n",
       "      <td>475.87</td>\n",
       "      <td>8.00</td>\n",
       "      <td>5.00</td>\n",
       "      <td>3.00</td>\n",
       "    </tr>\n",
       "    <tr>\n",
       "      <th>Python</th>\n",
       "      <td>13.63</td>\n",
       "      <td>77.89</td>\n",
       "      <td>64.26</td>\n",
       "      <td>471.40</td>\n",
       "      <td>1.00</td>\n",
       "      <td>1.00</td>\n",
       "      <td>0.00</td>\n",
       "    </tr>\n",
       "    <tr>\n",
       "      <th>Tableau</th>\n",
       "      <td>3.73</td>\n",
       "      <td>19.87</td>\n",
       "      <td>16.14</td>\n",
       "      <td>432.25</td>\n",
       "      <td>7.00</td>\n",
       "      <td>6.00</td>\n",
       "      <td>1.00</td>\n",
       "    </tr>\n",
       "    <tr>\n",
       "      <th>Javascript</th>\n",
       "      <td>0.98</td>\n",
       "      <td>5.21</td>\n",
       "      <td>4.23</td>\n",
       "      <td>431.48</td>\n",
       "      <td>27.00</td>\n",
       "      <td>30.00</td>\n",
       "      <td>-3.00</td>\n",
       "    </tr>\n",
       "    <tr>\n",
       "      <th>SQL</th>\n",
       "      <td>9.89</td>\n",
       "      <td>52.49</td>\n",
       "      <td>42.61</td>\n",
       "      <td>431.00</td>\n",
       "      <td>3.00</td>\n",
       "      <td>2.00</td>\n",
       "      <td>1.00</td>\n",
       "    </tr>\n",
       "    <tr>\n",
       "      <th>Keras</th>\n",
       "      <td>1.20</td>\n",
       "      <td>5.95</td>\n",
       "      <td>4.75</td>\n",
       "      <td>394.15</td>\n",
       "      <td>22.00</td>\n",
       "      <td>28.00</td>\n",
       "      <td>-6.00</td>\n",
       "    </tr>\n",
       "    <tr>\n",
       "      <th>C</th>\n",
       "      <td>1.65</td>\n",
       "      <td>6.99</td>\n",
       "      <td>5.34</td>\n",
       "      <td>324.14</td>\n",
       "      <td>20.00</td>\n",
       "      <td>21.00</td>\n",
       "      <td>-1.00</td>\n",
       "    </tr>\n",
       "    <tr>\n",
       "      <th>R</th>\n",
       "      <td>10.01</td>\n",
       "      <td>41.29</td>\n",
       "      <td>31.28</td>\n",
       "      <td>312.68</td>\n",
       "      <td>2.00</td>\n",
       "      <td>3.00</td>\n",
       "      <td>-1.00</td>\n",
       "    </tr>\n",
       "    <tr>\n",
       "      <th>NoSQL</th>\n",
       "      <td>1.74</td>\n",
       "      <td>6.83</td>\n",
       "      <td>5.09</td>\n",
       "      <td>293.14</td>\n",
       "      <td>17.00</td>\n",
       "      <td>23.00</td>\n",
       "      <td>-6.00</td>\n",
       "    </tr>\n",
       "    <tr>\n",
       "      <th>Spark</th>\n",
       "      <td>5.16</td>\n",
       "      <td>19.61</td>\n",
       "      <td>14.45</td>\n",
       "      <td>279.85</td>\n",
       "      <td>4.00</td>\n",
       "      <td>7.00</td>\n",
       "      <td>-3.00</td>\n",
       "    </tr>\n",
       "    <tr>\n",
       "      <th>MATLAB</th>\n",
       "      <td>1.89</td>\n",
       "      <td>6.27</td>\n",
       "      <td>4.37</td>\n",
       "      <td>231.06</td>\n",
       "      <td>15.00</td>\n",
       "      <td>26.00</td>\n",
       "      <td>-11.00</td>\n",
       "    </tr>\n",
       "    <tr>\n",
       "      <th>Java</th>\n",
       "      <td>4.49</td>\n",
       "      <td>14.05</td>\n",
       "      <td>9.56</td>\n",
       "      <td>212.85</td>\n",
       "      <td>6.00</td>\n",
       "      <td>10.00</td>\n",
       "      <td>-4.00</td>\n",
       "    </tr>\n",
       "    <tr>\n",
       "      <th>Linux</th>\n",
       "      <td>1.68</td>\n",
       "      <td>5.17</td>\n",
       "      <td>3.49</td>\n",
       "      <td>207.37</td>\n",
       "      <td>18.00</td>\n",
       "      <td>31.00</td>\n",
       "      <td>-13.00</td>\n",
       "    </tr>\n",
       "    <tr>\n",
       "      <th>Scala</th>\n",
       "      <td>2.51</td>\n",
       "      <td>7.67</td>\n",
       "      <td>5.16</td>\n",
       "      <td>205.91</td>\n",
       "      <td>13.00</td>\n",
       "      <td>17.00</td>\n",
       "      <td>-4.00</td>\n",
       "    </tr>\n",
       "    <tr>\n",
       "      <th>SAS</th>\n",
       "      <td>3.13</td>\n",
       "      <td>9.45</td>\n",
       "      <td>6.32</td>\n",
       "      <td>202.27</td>\n",
       "      <td>9.00</td>\n",
       "      <td>15.00</td>\n",
       "      <td>-6.00</td>\n",
       "    </tr>\n",
       "    <tr>\n",
       "      <th>C++</th>\n",
       "      <td>2.53</td>\n",
       "      <td>6.99</td>\n",
       "      <td>4.46</td>\n",
       "      <td>176.66</td>\n",
       "      <td>12.00</td>\n",
       "      <td>21.00</td>\n",
       "      <td>-9.00</td>\n",
       "    </tr>\n",
       "    <tr>\n",
       "      <th>Hive</th>\n",
       "      <td>2.56</td>\n",
       "      <td>6.17</td>\n",
       "      <td>3.61</td>\n",
       "      <td>140.69</td>\n",
       "      <td>11.00</td>\n",
       "      <td>27.00</td>\n",
       "      <td>-16.00</td>\n",
       "    </tr>\n",
       "    <tr>\n",
       "      <th>Hadoop</th>\n",
       "      <td>4.81</td>\n",
       "      <td>11.55</td>\n",
       "      <td>6.74</td>\n",
       "      <td>140.10</td>\n",
       "      <td>5.00</td>\n",
       "      <td>13.00</td>\n",
       "      <td>-8.00</td>\n",
       "    </tr>\n",
       "  </tbody>\n",
       "</table>\n",
       "</div>"
      ],
      "text/plain": [
       "              2019 Avg  2023 Avg  Change in Avg  % Change  2019 Rank  \\\n",
       "PyTorch           1.07     18.68          17.61  1,642.19      24.00   \n",
       "Databricks        0.41      6.28           5.86  1,412.92      31.00   \n",
       "GCP               0.62      7.02           6.40  1,037.22      30.00   \n",
       "Pandas            1.26     11.15           9.89    785.21      21.00   \n",
       "Kubernetes        0.64      5.22           4.58    717.72      29.00   \n",
       "TensorFlow        2.65     21.30          18.65    703.11      10.00   \n",
       "Azure             1.85     14.65          12.79    689.80      16.00   \n",
       "C#                0.91      6.99           6.08    668.26      28.00   \n",
       "NumPy             1.00      7.68           6.68    666.37      25.00   \n",
       "Scikit-learn      1.66     12.18          10.51    631.87      19.00   \n",
       "Git               1.13      7.56           6.43    569.38      23.00   \n",
       "Docker            1.00      6.34           5.34    535.43      26.00   \n",
       "Excel             2.01     11.63           9.62    477.84      14.00   \n",
       "AWS               3.66     21.08          17.42    475.87       8.00   \n",
       "Python           13.63     77.89          64.26    471.40       1.00   \n",
       "Tableau           3.73     19.87          16.14    432.25       7.00   \n",
       "Javascript        0.98      5.21           4.23    431.48      27.00   \n",
       "SQL               9.89     52.49          42.61    431.00       3.00   \n",
       "Keras             1.20      5.95           4.75    394.15      22.00   \n",
       "C                 1.65      6.99           5.34    324.14      20.00   \n",
       "R                10.01     41.29          31.28    312.68       2.00   \n",
       "NoSQL             1.74      6.83           5.09    293.14      17.00   \n",
       "Spark             5.16     19.61          14.45    279.85       4.00   \n",
       "MATLAB            1.89      6.27           4.37    231.06      15.00   \n",
       "Java              4.49     14.05           9.56    212.85       6.00   \n",
       "Linux             1.68      5.17           3.49    207.37      18.00   \n",
       "Scala             2.51      7.67           5.16    205.91      13.00   \n",
       "SAS               3.13      9.45           6.32    202.27       9.00   \n",
       "C++               2.53      6.99           4.46    176.66      12.00   \n",
       "Hive              2.56      6.17           3.61    140.69      11.00   \n",
       "Hadoop            4.81     11.55           6.74    140.10       5.00   \n",
       "\n",
       "              2023 Rank  Rank Change  \n",
       "PyTorch            8.00        16.00  \n",
       "Databricks        25.00         6.00  \n",
       "GCP               19.00        11.00  \n",
       "Pandas            14.00         7.00  \n",
       "Kubernetes        29.00         0.00  \n",
       "TensorFlow         4.00         6.00  \n",
       "Azure              9.00         7.00  \n",
       "C#                21.00         7.00  \n",
       "NumPy             16.00         9.00  \n",
       "Scikit-learn      11.00         8.00  \n",
       "Git               18.00         5.00  \n",
       "Docker            24.00         2.00  \n",
       "Excel             12.00         2.00  \n",
       "AWS                5.00         3.00  \n",
       "Python             1.00         0.00  \n",
       "Tableau            6.00         1.00  \n",
       "Javascript        30.00        -3.00  \n",
       "SQL                2.00         1.00  \n",
       "Keras             28.00        -6.00  \n",
       "C                 21.00        -1.00  \n",
       "R                  3.00        -1.00  \n",
       "NoSQL             23.00        -6.00  \n",
       "Spark              7.00        -3.00  \n",
       "MATLAB            26.00       -11.00  \n",
       "Java              10.00        -4.00  \n",
       "Linux             31.00       -13.00  \n",
       "Scala             17.00        -4.00  \n",
       "SAS               15.00        -6.00  \n",
       "C++               21.00        -9.00  \n",
       "Hive              27.00       -16.00  \n",
       "Hadoop            13.00        -8.00  "
      ]
     },
     "execution_count": 108,
     "metadata": {},
     "output_type": "execute_result"
    }
   ],
   "source": [
    "df_to_print.style.format(\"{:,.1f}\")\n",
    "df_to_print"
   ]
  }
 ],
 "metadata": {
  "kernelspec": {
   "display_name": "Python 3 (ipykernel)",
   "language": "python",
   "name": "python3"
  },
  "language_info": {
   "codemirror_mode": {
    "name": "ipython",
    "version": 3
   },
   "file_extension": ".py",
   "mimetype": "text/x-python",
   "name": "python",
   "nbconvert_exporter": "python",
   "pygments_lexer": "ipython3",
   "version": "3.11.6"
  }
 },
 "nbformat": 4,
 "nbformat_minor": 5
}
